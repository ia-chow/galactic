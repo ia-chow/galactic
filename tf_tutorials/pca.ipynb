{
 "cells": [
  {
   "cell_type": "code",
   "execution_count": 1,
   "id": "cb8d33f2-593b-4cda-8118-49a3ebb241f3",
   "metadata": {},
   "outputs": [],
   "source": [
    "import numpy as np\n",
    "import matplotlib.pyplot as plt\n",
    "import pandas as pd\n",
    "import pickle"
   ]
  },
  {
   "cell_type": "markdown",
   "id": "bd8fc7f1-d508-4586-9145-b0e010e047c9",
   "metadata": {},
   "source": [
    "Import data:"
   ]
  },
  {
   "cell_type": "code",
   "execution_count": 2,
   "id": "ff347434-e118-4c1c-902c-160f1361a592",
   "metadata": {},
   "outputs": [],
   "source": [
    "data = pd.read_csv('../tsne_umap_tutorials/data/APOGEEDR17_GAIAEDR3_noflagfilter.csv', delimiter=',')\n",
    "\n",
    "# data = pd.read_csv('APOGEEDR17_GAIAEDR3_noflagfilter.csv', delimiter=',')"
   ]
  },
  {
   "cell_type": "markdown",
   "id": "89022175-57f4-422a-a4ca-cab174797a8f",
   "metadata": {},
   "source": [
    "Preprocessing (same step as for VAE...)"
   ]
  },
  {
   "cell_type": "code",
   "execution_count": 3,
   "id": "d196b890-1b38-4724-876a-1020c4b36b6c",
   "metadata": {},
   "outputs": [
    {
     "name": "stdout",
     "output_type": "stream",
     "text": [
      "There are 370060 stars in our initial sample\n"
     ]
    }
   ],
   "source": [
    "# Spatial:\n",
    "ra = data[\"RA\"]   #APOGEE\n",
    "dec = data[\"DEC\"]   #APOGEE\n",
    "\n",
    "# Identification:\n",
    "apogee_ID = data[\"# APOGEE_ID_\"]   #APOGEE\n",
    "gaia_ID = data[\"GAIAEDR3_SOURCE_ID\"]  # Gaia\n",
    "\n",
    "# Kinematic:\n",
    "parallax = data[\"GAIAEDR3_PARALLAX\"]  # Gaia\n",
    "pmra = data[\"GAIAEDR3_PMRA\"]  # Gaia\n",
    "pmra_err = data[\"GAIAEDR3_PMRA_ERROR\"]  # Gaia\n",
    "pmdec = data[\"GAIAEDR3_PMDEC\"]  # Gaia\n",
    "pmdec_err = data[\"GAIAEDR3_PMDEC_ERROR\"]  # Gaia\n",
    "RV = data[\"VHELIO_AVG\"]   #APOGEE\n",
    "RV_err = data[\"VERR\"]   #APOGEE\n",
    "#dist = data[\"dist\"]   #APOGEE no dist in this dataset?\n",
    "#dist_err = data[\"dist_err\"]   #APOGEE\n",
    "jr = data[\"jr\"]   #APOGEE\n",
    "jr_err = data[\"jr_err\"]   #APOGEE\n",
    "jz = data[\"jz\"]   #APOGEE\n",
    "jz_err = data[\"jz_err\"]   #APOGEE\n",
    "#jphi = data[\"jphi\"]   #APOGEE no jphi in this dataset?\n",
    "#jphi_err = data[\"jphi_err\"]    #APOGEE\n",
    "\n",
    "# # Spectral (useful for filtering):\n",
    "TEFF_ERR = data[\"TEFF_ERR\"]   #APOGEE\n",
    "TEFF = data[\"TEFF\"]   #APOGEE\n",
    "LOGG_ERR = data[\"LOGG_ERR\"]   #APOGEE\n",
    "LOGG = data[\"LOGG\"]   #APOGEE\n",
    "SNR = data[\"SNR\"]   #APOGEE\n",
    "ASPCAPFLAG = data[\"ASPCAPFLAG\"]\n",
    "STARFLAG = data[\"STARFLAG\"]\n",
    "\n",
    "# # Chemical abundances from astroNN:\n",
    "FE_H = data['FE_H'] \n",
    "C_FE = data['C_FE']\n",
    "CI_FE = data['CI_FE']\n",
    "N_FE = data['N_FE']\n",
    "O_FE = data['O_FE']\n",
    "MG_FE = data['MG_FE']\n",
    "AL_FE = data['AL_FE']\n",
    "SI_FE = data['SI_FE']\n",
    "P_FE = data['P_FE']\n",
    "S_FE = data['S_FE']\n",
    "K_FE = data['K_FE']\n",
    "CA_FE = data['CA_FE']\n",
    "TI_FE = data['TI_FE']\n",
    "TIII_FE = data['TIII_FE']\n",
    "V_FE = data['V_FE']\n",
    "CR_FE = data['CR_FE']\n",
    "MN_FE = data['MN_FE']\n",
    "CO_FE = data['CO_FE']\n",
    "NI_FE = data['NI_FE']\n",
    "\n",
    "# # Chemical abundance errors from astroNN:\n",
    "FE_H_err = data[\"FE_H_ERR\"] \n",
    "C_FE_err = data['C_FE_ERR']\n",
    "CI_FE_err = data['CI_FE_ERR']\n",
    "N_FE_err = data['N_FE_ERR']\n",
    "O_FE_err = data['O_FE_ERR']\n",
    "MG_FE_err = data['MG_FE_ERR']\n",
    "AL_FE_err = data['AL_FE_ERR']\n",
    "SI_FE_err = data['SI_FE_ERR']\n",
    "P_FE_err = data['P_FE_ERR']\n",
    "S_FE_err = data['S_FE_ERR']\n",
    "K_FE_err = data['K_FE_ERR']\n",
    "CA_FE_err = data['CA_FE_ERR']\n",
    "TI_FE_err = data['TI_FE_ERR']\n",
    "TIII_FE_err = data['TIII_FE_ERR']\n",
    "V_FE_err = data['V_FE_ERR']\n",
    "CR_FE_err = data['CR_FE_ERR']\n",
    "MN_FE_err = data['MN_FE_ERR']\n",
    "CO_FE_err = data['CO_FE_ERR']\n",
    "NI_FE_err = data['NI_FE_ERR']\n",
    "\n",
    "# # Number of stars in the initial sample of APOGEE DR16: \n",
    "print(\"There are {} stars in our initial sample\".format(len(ra)))\n",
    "\n",
    "cols = [ra, dec, apogee_ID, gaia_ID, parallax, pmra, pmra_err, pmdec, pmdec_err, RV, RV_err, #dist, dist_err,\n",
    "         jr, jr_err,# jphi, jphi_err,\n",
    "        jz, jz_err, TEFF, TEFF_ERR, LOGG, LOGG_ERR, SNR, ASPCAPFLAG, STARFLAG, FE_H, FE_H_err, C_FE, \n",
    "         C_FE_err, CI_FE, CI_FE_err, N_FE, N_FE_err, O_FE, O_FE_err, MG_FE, MG_FE_err, AL_FE, AL_FE_err, SI_FE,\n",
    "         SI_FE_err, P_FE, P_FE_err, S_FE, S_FE_err, K_FE, K_FE_err, CA_FE, CA_FE_err, TI_FE, TI_FE_err, TIII_FE,\n",
    "         TIII_FE_err, V_FE, V_FE_err, CR_FE, CR_FE_err, MN_FE, MN_FE_err, CO_FE, CO_FE_err, NI_FE, NI_FE_err]"
   ]
  },
  {
   "cell_type": "code",
   "execution_count": 4,
   "id": "68921c2e-73ad-4f40-ae6b-a9bd25718846",
   "metadata": {},
   "outputs": [
    {
     "name": "stdout",
     "output_type": "stream",
     "text": [
      "There are 144767 stars in our filtered sample\n"
     ]
    }
   ],
   "source": [
    "aspcapflags_filter = np.array(cols[20])==0\n",
    "starflags_filter = np.array(cols[21])==0\n",
    "\n",
    "filters = aspcapflags_filter*starflags_filter\n",
    "\n",
    "\n",
    "filtered_data = []\n",
    "for c in cols:\n",
    "    a = np.array(c)[filters]\n",
    "    filtered_data.append(a)\n",
    "    \n",
    "print(\"There are {} stars in our filtered sample\".format(len(filtered_data[0])))"
   ]
  },
  {
   "cell_type": "code",
   "execution_count": 5,
   "id": "f497ee39-0f7a-42c8-92d7-a42f503af929",
   "metadata": {},
   "outputs": [],
   "source": [
    "FE_H_filtered, C_FE_filtered, CI_FE_filtered = filtered_data[22], filtered_data[24], filtered_data[26]\n",
    "N_FE_filtered, O_FE_filtered, MG_FE_filtered = filtered_data[28], filtered_data[30], filtered_data[32]\n",
    "AL_FE_filtered, SI_FE_filtered, P_FE_filtered = filtered_data[34], filtered_data[36], filtered_data[38]\n",
    "S_FE_filtered, K_FE_filtered, CA_FE_filtered = filtered_data[40], filtered_data[42], filtered_data[44]\n",
    "TI_FE_filtered, TIII_FE_filtered, V_FE_filtered = filtered_data[46], filtered_data[48], filtered_data[50]\n",
    "CR_FE_filtered, MN_FE_filtered, CO_FE_filtered, NI_FE_filtered = filtered_data[52], filtered_data[54], filtered_data[56], filtered_data[58]\n",
    "RV_filtered  = filtered_data[9]"
   ]
  },
  {
   "cell_type": "code",
   "execution_count": 6,
   "id": "85532dcb-ffcf-478b-b53c-939fbbc6e917",
   "metadata": {},
   "outputs": [],
   "source": [
    "FE_H_err, C_FE_err, CI_FE_err = filtered_data[23], filtered_data[25], filtered_data[27]\n",
    "N_FE_err, O_FE_err, MG_FE_err = filtered_data[29], filtered_data[31], filtered_data[33]\n",
    "AL_FE_err, SI_FE_err, P_FE_err = filtered_data[35], filtered_data[37], filtered_data[39]\n",
    "S_FE_err, K_FE_err, CA_FE_err = filtered_data[41], filtered_data[43], filtered_data[45]\n",
    "TI_FE_err, TIII_FE_err, V_FE_err = filtered_data[47], filtered_data[49], filtered_data[51]\n",
    "CR_FE_err, MN_FE_err, CO_FE_err, NI_FE_err = filtered_data[53], filtered_data[55], filtered_data[57], filtered_data[59]\n",
    "RV_err  = filtered_data[10]"
   ]
  },
  {
   "cell_type": "code",
   "execution_count": 7,
   "id": "2488c70c-1c9c-480c-b158-b2c2587e8dd7",
   "metadata": {},
   "outputs": [],
   "source": [
    "train_size = round(0.8 * len(filtered_data[0]))\n",
    "test_size = round(0.1 * len(filtered_data[0]))\n",
    "validation_size = round(0.1 * len(filtered_data[0]))\n",
    "\n",
    "training_labels_raw = np.transpose(np.array([FE_H_filtered[:train_size], C_FE_filtered[:train_size], CI_FE_filtered[:train_size], \n",
    "                                        N_FE_filtered[:train_size], O_FE_filtered[:train_size], MG_FE_filtered[:train_size],\n",
    "                                        AL_FE_filtered[:train_size], SI_FE_filtered[:train_size], P_FE_filtered[:train_size],\n",
    "                                        S_FE_filtered[:train_size], K_FE_filtered[:train_size], CA_FE_filtered[:train_size],\n",
    "                                        TI_FE_filtered[:train_size], TIII_FE_filtered[:train_size], V_FE_filtered[:train_size], \n",
    "                                        CR_FE_filtered[:train_size], MN_FE_filtered[:train_size], CO_FE_filtered[:train_size], NI_FE_filtered[:train_size]]))\n",
    "\n",
    "error_training_labels_raw = np.transpose(np.array([FE_H_err[:train_size], C_FE_err[:train_size], CI_FE_err[:train_size], \n",
    "                                        N_FE_err[:train_size], O_FE_err[:train_size], MG_FE_err[:train_size],\n",
    "                                        AL_FE_err[:train_size], SI_FE_err[:train_size], P_FE_err[:train_size],\n",
    "                                        S_FE_err[:train_size], K_FE_err[:train_size], CA_FE_err[:train_size],\n",
    "                                        TI_FE_err[:train_size], TIII_FE_err[:train_size], V_FE_err[:train_size], \n",
    "                                        CR_FE_err[:train_size], MN_FE_err[:train_size], CO_FE_err[:train_size], NI_FE_err[:train_size]]))\n",
    "\n",
    "\n",
    "test_labels_raw = np.transpose(np.array([FE_H_filtered[train_size: train_size + test_size], C_FE_filtered[train_size: train_size + test_size], \n",
    "                                     CI_FE_filtered[train_size: train_size + test_size], N_FE_filtered[train_size: train_size + test_size],\n",
    "                                     O_FE_filtered[train_size: train_size + test_size], MG_FE_filtered[train_size: train_size + test_size],\n",
    "                                        AL_FE_filtered[train_size: train_size + test_size], SI_FE_filtered[train_size: train_size + test_size], \n",
    "                                     P_FE_filtered[train_size: train_size + test_size], S_FE_filtered[train_size: train_size + test_size], \n",
    "                                     K_FE_filtered[train_size: train_size + test_size], CA_FE_filtered[train_size: train_size + test_size],\n",
    "                                        TI_FE_filtered[train_size: train_size + test_size], TIII_FE_filtered[train_size: train_size + test_size], \n",
    "                                     V_FE_filtered[train_size: train_size + test_size], CR_FE_filtered[train_size: train_size + test_size], \n",
    "                                     MN_FE_filtered[train_size: train_size + test_size], CO_FE_filtered[train_size: train_size + test_size], \n",
    "                                     NI_FE_filtered[train_size: train_size + test_size]]))\n",
    "                                     \n",
    "                                     \n",
    "error_test_labels_raw = np.transpose(np.array([FE_H_err[train_size: train_size + test_size], C_FE_err[train_size: train_size + test_size], CI_FE_err[train_size: train_size + test_size], \n",
    "                                        N_FE_err[train_size: train_size + test_size], O_FE_err[train_size: train_size + test_size], MG_FE_err[train_size: train_size + test_size],\n",
    "                                        AL_FE_err[train_size: train_size + test_size], SI_FE_err[train_size: train_size + test_size], P_FE_err[train_size: train_size + test_size],\n",
    "                                        S_FE_err[train_size: train_size + test_size], K_FE_err[train_size: train_size + test_size], CA_FE_err[train_size: train_size + test_size],\n",
    "                                        TI_FE_err[train_size: train_size + test_size], TIII_FE_err[train_size: train_size + test_size], V_FE_err[train_size: train_size + test_size], \n",
    "                                        CR_FE_err[train_size: train_size + test_size], MN_FE_err[train_size: train_size + test_size], CO_FE_err[train_size: train_size + test_size], NI_FE_err[train_size: train_size + test_size]]))\n",
    "\n",
    "\n",
    "validation_labels_raw = np.transpose(np.array([FE_H_filtered[train_size + test_size: train_size + test_size + validation_size], C_FE_filtered[train_size + test_size: train_size + test_size + validation_size], \n",
    "                                     CI_FE_filtered[train_size + test_size: train_size + test_size + validation_size], N_FE_filtered[train_size + test_size: train_size + test_size + validation_size],\n",
    "                                     O_FE_filtered[train_size + test_size: train_size + test_size + validation_size], MG_FE_filtered[train_size + test_size: train_size + test_size + validation_size],\n",
    "                                        AL_FE_filtered[train_size + test_size: train_size + test_size + validation_size], SI_FE_filtered[train_size + test_size: train_size + test_size + validation_size], \n",
    "                                     P_FE_filtered[train_size + test_size: train_size + test_size + validation_size], S_FE_filtered[train_size + test_size: train_size + test_size + validation_size], \n",
    "                                     K_FE_filtered[train_size + test_size: train_size + test_size + validation_size], CA_FE_filtered[train_size + test_size: train_size + test_size + validation_size],\n",
    "                                        TI_FE_filtered[train_size + test_size: train_size + test_size + validation_size], TIII_FE_filtered[train_size + test_size: train_size + test_size + validation_size], \n",
    "                                     V_FE_filtered[train_size + test_size: train_size + test_size + validation_size], CR_FE_filtered[train_size + test_size: train_size + test_size + validation_size], \n",
    "                                     MN_FE_filtered[train_size + test_size: train_size + test_size + validation_size], CO_FE_filtered[train_size + test_size: train_size + test_size + validation_size], \n",
    "                                     NI_FE_filtered[train_size + test_size: train_size + test_size + validation_size]]))\n",
    "                                     \n",
    "                                     \n",
    "error_validation_labels_raw = np.transpose(np.array([FE_H_err[train_size + test_size: train_size + test_size + validation_size], C_FE_err[train_size + test_size: train_size + test_size + validation_size], CI_FE_err[train_size + test_size: train_size + test_size + validation_size], \n",
    "                                        N_FE_err[train_size + test_size: train_size + test_size + validation_size], O_FE_err[train_size + test_size: train_size + test_size + validation_size], MG_FE_err[train_size + test_size: train_size + test_size + validation_size],\n",
    "                                        AL_FE_err[train_size + test_size: train_size + test_size + validation_size], SI_FE_err[train_size + test_size: train_size + test_size + validation_size], P_FE_err[train_size + test_size: train_size + test_size + validation_size],\n",
    "                                        S_FE_err[train_size + test_size: train_size + test_size + validation_size], K_FE_err[train_size + test_size: train_size + test_size + validation_size], CA_FE_err[train_size + test_size: train_size + test_size + validation_size],\n",
    "                                        TI_FE_err[train_size + test_size: train_size + test_size + validation_size], TIII_FE_err[train_size + test_size: train_size + test_size + validation_size], V_FE_err[train_size + test_size: train_size + test_size + validation_size], \n",
    "                                        CR_FE_err[train_size + test_size: train_size + test_size + validation_size], MN_FE_err[train_size + test_size: train_size + test_size + validation_size], CO_FE_err[train_size + test_size: train_size + test_size + validation_size], NI_FE_err[train_size + test_size: train_size + test_size + validation_size]]))\n"
   ]
  },
  {
   "cell_type": "code",
   "execution_count": 8,
   "id": "37ea9826-858b-48b9-a4a6-e7f52967ac1d",
   "metadata": {},
   "outputs": [],
   "source": [
    "full_training_labels_raw = np.c_[training_labels_raw, error_training_labels_raw]\n",
    "full_test_labels_raw = np.c_[test_labels_raw, error_test_labels_raw]\n",
    "full_validation_labels_raw = np.c_[validation_labels_raw, error_validation_labels_raw]"
   ]
  },
  {
   "cell_type": "code",
   "execution_count": 9,
   "id": "22250cfb-1db7-45a3-9575-b9a6020654a4",
   "metadata": {},
   "outputs": [
    {
     "data": {
      "text/plain": [
       "((115814, 38), (14477, 38), (14476, 38))"
      ]
     },
     "execution_count": 9,
     "metadata": {},
     "output_type": "execute_result"
    }
   ],
   "source": [
    "full_training_labels_raw.shape, full_test_labels_raw.shape, full_validation_labels_raw.shape"
   ]
  },
  {
   "cell_type": "code",
   "execution_count": 10,
   "id": "a1145170-4b7e-4a54-8d9e-40975f9c2953",
   "metadata": {},
   "outputs": [
    {
     "data": {
      "text/plain": [
       "(array([-1.951497  , -2.1234312 , -2.119044  , -0.18978369, -0.7124527 ,\n",
       "        -0.15558027, -0.47890055, -0.15707995, -0.97891414, -0.6047195 ,\n",
       "        -2.2741165 , -0.40278423, -1.2907453 , -0.6157368 , -1.1658391 ,\n",
       "        -1.391077  , -0.64225805, -3.6896837 , -0.2965148 ,  0.01358107,\n",
       "         0.01762647,  0.02378747,  0.01708818,  0.01984493,  0.02071843,\n",
       "         0.02232191,  0.01871411,  0.05818468,  0.01897749,  0.03516773,\n",
       "         0.02518716,  0.02486172,  0.02255343,  0.0375476 ,  0.02254345,\n",
       "         0.02762588,  0.01909786,  0.02221127]),\n",
       " array([5.7460123e-01, 8.3517190e-01, 5.6674075e-01, 3.6616602e+00,\n",
       "        5.5585840e-01, 5.1025960e-01, 4.8934165e-01, 4.5210746e-01,\n",
       "        7.5247210e+00, 9.0582700e-01, 1.0242985e+00, 2.7282690e-01,\n",
       "        5.9501344e-01, 8.7636330e-01, 8.6697330e-01, 3.3210137e-01,\n",
       "        3.5304812e-01, 5.6587050e-01, 2.1270613e-01, 4.5790780e-01,\n",
       "        1.2761971e+00, 1.6784387e+00, 1.8850280e+01, 5.6260234e-01,\n",
       "        5.5715760e-01, 6.7058295e-01, 5.5592450e-01, 2.2155308e+01,\n",
       "        5.8074850e-01, 1.1802338e+04, 1.0069572e+00, 7.6264750e-01,\n",
       "        8.5684610e-01, 1.6342586e+00, 3.9144385e+00, 5.6938570e-01,\n",
       "        2.5924824e+03, 5.7262796e-01]))"
      ]
     },
     "execution_count": 10,
     "metadata": {},
     "output_type": "execute_result"
    }
   ],
   "source": [
    "np.min(full_training_labels_raw.T, axis=1), np.max(full_training_labels_raw.T, axis=1)"
   ]
  },
  {
   "cell_type": "code",
   "execution_count": 11,
   "id": "8a9f2ca9-dc2a-4a84-a917-72f9e07cb019",
   "metadata": {},
   "outputs": [],
   "source": [
    "err_threshold = 3 # remove errors that are larger than this...\n",
    "err_mask_train = np.all(np.abs(full_training_labels_raw) < err_threshold, axis=1)\n",
    "err_mask_test = np.all(np.abs(full_test_labels_raw) < err_threshold, axis=1)\n",
    "err_mask_validation = np.all(np.abs(full_validation_labels_raw) < err_threshold, axis=1)"
   ]
  },
  {
   "cell_type": "markdown",
   "id": "ad923299-df10-48c9-9f87-33ab0272dad7",
   "metadata": {},
   "source": [
    "Remove unreasonably huge error bars/abundance estimates:"
   ]
  },
  {
   "cell_type": "code",
   "execution_count": 12,
   "id": "2e753d78-aae2-4e95-bba7-7b48ccee5a61",
   "metadata": {},
   "outputs": [],
   "source": [
    "full_training_labels = full_training_labels_raw[err_mask_train]\n",
    "full_test_labels = full_test_labels_raw[err_mask_test]\n",
    "full_validation_labels = full_validation_labels_raw[err_mask_validation]"
   ]
  },
  {
   "cell_type": "code",
   "execution_count": 13,
   "id": "ee1d8bbe-b7a4-46c4-b6c4-131d48073483",
   "metadata": {},
   "outputs": [
    {
     "data": {
      "text/plain": [
       "((114885, 38), (14374, 38), (14326, 38))"
      ]
     },
     "execution_count": 13,
     "metadata": {},
     "output_type": "execute_result"
    }
   ],
   "source": [
    "full_training_labels.shape, full_test_labels.shape, full_validation_labels.shape"
   ]
  },
  {
   "cell_type": "code",
   "execution_count": 14,
   "id": "69f1fe48-24e8-4233-a95d-95d7d8ec5061",
   "metadata": {},
   "outputs": [
    {
     "data": {
      "text/plain": [
       "(array([-1.8320073 , -1.2602895 , -2.119044  , -0.18978369, -0.7124527 ,\n",
       "        -0.1388877 , -0.47890055, -0.13207644, -0.97891414, -0.5242982 ,\n",
       "        -0.7713039 , -0.40278423, -1.2907453 , -0.6157368 , -1.1658391 ,\n",
       "        -1.0536897 , -0.64225805, -1.1330373 , -0.2965148 ,  0.01358107,\n",
       "         0.01762647,  0.02378747,  0.01708818,  0.01984493,  0.02071843,\n",
       "         0.02232191,  0.01871411,  0.05818468,  0.01897749,  0.03516773,\n",
       "         0.02518716,  0.02486172,  0.02255343,  0.0375476 ,  0.02254345,\n",
       "         0.02762588,  0.01909786,  0.02221127]),\n",
       " array([0.57460123, 0.81556314, 0.56674075, 1.5901425 , 0.5558584 ,\n",
       "        0.5102596 , 0.48934165, 0.45210746, 1.0318542 , 0.905827  ,\n",
       "        1.0242985 , 0.262527  , 0.59501344, 0.8763633 , 0.8669733 ,\n",
       "        0.27449507, 0.35304812, 0.5658705 , 0.21270613, 0.35667247,\n",
       "        0.48992783, 1.637775  , 1.0633858 , 0.46304193, 0.43964195,\n",
       "        0.55135024, 0.46292186, 2.998515  , 0.55373484, 2.87389   ,\n",
       "        1.0069572 , 0.7626475 , 0.8568461 , 1.6342586 , 1.6748365 ,\n",
       "        0.55016214, 2.8621614 , 0.57262796]))"
      ]
     },
     "execution_count": 14,
     "metadata": {},
     "output_type": "execute_result"
    }
   ],
   "source": [
    "np.min(full_training_labels.T, axis=1), np.max(full_training_labels.T, axis=1)"
   ]
  },
  {
   "cell_type": "code",
   "execution_count": 15,
   "id": "47073612-08e6-4557-b8ee-8e0ac6a33323",
   "metadata": {},
   "outputs": [],
   "source": [
    "from sklearn.preprocessing import StandardScaler"
   ]
  },
  {
   "cell_type": "markdown",
   "id": "42028703-fd73-4345-a6eb-f6789915cc3e",
   "metadata": {},
   "source": [
    "Manual scaler to standardize (equivalent to StandardScaler):"
   ]
  },
  {
   "cell_type": "code",
   "execution_count": 16,
   "id": "a5052ddc-e4cd-4a48-959c-17c87d78ba31",
   "metadata": {},
   "outputs": [],
   "source": [
    "# standardized_pca_array = []\n",
    "# standardization_means = np.zeros(len(np.array(x_df_transpose)))\n",
    "# standardization_sigmas = np.zeros(len(np.array(x_df_transpose)))\n",
    "\n",
    "# for i, param in enumerate(np.array(x_df_transpose)):\n",
    "#     mean, sigma = np.mean(param), np.std(param)\n",
    "#     norm = (param - mean)/sigma\n",
    "#     standardized_pca_array.append(norm)\n",
    "#     standardization_means[i] = mean\n",
    "#     standardization_sigmas[i] = sigma"
   ]
  },
  {
   "cell_type": "markdown",
   "id": "d27ea24f-03f1-4975-8a6e-a47ff7bea306",
   "metadata": {},
   "source": [
    "StandardScaler to standardize (same method used for t-SNE/UMAP):"
   ]
  },
  {
   "cell_type": "code",
   "execution_count": 17,
   "id": "f8a6ca97-8239-45d6-b0b9-a6bc7462e3e5",
   "metadata": {},
   "outputs": [],
   "source": [
    "# split abundances and errors into separate datasets\n",
    "training_labels_abundances = full_training_labels[:, :19]\n",
    "training_labels_errors = full_training_labels[:, 19:]\n",
    "\n",
    "# split abundances and errors into separate datasets\n",
    "test_labels_abundances = full_test_labels[:, :19]\n",
    "test_labels_errors = full_test_labels[:, 19:]\n",
    "\n",
    "# split abundances and errors into separate datasets\n",
    "validation_labels_abundances = full_validation_labels[:, :19]\n",
    "validation_labels_errors = full_validation_labels[:, 19:]\n",
    "\n",
    "standardized_abundance_training_arr = StandardScaler().fit_transform(training_labels_abundances)\n",
    "standardized_abundance_test_arr = StandardScaler().fit_transform(test_labels_abundances)\n",
    "standardized_abundance_validation_arr = StandardScaler().fit_transform(validation_labels_abundances)"
   ]
  },
  {
   "cell_type": "markdown",
   "id": "4c459c0b-a60a-4e31-ab8e-cd6bf2c1d366",
   "metadata": {},
   "source": [
    "Begin PCA:"
   ]
  },
  {
   "cell_type": "markdown",
   "id": "745f2dd9-7304-4a8b-bdce-025ea1bd4472",
   "metadata": {},
   "source": [
    "# PCA:"
   ]
  },
  {
   "cell_type": "code",
   "execution_count": 18,
   "id": "32b60945-a2ff-4044-ab77-c71922e972f1",
   "metadata": {},
   "outputs": [],
   "source": [
    "from sklearn.metrics import mean_squared_error\n",
    "from sklearn.decomposition import PCA"
   ]
  },
  {
   "cell_type": "markdown",
   "id": "1dd9e5d9-67bb-4a20-9f72-e835c1cd16fe",
   "metadata": {},
   "source": [
    "Perform PCA with a number of components equal to the original number of parameters ($19$ as errors are not considered) using the standardized data:"
   ]
  },
  {
   "cell_type": "code",
   "execution_count": 19,
   "id": "89c17ea5-18bc-4307-81a8-8abf86efb79d",
   "metadata": {},
   "outputs": [],
   "source": [
    "n_params = len(training_labels_abundances.T)\n",
    "\n",
    "# perform PCA\n",
    "pca = PCA(n_components = 2)\n",
    "# fit the pca using the training array\n",
    "fit_pca = pca.fit(standardized_abundance_training_arr)"
   ]
  },
  {
   "cell_type": "markdown",
   "id": "2ab3eecc-dd5e-4b17-af1b-c1e4931041f8",
   "metadata": {},
   "source": [
    "Now perform and invert PCA for reconstruction for training:"
   ]
  },
  {
   "cell_type": "code",
   "execution_count": 20,
   "id": "bd611bf7-e778-44e0-8cad-6b7ae77d39d5",
   "metadata": {},
   "outputs": [],
   "source": [
    "# transform the training array\n",
    "train_pca = fit_pca.transform(standardized_abundance_training_arr)\n",
    "reconstructed_abundance_training_arr = fit_pca.inverse_transform(train_pca)"
   ]
  },
  {
   "cell_type": "markdown",
   "id": "a20d7ba7-355d-41cc-a739-8c817a397cd5",
   "metadata": {},
   "source": [
    "And test:"
   ]
  },
  {
   "cell_type": "code",
   "execution_count": 21,
   "id": "39d4ff93-7a6c-42df-9ae3-3c8682c851ae",
   "metadata": {},
   "outputs": [],
   "source": [
    "# transform the test array\n",
    "test_pca = fit_pca.transform(standardized_abundance_test_arr)\n",
    "reconstructed_abundance_test_arr = fit_pca.inverse_transform(test_pca)"
   ]
  },
  {
   "cell_type": "markdown",
   "id": "f65d90ee-bd35-4653-877d-7411be75f7ab",
   "metadata": {},
   "source": [
    "Compute MSE for training and test:"
   ]
  },
  {
   "cell_type": "code",
   "execution_count": 30,
   "id": "d7c9f5cd-4f5c-4ca1-b5a9-ba5586c790c1",
   "metadata": {},
   "outputs": [
    {
     "data": {
      "text/plain": [
       "(0.28163877014335575, 0.27411599191987523)"
      ]
     },
     "execution_count": 30,
     "metadata": {},
     "output_type": "execute_result"
    }
   ],
   "source": [
    "# pca_mse_training = mean_squared_error(standardized_abundance_training_arr, reconstructed_abundance_training_arr)\n",
    "# pca_mse_test = mean_squared_error(standardized_abundance_test_arr, reconstructed_abundance_test_arr)\n",
    "\n",
    "# compute MSE\n",
    "# pca_training_mse = np.sum(np.mean((standardized_abundance_training_arr - reconstructed_abundance_training_arr) ** 2, axis=-1))\n",
    "# pca_test_mse = np.sum(np.mean((standardized_abundance_test_arr - reconstructed_abundance_test_arr) ** 2, axis=-1))\n",
    "pca_training_mse = np.mean(np.mean((standardized_abundance_training_arr - reconstructed_abundance_training_arr) ** 2, axis=-1))\n",
    "pca_test_mse = np.mean(np.mean((standardized_abundance_test_arr - reconstructed_abundance_test_arr) ** 2, axis=-1))\n",
    "\n",
    "pca_training_mse, pca_test_mse"
   ]
  },
  {
   "cell_type": "markdown",
   "id": "ca03835f-96ec-4fc8-b619-7b368d7b3b32",
   "metadata": {},
   "source": [
    "Plot PCA components"
   ]
  },
  {
   "cell_type": "code",
   "execution_count": 31,
   "id": "d7903508-3a8f-496d-aa74-c9f10d17b75e",
   "metadata": {},
   "outputs": [
    {
     "data": {
      "image/png": "[encoded data removed]",
      "text/plain": [
       "<Figure size 640x480 with 1 Axes>"
      ]
     },
     "metadata": {},
     "output_type": "display_data"
    }
   ],
   "source": [
    "def myplot(score,coeff,labels=None):\n",
    "    xs = score[:,0]\n",
    "    ys = score[:,1]\n",
    "    n = coeff.shape[0]\n",
    "\n",
    "    plt.scatter(xs,ys) #without scaling\n",
    "    for i in range(n):\n",
    "        plt.arrow(0, 0, coeff[i,0], coeff[i,1],color = 'r',alpha = 0.5)\n",
    "        if labels is None:\n",
    "            plt.text(coeff[i,0]* 1.15, coeff[i,1] * 1.15, \"Var\"+str(i+1), color = 'g', ha = 'center', va = 'center')\n",
    "        else:\n",
    "            plt.text(coeff[i,0]* 1.15, coeff[i,1] * 1.15, labels[i], color = 'g', ha = 'center', va = 'center')\n",
    "\n",
    "plt.xlabel(\"PC{}\".format(1))\n",
    "plt.ylabel(\"PC{}\".format(2))\n",
    "plt.grid()\n",
    "\n",
    "#Call the function. \n",
    "myplot(train_pca, pca.components_) \n",
    "plt.show()"
   ]
  },
  {
   "cell_type": "code",
   "execution_count": 32,
   "id": "92dbb674-29b3-4e6b-a79c-b19f66e1518b",
   "metadata": {},
   "outputs": [
    {
     "data": {
      "text/plain": [
       "array([0.539378  , 0.17898323])"
      ]
     },
     "execution_count": 32,
     "metadata": {},
     "output_type": "execute_result"
    }
   ],
   "source": [
    "pca.explained_variance_ratio_"
   ]
  },
  {
   "cell_type": "code",
   "execution_count": null,
   "id": "9554ea6d-87bf-4c68-9678-db3609d45c1d",
   "metadata": {},
   "outputs": [],
   "source": []
  }
 ],
 "metadata": {
  "kernelspec": {
   "display_name": "Python 3 (ipykernel)",
   "language": "python",
   "name": "python3"
  },
  "language_info": {
   "codemirror_mode": {
    "name": "ipython",
    "version": 3
   },
   "file_extension": ".py",
   "mimetype": "text/x-python",
   "name": "python",
   "nbconvert_exporter": "python",
   "pygments_lexer": "ipython3",
   "version": "3.10.15"
  }
 },
 "nbformat": 4,
 "nbformat_minor": 5
}
