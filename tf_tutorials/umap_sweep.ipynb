{
 "cells": [
  {
   "cell_type": "code",
   "execution_count": 1,
   "id": "cb8d33f2-593b-4cda-8118-49a3ebb241f3",
   "metadata": {},
   "outputs": [],
   "source": [
    "import numpy as np\n",
    "import matplotlib.pyplot as plt\n",
    "import pandas as pd\n",
    "import multiprocessing"
   ]
  },
  {
   "cell_type": "markdown",
   "id": "bd8fc7f1-d508-4586-9145-b0e010e047c9",
   "metadata": {},
   "source": [
    "Import data:"
   ]
  },
  {
   "cell_type": "code",
   "execution_count": 2,
   "id": "ff347434-e118-4c1c-902c-160f1361a592",
   "metadata": {},
   "outputs": [],
   "source": [
    "data = pd.read_csv('../tsne_umap_tutorials/data/APOGEEDR17_GAIAEDR3_noflagfilter.csv', delimiter=',')\n",
    "\n",
    "# data = pd.read_csv('APOGEEDR17_GAIAEDR3_noflagfilter.csv', delimiter=',')"
   ]
  },
  {
   "cell_type": "markdown",
   "id": "89022175-57f4-422a-a4ca-cab174797a8f",
   "metadata": {},
   "source": [
    "Preprocessing (same step as for VAE...)"
   ]
  },
  {
   "cell_type": "code",
   "execution_count": 3,
   "id": "d196b890-1b38-4724-876a-1020c4b36b6c",
   "metadata": {},
   "outputs": [
    {
     "name": "stdout",
     "output_type": "stream",
     "text": [
      "There are 370060 stars in our initial sample\n"
     ]
    }
   ],
   "source": [
    "# Spatial:\n",
    "ra = data[\"RA\"]   #APOGEE\n",
    "dec = data[\"DEC\"]   #APOGEE\n",
    "\n",
    "# Identification:\n",
    "apogee_ID = data[\"# APOGEE_ID_\"]   #APOGEE\n",
    "gaia_ID = data[\"GAIAEDR3_SOURCE_ID\"]  # Gaia\n",
    "\n",
    "# Kinematic:\n",
    "parallax = data[\"GAIAEDR3_PARALLAX\"]  # Gaia\n",
    "pmra = data[\"GAIAEDR3_PMRA\"]  # Gaia\n",
    "pmra_err = data[\"GAIAEDR3_PMRA_ERROR\"]  # Gaia\n",
    "pmdec = data[\"GAIAEDR3_PMDEC\"]  # Gaia\n",
    "pmdec_err = data[\"GAIAEDR3_PMDEC_ERROR\"]  # Gaia\n",
    "RV = data[\"VHELIO_AVG\"]   #APOGEE\n",
    "RV_err = data[\"VERR\"]   #APOGEE\n",
    "#dist = data[\"dist\"]   #APOGEE no dist in this dataset?\n",
    "#dist_err = data[\"dist_err\"]   #APOGEE\n",
    "jr = data[\"jr\"]   #APOGEE\n",
    "jr_err = data[\"jr_err\"]   #APOGEE\n",
    "jz = data[\"jz\"]   #APOGEE\n",
    "jz_err = data[\"jz_err\"]   #APOGEE\n",
    "#jphi = data[\"jphi\"]   #APOGEE no jphi in this dataset?\n",
    "#jphi_err = data[\"jphi_err\"]    #APOGEE\n",
    "\n",
    "# # Spectral (useful for filtering):\n",
    "TEFF_ERR = data[\"TEFF_ERR\"]   #APOGEE\n",
    "TEFF = data[\"TEFF\"]   #APOGEE\n",
    "LOGG_ERR = data[\"LOGG_ERR\"]   #APOGEE\n",
    "LOGG = data[\"LOGG\"]   #APOGEE\n",
    "SNR = data[\"SNR\"]   #APOGEE\n",
    "ASPCAPFLAG = data[\"ASPCAPFLAG\"]\n",
    "STARFLAG = data[\"STARFLAG\"]\n",
    "\n",
    "# # Chemical abundances from astroNN:\n",
    "FE_H = data['FE_H'] \n",
    "C_FE = data['C_FE']\n",
    "CI_FE = data['CI_FE']\n",
    "N_FE = data['N_FE']\n",
    "O_FE = data['O_FE']\n",
    "MG_FE = data['MG_FE']\n",
    "AL_FE = data['AL_FE']\n",
    "SI_FE = data['SI_FE']\n",
    "P_FE = data['P_FE']\n",
    "S_FE = data['S_FE']\n",
    "K_FE = data['K_FE']\n",
    "CA_FE = data['CA_FE']\n",
    "TI_FE = data['TI_FE']\n",
    "TIII_FE = data['TIII_FE']\n",
    "V_FE = data['V_FE']\n",
    "CR_FE = data['CR_FE']\n",
    "MN_FE = data['MN_FE']\n",
    "CO_FE = data['CO_FE']\n",
    "NI_FE = data['NI_FE']\n",
    "\n",
    "# # Chemical abundance errors from astroNN:\n",
    "FE_H_err = data[\"FE_H_ERR\"] \n",
    "C_FE_err = data['C_FE_ERR']\n",
    "CI_FE_err = data['CI_FE_ERR']\n",
    "N_FE_err = data['N_FE_ERR']\n",
    "O_FE_err = data['O_FE_ERR']\n",
    "MG_FE_err = data['MG_FE_ERR']\n",
    "AL_FE_err = data['AL_FE_ERR']\n",
    "SI_FE_err = data['SI_FE_ERR']\n",
    "P_FE_err = data['P_FE_ERR']\n",
    "S_FE_err = data['S_FE_ERR']\n",
    "K_FE_err = data['K_FE_ERR']\n",
    "CA_FE_err = data['CA_FE_ERR']\n",
    "TI_FE_err = data['TI_FE_ERR']\n",
    "TIII_FE_err = data['TIII_FE_ERR']\n",
    "V_FE_err = data['V_FE_ERR']\n",
    "CR_FE_err = data['CR_FE_ERR']\n",
    "MN_FE_err = data['MN_FE_ERR']\n",
    "CO_FE_err = data['CO_FE_ERR']\n",
    "NI_FE_err = data['NI_FE_ERR']\n",
    "\n",
    "# # Number of stars in the initial sample of APOGEE DR16: \n",
    "print(\"There are {} stars in our initial sample\".format(len(ra)))\n",
    "\n",
    "cols = [ra, dec, apogee_ID, gaia_ID, parallax, pmra, pmra_err, pmdec, pmdec_err, RV, RV_err, #dist, dist_err,\n",
    "         jr, jr_err,# jphi, jphi_err,\n",
    "        jz, jz_err, TEFF, TEFF_ERR, LOGG, LOGG_ERR, SNR, ASPCAPFLAG, STARFLAG, FE_H, FE_H_err, C_FE, \n",
    "         C_FE_err, CI_FE, CI_FE_err, N_FE, N_FE_err, O_FE, O_FE_err, MG_FE, MG_FE_err, AL_FE, AL_FE_err, SI_FE,\n",
    "         SI_FE_err, P_FE, P_FE_err, S_FE, S_FE_err, K_FE, K_FE_err, CA_FE, CA_FE_err, TI_FE, TI_FE_err, TIII_FE,\n",
    "         TIII_FE_err, V_FE, V_FE_err, CR_FE, CR_FE_err, MN_FE, MN_FE_err, CO_FE, CO_FE_err, NI_FE, NI_FE_err]"
   ]
  },
  {
   "cell_type": "code",
   "execution_count": 4,
   "id": "68921c2e-73ad-4f40-ae6b-a9bd25718846",
   "metadata": {},
   "outputs": [
    {
     "name": "stdout",
     "output_type": "stream",
     "text": [
      "There are 144767 stars in our filtered sample\n"
     ]
    }
   ],
   "source": [
    "aspcapflags_filter = np.array(cols[20])==0\n",
    "starflags_filter = np.array(cols[21])==0\n",
    "\n",
    "filters = aspcapflags_filter*starflags_filter\n",
    "\n",
    "\n",
    "filtered_data = []\n",
    "for c in cols:\n",
    "    a = np.array(c)[filters]\n",
    "    filtered_data.append(a)\n",
    "    \n",
    "print(\"There are {} stars in our filtered sample\".format(len(filtered_data[0])))"
   ]
  },
  {
   "cell_type": "code",
   "execution_count": 5,
   "id": "f497ee39-0f7a-42c8-92d7-a42f503af929",
   "metadata": {},
   "outputs": [],
   "source": [
    "FE_H_filtered, C_FE_filtered, CI_FE_filtered = filtered_data[22], filtered_data[24], filtered_data[26]\n",
    "N_FE_filtered, O_FE_filtered, MG_FE_filtered = filtered_data[28], filtered_data[30], filtered_data[32]\n",
    "AL_FE_filtered, SI_FE_filtered, P_FE_filtered = filtered_data[34], filtered_data[36], filtered_data[38]\n",
    "S_FE_filtered, K_FE_filtered, CA_FE_filtered = filtered_data[40], filtered_data[42], filtered_data[44]\n",
    "TI_FE_filtered, TIII_FE_filtered, V_FE_filtered = filtered_data[46], filtered_data[48], filtered_data[50]\n",
    "CR_FE_filtered, MN_FE_filtered, CO_FE_filtered, NI_FE_filtered = filtered_data[52], filtered_data[54], filtered_data[56], filtered_data[58]\n",
    "RV_filtered  = filtered_data[9]"
   ]
  },
  {
   "cell_type": "code",
   "execution_count": 6,
   "id": "85532dcb-ffcf-478b-b53c-939fbbc6e917",
   "metadata": {},
   "outputs": [],
   "source": [
    "FE_H_err, C_FE_err, CI_FE_err = filtered_data[23], filtered_data[25], filtered_data[27]\n",
    "N_FE_err, O_FE_err, MG_FE_err = filtered_data[29], filtered_data[31], filtered_data[33]\n",
    "AL_FE_err, SI_FE_err, P_FE_err = filtered_data[35], filtered_data[37], filtered_data[39]\n",
    "S_FE_err, K_FE_err, CA_FE_err = filtered_data[41], filtered_data[43], filtered_data[45]\n",
    "TI_FE_err, TIII_FE_err, V_FE_err = filtered_data[47], filtered_data[49], filtered_data[51]\n",
    "CR_FE_err, MN_FE_err, CO_FE_err, NI_FE_err = filtered_data[53], filtered_data[55], filtered_data[57], filtered_data[59]\n",
    "RV_err  = filtered_data[10]"
   ]
  },
  {
   "cell_type": "code",
   "execution_count": 7,
   "id": "2488c70c-1c9c-480c-b158-b2c2587e8dd7",
   "metadata": {},
   "outputs": [],
   "source": [
    "train_size = round(0.8 * len(filtered_data[0]))\n",
    "test_size = round(0.1 * len(filtered_data[0]))\n",
    "validation_size = round(0.1 * len(filtered_data[0]))\n",
    "\n",
    "training_labels_raw = np.transpose(np.array([FE_H_filtered[:train_size], C_FE_filtered[:train_size], CI_FE_filtered[:train_size], \n",
    "                                        N_FE_filtered[:train_size], O_FE_filtered[:train_size], MG_FE_filtered[:train_size],\n",
    "                                        AL_FE_filtered[:train_size], SI_FE_filtered[:train_size], P_FE_filtered[:train_size],\n",
    "                                        S_FE_filtered[:train_size], K_FE_filtered[:train_size], CA_FE_filtered[:train_size],\n",
    "                                        TI_FE_filtered[:train_size], TIII_FE_filtered[:train_size], V_FE_filtered[:train_size], \n",
    "                                        CR_FE_filtered[:train_size], MN_FE_filtered[:train_size], CO_FE_filtered[:train_size], NI_FE_filtered[:train_size]]))\n",
    "\n",
    "error_training_labels_raw = np.transpose(np.array([FE_H_err[:train_size], C_FE_err[:train_size], CI_FE_err[:train_size], \n",
    "                                        N_FE_err[:train_size], O_FE_err[:train_size], MG_FE_err[:train_size],\n",
    "                                        AL_FE_err[:train_size], SI_FE_err[:train_size], P_FE_err[:train_size],\n",
    "                                        S_FE_err[:train_size], K_FE_err[:train_size], CA_FE_err[:train_size],\n",
    "                                        TI_FE_err[:train_size], TIII_FE_err[:train_size], V_FE_err[:train_size], \n",
    "                                        CR_FE_err[:train_size], MN_FE_err[:train_size], CO_FE_err[:train_size], NI_FE_err[:train_size]]))\n",
    "\n",
    "\n",
    "test_labels_raw = np.transpose(np.array([FE_H_filtered[train_size: train_size + test_size], C_FE_filtered[train_size: train_size + test_size], \n",
    "                                     CI_FE_filtered[train_size: train_size + test_size], N_FE_filtered[train_size: train_size + test_size],\n",
    "                                     O_FE_filtered[train_size: train_size + test_size], MG_FE_filtered[train_size: train_size + test_size],\n",
    "                                        AL_FE_filtered[train_size: train_size + test_size], SI_FE_filtered[train_size: train_size + test_size], \n",
    "                                     P_FE_filtered[train_size: train_size + test_size], S_FE_filtered[train_size: train_size + test_size], \n",
    "                                     K_FE_filtered[train_size: train_size + test_size], CA_FE_filtered[train_size: train_size + test_size],\n",
    "                                        TI_FE_filtered[train_size: train_size + test_size], TIII_FE_filtered[train_size: train_size + test_size], \n",
    "                                     V_FE_filtered[train_size: train_size + test_size], CR_FE_filtered[train_size: train_size + test_size], \n",
    "                                     MN_FE_filtered[train_size: train_size + test_size], CO_FE_filtered[train_size: train_size + test_size], \n",
    "                                     NI_FE_filtered[train_size: train_size + test_size]]))\n",
    "                                     \n",
    "                                     \n",
    "error_test_labels_raw = np.transpose(np.array([FE_H_err[train_size: train_size + test_size], C_FE_err[train_size: train_size + test_size], CI_FE_err[train_size: train_size + test_size], \n",
    "                                        N_FE_err[train_size: train_size + test_size], O_FE_err[train_size: train_size + test_size], MG_FE_err[train_size: train_size + test_size],\n",
    "                                        AL_FE_err[train_size: train_size + test_size], SI_FE_err[train_size: train_size + test_size], P_FE_err[train_size: train_size + test_size],\n",
    "                                        S_FE_err[train_size: train_size + test_size], K_FE_err[train_size: train_size + test_size], CA_FE_err[train_size: train_size + test_size],\n",
    "                                        TI_FE_err[train_size: train_size + test_size], TIII_FE_err[train_size: train_size + test_size], V_FE_err[train_size: train_size + test_size], \n",
    "                                        CR_FE_err[train_size: train_size + test_size], MN_FE_err[train_size: train_size + test_size], CO_FE_err[train_size: train_size + test_size], NI_FE_err[train_size: train_size + test_size]]))\n",
    "\n",
    "\n",
    "validation_labels_raw = np.transpose(np.array([FE_H_filtered[train_size + test_size: train_size + test_size + validation_size], C_FE_filtered[train_size + test_size: train_size + test_size + validation_size], \n",
    "                                     CI_FE_filtered[train_size + test_size: train_size + test_size + validation_size], N_FE_filtered[train_size + test_size: train_size + test_size + validation_size],\n",
    "                                     O_FE_filtered[train_size + test_size: train_size + test_size + validation_size], MG_FE_filtered[train_size + test_size: train_size + test_size + validation_size],\n",
    "                                        AL_FE_filtered[train_size + test_size: train_size + test_size + validation_size], SI_FE_filtered[train_size + test_size: train_size + test_size + validation_size], \n",
    "                                     P_FE_filtered[train_size + test_size: train_size + test_size + validation_size], S_FE_filtered[train_size + test_size: train_size + test_size + validation_size], \n",
    "                                     K_FE_filtered[train_size + test_size: train_size + test_size + validation_size], CA_FE_filtered[train_size + test_size: train_size + test_size + validation_size],\n",
    "                                        TI_FE_filtered[train_size + test_size: train_size + test_size + validation_size], TIII_FE_filtered[train_size + test_size: train_size + test_size + validation_size], \n",
    "                                     V_FE_filtered[train_size + test_size: train_size + test_size + validation_size], CR_FE_filtered[train_size + test_size: train_size + test_size + validation_size], \n",
    "                                     MN_FE_filtered[train_size + test_size: train_size + test_size + validation_size], CO_FE_filtered[train_size + test_size: train_size + test_size + validation_size], \n",
    "                                     NI_FE_filtered[train_size + test_size: train_size + test_size + validation_size]]))\n",
    "                                     \n",
    "                                     \n",
    "error_validation_labels_raw = np.transpose(np.array([FE_H_err[train_size + test_size: train_size + test_size + validation_size], C_FE_err[train_size + test_size: train_size + test_size + validation_size], CI_FE_err[train_size + test_size: train_size + test_size + validation_size], \n",
    "                                        N_FE_err[train_size + test_size: train_size + test_size + validation_size], O_FE_err[train_size + test_size: train_size + test_size + validation_size], MG_FE_err[train_size + test_size: train_size + test_size + validation_size],\n",
    "                                        AL_FE_err[train_size + test_size: train_size + test_size + validation_size], SI_FE_err[train_size + test_size: train_size + test_size + validation_size], P_FE_err[train_size + test_size: train_size + test_size + validation_size],\n",
    "                                        S_FE_err[train_size + test_size: train_size + test_size + validation_size], K_FE_err[train_size + test_size: train_size + test_size + validation_size], CA_FE_err[train_size + test_size: train_size + test_size + validation_size],\n",
    "                                        TI_FE_err[train_size + test_size: train_size + test_size + validation_size], TIII_FE_err[train_size + test_size: train_size + test_size + validation_size], V_FE_err[train_size + test_size: train_size + test_size + validation_size], \n",
    "                                        CR_FE_err[train_size + test_size: train_size + test_size + validation_size], MN_FE_err[train_size + test_size: train_size + test_size + validation_size], CO_FE_err[train_size + test_size: train_size + test_size + validation_size], NI_FE_err[train_size + test_size: train_size + test_size + validation_size]]))\n"
   ]
  },
  {
   "cell_type": "code",
   "execution_count": 8,
   "id": "37ea9826-858b-48b9-a4a6-e7f52967ac1d",
   "metadata": {},
   "outputs": [],
   "source": [
    "full_training_labels_raw = np.c_[training_labels_raw, error_training_labels_raw]\n",
    "full_test_labels_raw = np.c_[test_labels_raw, error_test_labels_raw]\n",
    "full_validation_labels_raw = np.c_[validation_labels_raw, error_validation_labels_raw]"
   ]
  },
  {
   "cell_type": "code",
   "execution_count": 9,
   "id": "22250cfb-1db7-45a3-9575-b9a6020654a4",
   "metadata": {},
   "outputs": [
    {
     "data": {
      "text/plain": [
       "((115814, 38), (14477, 38), (14476, 38))"
      ]
     },
     "execution_count": 9,
     "metadata": {},
     "output_type": "execute_result"
    }
   ],
   "source": [
    "full_training_labels_raw.shape, full_test_labels_raw.shape, full_validation_labels_raw.shape"
   ]
  },
  {
   "cell_type": "code",
   "execution_count": 10,
   "id": "a1145170-4b7e-4a54-8d9e-40975f9c2953",
   "metadata": {},
   "outputs": [
    {
     "data": {
      "text/plain": [
       "(array([-1.951497  , -2.1234312 , -2.119044  , -0.18978369, -0.7124527 ,\n",
       "        -0.15558027, -0.47890055, -0.15707995, -0.97891414, -0.6047195 ,\n",
       "        -2.2741165 , -0.40278423, -1.2907453 , -0.6157368 , -1.1658391 ,\n",
       "        -1.391077  , -0.64225805, -3.6896837 , -0.2965148 ,  0.01358107,\n",
       "         0.01762647,  0.02378747,  0.01708818,  0.01984493,  0.02071843,\n",
       "         0.02232191,  0.01871411,  0.05818468,  0.01897749,  0.03516773,\n",
       "         0.02518716,  0.02486172,  0.02255343,  0.0375476 ,  0.02254345,\n",
       "         0.02762588,  0.01909786,  0.02221127]),\n",
       " array([5.7460123e-01, 8.3517190e-01, 5.6674075e-01, 3.6616602e+00,\n",
       "        5.5585840e-01, 5.1025960e-01, 4.8934165e-01, 4.5210746e-01,\n",
       "        7.5247210e+00, 9.0582700e-01, 1.0242985e+00, 2.7282690e-01,\n",
       "        5.9501344e-01, 8.7636330e-01, 8.6697330e-01, 3.3210137e-01,\n",
       "        3.5304812e-01, 5.6587050e-01, 2.1270613e-01, 4.5790780e-01,\n",
       "        1.2761971e+00, 1.6784387e+00, 1.8850280e+01, 5.6260234e-01,\n",
       "        5.5715760e-01, 6.7058295e-01, 5.5592450e-01, 2.2155308e+01,\n",
       "        5.8074850e-01, 1.1802338e+04, 1.0069572e+00, 7.6264750e-01,\n",
       "        8.5684610e-01, 1.6342586e+00, 3.9144385e+00, 5.6938570e-01,\n",
       "        2.5924824e+03, 5.7262796e-01]))"
      ]
     },
     "execution_count": 10,
     "metadata": {},
     "output_type": "execute_result"
    }
   ],
   "source": [
    "np.min(full_training_labels_raw.T, axis=1), np.max(full_training_labels_raw.T, axis=1)"
   ]
  },
  {
   "cell_type": "code",
   "execution_count": 11,
   "id": "8a9f2ca9-dc2a-4a84-a917-72f9e07cb019",
   "metadata": {},
   "outputs": [],
   "source": [
    "err_threshold = 3 # remove errors that are larger than this...\n",
    "err_mask_train = np.all(np.abs(full_training_labels_raw) < err_threshold, axis=1)\n",
    "err_mask_test = np.all(np.abs(full_test_labels_raw) < err_threshold, axis=1)\n",
    "err_mask_validation = np.all(np.abs(full_validation_labels_raw) < err_threshold, axis=1)"
   ]
  },
  {
   "cell_type": "markdown",
   "id": "ad923299-df10-48c9-9f87-33ab0272dad7",
   "metadata": {},
   "source": [
    "Remove unreasonably huge error bars/abundance estimates:"
   ]
  },
  {
   "cell_type": "code",
   "execution_count": 12,
   "id": "2e753d78-aae2-4e95-bba7-7b48ccee5a61",
   "metadata": {},
   "outputs": [],
   "source": [
    "full_training_labels = full_training_labels_raw[err_mask_train]\n",
    "full_test_labels = full_test_labels_raw[err_mask_test]\n",
    "full_validation_labels = full_validation_labels_raw[err_mask_validation]"
   ]
  },
  {
   "cell_type": "code",
   "execution_count": 13,
   "id": "ee1d8bbe-b7a4-46c4-b6c4-131d48073483",
   "metadata": {},
   "outputs": [
    {
     "data": {
      "text/plain": [
       "((114885, 38), (14374, 38), (14326, 38))"
      ]
     },
     "execution_count": 13,
     "metadata": {},
     "output_type": "execute_result"
    }
   ],
   "source": [
    "full_training_labels.shape, full_test_labels.shape, full_validation_labels.shape"
   ]
  },
  {
   "cell_type": "code",
   "execution_count": 14,
   "id": "69f1fe48-24e8-4233-a95d-95d7d8ec5061",
   "metadata": {},
   "outputs": [
    {
     "data": {
      "text/plain": [
       "(array([-1.8320073 , -1.2602895 , -2.119044  , -0.18978369, -0.7124527 ,\n",
       "        -0.1388877 , -0.47890055, -0.13207644, -0.97891414, -0.5242982 ,\n",
       "        -0.7713039 , -0.40278423, -1.2907453 , -0.6157368 , -1.1658391 ,\n",
       "        -1.0536897 , -0.64225805, -1.1330373 , -0.2965148 ,  0.01358107,\n",
       "         0.01762647,  0.02378747,  0.01708818,  0.01984493,  0.02071843,\n",
       "         0.02232191,  0.01871411,  0.05818468,  0.01897749,  0.03516773,\n",
       "         0.02518716,  0.02486172,  0.02255343,  0.0375476 ,  0.02254345,\n",
       "         0.02762588,  0.01909786,  0.02221127]),\n",
       " array([0.57460123, 0.81556314, 0.56674075, 1.5901425 , 0.5558584 ,\n",
       "        0.5102596 , 0.48934165, 0.45210746, 1.0318542 , 0.905827  ,\n",
       "        1.0242985 , 0.262527  , 0.59501344, 0.8763633 , 0.8669733 ,\n",
       "        0.27449507, 0.35304812, 0.5658705 , 0.21270613, 0.35667247,\n",
       "        0.48992783, 1.637775  , 1.0633858 , 0.46304193, 0.43964195,\n",
       "        0.55135024, 0.46292186, 2.998515  , 0.55373484, 2.87389   ,\n",
       "        1.0069572 , 0.7626475 , 0.8568461 , 1.6342586 , 1.6748365 ,\n",
       "        0.55016214, 2.8621614 , 0.57262796]))"
      ]
     },
     "execution_count": 14,
     "metadata": {},
     "output_type": "execute_result"
    }
   ],
   "source": [
    "np.min(full_training_labels.T, axis=1), np.max(full_training_labels.T, axis=1)"
   ]
  },
  {
   "cell_type": "code",
   "execution_count": 15,
   "id": "47073612-08e6-4557-b8ee-8e0ac6a33323",
   "metadata": {},
   "outputs": [],
   "source": [
    "from sklearn.preprocessing import StandardScaler"
   ]
  },
  {
   "cell_type": "markdown",
   "id": "42028703-fd73-4345-a6eb-f6789915cc3e",
   "metadata": {},
   "source": [
    "Manual scaler to standardize (equivalent to StandardScaler):"
   ]
  },
  {
   "cell_type": "code",
   "execution_count": 16,
   "id": "a5052ddc-e4cd-4a48-959c-17c87d78ba31",
   "metadata": {},
   "outputs": [],
   "source": [
    "# standardized_pca_array = []\n",
    "# standardization_means = np.zeros(len(np.array(x_df_transpose)))\n",
    "# standardization_sigmas = np.zeros(len(np.array(x_df_transpose)))\n",
    "\n",
    "# for i, param in enumerate(np.array(x_df_transpose)):\n",
    "#     mean, sigma = np.mean(param), np.std(param)\n",
    "#     norm = (param - mean)/sigma\n",
    "#     standardized_pca_array.append(norm)\n",
    "#     standardization_means[i] = mean\n",
    "#     standardization_sigmas[i] = sigma"
   ]
  },
  {
   "cell_type": "markdown",
   "id": "d27ea24f-03f1-4975-8a6e-a47ff7bea306",
   "metadata": {},
   "source": [
    "StandardScaler to standardize (same method used for t-SNE/UMAP):"
   ]
  },
  {
   "cell_type": "code",
   "execution_count": 34,
   "id": "f8a6ca97-8239-45d6-b0b9-a6bc7462e3e5",
   "metadata": {},
   "outputs": [],
   "source": [
    "# split abundances and errors into separate datasets\n",
    "training_labels_abundances = full_training_labels[:, :19]\n",
    "training_labels_errors = full_training_labels[:, 19:]\n",
    "\n",
    "# split abundances and errors into separate datasets\n",
    "test_labels_abundances = full_test_labels[:, :19]\n",
    "test_labels_errors = full_test_labels[:, 19:]\n",
    "\n",
    "# split abundances and errors into separate datasets\n",
    "validation_labels_abundances = full_validation_labels[:, :19]\n",
    "validation_labels_errors = full_validation_labels[:, 19:]\n",
    "\n",
    "standardized_abundance_training_arr = StandardScaler().fit_transform(training_labels_abundances)\n",
    "standardized_abundance_test_arr = StandardScaler().fit_transform(test_labels_abundances)\n",
    "standardized_abundance_validation_arr = StandardScaler().fit_transform(validation_labels_abundances)"
   ]
  },
  {
   "cell_type": "markdown",
   "id": "4c459c0b-a60a-4e31-ab8e-cd6bf2c1d366",
   "metadata": {},
   "source": [
    "Begin UMAP:"
   ]
  },
  {
   "cell_type": "markdown",
   "id": "745f2dd9-7304-4a8b-bdce-025ea1bd4472",
   "metadata": {},
   "source": [
    "# UMAP:"
   ]
  },
  {
   "cell_type": "code",
   "execution_count": 37,
   "id": "d96fc73c-883b-402a-8409-8759a6ede2c0",
   "metadata": {
    "scrolled": true
   },
   "outputs": [
    {
     "name": "stdout",
     "output_type": "stream",
     "text": [
      "UMAP(init='pca', min_dist=0.0, n_epochs=200, n_jobs=95, n_neighbors=2, unique=True, verbose=True)\n",
      "Unique=True -> Number of data points reduced from  114885  to  114885\n",
      "Most common duplicate is 62991  with a count of  1\n",
      "Fri Apr 25 12:37:58 2025 Construct fuzzy simplicial set\n",
      "Fri Apr 25 12:37:58 2025 Finding Nearest Neighbors\n",
      "Fri Apr 25 12:37:58 2025 Building RP forest with 22 trees\n",
      "Fri Apr 25 12:37:58 2025 NN descent for 17 iterations\n",
      "\t 1  /  17\n",
      "\t 2  /  17\n",
      "\tStopping threshold met -- exiting after 2 iterations\n",
      "Fri Apr 25 12:38:00 2025 Finished Nearest Neighbor Search\n",
      "Fri Apr 25 12:38:00 2025 Construct embedding\n"
     ]
    },
    {
     "name": "stderr",
     "output_type": "stream",
     "text": [
      "Epochs completed:   9%| ███████████████▎                                                                                                                                                           18/200 [00:00]"
     ]
    },
    {
     "name": "stdout",
     "output_type": "stream",
     "text": [
      "\tcompleted  0  /  200 epochs\n",
      "\tcompleted  20  /  200 epochs\n"
     ]
    },
    {
     "name": "stderr",
     "output_type": "stream",
     "text": [
      "Epochs completed:  35%| ███████████████████████████████████████████████████████████▍                                                                                                               70/200 [00:00]"
     ]
    },
    {
     "name": "stdout",
     "output_type": "stream",
     "text": [
      "\tcompleted  40  /  200 epochs\n",
      "\tcompleted  60  /  200 epochs\n"
     ]
    },
    {
     "name": "stderr",
     "output_type": "stream",
     "text": [
      "Epochs completed:  52%| ███████████████████████████████████████████████████████████████████████████████████████▉                                                                                  104/200 [00:00]"
     ]
    },
    {
     "name": "stdout",
     "output_type": "stream",
     "text": [
      "\tcompleted  80  /  200 epochs\n",
      "\tcompleted  100  /  200 epochs\n"
     ]
    },
    {
     "name": "stderr",
     "output_type": "stream",
     "text": [
      "Epochs completed:  69%| ████████████████████████████████████████████████████████████████████████████████████████████████████████████████████▌                                                     138/200 [00:00]"
     ]
    },
    {
     "name": "stdout",
     "output_type": "stream",
     "text": [
      "\tcompleted  120  /  200 epochs\n",
      "\tcompleted  140  /  200 epochs\n"
     ]
    },
    {
     "name": "stderr",
     "output_type": "stream",
     "text": [
      "Epochs completed:  94%| ███████████████████████████████████████████████████████████████████████████████████████████████████████████████████████████████████████████████████████████████▋          189/200 [00:01]"
     ]
    },
    {
     "name": "stdout",
     "output_type": "stream",
     "text": [
      "\tcompleted  160  /  200 epochs\n",
      "\tcompleted  180  /  200 epochs\n"
     ]
    },
    {
     "name": "stderr",
     "output_type": "stream",
     "text": [
      "Epochs completed: 100%| █████████████████████████████████████████████████████████████████████████████████████████████████████████████████████████████████████████████████████████████████████████ 200/200 [00:01]\n"
     ]
    },
    {
     "name": "stdout",
     "output_type": "stream",
     "text": [
      "Fri Apr 25 12:38:01 2025 Finished embedding\n",
      "Fri Apr 25 12:38:04 2025 Worst tree score: 0.14588502\n",
      "Fri Apr 25 12:38:04 2025 Mean tree score: 0.14808603\n",
      "Fri Apr 25 12:38:04 2025 Best tree score: 0.14977586\n",
      "Fri Apr 25 12:38:04 2025 Forward diversification reduced edges from 229770 to 229770\n",
      "Fri Apr 25 12:38:04 2025 Reverse diversification reduced edges from 229770 to 229770\n",
      "Fri Apr 25 12:38:04 2025 Degree pruning reduced edges from 196172 to 192717\n",
      "Fri Apr 25 12:38:04 2025 Resorting data and graph based on tree order\n",
      "Fri Apr 25 12:38:04 2025 Building and compiling search function\n"
     ]
    },
    {
     "name": "stderr",
     "output_type": "stream",
     "text": [
      "Epochs completed: 100%| ███████████████████████████████████████████████████████████████████████████████████████████████████████████████████████████████████████████████████████████████████████████ 66/66 [00:00]\n"
     ]
    },
    {
     "name": "stdout",
     "output_type": "stream",
     "text": [
      "\tcompleted  0  /  66 epochs\n",
      "\tcompleted  6  /  66 epochs\n",
      "\tcompleted  12  /  66 epochs\n",
      "\tcompleted  18  /  66 epochs\n",
      "\tcompleted  24  /  66 epochs\n",
      "\tcompleted  30  /  66 epochs\n",
      "\tcompleted  36  /  66 epochs\n",
      "\tcompleted  42  /  66 epochs\n",
      "\tcompleted  48  /  66 epochs\n",
      "\tcompleted  54  /  66 epochs\n",
      "\tcompleted  60  /  66 epochs\n"
     ]
    },
    {
     "name": "stderr",
     "output_type": "stream",
     "text": [
      "Epochs completed: 100%| ███████████████████████████████████████████████████████████████████████████████████████████████████████████████████████████████████████████████████████████████████████████ 66/66 [00:28]\n"
     ]
    },
    {
     "name": "stdout",
     "output_type": "stream",
     "text": [
      "UMAP(init='pca', min_dist=0.02, n_epochs=200, n_jobs=95, n_neighbors=2, unique=True, verbose=True)\n",
      "Unique=True -> Number of data points reduced from  114885  to  114885\n",
      "Most common duplicate is 62991  with a count of  1\n",
      "Fri Apr 25 12:40:20 2025 Construct fuzzy simplicial set\n",
      "Fri Apr 25 12:40:20 2025 Finding Nearest Neighbors\n",
      "Fri Apr 25 12:40:20 2025 Building RP forest with 22 trees\n",
      "Fri Apr 25 12:40:20 2025 NN descent for 17 iterations\n",
      "\t 1  /  17\n",
      "\t 2  /  17\n",
      "\tStopping threshold met -- exiting after 2 iterations\n",
      "Fri Apr 25 12:40:22 2025 Finished Nearest Neighbor Search\n",
      "Fri Apr 25 12:40:22 2025 Construct embedding\n"
     ]
    },
    {
     "name": "stderr",
     "output_type": "stream",
     "text": [
      "Epochs completed:  14%| ███████████████████████▊                                                                                                                                                   28/200 [00:00]"
     ]
    },
    {
     "name": "stdout",
     "output_type": "stream",
     "text": [
      "\tcompleted  0  /  200 epochs\n",
      "\tcompleted  20  /  200 epochs\n"
     ]
    },
    {
     "name": "stderr",
     "output_type": "stream",
     "text": [
      "Epochs completed:  30%| ███████████████████████████████████████████████████                                                                                                                        60/200 [00:00]"
     ]
    },
    {
     "name": "stdout",
     "output_type": "stream",
     "text": [
      "\tcompleted  40  /  200 epochs\n",
      "\tcompleted  60  /  200 epochs\n"
     ]
    },
    {
     "name": "stderr",
     "output_type": "stream",
     "text": [
      "Epochs completed:  54%| ███████████████████████████████████████████████████████████████████████████████████████████▎                                                                              108/200 [00:00]"
     ]
    },
    {
     "name": "stdout",
     "output_type": "stream",
     "text": [
      "\tcompleted  80  /  200 epochs\n",
      "\tcompleted  100  /  200 epochs\n"
     ]
    },
    {
     "name": "stderr",
     "output_type": "stream",
     "text": [
      "Epochs completed:  70%| ███████████████████████████████████████████████████████████████████████████████████████████████████████████████████████▏                                                  141/200 [00:00]"
     ]
    },
    {
     "name": "stdout",
     "output_type": "stream",
     "text": [
      "\tcompleted  120  /  200 epochs\n",
      "\tcompleted  140  /  200 epochs\n"
     ]
    },
    {
     "name": "stderr",
     "output_type": "stream",
     "text": [
      "Epochs completed:  96%| █████████████████████████████████████████████████████████████████████████████████████████████████████████████████████████████████████████████████████████████████▍        191/200 [00:01]"
     ]
    },
    {
     "name": "stdout",
     "output_type": "stream",
     "text": [
      "\tcompleted  160  /  200 epochs\n",
      "\tcompleted  180  /  200 epochs\n"
     ]
    },
    {
     "name": "stderr",
     "output_type": "stream",
     "text": [
      "Epochs completed: 100%| █████████████████████████████████████████████████████████████████████████████████████████████████████████████████████████████████████████████████████████████████████████ 200/200 [00:01]\n"
     ]
    },
    {
     "name": "stdout",
     "output_type": "stream",
     "text": [
      "Fri Apr 25 12:40:23 2025 Finished embedding\n",
      "Fri Apr 25 12:40:27 2025 Worst tree score: 0.14499717\n",
      "Fri Apr 25 12:40:27 2025 Mean tree score: 0.14790166\n",
      "Fri Apr 25 12:40:27 2025 Best tree score: 0.15005440\n",
      "Fri Apr 25 12:40:27 2025 Forward diversification reduced edges from 229770 to 229770\n",
      "Fri Apr 25 12:40:27 2025 Reverse diversification reduced edges from 229770 to 229770\n",
      "Fri Apr 25 12:40:27 2025 Degree pruning reduced edges from 196096 to 192690\n",
      "Fri Apr 25 12:40:27 2025 Resorting data and graph based on tree order\n",
      "Fri Apr 25 12:40:27 2025 Building and compiling search function\n"
     ]
    },
    {
     "name": "stderr",
     "output_type": "stream",
     "text": [
      "Epochs completed: 100%| ███████████████████████████████████████████████████████████████████████████████████████████████████████████████████████████████████████████████████████████████████████████ 66/66 [00:00]\n"
     ]
    },
    {
     "name": "stdout",
     "output_type": "stream",
     "text": [
      "\tcompleted  0  /  66 epochs\n",
      "\tcompleted  6  /  66 epochs\n",
      "\tcompleted  12  /  66 epochs\n",
      "\tcompleted  18  /  66 epochs\n",
      "\tcompleted  24  /  66 epochs\n",
      "\tcompleted  30  /  66 epochs\n",
      "\tcompleted  36  /  66 epochs\n",
      "\tcompleted  42  /  66 epochs\n",
      "\tcompleted  48  /  66 epochs\n",
      "\tcompleted  54  /  66 epochs\n",
      "\tcompleted  60  /  66 epochs\n"
     ]
    },
    {
     "name": "stderr",
     "output_type": "stream",
     "text": [
      "Epochs completed: 100%| ███████████████████████████████████████████████████████████████████████████████████████████████████████████████████████████████████████████████████████████████████████████ 66/66 [00:28]\n"
     ]
    },
    {
     "name": "stdout",
     "output_type": "stream",
     "text": [
      "UMAP(init='pca', min_dist=0.05, n_epochs=200, n_jobs=95, n_neighbors=2, unique=True, verbose=True)\n",
      "Unique=True -> Number of data points reduced from  114885  to  114885\n",
      "Most common duplicate is 62991  with a count of  1\n",
      "Fri Apr 25 12:43:08 2025 Construct fuzzy simplicial set\n",
      "Fri Apr 25 12:43:08 2025 Finding Nearest Neighbors\n",
      "Fri Apr 25 12:43:08 2025 Building RP forest with 22 trees\n",
      "Fri Apr 25 12:43:08 2025 NN descent for 17 iterations\n",
      "\t 1  /  17\n",
      "\t 2  /  17\n",
      "\tStopping threshold met -- exiting after 2 iterations\n",
      "Fri Apr 25 12:43:09 2025 Finished Nearest Neighbor Search\n",
      "Fri Apr 25 12:43:09 2025 Construct embedding\n"
     ]
    },
    {
     "name": "stderr",
     "output_type": "stream",
     "text": [
      "Epochs completed:   0%|                                                                                                                                                                             0/200 [00:00]"
     ]
    },
    {
     "name": "stdout",
     "output_type": "stream",
     "text": [
      "\tcompleted  0  /  200 epochs\n"
     ]
    },
    {
     "name": "stderr",
     "output_type": "stream",
     "text": [
      "Epochs completed:  14%| ███████████████████████▊                                                                                                                                                   28/200 [00:00]"
     ]
    },
    {
     "name": "stdout",
     "output_type": "stream",
     "text": [
      "\tcompleted  20  /  200 epochs\n"
     ]
    },
    {
     "name": "stderr",
     "output_type": "stream",
     "text": [
      "Epochs completed:  22%| █████████████████████████████████████▍                                                                                                                                     44/200 [00:00]"
     ]
    },
    {
     "name": "stdout",
     "output_type": "stream",
     "text": [
      "\tcompleted  40  /  200 epochs\n"
     ]
    },
    {
     "name": "stderr",
     "output_type": "stream",
     "text": [
      "Epochs completed:  30%| ███████████████████████████████████████████████████                                                                                                                        60/200 [00:00]"
     ]
    },
    {
     "name": "stdout",
     "output_type": "stream",
     "text": [
      "\tcompleted  60  /  200 epochs\n"
     ]
    },
    {
     "name": "stderr",
     "output_type": "stream",
     "text": [
      "Epochs completed:  46%| ██████████████████████████████████████████████████████████████████████████████▏                                                                                            92/200 [00:00]"
     ]
    },
    {
     "name": "stdout",
     "output_type": "stream",
     "text": [
      "\tcompleted  80  /  200 epochs\n"
     ]
    },
    {
     "name": "stderr",
     "output_type": "stream",
     "text": [
      "Epochs completed:  54%| ███████████████████████████████████████████████████████████████████████████████████████████▎                                                                              108/200 [00:00]"
     ]
    },
    {
     "name": "stdout",
     "output_type": "stream",
     "text": [
      "\tcompleted  100  /  200 epochs\n"
     ]
    },
    {
     "name": "stderr",
     "output_type": "stream",
     "text": [
      "Epochs completed:  62%| ████████████████████████████████████████████████████████████████████████████████████████████████████████▊                                                                 124/200 [00:00]"
     ]
    },
    {
     "name": "stdout",
     "output_type": "stream",
     "text": [
      "\tcompleted  120  /  200 epochs\n"
     ]
    },
    {
     "name": "stderr",
     "output_type": "stream",
     "text": [
      "Epochs completed:  70%| ██████████████████████████████████████████████████████████████████████████████████████████████████████████████████████▎                                                   140/200 [00:00]"
     ]
    },
    {
     "name": "stdout",
     "output_type": "stream",
     "text": [
      "\tcompleted  140  /  200 epochs\n"
     ]
    },
    {
     "name": "stderr",
     "output_type": "stream",
     "text": [
      "Epochs completed:  78%| ████████████████████████████████████████████████████████████████████████████████████████████████████████████████████████████████████▋                                     157/200 [00:01]"
     ]
    },
    {
     "name": "stdout",
     "output_type": "stream",
     "text": [
      "\tcompleted  160  /  200 epochs\n"
     ]
    },
    {
     "name": "stderr",
     "output_type": "stream",
     "text": [
      "Epochs completed:  94%| ███████████████████████████████████████████████████████████████████████████████████████████████████████████████████████████████████████████████████████████████▋          189/200 [00:01]"
     ]
    },
    {
     "name": "stdout",
     "output_type": "stream",
     "text": [
      "\tcompleted  180  /  200 epochs\n"
     ]
    },
    {
     "name": "stderr",
     "output_type": "stream",
     "text": [
      "Epochs completed: 100%| █████████████████████████████████████████████████████████████████████████████████████████████████████████████████████████████████████████████████████████████████████████ 200/200 [00:01]\n"
     ]
    },
    {
     "name": "stdout",
     "output_type": "stream",
     "text": [
      "Fri Apr 25 12:43:11 2025 Finished embedding\n",
      "Fri Apr 25 12:43:14 2025 Worst tree score: 0.14542368\n",
      "Fri Apr 25 12:43:14 2025 Mean tree score: 0.14799187\n",
      "Fri Apr 25 12:43:14 2025 Best tree score: 0.15049832\n",
      "Fri Apr 25 12:43:15 2025 Forward diversification reduced edges from 229770 to 229770\n",
      "Fri Apr 25 12:43:15 2025 Reverse diversification reduced edges from 229770 to 229770\n",
      "Fri Apr 25 12:43:15 2025 Degree pruning reduced edges from 196102 to 192693\n",
      "Fri Apr 25 12:43:15 2025 Resorting data and graph based on tree order\n",
      "Fri Apr 25 12:43:15 2025 Building and compiling search function\n"
     ]
    },
    {
     "name": "stderr",
     "output_type": "stream",
     "text": [
      "Epochs completed: 100%| ███████████████████████████████████████████████████████████████████████████████████████████████████████████████████████████████████████████████████████████████████████████ 66/66 [00:00]\n"
     ]
    },
    {
     "name": "stdout",
     "output_type": "stream",
     "text": [
      "\tcompleted  0  /  66 epochs\n",
      "\tcompleted  6  /  66 epochs\n",
      "\tcompleted  12  /  66 epochs\n",
      "\tcompleted  18  /  66 epochs\n",
      "\tcompleted  24  /  66 epochs\n",
      "\tcompleted  30  /  66 epochs\n",
      "\tcompleted  36  /  66 epochs\n",
      "\tcompleted  42  /  66 epochs\n",
      "\tcompleted  48  /  66 epochs\n",
      "\tcompleted  54  /  66 epochs\n",
      "\tcompleted  60  /  66 epochs\n"
     ]
    },
    {
     "name": "stderr",
     "output_type": "stream",
     "text": [
      "Epochs completed: 100%| ███████████████████████████████████████████████████████████████████████████████████████████████████████████████████████████████████████████████████████████████████████████ 66/66 [00:27]\n"
     ]
    },
    {
     "name": "stdout",
     "output_type": "stream",
     "text": [
      "UMAP(init='pca', n_epochs=200, n_jobs=95, n_neighbors=2, unique=True, verbose=True)\n",
      "Unique=True -> Number of data points reduced from  114885  to  114885\n",
      "Most common duplicate is 62991  with a count of  1\n",
      "Fri Apr 25 12:45:50 2025 Construct fuzzy simplicial set\n",
      "Fri Apr 25 12:45:50 2025 Finding Nearest Neighbors\n",
      "Fri Apr 25 12:45:50 2025 Building RP forest with 22 trees\n",
      "Fri Apr 25 12:45:50 2025 NN descent for 17 iterations\n",
      "\t 1  /  17\n",
      "\t 2  /  17\n",
      "\tStopping threshold met -- exiting after 2 iterations\n",
      "Fri Apr 25 12:45:52 2025 Finished Nearest Neighbor Search\n",
      "Fri Apr 25 12:45:52 2025 Construct embedding\n"
     ]
    },
    {
     "name": "stderr",
     "output_type": "stream",
     "text": [
      "Epochs completed:   8%| ██████████████▍                                                                                                                                                            17/200 [00:00]"
     ]
    },
    {
     "name": "stdout",
     "output_type": "stream",
     "text": [
      "\tcompleted  0  /  200 epochs\n",
      "\tcompleted  20  /  200 epochs\n"
     ]
    },
    {
     "name": "stderr",
     "output_type": "stream",
     "text": [
      "Epochs completed:  33%| ████████████████████████████████████████████████████████                                                                                                                   66/200 [00:00]"
     ]
    },
    {
     "name": "stdout",
     "output_type": "stream",
     "text": [
      "\tcompleted  40  /  200 epochs\n",
      "\tcompleted  60  /  200 epochs\n"
     ]
    },
    {
     "name": "stderr",
     "output_type": "stream",
     "text": [
      "Epochs completed:  49%| ███████████████████████████████████████████████████████████████████████████████████▎                                                                                       98/200 [00:00]"
     ]
    },
    {
     "name": "stdout",
     "output_type": "stream",
     "text": [
      "\tcompleted  80  /  200 epochs\n",
      "\tcompleted  100  /  200 epochs\n"
     ]
    },
    {
     "name": "stderr",
     "output_type": "stream",
     "text": [
      "Epochs completed:  73%| ███████████████████████████████████████████████████████████████████████████████████████████████████████████████████████████▎                                              146/200 [00:00]"
     ]
    },
    {
     "name": "stdout",
     "output_type": "stream",
     "text": [
      "\tcompleted  120  /  200 epochs\n",
      "\tcompleted  140  /  200 epochs\n"
     ]
    },
    {
     "name": "stderr",
     "output_type": "stream",
     "text": [
      "Epochs completed:  89%| ██████████████████████████████████████████████████████████████████████████████████████████████████████████████████████████████████████████████████████▍                   178/200 [00:01]"
     ]
    },
    {
     "name": "stdout",
     "output_type": "stream",
     "text": [
      "\tcompleted  160  /  200 epochs\n",
      "\tcompleted  180  /  200 epochs\n"
     ]
    },
    {
     "name": "stderr",
     "output_type": "stream",
     "text": [
      "Epochs completed: 100%| █████████████████████████████████████████████████████████████████████████████████████████████████████████████████████████████████████████████████████████████████████████ 200/200 [00:01]\n"
     ]
    },
    {
     "name": "stdout",
     "output_type": "stream",
     "text": [
      "Fri Apr 25 12:45:53 2025 Finished embedding\n",
      "Fri Apr 25 12:45:57 2025 Worst tree score: 0.14501458\n",
      "Fri Apr 25 12:45:57 2025 Mean tree score: 0.14793212\n",
      "Fri Apr 25 12:45:57 2025 Best tree score: 0.14964530\n",
      "Fri Apr 25 12:45:57 2025 Forward diversification reduced edges from 229770 to 229770\n",
      "Fri Apr 25 12:45:57 2025 Reverse diversification reduced edges from 229770 to 229770\n",
      "Fri Apr 25 12:45:57 2025 Degree pruning reduced edges from 196082 to 192632\n",
      "Fri Apr 25 12:45:57 2025 Resorting data and graph based on tree order\n",
      "Fri Apr 25 12:45:57 2025 Building and compiling search function\n"
     ]
    },
    {
     "name": "stderr",
     "output_type": "stream",
     "text": [
      "Epochs completed: 100%| ███████████████████████████████████████████████████████████████████████████████████████████████████████████████████████████████████████████████████████████████████████████ 66/66 [00:00]\n"
     ]
    },
    {
     "name": "stdout",
     "output_type": "stream",
     "text": [
      "\tcompleted  0  /  66 epochs\n",
      "\tcompleted  6  /  66 epochs\n",
      "\tcompleted  12  /  66 epochs\n",
      "\tcompleted  18  /  66 epochs\n",
      "\tcompleted  24  /  66 epochs\n",
      "\tcompleted  30  /  66 epochs\n",
      "\tcompleted  36  /  66 epochs\n",
      "\tcompleted  42  /  66 epochs\n",
      "\tcompleted  48  /  66 epochs\n",
      "\tcompleted  54  /  66 epochs\n",
      "\tcompleted  60  /  66 epochs\n"
     ]
    },
    {
     "name": "stderr",
     "output_type": "stream",
     "text": [
      "Epochs completed: 100%| ███████████████████████████████████████████████████████████████████████████████████████████████████████████████████████████████████████████████████████████████████████████ 66/66 [00:27]\n"
     ]
    },
    {
     "name": "stdout",
     "output_type": "stream",
     "text": [
      "UMAP(init='pca', min_dist=0.2, n_epochs=200, n_jobs=95, n_neighbors=2, unique=True, verbose=True)\n",
      "Unique=True -> Number of data points reduced from  114885  to  114885\n",
      "Most common duplicate is 62991  with a count of  1\n",
      "Fri Apr 25 12:48:33 2025 Construct fuzzy simplicial set\n",
      "Fri Apr 25 12:48:33 2025 Finding Nearest Neighbors\n",
      "Fri Apr 25 12:48:33 2025 Building RP forest with 22 trees\n",
      "Fri Apr 25 12:48:33 2025 NN descent for 17 iterations\n",
      "\t 1  /  17\n",
      "\t 2  /  17\n",
      "\tStopping threshold met -- exiting after 2 iterations\n",
      "Fri Apr 25 12:48:35 2025 Finished Nearest Neighbor Search\n",
      "Fri Apr 25 12:48:35 2025 Construct embedding\n"
     ]
    },
    {
     "name": "stderr",
     "output_type": "stream",
     "text": [
      "Epochs completed:   0%|                                                                                                                                                                             0/200 [00:00]"
     ]
    },
    {
     "name": "stdout",
     "output_type": "stream",
     "text": [
      "\tcompleted  0  /  200 epochs\n"
     ]
    },
    {
     "name": "stderr",
     "output_type": "stream",
     "text": [
      "Epochs completed:   6%| ███████████                                                                                                                                                                13/200 [00:00]"
     ]
    },
    {
     "name": "stdout",
     "output_type": "stream",
     "text": [
      "\tcompleted  20  /  200 epochs\n"
     ]
    },
    {
     "name": "stderr",
     "output_type": "stream",
     "text": [
      "Epochs completed:  22%| ██████████████████████████████████████▎                                                                                                                                    45/200 [00:00]"
     ]
    },
    {
     "name": "stdout",
     "output_type": "stream",
     "text": [
      "\tcompleted  40  /  200 epochs\n"
     ]
    },
    {
     "name": "stderr",
     "output_type": "stream",
     "text": [
      "Epochs completed:  30%| ███████████████████████████████████████████████████▊                                                                                                                       61/200 [00:00]"
     ]
    },
    {
     "name": "stdout",
     "output_type": "stream",
     "text": [
      "\tcompleted  60  /  200 epochs\n"
     ]
    },
    {
     "name": "stderr",
     "output_type": "stream",
     "text": [
      "Epochs completed:  38%| █████████████████████████████████████████████████████████████████▍                                                                                                         77/200 [00:00]"
     ]
    },
    {
     "name": "stdout",
     "output_type": "stream",
     "text": [
      "\tcompleted  80  /  200 epochs\n"
     ]
    },
    {
     "name": "stderr",
     "output_type": "stream",
     "text": [
      "Epochs completed:  55%| ████████████████████████████████████████████████████████████████████████████████████████████                                                                              109/200 [00:00]"
     ]
    },
    {
     "name": "stdout",
     "output_type": "stream",
     "text": [
      "\tcompleted  100  /  200 epochs\n"
     ]
    },
    {
     "name": "stderr",
     "output_type": "stream",
     "text": [
      "Epochs completed:  62%| █████████████████████████████████████████████████████████████████████████████████████████████████████████▋                                                                125/200 [00:00]"
     ]
    },
    {
     "name": "stdout",
     "output_type": "stream",
     "text": [
      "\tcompleted  120  /  200 epochs\n"
     ]
    },
    {
     "name": "stderr",
     "output_type": "stream",
     "text": [
      "Epochs completed:  70%| ███████████████████████████████████████████████████████████████████████████████████████████████████████████████████████▏                                                  141/200 [00:00]"
     ]
    },
    {
     "name": "stdout",
     "output_type": "stream",
     "text": [
      "\tcompleted  140  /  200 epochs\n"
     ]
    },
    {
     "name": "stderr",
     "output_type": "stream",
     "text": [
      "Epochs completed:  78%| ████████████████████████████████████████████████████████████████████████████████████████████████████████████████████████████████████▋                                     157/200 [00:01]"
     ]
    },
    {
     "name": "stdout",
     "output_type": "stream",
     "text": [
      "\tcompleted  160  /  200 epochs\n"
     ]
    },
    {
     "name": "stderr",
     "output_type": "stream",
     "text": [
      "Epochs completed:  94%| ███████████████████████████████████████████████████████████████████████████████████████████████████████████████████████████████████████████████████████████████▋          189/200 [00:01]"
     ]
    },
    {
     "name": "stdout",
     "output_type": "stream",
     "text": [
      "\tcompleted  180  /  200 epochs\n"
     ]
    },
    {
     "name": "stderr",
     "output_type": "stream",
     "text": [
      "Epochs completed: 100%| █████████████████████████████████████████████████████████████████████████████████████████████████████████████████████████████████████████████████████████████████████████ 200/200 [00:01]\n"
     ]
    },
    {
     "name": "stdout",
     "output_type": "stream",
     "text": [
      "Fri Apr 25 12:48:36 2025 Finished embedding\n",
      "Fri Apr 25 12:48:39 2025 Worst tree score: 0.14405710\n",
      "Fri Apr 25 12:48:39 2025 Mean tree score: 0.14760690\n",
      "Fri Apr 25 12:48:39 2025 Best tree score: 0.15055055\n",
      "Fri Apr 25 12:48:40 2025 Forward diversification reduced edges from 229770 to 229770\n",
      "Fri Apr 25 12:48:40 2025 Reverse diversification reduced edges from 229770 to 229770\n",
      "Fri Apr 25 12:48:40 2025 Degree pruning reduced edges from 196174 to 192715\n",
      "Fri Apr 25 12:48:40 2025 Resorting data and graph based on tree order\n",
      "Fri Apr 25 12:48:40 2025 Building and compiling search function\n"
     ]
    },
    {
     "name": "stderr",
     "output_type": "stream",
     "text": [
      "Epochs completed: 100%| ███████████████████████████████████████████████████████████████████████████████████████████████████████████████████████████████████████████████████████████████████████████ 66/66 [00:00]\n"
     ]
    },
    {
     "name": "stdout",
     "output_type": "stream",
     "text": [
      "\tcompleted  0  /  66 epochs\n",
      "\tcompleted  6  /  66 epochs\n",
      "\tcompleted  12  /  66 epochs\n",
      "\tcompleted  18  /  66 epochs\n",
      "\tcompleted  24  /  66 epochs\n",
      "\tcompleted  30  /  66 epochs\n",
      "\tcompleted  36  /  66 epochs\n",
      "\tcompleted  42  /  66 epochs\n",
      "\tcompleted  48  /  66 epochs\n",
      "\tcompleted  54  /  66 epochs\n",
      "\tcompleted  60  /  66 epochs\n"
     ]
    },
    {
     "name": "stderr",
     "output_type": "stream",
     "text": [
      "Epochs completed: 100%| ███████████████████████████████████████████████████████████████████████████████████████████████████████████████████████████████████████████████████████████████████████████ 66/66 [00:28]\n"
     ]
    },
    {
     "name": "stdout",
     "output_type": "stream",
     "text": [
      "UMAP(init='pca', min_dist=0.5, n_epochs=200, n_jobs=95, n_neighbors=2, unique=True, verbose=True)\n",
      "Unique=True -> Number of data points reduced from  114885  to  114885\n",
      "Most common duplicate is 62991  with a count of  1\n",
      "Fri Apr 25 12:51:08 2025 Construct fuzzy simplicial set\n",
      "Fri Apr 25 12:51:08 2025 Finding Nearest Neighbors\n",
      "Fri Apr 25 12:51:08 2025 Building RP forest with 22 trees\n",
      "Fri Apr 25 12:51:09 2025 NN descent for 17 iterations\n",
      "\t 1  /  17\n",
      "\t 2  /  17\n",
      "\tStopping threshold met -- exiting after 2 iterations\n",
      "Fri Apr 25 12:51:10 2025 Finished Nearest Neighbor Search\n",
      "Fri Apr 25 12:51:10 2025 Construct embedding\n"
     ]
    },
    {
     "name": "stderr",
     "output_type": "stream",
     "text": [
      "Epochs completed:   0%|                                                                                                                                                                             0/200 [00:00]"
     ]
    },
    {
     "name": "stdout",
     "output_type": "stream",
     "text": [
      "\tcompleted  0  /  200 epochs\n"
     ]
    },
    {
     "name": "stderr",
     "output_type": "stream",
     "text": [
      "Epochs completed:   7%| ███████████▉                                                                                                                                                               14/200 [00:00]"
     ]
    },
    {
     "name": "stdout",
     "output_type": "stream",
     "text": [
      "\tcompleted  20  /  200 epochs\n"
     ]
    },
    {
     "name": "stderr",
     "output_type": "stream",
     "text": [
      "Epochs completed:  23%| ███████████████████████████████████████                                                                                                                                    46/200 [00:00]"
     ]
    },
    {
     "name": "stdout",
     "output_type": "stream",
     "text": [
      "\tcompleted  40  /  200 epochs\n"
     ]
    },
    {
     "name": "stderr",
     "output_type": "stream",
     "text": [
      "Epochs completed:  31%| ████████████████████████████████████████████████████▋                                                                                                                      62/200 [00:00]"
     ]
    },
    {
     "name": "stdout",
     "output_type": "stream",
     "text": [
      "\tcompleted  60  /  200 epochs\n"
     ]
    },
    {
     "name": "stderr",
     "output_type": "stream",
     "text": [
      "Epochs completed:  39%| ██████████████████████████████████████████████████████████████████▎                                                                                                        78/200 [00:00]"
     ]
    },
    {
     "name": "stdout",
     "output_type": "stream",
     "text": [
      "\tcompleted  80  /  200 epochs\n"
     ]
    },
    {
     "name": "stderr",
     "output_type": "stream",
     "text": [
      "Epochs completed:  55%| ████████████████████████████████████████████████████████████████████████████████████████████▉                                                                             110/200 [00:00]"
     ]
    },
    {
     "name": "stdout",
     "output_type": "stream",
     "text": [
      "\tcompleted  100  /  200 epochs\n"
     ]
    },
    {
     "name": "stderr",
     "output_type": "stream",
     "text": [
      "Epochs completed:  63%| ██████████████████████████████████████████████████████████████████████████████████████████████████████████▍                                                               126/200 [00:00]"
     ]
    },
    {
     "name": "stdout",
     "output_type": "stream",
     "text": [
      "\tcompleted  120  /  200 epochs\n"
     ]
    },
    {
     "name": "stderr",
     "output_type": "stream",
     "text": [
      "Epochs completed:  71%| ███████████████████████████████████████████████████████████████████████████████████████████████████████████████████████▉                                                  142/200 [00:00]"
     ]
    },
    {
     "name": "stdout",
     "output_type": "stream",
     "text": [
      "\tcompleted  140  /  200 epochs\n"
     ]
    },
    {
     "name": "stderr",
     "output_type": "stream",
     "text": [
      "Epochs completed:  79%| █████████████████████████████████████████████████████████████████████████████████████████████████████████████████████████████████████▌                                    158/200 [00:01]"
     ]
    },
    {
     "name": "stdout",
     "output_type": "stream",
     "text": [
      "\tcompleted  160  /  200 epochs\n"
     ]
    },
    {
     "name": "stderr",
     "output_type": "stream",
     "text": [
      "Epochs completed:  95%| ████████████████████████████████████████████████████████████████████████████████████████████████████████████████████████████████████████████████████████████████▌         190/200 [00:01]"
     ]
    },
    {
     "name": "stdout",
     "output_type": "stream",
     "text": [
      "\tcompleted  180  /  200 epochs\n"
     ]
    },
    {
     "name": "stderr",
     "output_type": "stream",
     "text": [
      "Epochs completed: 100%| █████████████████████████████████████████████████████████████████████████████████████████████████████████████████████████████████████████████████████████████████████████ 200/200 [00:01]\n"
     ]
    },
    {
     "name": "stdout",
     "output_type": "stream",
     "text": [
      "Fri Apr 25 12:51:12 2025 Finished embedding\n",
      "Fri Apr 25 12:51:15 2025 Worst tree score: 0.14554555\n",
      "Fri Apr 25 12:51:15 2025 Mean tree score: 0.14809276\n",
      "Fri Apr 25 12:51:15 2025 Best tree score: 0.15034165\n",
      "Fri Apr 25 12:51:16 2025 Forward diversification reduced edges from 229770 to 229770\n",
      "Fri Apr 25 12:51:16 2025 Reverse diversification reduced edges from 229770 to 229770\n",
      "Fri Apr 25 12:51:16 2025 Degree pruning reduced edges from 196152 to 192681\n",
      "Fri Apr 25 12:51:16 2025 Resorting data and graph based on tree order\n",
      "Fri Apr 25 12:51:16 2025 Building and compiling search function\n"
     ]
    },
    {
     "name": "stderr",
     "output_type": "stream",
     "text": [
      "Epochs completed: 100%| ███████████████████████████████████████████████████████████████████████████████████████████████████████████████████████████████████████████████████████████████████████████ 66/66 [00:00]\n"
     ]
    },
    {
     "name": "stdout",
     "output_type": "stream",
     "text": [
      "\tcompleted  0  /  66 epochs\n",
      "\tcompleted  6  /  66 epochs\n",
      "\tcompleted  12  /  66 epochs\n",
      "\tcompleted  18  /  66 epochs\n",
      "\tcompleted  24  /  66 epochs\n",
      "\tcompleted  30  /  66 epochs\n",
      "\tcompleted  36  /  66 epochs\n",
      "\tcompleted  42  /  66 epochs\n",
      "\tcompleted  48  /  66 epochs\n",
      "\tcompleted  54  /  66 epochs\n",
      "\tcompleted  60  /  66 epochs\n"
     ]
    },
    {
     "name": "stderr",
     "output_type": "stream",
     "text": [
      "Epochs completed: 100%| ███████████████████████████████████████████████████████████████████████████████████████████████████████████████████████████████████████████████████████████████████████████ 66/66 [00:28]\n"
     ]
    },
    {
     "name": "stdout",
     "output_type": "stream",
     "text": [
      "UMAP(init='pca', min_dist=0.8, n_epochs=200, n_jobs=95, n_neighbors=2, unique=True, verbose=True)\n",
      "Unique=True -> Number of data points reduced from  114885  to  114885\n",
      "Most common duplicate is 62991  with a count of  1\n",
      "Fri Apr 25 12:53:46 2025 Construct fuzzy simplicial set\n",
      "Fri Apr 25 12:53:46 2025 Finding Nearest Neighbors\n",
      "Fri Apr 25 12:53:46 2025 Building RP forest with 22 trees\n",
      "Fri Apr 25 12:53:46 2025 NN descent for 17 iterations\n",
      "\t 1  /  17\n",
      "\t 2  /  17\n",
      "\tStopping threshold met -- exiting after 2 iterations\n",
      "Fri Apr 25 12:53:48 2025 Finished Nearest Neighbor Search\n",
      "Fri Apr 25 12:53:48 2025 Construct embedding\n"
     ]
    },
    {
     "name": "stderr",
     "output_type": "stream",
     "text": [
      "Epochs completed:   8%| ████████████▊                                                                                                                                                              15/200 [00:00]"
     ]
    },
    {
     "name": "stdout",
     "output_type": "stream",
     "text": [
      "\tcompleted  0  /  200 epochs\n",
      "\tcompleted  20  /  200 epochs\n"
     ]
    },
    {
     "name": "stderr",
     "output_type": "stream",
     "text": [
      "Epochs completed:  32%| █████████████████████████████████████████████████████▌                                                                                                                     63/200 [00:00]"
     ]
    },
    {
     "name": "stdout",
     "output_type": "stream",
     "text": [
      "\tcompleted  40  /  200 epochs\n",
      "\tcompleted  60  /  200 epochs\n"
     ]
    },
    {
     "name": "stderr",
     "output_type": "stream",
     "text": [
      "Epochs completed:  56%| █████████████████████████████████████████████████████████████████████████████████████████████▊                                                                            111/200 [00:00]"
     ]
    },
    {
     "name": "stdout",
     "output_type": "stream",
     "text": [
      "\tcompleted  80  /  200 epochs\n",
      "\tcompleted  100  /  200 epochs\n"
     ]
    },
    {
     "name": "stderr",
     "output_type": "stream",
     "text": [
      "Epochs completed:  72%| ████████████████████████████████████████████████████████████████████████████████████████████████████████████████████████▊                                                 143/200 [00:00]"
     ]
    },
    {
     "name": "stdout",
     "output_type": "stream",
     "text": [
      "\tcompleted  120  /  200 epochs\n",
      "\tcompleted  140  /  200 epochs\n"
     ]
    },
    {
     "name": "stderr",
     "output_type": "stream",
     "text": [
      "Epochs completed:  96%| █████████████████████████████████████████████████████████████████████████████████████████████████████████████████████████████████████████████████████████████████▍        191/200 [00:01]"
     ]
    },
    {
     "name": "stdout",
     "output_type": "stream",
     "text": [
      "\tcompleted  160  /  200 epochs\n",
      "\tcompleted  180  /  200 epochs\n"
     ]
    },
    {
     "name": "stderr",
     "output_type": "stream",
     "text": [
      "Epochs completed: 100%| █████████████████████████████████████████████████████████████████████████████████████████████████████████████████████████████████████████████████████████████████████████ 200/200 [00:01]\n"
     ]
    },
    {
     "name": "stdout",
     "output_type": "stream",
     "text": [
      "Fri Apr 25 12:53:49 2025 Finished embedding\n",
      "Fri Apr 25 12:53:53 2025 Worst tree score: 0.14485790\n",
      "Fri Apr 25 12:53:53 2025 Mean tree score: 0.14779918\n",
      "Fri Apr 25 12:53:53 2025 Best tree score: 0.15017626\n",
      "Fri Apr 25 12:53:54 2025 Forward diversification reduced edges from 229770 to 229770\n",
      "Fri Apr 25 12:53:54 2025 Reverse diversification reduced edges from 229770 to 229770\n",
      "Fri Apr 25 12:53:54 2025 Degree pruning reduced edges from 196206 to 192763\n",
      "Fri Apr 25 12:53:54 2025 Resorting data and graph based on tree order\n",
      "Fri Apr 25 12:53:54 2025 Building and compiling search function\n"
     ]
    },
    {
     "name": "stderr",
     "output_type": "stream",
     "text": [
      "Epochs completed: 100%| ███████████████████████████████████████████████████████████████████████████████████████████████████████████████████████████████████████████████████████████████████████████ 66/66 [00:00]\n"
     ]
    },
    {
     "name": "stdout",
     "output_type": "stream",
     "text": [
      "\tcompleted  0  /  66 epochs\n",
      "\tcompleted  6  /  66 epochs\n",
      "\tcompleted  12  /  66 epochs\n",
      "\tcompleted  18  /  66 epochs\n",
      "\tcompleted  24  /  66 epochs\n",
      "\tcompleted  30  /  66 epochs\n",
      "\tcompleted  36  /  66 epochs\n",
      "\tcompleted  42  /  66 epochs\n",
      "\tcompleted  48  /  66 epochs\n",
      "\tcompleted  54  /  66 epochs\n",
      "\tcompleted  60  /  66 epochs\n"
     ]
    },
    {
     "name": "stderr",
     "output_type": "stream",
     "text": [
      "Epochs completed: 100%| ███████████████████████████████████████████████████████████████████████████████████████████████████████████████████████████████████████████████████████████████████████████ 66/66 [00:28]\n"
     ]
    },
    {
     "name": "stdout",
     "output_type": "stream",
     "text": [
      "UMAP(init='pca', min_dist=0.99, n_epochs=200, n_jobs=95, n_neighbors=2, unique=True, verbose=True)\n",
      "Unique=True -> Number of data points reduced from  114885  to  114885\n",
      "Most common duplicate is 62991  with a count of  1\n",
      "Fri Apr 25 12:56:28 2025 Construct fuzzy simplicial set\n",
      "Fri Apr 25 12:56:28 2025 Finding Nearest Neighbors\n",
      "Fri Apr 25 12:56:28 2025 Building RP forest with 22 trees\n",
      "Fri Apr 25 12:56:28 2025 NN descent for 17 iterations\n",
      "\t 1  /  17\n",
      "\t 2  /  17\n",
      "\tStopping threshold met -- exiting after 2 iterations\n",
      "Fri Apr 25 12:56:29 2025 Finished Nearest Neighbor Search\n",
      "Fri Apr 25 12:56:29 2025 Construct embedding\n"
     ]
    },
    {
     "name": "stderr",
     "output_type": "stream",
     "text": [
      "Epochs completed:   8%| ██████████████▍                                                                                                                                                            17/200 [00:00]"
     ]
    },
    {
     "name": "stdout",
     "output_type": "stream",
     "text": [
      "\tcompleted  0  /  200 epochs\n",
      "\tcompleted  20  /  200 epochs\n"
     ]
    },
    {
     "name": "stderr",
     "output_type": "stream",
     "text": [
      "Epochs completed:  33%| ████████████████████████████████████████████████████████                                                                                                                   66/200 [00:00]"
     ]
    },
    {
     "name": "stdout",
     "output_type": "stream",
     "text": [
      "\tcompleted  40  /  200 epochs\n",
      "\tcompleted  60  /  200 epochs\n"
     ]
    },
    {
     "name": "stderr",
     "output_type": "stream",
     "text": [
      "Epochs completed:  49%| ███████████████████████████████████████████████████████████████████████████████████▎                                                                                       98/200 [00:00]"
     ]
    },
    {
     "name": "stdout",
     "output_type": "stream",
     "text": [
      "\tcompleted  80  /  200 epochs\n",
      "\tcompleted  100  /  200 epochs\n"
     ]
    },
    {
     "name": "stderr",
     "output_type": "stream",
     "text": [
      "Epochs completed:  73%| ███████████████████████████████████████████████████████████████████████████████████████████████████████████████████████████▎                                              146/200 [00:00]"
     ]
    },
    {
     "name": "stdout",
     "output_type": "stream",
     "text": [
      "\tcompleted  120  /  200 epochs\n",
      "\tcompleted  140  /  200 epochs\n"
     ]
    },
    {
     "name": "stderr",
     "output_type": "stream",
     "text": [
      "Epochs completed:  89%| ██████████████████████████████████████████████████████████████████████████████████████████████████████████████████████████████████████████████████████▍                   178/200 [00:01]"
     ]
    },
    {
     "name": "stdout",
     "output_type": "stream",
     "text": [
      "\tcompleted  160  /  200 epochs\n",
      "\tcompleted  180  /  200 epochs\n"
     ]
    },
    {
     "name": "stderr",
     "output_type": "stream",
     "text": [
      "Epochs completed: 100%| █████████████████████████████████████████████████████████████████████████████████████████████████████████████████████████████████████████████████████████████████████████ 200/200 [00:01]\n"
     ]
    },
    {
     "name": "stdout",
     "output_type": "stream",
     "text": [
      "Fri Apr 25 12:56:31 2025 Finished embedding\n",
      "Fri Apr 25 12:56:34 2025 Worst tree score: 0.14524960\n",
      "Fri Apr 25 12:56:34 2025 Mean tree score: 0.14821027\n",
      "Fri Apr 25 12:56:34 2025 Best tree score: 0.15122949\n",
      "Fri Apr 25 12:56:35 2025 Forward diversification reduced edges from 229770 to 229770\n",
      "Fri Apr 25 12:56:35 2025 Reverse diversification reduced edges from 229770 to 229770\n",
      "Fri Apr 25 12:56:35 2025 Degree pruning reduced edges from 196106 to 192697\n",
      "Fri Apr 25 12:56:35 2025 Resorting data and graph based on tree order\n",
      "Fri Apr 25 12:56:35 2025 Building and compiling search function\n"
     ]
    },
    {
     "name": "stderr",
     "output_type": "stream",
     "text": [
      "Epochs completed: 100%| ███████████████████████████████████████████████████████████████████████████████████████████████████████████████████████████████████████████████████████████████████████████ 66/66 [00:00]\n"
     ]
    },
    {
     "name": "stdout",
     "output_type": "stream",
     "text": [
      "\tcompleted  0  /  66 epochs\n",
      "\tcompleted  6  /  66 epochs\n",
      "\tcompleted  12  /  66 epochs\n",
      "\tcompleted  18  /  66 epochs\n",
      "\tcompleted  24  /  66 epochs\n",
      "\tcompleted  30  /  66 epochs\n",
      "\tcompleted  36  /  66 epochs\n",
      "\tcompleted  42  /  66 epochs\n",
      "\tcompleted  48  /  66 epochs\n",
      "\tcompleted  54  /  66 epochs\n",
      "\tcompleted  60  /  66 epochs\n"
     ]
    },
    {
     "name": "stderr",
     "output_type": "stream",
     "text": [
      "Epochs completed: 100%| ███████████████████████████████████████████████████████████████████████████████████████████████████████████████████████████████████████████████████████████████████████████ 66/66 [00:28]\n"
     ]
    },
    {
     "name": "stdout",
     "output_type": "stream",
     "text": [
      "UMAP(init='pca', min_dist=0.0, n_epochs=200, n_jobs=95, n_neighbors=3, unique=True, verbose=True)\n",
      "Unique=True -> Number of data points reduced from  114885  to  114885\n",
      "Most common duplicate is 62991  with a count of  1\n",
      "Fri Apr 25 12:59:09 2025 Construct fuzzy simplicial set\n",
      "Fri Apr 25 12:59:09 2025 Finding Nearest Neighbors\n",
      "Fri Apr 25 12:59:09 2025 Building RP forest with 22 trees\n",
      "Fri Apr 25 12:59:09 2025 NN descent for 17 iterations\n",
      "\t 1  /  17\n",
      "\t 2  /  17\n",
      "\t 3  /  17\n",
      "\tStopping threshold met -- exiting after 3 iterations\n",
      "Fri Apr 25 12:59:11 2025 Finished Nearest Neighbor Search\n",
      "Fri Apr 25 12:59:11 2025 Construct embedding\n"
     ]
    },
    {
     "name": "stderr",
     "output_type": "stream",
     "text": [
      "Epochs completed:   0%|                                                                                                                                                                             0/200 [00:00]"
     ]
    },
    {
     "name": "stdout",
     "output_type": "stream",
     "text": [
      "\tcompleted  0  /  200 epochs\n"
     ]
    },
    {
     "name": "stderr",
     "output_type": "stream",
     "text": [
      "Epochs completed:  20%| ██████████████████████████████████                                                                                                                                         40/200 [00:00]"
     ]
    },
    {
     "name": "stdout",
     "output_type": "stream",
     "text": [
      "\tcompleted  20  /  200 epochs\n"
     ]
    },
    {
     "name": "stderr",
     "output_type": "stream",
     "text": [
      "Epochs completed:  30%| ███████████████████████████████████████████████████▊                                                                                                                       61/200 [00:00]"
     ]
    },
    {
     "name": "stdout",
     "output_type": "stream",
     "text": [
      "\tcompleted  40  /  200 epochs\n",
      "\tcompleted  60  /  200 epochs\n"
     ]
    },
    {
     "name": "stderr",
     "output_type": "stream",
     "text": [
      "Epochs completed:  47%| ███████████████████████████████████████████████████████████████████████████████▉                                                                                           94/200 [00:00]"
     ]
    },
    {
     "name": "stdout",
     "output_type": "stream",
     "text": [
      "\tcompleted  80  /  200 epochs\n",
      "\tcompleted  100  /  200 epochs\n"
     ]
    },
    {
     "name": "stderr",
     "output_type": "stream",
     "text": [
      "Epochs completed:  69%| ████████████████████████████████████████████████████████████████████████████████████████████████████████████████████▌                                                     138/200 [00:01]"
     ]
    },
    {
     "name": "stdout",
     "output_type": "stream",
     "text": [
      "\tcompleted  120  /  200 epochs\n",
      "\tcompleted  140  /  200 epochs\n"
     ]
    },
    {
     "name": "stderr",
     "output_type": "stream",
     "text": [
      "Epochs completed:  86%| ████████████████████████████████████████████████████████████████████████████████████████████████████████████████████████████████████████████████▍                         171/200 [00:01]"
     ]
    },
    {
     "name": "stdout",
     "output_type": "stream",
     "text": [
      "\tcompleted  160  /  200 epochs\n",
      "\tcompleted  180  /  200 epochs\n"
     ]
    },
    {
     "name": "stderr",
     "output_type": "stream",
     "text": [
      "Epochs completed: 100%| █████████████████████████████████████████████████████████████████████████████████████████████████████████████████████████████████████████████████████████████████████████ 200/200 [00:01]\n"
     ]
    },
    {
     "name": "stdout",
     "output_type": "stream",
     "text": [
      "Fri Apr 25 12:59:13 2025 Finished embedding\n",
      "Fri Apr 25 12:59:17 2025 Worst tree score: 0.23480002\n",
      "Fri Apr 25 12:59:17 2025 Mean tree score: 0.23760361\n",
      "Fri Apr 25 12:59:17 2025 Best tree score: 0.24129347\n",
      "Fri Apr 25 12:59:18 2025 Forward diversification reduced edges from 344655 to 306774\n",
      "Fri Apr 25 12:59:18 2025 Reverse diversification reduced edges from 306774 to 306774\n",
      "Fri Apr 25 12:59:18 2025 Degree pruning reduced edges from 307076 to 298080\n",
      "Fri Apr 25 12:59:18 2025 Resorting data and graph based on tree order\n",
      "Fri Apr 25 12:59:18 2025 Building and compiling search function\n"
     ]
    },
    {
     "name": "stderr",
     "output_type": "stream",
     "text": [
      "Epochs completed: 100%| ███████████████████████████████████████████████████████████████████████████████████████████████████████████████████████████████████████████████████████████████████████████ 66/66 [00:00]\n"
     ]
    },
    {
     "name": "stdout",
     "output_type": "stream",
     "text": [
      "\tcompleted  0  /  66 epochs\n",
      "\tcompleted  6  /  66 epochs\n",
      "\tcompleted  12  /  66 epochs\n",
      "\tcompleted  18  /  66 epochs\n",
      "\tcompleted  24  /  66 epochs\n",
      "\tcompleted  30  /  66 epochs\n",
      "\tcompleted  36  /  66 epochs\n",
      "\tcompleted  42  /  66 epochs\n",
      "\tcompleted  48  /  66 epochs\n",
      "\tcompleted  54  /  66 epochs\n",
      "\tcompleted  60  /  66 epochs\n"
     ]
    },
    {
     "name": "stderr",
     "output_type": "stream",
     "text": [
      "Epochs completed: 100%| ███████████████████████████████████████████████████████████████████████████████████████████████████████████████████████████████████████████████████████████████████████████ 66/66 [00:27]\n"
     ]
    },
    {
     "name": "stdout",
     "output_type": "stream",
     "text": [
      "UMAP(init='pca', min_dist=0.02, n_epochs=200, n_jobs=95, n_neighbors=3, unique=True, verbose=True)\n",
      "Unique=True -> Number of data points reduced from  114885  to  114885\n",
      "Most common duplicate is 62991  with a count of  1\n",
      "Fri Apr 25 13:01:47 2025 Construct fuzzy simplicial set\n",
      "Fri Apr 25 13:01:47 2025 Finding Nearest Neighbors\n",
      "Fri Apr 25 13:01:47 2025 Building RP forest with 22 trees\n",
      "Fri Apr 25 13:01:47 2025 NN descent for 17 iterations\n",
      "\t 1  /  17\n",
      "\t 2  /  17\n",
      "\t 3  /  17\n",
      "\tStopping threshold met -- exiting after 3 iterations\n",
      "Fri Apr 25 13:01:49 2025 Finished Nearest Neighbor Search\n",
      "Fri Apr 25 13:01:49 2025 Construct embedding\n"
     ]
    },
    {
     "name": "stderr",
     "output_type": "stream",
     "text": [
      "Epochs completed:   0%|                                                                                                                                                                             0/200 [00:00]"
     ]
    },
    {
     "name": "stdout",
     "output_type": "stream",
     "text": [
      "\tcompleted  0  /  200 epochs\n"
     ]
    },
    {
     "name": "stderr",
     "output_type": "stream",
     "text": [
      "Epochs completed:  20%| ██████████████████████████████████                                                                                                                                         40/200 [00:00]"
     ]
    },
    {
     "name": "stdout",
     "output_type": "stream",
     "text": [
      "\tcompleted  20  /  200 epochs\n"
     ]
    },
    {
     "name": "stderr",
     "output_type": "stream",
     "text": [
      "Epochs completed:  26%| ███████████████████████████████████████████▎                                                                                                                               51/200 [00:00]"
     ]
    },
    {
     "name": "stdout",
     "output_type": "stream",
     "text": [
      "\tcompleted  40  /  200 epochs\n",
      "\tcompleted  60  /  200 epochs\n"
     ]
    },
    {
     "name": "stderr",
     "output_type": "stream",
     "text": [
      "Epochs completed:  48%| ████████████████████████████████████████████████████████████████████████████████▊                                                                                          95/200 [00:00]"
     ]
    },
    {
     "name": "stdout",
     "output_type": "stream",
     "text": [
      "\tcompleted  80  /  200 epochs\n",
      "\tcompleted  100  /  200 epochs\n"
     ]
    },
    {
     "name": "stderr",
     "output_type": "stream",
     "text": [
      "Epochs completed:  70%| ██████████████████████████████████████████████████████████████████████████████████████████████████████████████████████▎                                                   140/200 [00:01]"
     ]
    },
    {
     "name": "stdout",
     "output_type": "stream",
     "text": [
      "\tcompleted  120  /  200 epochs\n",
      "\tcompleted  140  /  200 epochs\n"
     ]
    },
    {
     "name": "stderr",
     "output_type": "stream",
     "text": [
      "Epochs completed:  86%| ██████████████████████████████████████████████████████████████████████████████████████████████████████████████████████████████████████████████████▏                       173/200 [00:01]"
     ]
    },
    {
     "name": "stdout",
     "output_type": "stream",
     "text": [
      "\tcompleted  160  /  200 epochs\n",
      "\tcompleted  180  /  200 epochs\n"
     ]
    },
    {
     "name": "stderr",
     "output_type": "stream",
     "text": [
      "Epochs completed: 100%| █████████████████████████████████████████████████████████████████████████████████████████████████████████████████████████████████████████████████████████████████████████ 200/200 [00:01]\n"
     ]
    },
    {
     "name": "stdout",
     "output_type": "stream",
     "text": [
      "Fri Apr 25 13:01:51 2025 Finished embedding\n",
      "Fri Apr 25 13:01:55 2025 Worst tree score: 0.23463463\n",
      "Fri Apr 25 13:01:55 2025 Mean tree score: 0.23798779\n",
      "Fri Apr 25 13:01:55 2025 Best tree score: 0.24161553\n",
      "Fri Apr 25 13:01:55 2025 Forward diversification reduced edges from 344655 to 306819\n",
      "Fri Apr 25 13:01:55 2025 Reverse diversification reduced edges from 306819 to 306819\n",
      "Fri Apr 25 13:01:55 2025 Degree pruning reduced edges from 306864 to 297994\n",
      "Fri Apr 25 13:01:55 2025 Resorting data and graph based on tree order\n",
      "Fri Apr 25 13:01:55 2025 Building and compiling search function\n"
     ]
    },
    {
     "name": "stderr",
     "output_type": "stream",
     "text": [
      "Epochs completed: 100%| ███████████████████████████████████████████████████████████████████████████████████████████████████████████████████████████████████████████████████████████████████████████ 66/66 [00:00]\n"
     ]
    },
    {
     "name": "stdout",
     "output_type": "stream",
     "text": [
      "\tcompleted  0  /  66 epochs\n",
      "\tcompleted  6  /  66 epochs\n",
      "\tcompleted  12  /  66 epochs\n",
      "\tcompleted  18  /  66 epochs\n",
      "\tcompleted  24  /  66 epochs\n",
      "\tcompleted  30  /  66 epochs\n",
      "\tcompleted  36  /  66 epochs\n",
      "\tcompleted  42  /  66 epochs\n",
      "\tcompleted  48  /  66 epochs\n",
      "\tcompleted  54  /  66 epochs\n",
      "\tcompleted  60  /  66 epochs\n"
     ]
    },
    {
     "name": "stderr",
     "output_type": "stream",
     "text": [
      "Epochs completed: 100%| ███████████████████████████████████████████████████████████████████████████████████████████████████████████████████████████████████████████████████████████████████████████ 66/66 [00:26]\n"
     ]
    },
    {
     "name": "stdout",
     "output_type": "stream",
     "text": [
      "UMAP(init='pca', min_dist=0.05, n_epochs=200, n_jobs=95, n_neighbors=3, unique=True, verbose=True)\n",
      "Unique=True -> Number of data points reduced from  114885  to  114885\n",
      "Most common duplicate is 62991  with a count of  1\n",
      "Fri Apr 25 13:04:23 2025 Construct fuzzy simplicial set\n",
      "Fri Apr 25 13:04:23 2025 Finding Nearest Neighbors\n",
      "Fri Apr 25 13:04:23 2025 Building RP forest with 22 trees\n",
      "Fri Apr 25 13:04:23 2025 NN descent for 17 iterations\n",
      "\t 1  /  17\n",
      "\t 2  /  17\n",
      "\t 3  /  17\n",
      "\tStopping threshold met -- exiting after 3 iterations\n",
      "Fri Apr 25 13:04:25 2025 Finished Nearest Neighbor Search\n",
      "Fri Apr 25 13:04:25 2025 Construct embedding\n"
     ]
    },
    {
     "name": "stderr",
     "output_type": "stream",
     "text": [
      "Epochs completed:   0%|                                                                                                                                                                             0/200 [00:00]"
     ]
    },
    {
     "name": "stdout",
     "output_type": "stream",
     "text": [
      "\tcompleted  0  /  200 epochs\n"
     ]
    },
    {
     "name": "stderr",
     "output_type": "stream",
     "text": [
      "Epochs completed:  20%| ██████████████████████████████████▊                                                                                                                                        41/200 [00:00]"
     ]
    },
    {
     "name": "stdout",
     "output_type": "stream",
     "text": [
      "\tcompleted  20  /  200 epochs\n",
      "\tcompleted  40  /  200 epochs\n"
     ]
    },
    {
     "name": "stderr",
     "output_type": "stream",
     "text": [
      "Epochs completed:  37%| ██████████████████████████████████████████████████████████████▉                                                                                                            74/200 [00:00]"
     ]
    },
    {
     "name": "stdout",
     "output_type": "stream",
     "text": [
      "\tcompleted  60  /  200 epochs\n",
      "\tcompleted  80  /  200 epochs\n"
     ]
    },
    {
     "name": "stderr",
     "output_type": "stream",
     "text": [
      "Epochs completed:  59%| ███████████████████████████████████████████████████████████████████████████████████████████████████▋                                                                      118/200 [00:01]"
     ]
    },
    {
     "name": "stdout",
     "output_type": "stream",
     "text": [
      "\tcompleted  100  /  200 epochs\n",
      "\tcompleted  120  /  200 epochs\n"
     ]
    },
    {
     "name": "stderr",
     "output_type": "stream",
     "text": [
      "Epochs completed:  76%| ███████████████████████████████████████████████████████████████████████████████████████████████████████████████████████████████▌                                          151/200 [00:01]"
     ]
    },
    {
     "name": "stdout",
     "output_type": "stream",
     "text": [
      "\tcompleted  140  /  200 epochs\n",
      "\tcompleted  160  /  200 epochs\n"
     ]
    },
    {
     "name": "stderr",
     "output_type": "stream",
     "text": [
      "Epochs completed: 100%| █████████████████████████████████████████████████████████████████████████████████████████████████████████████████████████████████████████████████████████████████████████ 200/200 [00:01]"
     ]
    },
    {
     "name": "stdout",
     "output_type": "stream",
     "text": [
      "\tcompleted  180  /  200 epochs\n",
      "Fri Apr 25 13:04:27 2025 Finished embedding\n"
     ]
    },
    {
     "name": "stderr",
     "output_type": "stream",
     "text": [
      "\n"
     ]
    },
    {
     "name": "stdout",
     "output_type": "stream",
     "text": [
      "Fri Apr 25 13:04:31 2025 Worst tree score: 0.23238891\n",
      "Fri Apr 25 13:04:31 2025 Mean tree score: 0.23787701\n",
      "Fri Apr 25 13:04:31 2025 Best tree score: 0.24111068\n",
      "Fri Apr 25 13:04:32 2025 Forward diversification reduced edges from 344655 to 306761\n",
      "Fri Apr 25 13:04:32 2025 Reverse diversification reduced edges from 306761 to 306761\n",
      "Fri Apr 25 13:04:32 2025 Degree pruning reduced edges from 306802 to 297906\n",
      "Fri Apr 25 13:04:32 2025 Resorting data and graph based on tree order\n",
      "Fri Apr 25 13:04:32 2025 Building and compiling search function\n"
     ]
    },
    {
     "name": "stderr",
     "output_type": "stream",
     "text": [
      "Epochs completed: 100%| ███████████████████████████████████████████████████████████████████████████████████████████████████████████████████████████████████████████████████████████████████████████ 66/66 [00:00]\n"
     ]
    },
    {
     "name": "stdout",
     "output_type": "stream",
     "text": [
      "\tcompleted  0  /  66 epochs\n",
      "\tcompleted  6  /  66 epochs\n",
      "\tcompleted  12  /  66 epochs\n",
      "\tcompleted  18  /  66 epochs\n",
      "\tcompleted  24  /  66 epochs\n",
      "\tcompleted  30  /  66 epochs\n",
      "\tcompleted  36  /  66 epochs\n",
      "\tcompleted  42  /  66 epochs\n",
      "\tcompleted  48  /  66 epochs\n",
      "\tcompleted  54  /  66 epochs\n",
      "\tcompleted  60  /  66 epochs\n"
     ]
    },
    {
     "name": "stderr",
     "output_type": "stream",
     "text": [
      "Epochs completed: 100%| ███████████████████████████████████████████████████████████████████████████████████████████████████████████████████████████████████████████████████████████████████████████ 66/66 [00:26]\n"
     ]
    },
    {
     "name": "stdout",
     "output_type": "stream",
     "text": [
      "UMAP(init='pca', n_epochs=200, n_jobs=95, n_neighbors=3, unique=True, verbose=True)\n",
      "Unique=True -> Number of data points reduced from  114885  to  114885\n",
      "Most common duplicate is 62991  with a count of  1\n",
      "Fri Apr 25 13:07:02 2025 Construct fuzzy simplicial set\n",
      "Fri Apr 25 13:07:02 2025 Finding Nearest Neighbors\n",
      "Fri Apr 25 13:07:02 2025 Building RP forest with 22 trees\n",
      "Fri Apr 25 13:07:02 2025 NN descent for 17 iterations\n",
      "\t 1  /  17\n",
      "\t 2  /  17\n",
      "\t 3  /  17\n",
      "\tStopping threshold met -- exiting after 3 iterations\n",
      "Fri Apr 25 13:07:04 2025 Finished Nearest Neighbor Search\n",
      "Fri Apr 25 13:07:04 2025 Construct embedding\n"
     ]
    },
    {
     "name": "stderr",
     "output_type": "stream",
     "text": [
      "Epochs completed:   0%|                                                                                                                                                                             0/200 [00:00]"
     ]
    },
    {
     "name": "stdout",
     "output_type": "stream",
     "text": [
      "\tcompleted  0  /  200 epochs\n"
     ]
    },
    {
     "name": "stderr",
     "output_type": "stream",
     "text": [
      "Epochs completed:  21%| ███████████████████████████████████▋                                                                                                                                       42/200 [00:00]"
     ]
    },
    {
     "name": "stdout",
     "output_type": "stream",
     "text": [
      "\tcompleted  20  /  200 epochs\n",
      "\tcompleted  40  /  200 epochs\n"
     ]
    },
    {
     "name": "stderr",
     "output_type": "stream",
     "text": [
      "Epochs completed:  38%| ███████████████████████████████████████████████████████████████▊                                                                                                           75/200 [00:00]"
     ]
    },
    {
     "name": "stdout",
     "output_type": "stream",
     "text": [
      "\tcompleted  60  /  200 epochs\n",
      "\tcompleted  80  /  200 epochs\n"
     ]
    },
    {
     "name": "stderr",
     "output_type": "stream",
     "text": [
      "Epochs completed:  60%| █████████████████████████████████████████████████████████████████████████████████████████████████████▍                                                                    120/200 [00:01]"
     ]
    },
    {
     "name": "stdout",
     "output_type": "stream",
     "text": [
      "\tcompleted  100  /  200 epochs\n",
      "\tcompleted  120  /  200 epochs\n"
     ]
    },
    {
     "name": "stderr",
     "output_type": "stream",
     "text": [
      "Epochs completed:  76%| █████████████████████████████████████████████████████████████████████████████████████████████████████████████████████████████████▎                                        153/200 [00:01]"
     ]
    },
    {
     "name": "stdout",
     "output_type": "stream",
     "text": [
      "\tcompleted  140  /  200 epochs\n",
      "\tcompleted  160  /  200 epochs\n"
     ]
    },
    {
     "name": "stderr",
     "output_type": "stream",
     "text": [
      "Epochs completed: 100%| █████████████████████████████████████████████████████████████████████████████████████████████████████████████████████████████████████████████████████████████████████████ 200/200 [00:01]"
     ]
    },
    {
     "name": "stdout",
     "output_type": "stream",
     "text": [
      "\tcompleted  180  /  200 epochs\n",
      "Fri Apr 25 13:07:06 2025 Finished embedding\n"
     ]
    },
    {
     "name": "stderr",
     "output_type": "stream",
     "text": [
      "\n"
     ]
    },
    {
     "name": "stdout",
     "output_type": "stream",
     "text": [
      "Fri Apr 25 13:07:10 2025 Worst tree score: 0.23504374\n",
      "Fri Apr 25 13:07:10 2025 Mean tree score: 0.23737374\n",
      "Fri Apr 25 13:07:10 2025 Best tree score: 0.23981373\n",
      "Fri Apr 25 13:07:10 2025 Forward diversification reduced edges from 344655 to 306704\n",
      "Fri Apr 25 13:07:10 2025 Reverse diversification reduced edges from 306704 to 306704\n",
      "Fri Apr 25 13:07:10 2025 Degree pruning reduced edges from 306706 to 297915\n",
      "Fri Apr 25 13:07:10 2025 Resorting data and graph based on tree order\n",
      "Fri Apr 25 13:07:10 2025 Building and compiling search function\n"
     ]
    },
    {
     "name": "stderr",
     "output_type": "stream",
     "text": [
      "Epochs completed: 100%| ███████████████████████████████████████████████████████████████████████████████████████████████████████████████████████████████████████████████████████████████████████████ 66/66 [00:00]\n"
     ]
    },
    {
     "name": "stdout",
     "output_type": "stream",
     "text": [
      "\tcompleted  0  /  66 epochs\n",
      "\tcompleted  6  /  66 epochs\n",
      "\tcompleted  12  /  66 epochs\n",
      "\tcompleted  18  /  66 epochs\n",
      "\tcompleted  24  /  66 epochs\n",
      "\tcompleted  30  /  66 epochs\n",
      "\tcompleted  36  /  66 epochs\n",
      "\tcompleted  42  /  66 epochs\n",
      "\tcompleted  48  /  66 epochs\n",
      "\tcompleted  54  /  66 epochs\n",
      "\tcompleted  60  /  66 epochs\n"
     ]
    },
    {
     "name": "stderr",
     "output_type": "stream",
     "text": [
      "Epochs completed: 100%| ███████████████████████████████████████████████████████████████████████████████████████████████████████████████████████████████████████████████████████████████████████████ 66/66 [00:27]\n"
     ]
    },
    {
     "name": "stdout",
     "output_type": "stream",
     "text": [
      "UMAP(init='pca', min_dist=0.2, n_epochs=200, n_jobs=95, n_neighbors=3, unique=True, verbose=True)\n",
      "Unique=True -> Number of data points reduced from  114885  to  114885\n",
      "Most common duplicate is 62991  with a count of  1\n",
      "Fri Apr 25 13:09:39 2025 Construct fuzzy simplicial set\n",
      "Fri Apr 25 13:09:39 2025 Finding Nearest Neighbors\n",
      "Fri Apr 25 13:09:39 2025 Building RP forest with 22 trees\n",
      "Fri Apr 25 13:09:39 2025 NN descent for 17 iterations\n",
      "\t 1  /  17\n",
      "\t 2  /  17\n",
      "\t 3  /  17\n",
      "\tStopping threshold met -- exiting after 3 iterations\n",
      "Fri Apr 25 13:09:41 2025 Finished Nearest Neighbor Search\n",
      "Fri Apr 25 13:09:41 2025 Construct embedding\n"
     ]
    },
    {
     "name": "stderr",
     "output_type": "stream",
     "text": [
      "Epochs completed:   0%|                                                                                                                                                                             0/200 [00:00]"
     ]
    },
    {
     "name": "stdout",
     "output_type": "stream",
     "text": [
      "\tcompleted  0  /  200 epochs\n"
     ]
    },
    {
     "name": "stderr",
     "output_type": "stream",
     "text": [
      "Epochs completed:  21%| ███████████████████████████████████▋                                                                                                                                       42/200 [00:00]"
     ]
    },
    {
     "name": "stdout",
     "output_type": "stream",
     "text": [
      "\tcompleted  20  /  200 epochs\n",
      "\tcompleted  40  /  200 epochs\n"
     ]
    },
    {
     "name": "stderr",
     "output_type": "stream",
     "text": [
      "Epochs completed:  38%| ███████████████████████████████████████████████████████████████▊                                                                                                           75/200 [00:00]"
     ]
    },
    {
     "name": "stdout",
     "output_type": "stream",
     "text": [
      "\tcompleted  60  /  200 epochs\n",
      "\tcompleted  80  /  200 epochs\n"
     ]
    },
    {
     "name": "stderr",
     "output_type": "stream",
     "text": [
      "Epochs completed:  60%| ████████████████████████████████████████████████████████████████████████████████████████████████████▌                                                                     119/200 [00:01]"
     ]
    },
    {
     "name": "stdout",
     "output_type": "stream",
     "text": [
      "\tcompleted  100  /  200 epochs\n",
      "\tcompleted  120  /  200 epochs\n"
     ]
    },
    {
     "name": "stderr",
     "output_type": "stream",
     "text": [
      "Epochs completed:  76%| ████████████████████████████████████████████████████████████████████████████████████████████████████████████████████████████████▍                                         152/200 [00:01]"
     ]
    },
    {
     "name": "stdout",
     "output_type": "stream",
     "text": [
      "\tcompleted  140  /  200 epochs\n",
      "\tcompleted  160  /  200 epochs\n"
     ]
    },
    {
     "name": "stderr",
     "output_type": "stream",
     "text": [
      "Epochs completed: 100%| █████████████████████████████████████████████████████████████████████████████████████████████████████████████████████████████████████████████████████████████████████████ 200/200 [00:01]"
     ]
    },
    {
     "name": "stdout",
     "output_type": "stream",
     "text": [
      "\tcompleted  180  /  200 epochs\n",
      "Fri Apr 25 13:09:43 2025 Finished embedding\n"
     ]
    },
    {
     "name": "stderr",
     "output_type": "stream",
     "text": [
      "\n"
     ]
    },
    {
     "name": "stdout",
     "output_type": "stream",
     "text": [
      "Fri Apr 25 13:09:47 2025 Worst tree score: 0.23502633\n",
      "Fri Apr 25 13:09:47 2025 Mean tree score: 0.23794269\n",
      "Fri Apr 25 13:09:47 2025 Best tree score: 0.24265135\n",
      "Fri Apr 25 13:09:47 2025 Forward diversification reduced edges from 344655 to 306836\n",
      "Fri Apr 25 13:09:47 2025 Reverse diversification reduced edges from 306836 to 306836\n",
      "Fri Apr 25 13:09:47 2025 Degree pruning reduced edges from 306788 to 297962\n",
      "Fri Apr 25 13:09:47 2025 Resorting data and graph based on tree order\n",
      "Fri Apr 25 13:09:47 2025 Building and compiling search function\n"
     ]
    },
    {
     "name": "stderr",
     "output_type": "stream",
     "text": [
      "Epochs completed: 100%| ███████████████████████████████████████████████████████████████████████████████████████████████████████████████████████████████████████████████████████████████████████████ 66/66 [00:00]\n"
     ]
    },
    {
     "name": "stdout",
     "output_type": "stream",
     "text": [
      "\tcompleted  0  /  66 epochs\n",
      "\tcompleted  6  /  66 epochs\n",
      "\tcompleted  12  /  66 epochs\n",
      "\tcompleted  18  /  66 epochs\n",
      "\tcompleted  24  /  66 epochs\n",
      "\tcompleted  30  /  66 epochs\n",
      "\tcompleted  36  /  66 epochs\n",
      "\tcompleted  42  /  66 epochs\n",
      "\tcompleted  48  /  66 epochs\n",
      "\tcompleted  54  /  66 epochs\n",
      "\tcompleted  60  /  66 epochs\n"
     ]
    },
    {
     "name": "stderr",
     "output_type": "stream",
     "text": [
      "Epochs completed: 100%| ███████████████████████████████████████████████████████████████████████████████████████████████████████████████████████████████████████████████████████████████████████████ 66/66 [00:28]\n"
     ]
    },
    {
     "name": "stdout",
     "output_type": "stream",
     "text": [
      "UMAP(init='pca', min_dist=0.5, n_epochs=200, n_jobs=95, n_neighbors=3, unique=True, verbose=True)\n",
      "Unique=True -> Number of data points reduced from  114885  to  114885\n",
      "Most common duplicate is 62991  with a count of  1\n",
      "Fri Apr 25 13:12:19 2025 Construct fuzzy simplicial set\n",
      "Fri Apr 25 13:12:19 2025 Finding Nearest Neighbors\n",
      "Fri Apr 25 13:12:19 2025 Building RP forest with 22 trees\n",
      "Fri Apr 25 13:12:19 2025 NN descent for 17 iterations\n",
      "\t 1  /  17\n",
      "\t 2  /  17\n",
      "\t 3  /  17\n",
      "\tStopping threshold met -- exiting after 3 iterations\n",
      "Fri Apr 25 13:12:21 2025 Finished Nearest Neighbor Search\n",
      "Fri Apr 25 13:12:21 2025 Construct embedding\n"
     ]
    },
    {
     "name": "stderr",
     "output_type": "stream",
     "text": [
      "Epochs completed:   0%|                                                                                                                                                                             0/200 [00:00]"
     ]
    },
    {
     "name": "stdout",
     "output_type": "stream",
     "text": [
      "\tcompleted  0  /  200 epochs\n"
     ]
    },
    {
     "name": "stderr",
     "output_type": "stream",
     "text": [
      "Epochs completed:  16%| ███████████████████████████▏                                                                                                                                               32/200 [00:00]"
     ]
    },
    {
     "name": "stdout",
     "output_type": "stream",
     "text": [
      "\tcompleted  20  /  200 epochs\n",
      "\tcompleted  40  /  200 epochs\n"
     ]
    },
    {
     "name": "stderr",
     "output_type": "stream",
     "text": [
      "Epochs completed:  38%| ████████████████████████████████████████████████████████████████▌                                                                                                          76/200 [00:00]"
     ]
    },
    {
     "name": "stdout",
     "output_type": "stream",
     "text": [
      "\tcompleted  60  /  200 epochs\n",
      "\tcompleted  80  /  200 epochs\n"
     ]
    },
    {
     "name": "stderr",
     "output_type": "stream",
     "text": [
      "Epochs completed:  60%| █████████████████████████████████████████████████████████████████████████████████████████████████████▍                                                                    120/200 [00:01]"
     ]
    },
    {
     "name": "stdout",
     "output_type": "stream",
     "text": [
      "\tcompleted  100  /  200 epochs\n",
      "\tcompleted  120  /  200 epochs\n"
     ]
    },
    {
     "name": "stderr",
     "output_type": "stream",
     "text": [
      "Epochs completed:  76%| █████████████████████████████████████████████████████████████████████████████████████████████████████████████████████████████████▎                                        153/200 [00:01]"
     ]
    },
    {
     "name": "stdout",
     "output_type": "stream",
     "text": [
      "\tcompleted  140  /  200 epochs\n",
      "\tcompleted  160  /  200 epochs\n"
     ]
    },
    {
     "name": "stderr",
     "output_type": "stream",
     "text": [
      "Epochs completed: 100%| █████████████████████████████████████████████████████████████████████████████████████████████████████████████████████████████████████████████████████████████████████████ 200/200 [00:01]"
     ]
    },
    {
     "name": "stdout",
     "output_type": "stream",
     "text": [
      "\tcompleted  180  /  200 epochs\n",
      "Fri Apr 25 13:12:23 2025 Finished embedding\n"
     ]
    },
    {
     "name": "stderr",
     "output_type": "stream",
     "text": [
      "\n"
     ]
    },
    {
     "name": "stdout",
     "output_type": "stream",
     "text": [
      "Fri Apr 25 13:12:27 2025 Worst tree score: 0.23433869\n",
      "Fri Apr 25 13:12:27 2025 Mean tree score: 0.23786276\n",
      "Fri Apr 25 13:12:27 2025 Best tree score: 0.24022283\n",
      "Fri Apr 25 13:12:28 2025 Forward diversification reduced edges from 344655 to 306713\n",
      "Fri Apr 25 13:12:28 2025 Reverse diversification reduced edges from 306713 to 306713\n",
      "Fri Apr 25 13:12:28 2025 Degree pruning reduced edges from 306808 to 297985\n",
      "Fri Apr 25 13:12:28 2025 Resorting data and graph based on tree order\n",
      "Fri Apr 25 13:12:28 2025 Building and compiling search function\n"
     ]
    },
    {
     "name": "stderr",
     "output_type": "stream",
     "text": [
      "Epochs completed: 100%| ███████████████████████████████████████████████████████████████████████████████████████████████████████████████████████████████████████████████████████████████████████████ 66/66 [00:00]\n"
     ]
    },
    {
     "name": "stdout",
     "output_type": "stream",
     "text": [
      "\tcompleted  0  /  66 epochs\n",
      "\tcompleted  6  /  66 epochs\n",
      "\tcompleted  12  /  66 epochs\n",
      "\tcompleted  18  /  66 epochs\n",
      "\tcompleted  24  /  66 epochs\n",
      "\tcompleted  30  /  66 epochs\n",
      "\tcompleted  36  /  66 epochs\n",
      "\tcompleted  42  /  66 epochs\n",
      "\tcompleted  48  /  66 epochs\n",
      "\tcompleted  54  /  66 epochs\n",
      "\tcompleted  60  /  66 epochs\n"
     ]
    },
    {
     "name": "stderr",
     "output_type": "stream",
     "text": [
      "Epochs completed: 100%| ███████████████████████████████████████████████████████████████████████████████████████████████████████████████████████████████████████████████████████████████████████████ 66/66 [00:27]\n"
     ]
    },
    {
     "name": "stdout",
     "output_type": "stream",
     "text": [
      "UMAP(init='pca', min_dist=0.8, n_epochs=200, n_jobs=95, n_neighbors=3, unique=True, verbose=True)\n",
      "Unique=True -> Number of data points reduced from  114885  to  114885\n",
      "Most common duplicate is 62991  with a count of  1\n",
      "Fri Apr 25 13:15:01 2025 Construct fuzzy simplicial set\n",
      "Fri Apr 25 13:15:01 2025 Finding Nearest Neighbors\n",
      "Fri Apr 25 13:15:01 2025 Building RP forest with 22 trees\n",
      "Fri Apr 25 13:15:02 2025 NN descent for 17 iterations\n",
      "\t 1  /  17\n",
      "\t 2  /  17\n",
      "\t 3  /  17\n",
      "\tStopping threshold met -- exiting after 3 iterations\n",
      "Fri Apr 25 13:15:04 2025 Finished Nearest Neighbor Search\n",
      "Fri Apr 25 13:15:04 2025 Construct embedding\n"
     ]
    },
    {
     "name": "stderr",
     "output_type": "stream",
     "text": [
      "Epochs completed:   0%|                                                                                                                                                                             0/200 [00:00]"
     ]
    },
    {
     "name": "stdout",
     "output_type": "stream",
     "text": [
      "\tcompleted  0  /  200 epochs\n"
     ]
    },
    {
     "name": "stderr",
     "output_type": "stream",
     "text": [
      "Epochs completed:  20%| ██████████████████████████████████                                                                                                                                         40/200 [00:00]"
     ]
    },
    {
     "name": "stdout",
     "output_type": "stream",
     "text": [
      "\tcompleted  20  /  200 epochs\n"
     ]
    },
    {
     "name": "stderr",
     "output_type": "stream",
     "text": [
      "Epochs completed:  30%| ███████████████████████████████████████████████████▊                                                                                                                       61/200 [00:00]"
     ]
    },
    {
     "name": "stdout",
     "output_type": "stream",
     "text": [
      "\tcompleted  40  /  200 epochs\n",
      "\tcompleted  60  /  200 epochs\n"
     ]
    },
    {
     "name": "stderr",
     "output_type": "stream",
     "text": [
      "Epochs completed:  47%| ███████████████████████████████████████████████████████████████████████████████▉                                                                                           94/200 [00:00]"
     ]
    },
    {
     "name": "stdout",
     "output_type": "stream",
     "text": [
      "\tcompleted  80  /  200 epochs\n",
      "\tcompleted  100  /  200 epochs\n"
     ]
    },
    {
     "name": "stderr",
     "output_type": "stream",
     "text": [
      "Epochs completed:  70%| █████████████████████████████████████████████████████████████████████████████████████████████████████████████████████▍                                                    139/200 [00:01]"
     ]
    },
    {
     "name": "stdout",
     "output_type": "stream",
     "text": [
      "\tcompleted  120  /  200 epochs\n",
      "\tcompleted  140  /  200 epochs\n"
     ]
    },
    {
     "name": "stderr",
     "output_type": "stream",
     "text": [
      "Epochs completed:  86%| █████████████████████████████████████████████████████████████████████████████████████████████████████████████████████████████████████████████████▎                        172/200 [00:01]"
     ]
    },
    {
     "name": "stdout",
     "output_type": "stream",
     "text": [
      "\tcompleted  160  /  200 epochs\n",
      "\tcompleted  180  /  200 epochs\n"
     ]
    },
    {
     "name": "stderr",
     "output_type": "stream",
     "text": [
      "Epochs completed: 100%| █████████████████████████████████████████████████████████████████████████████████████████████████████████████████████████████████████████████████████████████████████████ 200/200 [00:01]\n"
     ]
    },
    {
     "name": "stdout",
     "output_type": "stream",
     "text": [
      "Fri Apr 25 13:15:06 2025 Finished embedding\n",
      "Fri Apr 25 13:15:09 2025 Worst tree score: 0.23457370\n",
      "Fri Apr 25 13:15:09 2025 Mean tree score: 0.23779946\n",
      "Fri Apr 25 13:15:09 2025 Best tree score: 0.24055360\n",
      "Fri Apr 25 13:15:10 2025 Forward diversification reduced edges from 344655 to 306603\n",
      "Fri Apr 25 13:15:10 2025 Reverse diversification reduced edges from 306603 to 306603\n",
      "Fri Apr 25 13:15:10 2025 Degree pruning reduced edges from 306508 to 297727\n",
      "Fri Apr 25 13:15:10 2025 Resorting data and graph based on tree order\n",
      "Fri Apr 25 13:15:10 2025 Building and compiling search function\n"
     ]
    },
    {
     "name": "stderr",
     "output_type": "stream",
     "text": [
      "Epochs completed: 100%| ███████████████████████████████████████████████████████████████████████████████████████████████████████████████████████████████████████████████████████████████████████████ 66/66 [00:00]\n"
     ]
    },
    {
     "name": "stdout",
     "output_type": "stream",
     "text": [
      "\tcompleted  0  /  66 epochs\n",
      "\tcompleted  6  /  66 epochs\n",
      "\tcompleted  12  /  66 epochs\n",
      "\tcompleted  18  /  66 epochs\n",
      "\tcompleted  24  /  66 epochs\n",
      "\tcompleted  30  /  66 epochs\n",
      "\tcompleted  36  /  66 epochs\n",
      "\tcompleted  42  /  66 epochs\n",
      "\tcompleted  48  /  66 epochs\n",
      "\tcompleted  54  /  66 epochs\n",
      "\tcompleted  60  /  66 epochs\n"
     ]
    },
    {
     "name": "stderr",
     "output_type": "stream",
     "text": [
      "Epochs completed: 100%| ███████████████████████████████████████████████████████████████████████████████████████████████████████████████████████████████████████████████████████████████████████████ 66/66 [00:28]\n"
     ]
    },
    {
     "name": "stdout",
     "output_type": "stream",
     "text": [
      "UMAP(init='pca', min_dist=0.99, n_epochs=200, n_jobs=95, n_neighbors=3, unique=True, verbose=True)\n",
      "Unique=True -> Number of data points reduced from  114885  to  114885\n",
      "Most common duplicate is 62991  with a count of  1\n",
      "Fri Apr 25 13:17:40 2025 Construct fuzzy simplicial set\n",
      "Fri Apr 25 13:17:40 2025 Finding Nearest Neighbors\n",
      "Fri Apr 25 13:17:40 2025 Building RP forest with 22 trees\n",
      "Fri Apr 25 13:17:40 2025 NN descent for 17 iterations\n",
      "\t 1  /  17\n",
      "\t 2  /  17\n",
      "\t 3  /  17\n",
      "\tStopping threshold met -- exiting after 3 iterations\n",
      "Fri Apr 25 13:17:42 2025 Finished Nearest Neighbor Search\n",
      "Fri Apr 25 13:17:42 2025 Construct embedding\n"
     ]
    },
    {
     "name": "stderr",
     "output_type": "stream",
     "text": [
      "Epochs completed:   0%|                                                                                                                                                                             0/200 [00:00]"
     ]
    },
    {
     "name": "stdout",
     "output_type": "stream",
     "text": [
      "\tcompleted  0  /  200 epochs\n"
     ]
    },
    {
     "name": "stderr",
     "output_type": "stream",
     "text": [
      "Epochs completed:  16%| ███████████████████████████▏                                                                                                                                               32/200 [00:00]"
     ]
    },
    {
     "name": "stdout",
     "output_type": "stream",
     "text": [
      "\tcompleted  20  /  200 epochs\n",
      "\tcompleted  40  /  200 epochs\n"
     ]
    },
    {
     "name": "stderr",
     "output_type": "stream",
     "text": [
      "Epochs completed:  38%| ████████████████████████████████████████████████████████████████▌                                                                                                          76/200 [00:00]"
     ]
    },
    {
     "name": "stdout",
     "output_type": "stream",
     "text": [
      "\tcompleted  60  /  200 epochs\n",
      "\tcompleted  80  /  200 epochs\n"
     ]
    },
    {
     "name": "stderr",
     "output_type": "stream",
     "text": [
      "Epochs completed:  60%| █████████████████████████████████████████████████████████████████████████████████████████████████████▍                                                                    120/200 [00:01]"
     ]
    },
    {
     "name": "stdout",
     "output_type": "stream",
     "text": [
      "\tcompleted  100  /  200 epochs\n",
      "\tcompleted  120  /  200 epochs\n"
     ]
    },
    {
     "name": "stderr",
     "output_type": "stream",
     "text": [
      "Epochs completed:  76%| █████████████████████████████████████████████████████████████████████████████████████████████████████████████████████████████████▎                                        153/200 [00:01]"
     ]
    },
    {
     "name": "stdout",
     "output_type": "stream",
     "text": [
      "\tcompleted  140  /  200 epochs\n",
      "\tcompleted  160  /  200 epochs\n"
     ]
    },
    {
     "name": "stderr",
     "output_type": "stream",
     "text": [
      "Epochs completed: 100%| █████████████████████████████████████████████████████████████████████████████████████████████████████████████████████████████████████████████████████████████████████████ 200/200 [00:01]"
     ]
    },
    {
     "name": "stdout",
     "output_type": "stream",
     "text": [
      "\tcompleted  180  /  200 epochs\n",
      "Fri Apr 25 13:17:44 2025 Finished embedding\n"
     ]
    },
    {
     "name": "stderr",
     "output_type": "stream",
     "text": [
      "\n"
     ]
    },
    {
     "name": "stdout",
     "output_type": "stream",
     "text": [
      "Fri Apr 25 13:17:48 2025 Worst tree score: 0.23478261\n",
      "Fri Apr 25 13:17:48 2025 Mean tree score: 0.23791578\n",
      "Fri Apr 25 13:17:48 2025 Best tree score: 0.24088436\n",
      "Fri Apr 25 13:17:48 2025 Forward diversification reduced edges from 344655 to 306707\n",
      "Fri Apr 25 13:17:48 2025 Reverse diversification reduced edges from 306707 to 306707\n",
      "Fri Apr 25 13:17:49 2025 Degree pruning reduced edges from 306798 to 297933\n",
      "Fri Apr 25 13:17:49 2025 Resorting data and graph based on tree order\n",
      "Fri Apr 25 13:17:49 2025 Building and compiling search function\n"
     ]
    },
    {
     "name": "stderr",
     "output_type": "stream",
     "text": [
      "Epochs completed: 100%| ███████████████████████████████████████████████████████████████████████████████████████████████████████████████████████████████████████████████████████████████████████████ 66/66 [00:00]\n"
     ]
    },
    {
     "name": "stdout",
     "output_type": "stream",
     "text": [
      "\tcompleted  0  /  66 epochs\n",
      "\tcompleted  6  /  66 epochs\n",
      "\tcompleted  12  /  66 epochs\n",
      "\tcompleted  18  /  66 epochs\n",
      "\tcompleted  24  /  66 epochs\n",
      "\tcompleted  30  /  66 epochs\n",
      "\tcompleted  36  /  66 epochs\n",
      "\tcompleted  42  /  66 epochs\n",
      "\tcompleted  48  /  66 epochs\n",
      "\tcompleted  54  /  66 epochs\n",
      "\tcompleted  60  /  66 epochs\n"
     ]
    },
    {
     "name": "stderr",
     "output_type": "stream",
     "text": [
      "Epochs completed: 100%| ███████████████████████████████████████████████████████████████████████████████████████████████████████████████████████████████████████████████████████████████████████████ 66/66 [00:28]\n"
     ]
    },
    {
     "name": "stdout",
     "output_type": "stream",
     "text": [
      "UMAP(init='pca', min_dist=0.0, n_epochs=200, n_jobs=95, n_neighbors=5, unique=True, verbose=True)\n",
      "Unique=True -> Number of data points reduced from  114885  to  114885\n",
      "Most common duplicate is 62991  with a count of  1\n",
      "Fri Apr 25 13:20:21 2025 Construct fuzzy simplicial set\n",
      "Fri Apr 25 13:20:21 2025 Finding Nearest Neighbors\n",
      "Fri Apr 25 13:20:21 2025 Building RP forest with 22 trees\n",
      "Fri Apr 25 13:20:21 2025 NN descent for 17 iterations\n",
      "\t 1  /  17\n",
      "\t 2  /  17\n",
      "\t 3  /  17\n",
      "\tStopping threshold met -- exiting after 3 iterations\n",
      "Fri Apr 25 13:20:23 2025 Finished Nearest Neighbor Search\n",
      "Fri Apr 25 13:20:23 2025 Construct embedding\n"
     ]
    },
    {
     "name": "stderr",
     "output_type": "stream",
     "text": [
      "Epochs completed:   0%|                                                                                                                                                                             0/200 [00:00]"
     ]
    },
    {
     "name": "stdout",
     "output_type": "stream",
     "text": [
      "\tcompleted  0  /  200 epochs\n"
     ]
    },
    {
     "name": "stderr",
     "output_type": "stream",
     "text": [
      "Epochs completed:  14%| ████████████████████████▋                                                                                                                                                  29/200 [00:00]"
     ]
    },
    {
     "name": "stdout",
     "output_type": "stream",
     "text": [
      "\tcompleted  20  /  200 epochs\n"
     ]
    },
    {
     "name": "stderr",
     "output_type": "stream",
     "text": [
      "Epochs completed:  26%| ████████████████████████████████████████████▏                                                                                                                              52/200 [00:00]"
     ]
    },
    {
     "name": "stdout",
     "output_type": "stream",
     "text": [
      "\tcompleted  40  /  200 epochs\n"
     ]
    },
    {
     "name": "stderr",
     "output_type": "stream",
     "text": [
      "Epochs completed:  34%| █████████████████████████████████████████████████████████▊                                                                                                                 68/200 [00:00]"
     ]
    },
    {
     "name": "stdout",
     "output_type": "stream",
     "text": [
      "\tcompleted  60  /  200 epochs\n"
     ]
    },
    {
     "name": "stderr",
     "output_type": "stream",
     "text": [
      "Epochs completed:  46%| ██████████████████████████████████████████████████████████████████████████████▏                                                                                            92/200 [00:01]"
     ]
    },
    {
     "name": "stdout",
     "output_type": "stream",
     "text": [
      "\tcompleted  80  /  200 epochs\n"
     ]
    },
    {
     "name": "stderr",
     "output_type": "stream",
     "text": [
      "Epochs completed:  54%| ███████████████████████████████████████████████████████████████████████████████████████████▎                                                                              108/200 [00:01]"
     ]
    },
    {
     "name": "stdout",
     "output_type": "stream",
     "text": [
      "\tcompleted  100  /  200 epochs\n"
     ]
    },
    {
     "name": "stderr",
     "output_type": "stream",
     "text": [
      "Epochs completed:  66%| ███████████████████████████████████████████████████████████████████████████████████████████████████████████████▌                                                          132/200 [00:01]"
     ]
    },
    {
     "name": "stdout",
     "output_type": "stream",
     "text": [
      "\tcompleted  120  /  200 epochs\n"
     ]
    },
    {
     "name": "stderr",
     "output_type": "stream",
     "text": [
      "Epochs completed:  74%| █████████████████████████████████████████████████████████████████████████████████████████████████████████████████████████████                                             148/200 [00:02]"
     ]
    },
    {
     "name": "stdout",
     "output_type": "stream",
     "text": [
      "\tcompleted  140  /  200 epochs\n"
     ]
    },
    {
     "name": "stderr",
     "output_type": "stream",
     "text": [
      "Epochs completed:  86%| █████████████████████████████████████████████████████████████████████████████████████████████████████████████████████████████████████████████████▎                        172/200 [00:02]"
     ]
    },
    {
     "name": "stdout",
     "output_type": "stream",
     "text": [
      "\tcompleted  160  /  200 epochs\n"
     ]
    },
    {
     "name": "stderr",
     "output_type": "stream",
     "text": [
      "Epochs completed:  94%| ██████████████████████████████████████████████████████████████████████████████████████████████████████████████████████████████████████████████████████████████▊           188/200 [00:02]"
     ]
    },
    {
     "name": "stdout",
     "output_type": "stream",
     "text": [
      "\tcompleted  180  /  200 epochs\n"
     ]
    },
    {
     "name": "stderr",
     "output_type": "stream",
     "text": [
      "Epochs completed: 100%| █████████████████████████████████████████████████████████████████████████████████████████████████████████████████████████████████████████████████████████████████████████ 200/200 [00:02]\n"
     ]
    },
    {
     "name": "stdout",
     "output_type": "stream",
     "text": [
      "Fri Apr 25 13:20:26 2025 Finished embedding\n",
      "Fri Apr 25 13:20:30 2025 Worst tree score: 0.34741698\n",
      "Fri Apr 25 13:20:30 2025 Mean tree score: 0.35201209\n",
      "Fri Apr 25 13:20:30 2025 Best tree score: 0.35617356\n",
      "Fri Apr 25 13:20:31 2025 Forward diversification reduced edges from 574425 to 416665\n",
      "Fri Apr 25 13:20:31 2025 Reverse diversification reduced edges from 416665 to 416665\n",
      "Fri Apr 25 13:20:31 2025 Degree pruning reduced edges from 449982 to 447465\n",
      "Fri Apr 25 13:20:31 2025 Resorting data and graph based on tree order\n",
      "Fri Apr 25 13:20:31 2025 Building and compiling search function\n"
     ]
    },
    {
     "name": "stderr",
     "output_type": "stream",
     "text": [
      "Epochs completed: 100%| ███████████████████████████████████████████████████████████████████████████████████████████████████████████████████████████████████████████████████████████████████████████ 66/66 [00:00]\n"
     ]
    },
    {
     "name": "stdout",
     "output_type": "stream",
     "text": [
      "\tcompleted  0  /  66 epochs\n",
      "\tcompleted  6  /  66 epochs\n",
      "\tcompleted  12  /  66 epochs\n",
      "\tcompleted  18  /  66 epochs\n",
      "\tcompleted  24  /  66 epochs\n",
      "\tcompleted  30  /  66 epochs\n",
      "\tcompleted  36  /  66 epochs\n",
      "\tcompleted  42  /  66 epochs\n",
      "\tcompleted  48  /  66 epochs\n",
      "\tcompleted  54  /  66 epochs\n",
      "\tcompleted  60  /  66 epochs\n"
     ]
    },
    {
     "name": "stderr",
     "output_type": "stream",
     "text": [
      "Epochs completed: 100%| ███████████████████████████████████████████████████████████████████████████████████████████████████████████████████████████████████████████████████████████████████████████ 66/66 [00:26]\n"
     ]
    },
    {
     "name": "stdout",
     "output_type": "stream",
     "text": [
      "UMAP(init='pca', min_dist=0.02, n_epochs=200, n_jobs=95, n_neighbors=5, unique=True, verbose=True)\n",
      "Unique=True -> Number of data points reduced from  114885  to  114885\n",
      "Most common duplicate is 62991  with a count of  1\n",
      "Fri Apr 25 13:23:05 2025 Construct fuzzy simplicial set\n",
      "Fri Apr 25 13:23:05 2025 Finding Nearest Neighbors\n",
      "Fri Apr 25 13:23:05 2025 Building RP forest with 22 trees\n",
      "Fri Apr 25 13:23:05 2025 NN descent for 17 iterations\n",
      "\t 1  /  17\n",
      "\t 2  /  17\n",
      "\t 3  /  17\n",
      "\t 4  /  17\n",
      "\tStopping threshold met -- exiting after 4 iterations\n",
      "Fri Apr 25 13:23:08 2025 Finished Nearest Neighbor Search\n",
      "Fri Apr 25 13:23:08 2025 Construct embedding\n"
     ]
    },
    {
     "name": "stderr",
     "output_type": "stream",
     "text": [
      "Epochs completed:   4%| ███████▋                                                                                                                                                                    9/200 [00:00]"
     ]
    },
    {
     "name": "stdout",
     "output_type": "stream",
     "text": [
      "\tcompleted  0  /  200 epochs\n"
     ]
    },
    {
     "name": "stderr",
     "output_type": "stream",
     "text": [
      "Epochs completed:  17%| ████████████████████████████▉                                                                                                                                              34/200 [00:00]"
     ]
    },
    {
     "name": "stdout",
     "output_type": "stream",
     "text": [
      "\tcompleted  20  /  200 epochs\n"
     ]
    },
    {
     "name": "stderr",
     "output_type": "stream",
     "text": [
      "Epochs completed:  25%| ██████████████████████████████████████████▌                                                                                                                                50/200 [00:00]"
     ]
    },
    {
     "name": "stdout",
     "output_type": "stream",
     "text": [
      "\tcompleted  40  /  200 epochs\n"
     ]
    },
    {
     "name": "stderr",
     "output_type": "stream",
     "text": [
      "Epochs completed:  36%| █████████████████████████████████████████████████████████████▏                                                                                                             72/200 [00:01]"
     ]
    },
    {
     "name": "stdout",
     "output_type": "stream",
     "text": [
      "\tcompleted  60  /  200 epochs\n"
     ]
    },
    {
     "name": "stderr",
     "output_type": "stream",
     "text": [
      "Epochs completed:  46%| ███████████████████████████████████████████████████████████████████████████████                                                                                            93/200 [00:01]"
     ]
    },
    {
     "name": "stdout",
     "output_type": "stream",
     "text": [
      "\tcompleted  80  /  200 epochs\n"
     ]
    },
    {
     "name": "stderr",
     "output_type": "stream",
     "text": [
      "Epochs completed:  57%| █████████████████████████████████████████████████████████████████████████████████████████████████▏                                                                        115/200 [00:01]"
     ]
    },
    {
     "name": "stdout",
     "output_type": "stream",
     "text": [
      "\tcompleted  100  /  200 epochs\n"
     ]
    },
    {
     "name": "stderr",
     "output_type": "stream",
     "text": [
      "Epochs completed:  64%| █████████████████████████████████████████████████████████████████████████████████████████████████████████████                                                             129/200 [00:01]"
     ]
    },
    {
     "name": "stdout",
     "output_type": "stream",
     "text": [
      "\tcompleted  120  /  200 epochs\n"
     ]
    },
    {
     "name": "stderr",
     "output_type": "stream",
     "text": [
      "Epochs completed:  76%| ███████████████████████████████████████████████████████████████████████████████████████████████████████████████████████████████▌                                          151/200 [00:02]"
     ]
    },
    {
     "name": "stdout",
     "output_type": "stream",
     "text": [
      "\tcompleted  140  /  200 epochs\n"
     ]
    },
    {
     "name": "stderr",
     "output_type": "stream",
     "text": [
      "Epochs completed:  87%| ███████████████████████████████████████████████████████████████████████████████████████████████████████████████████████████████████████████████████                       174/200 [00:02]"
     ]
    },
    {
     "name": "stdout",
     "output_type": "stream",
     "text": [
      "\tcompleted  160  /  200 epochs\n"
     ]
    },
    {
     "name": "stderr",
     "output_type": "stream",
     "text": [
      "Epochs completed:  95%| ████████████████████████████████████████████████████████████████████████████████████████████████████████████████████████████████████████████████████████████████▌         190/200 [00:02]"
     ]
    },
    {
     "name": "stdout",
     "output_type": "stream",
     "text": [
      "\tcompleted  180  /  200 epochs\n"
     ]
    },
    {
     "name": "stderr",
     "output_type": "stream",
     "text": [
      "Epochs completed: 100%| █████████████████████████████████████████████████████████████████████████████████████████████████████████████████████████████████████████████████████████████████████████ 200/200 [00:02]\n"
     ]
    },
    {
     "name": "stdout",
     "output_type": "stream",
     "text": [
      "Fri Apr 25 13:23:11 2025 Finished embedding\n",
      "Fri Apr 25 13:23:15 2025 Worst tree score: 0.34668582\n",
      "Fri Apr 25 13:23:15 2025 Mean tree score: 0.35162791\n",
      "Fri Apr 25 13:23:15 2025 Best tree score: 0.35463289\n",
      "Fri Apr 25 13:23:16 2025 Forward diversification reduced edges from 574425 to 416760\n",
      "Fri Apr 25 13:23:16 2025 Reverse diversification reduced edges from 416760 to 416760\n",
      "Fri Apr 25 13:23:16 2025 Degree pruning reduced edges from 450104 to 447540\n",
      "Fri Apr 25 13:23:16 2025 Resorting data and graph based on tree order\n",
      "Fri Apr 25 13:23:16 2025 Building and compiling search function\n"
     ]
    },
    {
     "name": "stderr",
     "output_type": "stream",
     "text": [
      "Epochs completed: 100%| ███████████████████████████████████████████████████████████████████████████████████████████████████████████████████████████████████████████████████████████████████████████ 66/66 [00:00]\n"
     ]
    },
    {
     "name": "stdout",
     "output_type": "stream",
     "text": [
      "\tcompleted  0  /  66 epochs\n",
      "\tcompleted  6  /  66 epochs\n",
      "\tcompleted  12  /  66 epochs\n",
      "\tcompleted  18  /  66 epochs\n",
      "\tcompleted  24  /  66 epochs\n",
      "\tcompleted  30  /  66 epochs\n",
      "\tcompleted  36  /  66 epochs\n",
      "\tcompleted  42  /  66 epochs\n",
      "\tcompleted  48  /  66 epochs\n",
      "\tcompleted  54  /  66 epochs\n",
      "\tcompleted  60  /  66 epochs\n"
     ]
    },
    {
     "name": "stderr",
     "output_type": "stream",
     "text": [
      "Epochs completed: 100%| ███████████████████████████████████████████████████████████████████████████████████████████████████████████████████████████████████████████████████████████████████████████ 66/66 [00:24]\n"
     ]
    },
    {
     "name": "stdout",
     "output_type": "stream",
     "text": [
      "UMAP(init='pca', min_dist=0.05, n_epochs=200, n_jobs=95, n_neighbors=5, unique=True, verbose=True)\n",
      "Unique=True -> Number of data points reduced from  114885  to  114885\n",
      "Most common duplicate is 62991  with a count of  1\n",
      "Fri Apr 25 13:25:46 2025 Construct fuzzy simplicial set\n",
      "Fri Apr 25 13:25:46 2025 Finding Nearest Neighbors\n",
      "Fri Apr 25 13:25:46 2025 Building RP forest with 22 trees\n",
      "Fri Apr 25 13:25:47 2025 NN descent for 17 iterations\n",
      "\t 1  /  17\n",
      "\t 2  /  17\n",
      "\t 3  /  17\n",
      "\tStopping threshold met -- exiting after 3 iterations\n",
      "Fri Apr 25 13:25:49 2025 Finished Nearest Neighbor Search\n",
      "Fri Apr 25 13:25:49 2025 Construct embedding\n"
     ]
    },
    {
     "name": "stderr",
     "output_type": "stream",
     "text": [
      "Epochs completed:   4%| ██████▊                                                                                                                                                                     8/200 [00:00]"
     ]
    },
    {
     "name": "stdout",
     "output_type": "stream",
     "text": [
      "\tcompleted  0  /  200 epochs\n"
     ]
    },
    {
     "name": "stderr",
     "output_type": "stream",
     "text": [
      "Epochs completed:  16%| ███████████████████████████▏                                                                                                                                               32/200 [00:00]"
     ]
    },
    {
     "name": "stdout",
     "output_type": "stream",
     "text": [
      "\tcompleted  20  /  200 epochs\n"
     ]
    },
    {
     "name": "stderr",
     "output_type": "stream",
     "text": [
      "Epochs completed:  24%| ████████████████████████████████████████▊                                                                                                                                  48/200 [00:00]"
     ]
    },
    {
     "name": "stdout",
     "output_type": "stream",
     "text": [
      "\tcompleted  40  /  200 epochs\n"
     ]
    },
    {
     "name": "stderr",
     "output_type": "stream",
     "text": [
      "Epochs completed:  36%| █████████████████████████████████████████████████████████████▏                                                                                                             72/200 [00:00]"
     ]
    },
    {
     "name": "stdout",
     "output_type": "stream",
     "text": [
      "\tcompleted  60  /  200 epochs\n"
     ]
    },
    {
     "name": "stderr",
     "output_type": "stream",
     "text": [
      "Epochs completed:  44%| ██████████████████████████████████████████████████████████████████████████▊                                                                                                88/200 [00:01]"
     ]
    },
    {
     "name": "stdout",
     "output_type": "stream",
     "text": [
      "\tcompleted  80  /  200 epochs\n"
     ]
    },
    {
     "name": "stderr",
     "output_type": "stream",
     "text": [
      "Epochs completed:  56%| ██████████████████████████████████████████████████████████████████████████████████████████████▋                                                                           112/200 [00:01]"
     ]
    },
    {
     "name": "stdout",
     "output_type": "stream",
     "text": [
      "\tcompleted  100  /  200 epochs\n"
     ]
    },
    {
     "name": "stderr",
     "output_type": "stream",
     "text": [
      "Epochs completed:  64%| ████████████████████████████████████████████████████████████████████████████████████████████████████████████▏                                                             128/200 [00:01]"
     ]
    },
    {
     "name": "stdout",
     "output_type": "stream",
     "text": [
      "\tcompleted  120  /  200 epochs\n"
     ]
    },
    {
     "name": "stderr",
     "output_type": "stream",
     "text": [
      "Epochs completed:  76%| ████████████████████████████████████████████████████████████████████████████████████████████████████████████████████████████████▍                                         152/200 [00:02]"
     ]
    },
    {
     "name": "stdout",
     "output_type": "stream",
     "text": [
      "\tcompleted  140  /  200 epochs\n"
     ]
    },
    {
     "name": "stderr",
     "output_type": "stream",
     "text": [
      "Epochs completed:  88%| ████████████████████████████████████████████████████████████████████████████████████████████████████████████████████████████████████████████████████▋                     176/200 [00:02]"
     ]
    },
    {
     "name": "stdout",
     "output_type": "stream",
     "text": [
      "\tcompleted  160  /  200 epochs\n"
     ]
    },
    {
     "name": "stderr",
     "output_type": "stream",
     "text": [
      "Epochs completed:  96%| ██████████████████████████████████████████████████████████████████████████████████████████████████████████████████████████████████████████████████████████████████▏       192/200 [00:02]"
     ]
    },
    {
     "name": "stdout",
     "output_type": "stream",
     "text": [
      "\tcompleted  180  /  200 epochs\n"
     ]
    },
    {
     "name": "stderr",
     "output_type": "stream",
     "text": [
      "Epochs completed: 100%| █████████████████████████████████████████████████████████████████████████████████████████████████████████████████████████████████████████████████████████████████████████ 200/200 [00:02]\n"
     ]
    },
    {
     "name": "stdout",
     "output_type": "stream",
     "text": [
      "Fri Apr 25 13:25:52 2025 Finished embedding\n",
      "Fri Apr 25 13:25:56 2025 Worst tree score: 0.34783479\n",
      "Fri Apr 25 13:25:56 2025 Mean tree score: 0.35159270\n",
      "Fri Apr 25 13:25:56 2025 Best tree score: 0.35500718\n",
      "Fri Apr 25 13:25:57 2025 Forward diversification reduced edges from 574425 to 416705\n",
      "Fri Apr 25 13:25:57 2025 Reverse diversification reduced edges from 416705 to 416705\n",
      "Fri Apr 25 13:25:57 2025 Degree pruning reduced edges from 449996 to 447390\n",
      "Fri Apr 25 13:25:57 2025 Resorting data and graph based on tree order\n",
      "Fri Apr 25 13:25:57 2025 Building and compiling search function\n"
     ]
    },
    {
     "name": "stderr",
     "output_type": "stream",
     "text": [
      "Epochs completed: 100%| ███████████████████████████████████████████████████████████████████████████████████████████████████████████████████████████████████████████████████████████████████████████ 66/66 [00:00]\n"
     ]
    },
    {
     "name": "stdout",
     "output_type": "stream",
     "text": [
      "\tcompleted  0  /  66 epochs\n",
      "\tcompleted  6  /  66 epochs\n",
      "\tcompleted  12  /  66 epochs\n",
      "\tcompleted  18  /  66 epochs\n",
      "\tcompleted  24  /  66 epochs\n",
      "\tcompleted  30  /  66 epochs\n",
      "\tcompleted  36  /  66 epochs\n",
      "\tcompleted  42  /  66 epochs\n",
      "\tcompleted  48  /  66 epochs\n",
      "\tcompleted  54  /  66 epochs\n",
      "\tcompleted  60  /  66 epochs\n"
     ]
    },
    {
     "name": "stderr",
     "output_type": "stream",
     "text": [
      "Epochs completed: 100%| ███████████████████████████████████████████████████████████████████████████████████████████████████████████████████████████████████████████████████████████████████████████ 66/66 [00:27]\n"
     ]
    },
    {
     "name": "stdout",
     "output_type": "stream",
     "text": [
      "UMAP(init='pca', n_epochs=200, n_jobs=95, n_neighbors=5, unique=True, verbose=True)\n",
      "Unique=True -> Number of data points reduced from  114885  to  114885\n",
      "Most common duplicate is 62991  with a count of  1\n",
      "Fri Apr 25 13:28:30 2025 Construct fuzzy simplicial set\n",
      "Fri Apr 25 13:28:30 2025 Finding Nearest Neighbors\n",
      "Fri Apr 25 13:28:30 2025 Building RP forest with 22 trees\n",
      "Fri Apr 25 13:28:30 2025 NN descent for 17 iterations\n",
      "\t 1  /  17\n",
      "\t 2  /  17\n",
      "\t 3  /  17\n",
      "\tStopping threshold met -- exiting after 3 iterations\n",
      "Fri Apr 25 13:28:32 2025 Finished Nearest Neighbor Search\n",
      "Fri Apr 25 13:28:33 2025 Construct embedding\n"
     ]
    },
    {
     "name": "stderr",
     "output_type": "stream",
     "text": [
      "Epochs completed:   0%|                                                                                                                                                                             0/200 [00:00]"
     ]
    },
    {
     "name": "stdout",
     "output_type": "stream",
     "text": [
      "\tcompleted  0  /  200 epochs\n"
     ]
    },
    {
     "name": "stderr",
     "output_type": "stream",
     "text": [
      "Epochs completed:  15%| █████████████████████████▌                                                                                                                                                 30/200 [00:00]"
     ]
    },
    {
     "name": "stdout",
     "output_type": "stream",
     "text": [
      "\tcompleted  20  /  200 epochs\n"
     ]
    },
    {
     "name": "stderr",
     "output_type": "stream",
     "text": [
      "Epochs completed:  27%| █████████████████████████████████████████████▉                                                                                                                             54/200 [00:00]"
     ]
    },
    {
     "name": "stdout",
     "output_type": "stream",
     "text": [
      "\tcompleted  40  /  200 epochs\n"
     ]
    },
    {
     "name": "stderr",
     "output_type": "stream",
     "text": [
      "Epochs completed:  35%| ███████████████████████████████████████████████████████████▍                                                                                                               70/200 [00:00]"
     ]
    },
    {
     "name": "stdout",
     "output_type": "stream",
     "text": [
      "\tcompleted  60  /  200 epochs\n"
     ]
    },
    {
     "name": "stderr",
     "output_type": "stream",
     "text": [
      "Epochs completed:  47%| ███████████████████████████████████████████████████████████████████████████████▉                                                                                           94/200 [00:01]"
     ]
    },
    {
     "name": "stdout",
     "output_type": "stream",
     "text": [
      "\tcompleted  80  /  200 epochs\n"
     ]
    },
    {
     "name": "stderr",
     "output_type": "stream",
     "text": [
      "Epochs completed:  55%| ████████████████████████████████████████████████████████████████████████████████████████████▉                                                                             110/200 [00:01]"
     ]
    },
    {
     "name": "stdout",
     "output_type": "stream",
     "text": [
      "\tcompleted  100  /  200 epochs\n"
     ]
    },
    {
     "name": "stderr",
     "output_type": "stream",
     "text": [
      "Epochs completed:  67%| █████████████████████████████████████████████████████████████████████████████████████████████████████████████████▏                                                        134/200 [00:01]"
     ]
    },
    {
     "name": "stdout",
     "output_type": "stream",
     "text": [
      "\tcompleted  120  /  200 epochs\n"
     ]
    },
    {
     "name": "stderr",
     "output_type": "stream",
     "text": [
      "Epochs completed:  75%| ██████████████████████████████████████████████████████████████████████████████████████████████████████████████████████████████▊                                           150/200 [00:02]"
     ]
    },
    {
     "name": "stdout",
     "output_type": "stream",
     "text": [
      "\tcompleted  140  /  200 epochs\n"
     ]
    },
    {
     "name": "stderr",
     "output_type": "stream",
     "text": [
      "Epochs completed:  87%| ███████████████████████████████████████████████████████████████████████████████████████████████████████████████████████████████████████████████████                       174/200 [00:02]"
     ]
    },
    {
     "name": "stdout",
     "output_type": "stream",
     "text": [
      "\tcompleted  160  /  200 epochs\n"
     ]
    },
    {
     "name": "stderr",
     "output_type": "stream",
     "text": [
      "Epochs completed:  95%| ████████████████████████████████████████████████████████████████████████████████████████████████████████████████████████████████████████████████████████████████▌         190/200 [00:02]"
     ]
    },
    {
     "name": "stdout",
     "output_type": "stream",
     "text": [
      "\tcompleted  180  /  200 epochs\n"
     ]
    },
    {
     "name": "stderr",
     "output_type": "stream",
     "text": [
      "Epochs completed: 100%| █████████████████████████████████████████████████████████████████████████████████████████████████████████████████████████████████████████████████████████████████████████ 200/200 [00:02]\n"
     ]
    },
    {
     "name": "stdout",
     "output_type": "stream",
     "text": [
      "Fri Apr 25 13:28:36 2025 Finished embedding\n",
      "Fri Apr 25 13:28:39 2025 Worst tree score: 0.34720808\n",
      "Fri Apr 25 13:28:39 2025 Mean tree score: 0.35212367\n",
      "Fri Apr 25 13:28:39 2025 Best tree score: 0.35536406\n",
      "Fri Apr 25 13:28:40 2025 Forward diversification reduced edges from 574425 to 416671\n",
      "Fri Apr 25 13:28:40 2025 Reverse diversification reduced edges from 416671 to 416671\n",
      "Fri Apr 25 13:28:40 2025 Degree pruning reduced edges from 450106 to 447529\n",
      "Fri Apr 25 13:28:40 2025 Resorting data and graph based on tree order\n",
      "Fri Apr 25 13:28:40 2025 Building and compiling search function\n"
     ]
    },
    {
     "name": "stderr",
     "output_type": "stream",
     "text": [
      "Epochs completed: 100%| ███████████████████████████████████████████████████████████████████████████████████████████████████████████████████████████████████████████████████████████████████████████ 66/66 [00:00]\n"
     ]
    },
    {
     "name": "stdout",
     "output_type": "stream",
     "text": [
      "\tcompleted  0  /  66 epochs\n",
      "\tcompleted  6  /  66 epochs\n",
      "\tcompleted  12  /  66 epochs\n",
      "\tcompleted  18  /  66 epochs\n",
      "\tcompleted  24  /  66 epochs\n",
      "\tcompleted  30  /  66 epochs\n",
      "\tcompleted  36  /  66 epochs\n",
      "\tcompleted  42  /  66 epochs\n",
      "\tcompleted  48  /  66 epochs\n",
      "\tcompleted  54  /  66 epochs\n",
      "\tcompleted  60  /  66 epochs\n"
     ]
    },
    {
     "name": "stderr",
     "output_type": "stream",
     "text": [
      "Epochs completed: 100%| ███████████████████████████████████████████████████████████████████████████████████████████████████████████████████████████████████████████████████████████████████████████ 66/66 [00:26]\n"
     ]
    },
    {
     "name": "stdout",
     "output_type": "stream",
     "text": [
      "UMAP(init='pca', min_dist=0.2, n_epochs=200, n_jobs=95, n_neighbors=5, unique=True, verbose=True)\n",
      "Unique=True -> Number of data points reduced from  114885  to  114885\n",
      "Most common duplicate is 62991  with a count of  1\n",
      "Fri Apr 25 13:31:08 2025 Construct fuzzy simplicial set\n",
      "Fri Apr 25 13:31:08 2025 Finding Nearest Neighbors\n",
      "Fri Apr 25 13:31:08 2025 Building RP forest with 22 trees\n",
      "Fri Apr 25 13:31:09 2025 NN descent for 17 iterations\n",
      "\t 1  /  17\n",
      "\t 2  /  17\n",
      "\t 3  /  17\n",
      "\tStopping threshold met -- exiting after 3 iterations\n",
      "Fri Apr 25 13:31:11 2025 Finished Nearest Neighbor Search\n",
      "Fri Apr 25 13:31:11 2025 Construct embedding\n"
     ]
    },
    {
     "name": "stderr",
     "output_type": "stream",
     "text": [
      "Epochs completed:   0%|                                                                                                                                                                             0/200 [00:00]"
     ]
    },
    {
     "name": "stdout",
     "output_type": "stream",
     "text": [
      "\tcompleted  0  /  200 epochs\n"
     ]
    },
    {
     "name": "stderr",
     "output_type": "stream",
     "text": [
      "Epochs completed:  16%| ██████████████████████████▎                                                                                                                                                31/200 [00:00]"
     ]
    },
    {
     "name": "stdout",
     "output_type": "stream",
     "text": [
      "\tcompleted  20  /  200 epochs\n"
     ]
    },
    {
     "name": "stderr",
     "output_type": "stream",
     "text": [
      "Epochs completed:  28%| ██████████████████████████████████████████████▊                                                                                                                            55/200 [00:00]"
     ]
    },
    {
     "name": "stdout",
     "output_type": "stream",
     "text": [
      "\tcompleted  40  /  200 epochs\n"
     ]
    },
    {
     "name": "stderr",
     "output_type": "stream",
     "text": [
      "Epochs completed:  36%| ████████████████████████████████████████████████████████████▎                                                                                                              71/200 [00:00]"
     ]
    },
    {
     "name": "stdout",
     "output_type": "stream",
     "text": [
      "\tcompleted  60  /  200 epochs\n"
     ]
    },
    {
     "name": "stderr",
     "output_type": "stream",
     "text": [
      "Epochs completed:  48%| ████████████████████████████████████████████████████████████████████████████████▊                                                                                          95/200 [00:01]"
     ]
    },
    {
     "name": "stdout",
     "output_type": "stream",
     "text": [
      "\tcompleted  80  /  200 epochs\n"
     ]
    },
    {
     "name": "stderr",
     "output_type": "stream",
     "text": [
      "Epochs completed:  56%| █████████████████████████████████████████████████████████████████████████████████████████████▊                                                                            111/200 [00:01]"
     ]
    },
    {
     "name": "stdout",
     "output_type": "stream",
     "text": [
      "\tcompleted  100  /  200 epochs\n"
     ]
    },
    {
     "name": "stderr",
     "output_type": "stream",
     "text": [
      "Epochs completed:  68%| ██████████████████████████████████████████████████████████████████████████████████████████████████████████████████                                                        135/200 [00:01]"
     ]
    },
    {
     "name": "stdout",
     "output_type": "stream",
     "text": [
      "\tcompleted  120  /  200 epochs\n"
     ]
    },
    {
     "name": "stderr",
     "output_type": "stream",
     "text": [
      "Epochs completed:  76%| ███████████████████████████████████████████████████████████████████████████████████████████████████████████████████████████████▌                                          151/200 [00:02]"
     ]
    },
    {
     "name": "stdout",
     "output_type": "stream",
     "text": [
      "\tcompleted  140  /  200 epochs\n"
     ]
    },
    {
     "name": "stderr",
     "output_type": "stream",
     "text": [
      "Epochs completed:  88%| ███████████████████████████████████████████████████████████████████████████████████████████████████████████████████████████████████████████████████▉                      175/200 [00:02]"
     ]
    },
    {
     "name": "stdout",
     "output_type": "stream",
     "text": [
      "\tcompleted  160  /  200 epochs\n"
     ]
    },
    {
     "name": "stderr",
     "output_type": "stream",
     "text": [
      "Epochs completed:  96%| █████████████████████████████████████████████████████████████████████████████████████████████████████████████████████████████████████████████████████████████████▍        191/200 [00:02]"
     ]
    },
    {
     "name": "stdout",
     "output_type": "stream",
     "text": [
      "\tcompleted  180  /  200 epochs\n"
     ]
    },
    {
     "name": "stderr",
     "output_type": "stream",
     "text": [
      "Epochs completed: 100%| █████████████████████████████████████████████████████████████████████████████████████████████████████████████████████████████████████████████████████████████████████████ 200/200 [00:02]\n"
     ]
    },
    {
     "name": "stdout",
     "output_type": "stream",
     "text": [
      "Fri Apr 25 13:31:14 2025 Finished embedding\n",
      "Fri Apr 25 13:31:18 2025 Worst tree score: 0.34804370\n",
      "Fri Apr 25 13:31:18 2025 Mean tree score: 0.35154166\n",
      "Fri Apr 25 13:31:18 2025 Best tree score: 0.35505070\n",
      "Fri Apr 25 13:31:18 2025 Forward diversification reduced edges from 574425 to 416562\n",
      "Fri Apr 25 13:31:18 2025 Reverse diversification reduced edges from 416562 to 416562\n",
      "Fri Apr 25 13:31:18 2025 Degree pruning reduced edges from 449726 to 447135\n",
      "Fri Apr 25 13:31:18 2025 Resorting data and graph based on tree order\n",
      "Fri Apr 25 13:31:19 2025 Building and compiling search function\n"
     ]
    },
    {
     "name": "stderr",
     "output_type": "stream",
     "text": [
      "Epochs completed: 100%| ███████████████████████████████████████████████████████████████████████████████████████████████████████████████████████████████████████████████████████████████████████████ 66/66 [00:00]\n"
     ]
    },
    {
     "name": "stdout",
     "output_type": "stream",
     "text": [
      "\tcompleted  0  /  66 epochs\n",
      "\tcompleted  6  /  66 epochs\n",
      "\tcompleted  12  /  66 epochs\n",
      "\tcompleted  18  /  66 epochs\n",
      "\tcompleted  24  /  66 epochs\n",
      "\tcompleted  30  /  66 epochs\n",
      "\tcompleted  36  /  66 epochs\n",
      "\tcompleted  42  /  66 epochs\n",
      "\tcompleted  48  /  66 epochs\n",
      "\tcompleted  54  /  66 epochs\n",
      "\tcompleted  60  /  66 epochs\n"
     ]
    },
    {
     "name": "stderr",
     "output_type": "stream",
     "text": [
      "Epochs completed: 100%| ███████████████████████████████████████████████████████████████████████████████████████████████████████████████████████████████████████████████████████████████████████████ 66/66 [00:28]\n"
     ]
    },
    {
     "name": "stdout",
     "output_type": "stream",
     "text": [
      "UMAP(init='pca', min_dist=0.5, n_epochs=200, n_jobs=95, n_neighbors=5, unique=True, verbose=True)\n",
      "Unique=True -> Number of data points reduced from  114885  to  114885\n",
      "Most common duplicate is 62991  with a count of  1\n",
      "Fri Apr 25 13:33:53 2025 Construct fuzzy simplicial set\n",
      "Fri Apr 25 13:33:53 2025 Finding Nearest Neighbors\n",
      "Fri Apr 25 13:33:53 2025 Building RP forest with 22 trees\n",
      "Fri Apr 25 13:33:53 2025 NN descent for 17 iterations\n",
      "\t 1  /  17\n",
      "\t 2  /  17\n",
      "\t 3  /  17\n",
      "\tStopping threshold met -- exiting after 3 iterations\n",
      "Fri Apr 25 13:33:55 2025 Finished Nearest Neighbor Search\n",
      "Fri Apr 25 13:33:56 2025 Construct embedding\n"
     ]
    },
    {
     "name": "stderr",
     "output_type": "stream",
     "text": [
      "Epochs completed:   4%| ███████▋                                                                                                                                                                    9/200 [00:00]"
     ]
    },
    {
     "name": "stdout",
     "output_type": "stream",
     "text": [
      "\tcompleted  0  /  200 epochs\n"
     ]
    },
    {
     "name": "stderr",
     "output_type": "stream",
     "text": [
      "Epochs completed:  17%| ████████████████████████████▉                                                                                                                                              34/200 [00:00]"
     ]
    },
    {
     "name": "stdout",
     "output_type": "stream",
     "text": [
      "\tcompleted  20  /  200 epochs\n"
     ]
    },
    {
     "name": "stderr",
     "output_type": "stream",
     "text": [
      "Epochs completed:  25%| ██████████████████████████████████████████▌                                                                                                                                50/200 [00:00]"
     ]
    },
    {
     "name": "stdout",
     "output_type": "stream",
     "text": [
      "\tcompleted  40  /  200 epochs\n"
     ]
    },
    {
     "name": "stderr",
     "output_type": "stream",
     "text": [
      "Epochs completed:  37%| ██████████████████████████████████████████████████████████████▉                                                                                                            74/200 [00:00]"
     ]
    },
    {
     "name": "stdout",
     "output_type": "stream",
     "text": [
      "\tcompleted  60  /  200 epochs\n"
     ]
    },
    {
     "name": "stderr",
     "output_type": "stream",
     "text": [
      "Epochs completed:  45%| ████████████████████████████████████████████████████████████████████████████▌                                                                                              90/200 [00:01]"
     ]
    },
    {
     "name": "stdout",
     "output_type": "stream",
     "text": [
      "\tcompleted  80  /  200 epochs\n"
     ]
    },
    {
     "name": "stderr",
     "output_type": "stream",
     "text": [
      "Epochs completed:  57%| ████████████████████████████████████████████████████████████████████████████████████████████████▎                                                                         114/200 [00:01]"
     ]
    },
    {
     "name": "stdout",
     "output_type": "stream",
     "text": [
      "\tcompleted  100  /  200 epochs\n"
     ]
    },
    {
     "name": "stderr",
     "output_type": "stream",
     "text": [
      "Epochs completed:  65%| █████████████████████████████████████████████████████████████████████████████████████████████████████████████▊                                                            130/200 [00:01]"
     ]
    },
    {
     "name": "stdout",
     "output_type": "stream",
     "text": [
      "\tcompleted  120  /  200 epochs\n"
     ]
    },
    {
     "name": "stderr",
     "output_type": "stream",
     "text": [
      "Epochs completed:  77%| ██████████████████████████████████████████████████████████████████████████████████████████████████████████████████████████████████▏                                       154/200 [00:02]"
     ]
    },
    {
     "name": "stdout",
     "output_type": "stream",
     "text": [
      "\tcompleted  140  /  200 epochs\n"
     ]
    },
    {
     "name": "stderr",
     "output_type": "stream",
     "text": [
      "Epochs completed:  85%| ███████████████████████████████████████████████████████████████████████████████████████████████████████████████████████████████████████████████▋                          170/200 [00:02]"
     ]
    },
    {
     "name": "stdout",
     "output_type": "stream",
     "text": [
      "\tcompleted  160  /  200 epochs\n"
     ]
    },
    {
     "name": "stderr",
     "output_type": "stream",
     "text": [
      "Epochs completed:  97%| ███████████████████████████████████████████████████████████████████████████████████████████████████████████████████████████████████████████████████████████████████▉      194/200 [00:02]"
     ]
    },
    {
     "name": "stdout",
     "output_type": "stream",
     "text": [
      "\tcompleted  180  /  200 epochs\n"
     ]
    },
    {
     "name": "stderr",
     "output_type": "stream",
     "text": [
      "Epochs completed: 100%| █████████████████████████████████████████████████████████████████████████████████████████████████████████████████████████████████████████████████████████████████████████ 200/200 [00:02]\n"
     ]
    },
    {
     "name": "stdout",
     "output_type": "stream",
     "text": [
      "Fri Apr 25 13:33:59 2025 Finished embedding\n",
      "Fri Apr 25 13:34:02 2025 Worst tree score: 0.34626801\n",
      "Fri Apr 25 13:34:02 2025 Mean tree score: 0.35195195\n",
      "Fri Apr 25 13:34:02 2025 Best tree score: 0.35656526\n",
      "Fri Apr 25 13:34:03 2025 Forward diversification reduced edges from 574425 to 416694\n",
      "Fri Apr 25 13:34:03 2025 Reverse diversification reduced edges from 416694 to 416694\n",
      "Fri Apr 25 13:34:03 2025 Degree pruning reduced edges from 450038 to 447418\n",
      "Fri Apr 25 13:34:03 2025 Resorting data and graph based on tree order\n",
      "Fri Apr 25 13:34:03 2025 Building and compiling search function\n"
     ]
    },
    {
     "name": "stderr",
     "output_type": "stream",
     "text": [
      "Epochs completed: 100%| ███████████████████████████████████████████████████████████████████████████████████████████████████████████████████████████████████████████████████████████████████████████ 66/66 [00:00]\n"
     ]
    },
    {
     "name": "stdout",
     "output_type": "stream",
     "text": [
      "\tcompleted  0  /  66 epochs\n",
      "\tcompleted  6  /  66 epochs\n",
      "\tcompleted  12  /  66 epochs\n",
      "\tcompleted  18  /  66 epochs\n",
      "\tcompleted  24  /  66 epochs\n",
      "\tcompleted  30  /  66 epochs\n",
      "\tcompleted  36  /  66 epochs\n",
      "\tcompleted  42  /  66 epochs\n",
      "\tcompleted  48  /  66 epochs\n",
      "\tcompleted  54  /  66 epochs\n",
      "\tcompleted  60  /  66 epochs\n"
     ]
    },
    {
     "name": "stderr",
     "output_type": "stream",
     "text": [
      "Epochs completed: 100%| ███████████████████████████████████████████████████████████████████████████████████████████████████████████████████████████████████████████████████████████████████████████ 66/66 [00:29]\n"
     ]
    },
    {
     "name": "stdout",
     "output_type": "stream",
     "text": [
      "UMAP(init='pca', min_dist=0.8, n_epochs=200, n_jobs=95, n_neighbors=5, unique=True, verbose=True)\n",
      "Unique=True -> Number of data points reduced from  114885  to  114885\n",
      "Most common duplicate is 62991  with a count of  1\n",
      "Fri Apr 25 13:36:38 2025 Construct fuzzy simplicial set\n",
      "Fri Apr 25 13:36:38 2025 Finding Nearest Neighbors\n",
      "Fri Apr 25 13:36:38 2025 Building RP forest with 22 trees\n",
      "Fri Apr 25 13:36:38 2025 NN descent for 17 iterations\n",
      "\t 1  /  17\n",
      "\t 2  /  17\n",
      "\t 3  /  17\n",
      "\t 4  /  17\n",
      "\tStopping threshold met -- exiting after 4 iterations\n",
      "Fri Apr 25 13:36:40 2025 Finished Nearest Neighbor Search\n",
      "Fri Apr 25 13:36:40 2025 Construct embedding\n"
     ]
    },
    {
     "name": "stderr",
     "output_type": "stream",
     "text": [
      "Epochs completed:   4%| ███████▋                                                                                                                                                                    9/200 [00:00]"
     ]
    },
    {
     "name": "stdout",
     "output_type": "stream",
     "text": [
      "\tcompleted  0  /  200 epochs\n"
     ]
    },
    {
     "name": "stderr",
     "output_type": "stream",
     "text": [
      "Epochs completed:  17%| ████████████████████████████▉                                                                                                                                              34/200 [00:00]"
     ]
    },
    {
     "name": "stdout",
     "output_type": "stream",
     "text": [
      "\tcompleted  20  /  200 epochs\n"
     ]
    },
    {
     "name": "stderr",
     "output_type": "stream",
     "text": [
      "Epochs completed:  25%| ██████████████████████████████████████████▌                                                                                                                                50/200 [00:00]"
     ]
    },
    {
     "name": "stdout",
     "output_type": "stream",
     "text": [
      "\tcompleted  40  /  200 epochs\n"
     ]
    },
    {
     "name": "stderr",
     "output_type": "stream",
     "text": [
      "Epochs completed:  37%| ██████████████████████████████████████████████████████████████▉                                                                                                            74/200 [00:00]"
     ]
    },
    {
     "name": "stdout",
     "output_type": "stream",
     "text": [
      "\tcompleted  60  /  200 epochs\n"
     ]
    },
    {
     "name": "stderr",
     "output_type": "stream",
     "text": [
      "Epochs completed:  45%| ████████████████████████████████████████████████████████████████████████████▌                                                                                              90/200 [00:01]"
     ]
    },
    {
     "name": "stdout",
     "output_type": "stream",
     "text": [
      "\tcompleted  80  /  200 epochs\n"
     ]
    },
    {
     "name": "stderr",
     "output_type": "stream",
     "text": [
      "Epochs completed:  57%| ████████████████████████████████████████████████████████████████████████████████████████████████▎                                                                         114/200 [00:01]"
     ]
    },
    {
     "name": "stdout",
     "output_type": "stream",
     "text": [
      "\tcompleted  100  /  200 epochs\n"
     ]
    },
    {
     "name": "stderr",
     "output_type": "stream",
     "text": [
      "Epochs completed:  65%| █████████████████████████████████████████████████████████████████████████████████████████████████████████████▊                                                            130/200 [00:01]"
     ]
    },
    {
     "name": "stdout",
     "output_type": "stream",
     "text": [
      "\tcompleted  120  /  200 epochs\n"
     ]
    },
    {
     "name": "stderr",
     "output_type": "stream",
     "text": [
      "Epochs completed:  77%| ██████████████████████████████████████████████████████████████████████████████████████████████████████████████████████████████████▏                                       154/200 [00:02]"
     ]
    },
    {
     "name": "stdout",
     "output_type": "stream",
     "text": [
      "\tcompleted  140  /  200 epochs\n"
     ]
    },
    {
     "name": "stderr",
     "output_type": "stream",
     "text": [
      "Epochs completed:  85%| ███████████████████████████████████████████████████████████████████████████████████████████████████████████████████████████████████████████████▋                          170/200 [00:02]"
     ]
    },
    {
     "name": "stdout",
     "output_type": "stream",
     "text": [
      "\tcompleted  160  /  200 epochs\n"
     ]
    },
    {
     "name": "stderr",
     "output_type": "stream",
     "text": [
      "Epochs completed:  97%| ███████████████████████████████████████████████████████████████████████████████████████████████████████████████████████████████████████████████████████████████████▉      194/200 [00:02]"
     ]
    },
    {
     "name": "stdout",
     "output_type": "stream",
     "text": [
      "\tcompleted  180  /  200 epochs\n"
     ]
    },
    {
     "name": "stderr",
     "output_type": "stream",
     "text": [
      "Epochs completed: 100%| █████████████████████████████████████████████████████████████████████████████████████████████████████████████████████████████████████████████████████████████████████████ 200/200 [00:02]\n"
     ]
    },
    {
     "name": "stdout",
     "output_type": "stream",
     "text": [
      "Fri Apr 25 13:36:43 2025 Finished embedding\n",
      "Fri Apr 25 13:36:47 2025 Worst tree score: 0.34817426\n",
      "Fri Apr 25 13:36:47 2025 Mean tree score: 0.35232189\n",
      "Fri Apr 25 13:36:47 2025 Best tree score: 0.35700048\n",
      "Fri Apr 25 13:36:48 2025 Forward diversification reduced edges from 574425 to 416626\n",
      "Fri Apr 25 13:36:48 2025 Reverse diversification reduced edges from 416626 to 416626\n",
      "Fri Apr 25 13:36:48 2025 Degree pruning reduced edges from 449978 to 447377\n",
      "Fri Apr 25 13:36:48 2025 Resorting data and graph based on tree order\n",
      "Fri Apr 25 13:36:48 2025 Building and compiling search function\n"
     ]
    },
    {
     "name": "stderr",
     "output_type": "stream",
     "text": [
      "Epochs completed: 100%| ███████████████████████████████████████████████████████████████████████████████████████████████████████████████████████████████████████████████████████████████████████████ 66/66 [00:00]\n"
     ]
    },
    {
     "name": "stdout",
     "output_type": "stream",
     "text": [
      "\tcompleted  0  /  66 epochs\n",
      "\tcompleted  6  /  66 epochs\n",
      "\tcompleted  12  /  66 epochs\n",
      "\tcompleted  18  /  66 epochs\n",
      "\tcompleted  24  /  66 epochs\n",
      "\tcompleted  30  /  66 epochs\n",
      "\tcompleted  36  /  66 epochs\n",
      "\tcompleted  42  /  66 epochs\n",
      "\tcompleted  48  /  66 epochs\n",
      "\tcompleted  54  /  66 epochs\n",
      "\tcompleted  60  /  66 epochs\n"
     ]
    },
    {
     "name": "stderr",
     "output_type": "stream",
     "text": [
      "Epochs completed: 100%| ███████████████████████████████████████████████████████████████████████████████████████████████████████████████████████████████████████████████████████████████████████████ 66/66 [00:29]\n"
     ]
    },
    {
     "name": "stdout",
     "output_type": "stream",
     "text": [
      "UMAP(init='pca', min_dist=0.99, n_epochs=200, n_jobs=95, n_neighbors=5, unique=True, verbose=True)\n",
      "Unique=True -> Number of data points reduced from  114885  to  114885\n",
      "Most common duplicate is 62991  with a count of  1\n",
      "Fri Apr 25 13:39:21 2025 Construct fuzzy simplicial set\n",
      "Fri Apr 25 13:39:21 2025 Finding Nearest Neighbors\n",
      "Fri Apr 25 13:39:21 2025 Building RP forest with 22 trees\n",
      "Fri Apr 25 13:39:21 2025 NN descent for 17 iterations\n",
      "\t 1  /  17\n",
      "\t 2  /  17\n",
      "\t 3  /  17\n",
      "\t 4  /  17\n",
      "\tStopping threshold met -- exiting after 4 iterations\n",
      "Fri Apr 25 13:39:23 2025 Finished Nearest Neighbor Search\n",
      "Fri Apr 25 13:39:23 2025 Construct embedding\n"
     ]
    },
    {
     "name": "stderr",
     "output_type": "stream",
     "text": [
      "Epochs completed:   4%| ███████▋                                                                                                                                                                    9/200 [00:00]"
     ]
    },
    {
     "name": "stdout",
     "output_type": "stream",
     "text": [
      "\tcompleted  0  /  200 epochs\n"
     ]
    },
    {
     "name": "stderr",
     "output_type": "stream",
     "text": [
      "Epochs completed:  17%| ████████████████████████████▉                                                                                                                                              34/200 [00:00]"
     ]
    },
    {
     "name": "stdout",
     "output_type": "stream",
     "text": [
      "\tcompleted  20  /  200 epochs\n"
     ]
    },
    {
     "name": "stderr",
     "output_type": "stream",
     "text": [
      "Epochs completed:  25%| ██████████████████████████████████████████▌                                                                                                                                50/200 [00:00]"
     ]
    },
    {
     "name": "stdout",
     "output_type": "stream",
     "text": [
      "\tcompleted  40  /  200 epochs\n"
     ]
    },
    {
     "name": "stderr",
     "output_type": "stream",
     "text": [
      "Epochs completed:  37%| ██████████████████████████████████████████████████████████████▉                                                                                                            74/200 [00:01]"
     ]
    },
    {
     "name": "stdout",
     "output_type": "stream",
     "text": [
      "\tcompleted  60  /  200 epochs\n"
     ]
    },
    {
     "name": "stderr",
     "output_type": "stream",
     "text": [
      "Epochs completed:  45%| ████████████████████████████████████████████████████████████████████████████▌                                                                                              90/200 [00:01]"
     ]
    },
    {
     "name": "stdout",
     "output_type": "stream",
     "text": [
      "\tcompleted  80  /  200 epochs\n"
     ]
    },
    {
     "name": "stderr",
     "output_type": "stream",
     "text": [
      "Epochs completed:  57%| ████████████████████████████████████████████████████████████████████████████████████████████████▎                                                                         114/200 [00:01]"
     ]
    },
    {
     "name": "stdout",
     "output_type": "stream",
     "text": [
      "\tcompleted  100  /  200 epochs\n"
     ]
    },
    {
     "name": "stderr",
     "output_type": "stream",
     "text": [
      "Epochs completed:  65%| █████████████████████████████████████████████████████████████████████████████████████████████████████████████▊                                                            130/200 [00:01]"
     ]
    },
    {
     "name": "stdout",
     "output_type": "stream",
     "text": [
      "\tcompleted  120  /  200 epochs\n"
     ]
    },
    {
     "name": "stderr",
     "output_type": "stream",
     "text": [
      "Epochs completed:  77%| ██████████████████████████████████████████████████████████████████████████████████████████████████████████████████████████████████▏                                       154/200 [00:02]"
     ]
    },
    {
     "name": "stdout",
     "output_type": "stream",
     "text": [
      "\tcompleted  140  /  200 epochs\n"
     ]
    },
    {
     "name": "stderr",
     "output_type": "stream",
     "text": [
      "Epochs completed:  85%| ███████████████████████████████████████████████████████████████████████████████████████████████████████████████████████████████████████████████▋                          170/200 [00:02]"
     ]
    },
    {
     "name": "stdout",
     "output_type": "stream",
     "text": [
      "\tcompleted  160  /  200 epochs\n"
     ]
    },
    {
     "name": "stderr",
     "output_type": "stream",
     "text": [
      "Epochs completed:  97%| ███████████████████████████████████████████████████████████████████████████████████████████████████████████████████████████████████████████████████████████████████▉      194/200 [00:02]"
     ]
    },
    {
     "name": "stdout",
     "output_type": "stream",
     "text": [
      "\tcompleted  180  /  200 epochs\n"
     ]
    },
    {
     "name": "stderr",
     "output_type": "stream",
     "text": [
      "Epochs completed: 100%| █████████████████████████████████████████████████████████████████████████████████████████████████████████████████████████████████████████████████████████████████████████ 200/200 [00:02]\n"
     ]
    },
    {
     "name": "stdout",
     "output_type": "stream",
     "text": [
      "Fri Apr 25 13:39:26 2025 Finished embedding\n",
      "Fri Apr 25 13:39:30 2025 Worst tree score: 0.34830483\n",
      "Fri Apr 25 13:39:30 2025 Mean tree score: 0.35146569\n",
      "Fri Apr 25 13:39:30 2025 Best tree score: 0.35408452\n",
      "Fri Apr 25 13:39:31 2025 Forward diversification reduced edges from 574425 to 416769\n",
      "Fri Apr 25 13:39:31 2025 Reverse diversification reduced edges from 416769 to 416769\n",
      "Fri Apr 25 13:39:31 2025 Degree pruning reduced edges from 450150 to 447596\n",
      "Fri Apr 25 13:39:31 2025 Resorting data and graph based on tree order\n",
      "Fri Apr 25 13:39:31 2025 Building and compiling search function\n"
     ]
    },
    {
     "name": "stderr",
     "output_type": "stream",
     "text": [
      "Epochs completed: 100%| ███████████████████████████████████████████████████████████████████████████████████████████████████████████████████████████████████████████████████████████████████████████ 66/66 [00:00]\n"
     ]
    },
    {
     "name": "stdout",
     "output_type": "stream",
     "text": [
      "\tcompleted  0  /  66 epochs\n",
      "\tcompleted  6  /  66 epochs\n",
      "\tcompleted  12  /  66 epochs\n",
      "\tcompleted  18  /  66 epochs\n",
      "\tcompleted  24  /  66 epochs\n",
      "\tcompleted  30  /  66 epochs\n",
      "\tcompleted  36  /  66 epochs\n",
      "\tcompleted  42  /  66 epochs\n",
      "\tcompleted  48  /  66 epochs\n",
      "\tcompleted  54  /  66 epochs\n",
      "\tcompleted  60  /  66 epochs\n"
     ]
    },
    {
     "name": "stderr",
     "output_type": "stream",
     "text": [
      "Epochs completed: 100%| ███████████████████████████████████████████████████████████████████████████████████████████████████████████████████████████████████████████████████████████████████████████ 66/66 [00:28]\n"
     ]
    },
    {
     "name": "stdout",
     "output_type": "stream",
     "text": [
      "UMAP(init='pca', min_dist=0.0, n_epochs=200, n_jobs=95, n_neighbors=10, unique=True, verbose=True)\n",
      "Unique=True -> Number of data points reduced from  114885  to  114885\n",
      "Most common duplicate is 62991  with a count of  1\n",
      "Fri Apr 25 13:42:05 2025 Construct fuzzy simplicial set\n",
      "Fri Apr 25 13:42:05 2025 Finding Nearest Neighbors\n",
      "Fri Apr 25 13:42:05 2025 Building RP forest with 22 trees\n",
      "Fri Apr 25 13:42:05 2025 NN descent for 17 iterations\n",
      "\t 1  /  17\n",
      "\t 2  /  17\n",
      "\t 3  /  17\n",
      "\t 4  /  17\n",
      "\tStopping threshold met -- exiting after 4 iterations\n",
      "Fri Apr 25 13:42:09 2025 Finished Nearest Neighbor Search\n",
      "Fri Apr 25 13:42:10 2025 Construct embedding\n"
     ]
    },
    {
     "name": "stderr",
     "output_type": "stream",
     "text": [
      "Epochs completed:   4%| ██████▊                                                                                                                                                                     8/200 [00:00]"
     ]
    },
    {
     "name": "stdout",
     "output_type": "stream",
     "text": [
      "\tcompleted  0  /  200 epochs\n"
     ]
    },
    {
     "name": "stderr",
     "output_type": "stream",
     "text": [
      "Epochs completed:  14%| ██████████████████████▉                                                                                                                                                    27/200 [00:00]"
     ]
    },
    {
     "name": "stdout",
     "output_type": "stream",
     "text": [
      "\tcompleted  20  /  200 epochs\n"
     ]
    },
    {
     "name": "stderr",
     "output_type": "stream",
     "text": [
      "Epochs completed:  26%| ███████████████████████████████████████████▎                                                                                                                               51/200 [00:00]"
     ]
    },
    {
     "name": "stdout",
     "output_type": "stream",
     "text": [
      "\tcompleted  40  /  200 epochs\n"
     ]
    },
    {
     "name": "stderr",
     "output_type": "stream",
     "text": [
      "Epochs completed:  34%| ██████████████████████████████████████████████████████████▋                                                                                                                69/200 [00:01]"
     ]
    },
    {
     "name": "stdout",
     "output_type": "stream",
     "text": [
      "\tcompleted  60  /  200 epochs\n"
     ]
    },
    {
     "name": "stderr",
     "output_type": "stream",
     "text": [
      "Epochs completed:  44%| ███████████████████████████████████████████████████████████████████████████▋                                                                                               89/200 [00:01]"
     ]
    },
    {
     "name": "stdout",
     "output_type": "stream",
     "text": [
      "\tcompleted  80  /  200 epochs\n"
     ]
    },
    {
     "name": "stderr",
     "output_type": "stream",
     "text": [
      "Epochs completed:  55%| ████████████████████████████████████████████████████████████████████████████████████████████                                                                              109/200 [00:02]"
     ]
    },
    {
     "name": "stdout",
     "output_type": "stream",
     "text": [
      "\tcompleted  100  /  200 epochs\n"
     ]
    },
    {
     "name": "stderr",
     "output_type": "stream",
     "text": [
      "Epochs completed:  65%| █████████████████████████████████████████████████████████████████████████████████████████████████████████████▊                                                            130/200 [00:02]"
     ]
    },
    {
     "name": "stdout",
     "output_type": "stream",
     "text": [
      "\tcompleted  120  /  200 epochs\n"
     ]
    },
    {
     "name": "stderr",
     "output_type": "stream",
     "text": [
      "Epochs completed:  76%| ███████████████████████████████████████████████████████████████████████████████████████████████████████████████████████████████▌                                          151/200 [00:03]"
     ]
    },
    {
     "name": "stdout",
     "output_type": "stream",
     "text": [
      "\tcompleted  140  /  200 epochs\n"
     ]
    },
    {
     "name": "stderr",
     "output_type": "stream",
     "text": [
      "Epochs completed:  83%| ████████████████████████████████████████████████████████████████████████████████████████████████████████████████████████████████████████████▎                             166/200 [00:03]"
     ]
    },
    {
     "name": "stdout",
     "output_type": "stream",
     "text": [
      "\tcompleted  160  /  200 epochs\n"
     ]
    },
    {
     "name": "stderr",
     "output_type": "stream",
     "text": [
      "Epochs completed:  94%| ██████████████████████████████████████████████████████████████████████████████████████████████████████████████████████████████████████████████████████████████            187/200 [00:03]"
     ]
    },
    {
     "name": "stdout",
     "output_type": "stream",
     "text": [
      "\tcompleted  180  /  200 epochs\n"
     ]
    },
    {
     "name": "stderr",
     "output_type": "stream",
     "text": [
      "Epochs completed: 100%| █████████████████████████████████████████████████████████████████████████████████████████████████████████████████████████████████████████████████████████████████████████ 200/200 [00:04]\n"
     ]
    },
    {
     "name": "stdout",
     "output_type": "stream",
     "text": [
      "Fri Apr 25 13:42:14 2025 Finished embedding\n",
      "Fri Apr 25 13:42:19 2025 Worst tree score: 0.49959525\n",
      "Fri Apr 25 13:42:19 2025 Mean tree score: 0.50244513\n",
      "Fri Apr 25 13:42:19 2025 Best tree score: 0.50509640\n",
      "Fri Apr 25 13:42:19 2025 Forward diversification reduced edges from 1148850 to 592659\n",
      "Fri Apr 25 13:42:19 2025 Reverse diversification reduced edges from 592659 to 592659\n",
      "Fri Apr 25 13:42:19 2025 Degree pruning reduced edges from 664064 to 663904\n",
      "Fri Apr 25 13:42:19 2025 Resorting data and graph based on tree order\n",
      "Fri Apr 25 13:42:19 2025 Building and compiling search function\n"
     ]
    },
    {
     "name": "stderr",
     "output_type": "stream",
     "text": [
      "Epochs completed: 100%| ███████████████████████████████████████████████████████████████████████████████████████████████████████████████████████████████████████████████████████████████████████████ 66/66 [00:00]\n"
     ]
    },
    {
     "name": "stdout",
     "output_type": "stream",
     "text": [
      "\tcompleted  0  /  66 epochs\n",
      "\tcompleted  6  /  66 epochs\n",
      "\tcompleted  12  /  66 epochs\n",
      "\tcompleted  18  /  66 epochs\n",
      "\tcompleted  24  /  66 epochs\n",
      "\tcompleted  30  /  66 epochs\n",
      "\tcompleted  36  /  66 epochs\n",
      "\tcompleted  42  /  66 epochs\n",
      "\tcompleted  48  /  66 epochs\n",
      "\tcompleted  54  /  66 epochs\n",
      "\tcompleted  60  /  66 epochs\n"
     ]
    },
    {
     "name": "stderr",
     "output_type": "stream",
     "text": [
      "Epochs completed: 100%| ███████████████████████████████████████████████████████████████████████████████████████████████████████████████████████████████████████████████████████████████████████████ 66/66 [00:25]\n"
     ]
    },
    {
     "name": "stdout",
     "output_type": "stream",
     "text": [
      "UMAP(init='pca', min_dist=0.02, n_epochs=200, n_jobs=95, n_neighbors=10, unique=True, verbose=True)\n",
      "Unique=True -> Number of data points reduced from  114885  to  114885\n",
      "Most common duplicate is 62991  with a count of  1\n",
      "Fri Apr 25 13:44:53 2025 Construct fuzzy simplicial set\n",
      "Fri Apr 25 13:44:53 2025 Finding Nearest Neighbors\n",
      "Fri Apr 25 13:44:53 2025 Building RP forest with 22 trees\n",
      "Fri Apr 25 13:44:53 2025 NN descent for 17 iterations\n",
      "\t 1  /  17\n",
      "\t 2  /  17\n",
      "\t 3  /  17\n",
      "\t 4  /  17\n",
      "\tStopping threshold met -- exiting after 4 iterations\n",
      "Fri Apr 25 13:44:57 2025 Finished Nearest Neighbor Search\n",
      "Fri Apr 25 13:44:57 2025 Construct embedding\n"
     ]
    },
    {
     "name": "stderr",
     "output_type": "stream",
     "text": [
      "Epochs completed:   4%| ██████▊                                                                                                                                                                     8/200 [00:00]"
     ]
    },
    {
     "name": "stdout",
     "output_type": "stream",
     "text": [
      "\tcompleted  0  /  200 epochs\n"
     ]
    },
    {
     "name": "stderr",
     "output_type": "stream",
     "text": [
      "Epochs completed:  14%| ███████████████████████▊                                                                                                                                                   28/200 [00:00]"
     ]
    },
    {
     "name": "stdout",
     "output_type": "stream",
     "text": [
      "\tcompleted  20  /  200 epochs\n"
     ]
    },
    {
     "name": "stderr",
     "output_type": "stream",
     "text": [
      "Epochs completed:  23%| ███████████████████████████████████████                                                                                                                                    46/200 [00:00]"
     ]
    },
    {
     "name": "stdout",
     "output_type": "stream",
     "text": [
      "\tcompleted  40  /  200 epochs\n"
     ]
    },
    {
     "name": "stderr",
     "output_type": "stream",
     "text": [
      "Epochs completed:  34%| ██████████████████████████████████████████████████████████▋                                                                                                                69/200 [00:01]"
     ]
    },
    {
     "name": "stdout",
     "output_type": "stream",
     "text": [
      "\tcompleted  60  /  200 epochs\n"
     ]
    },
    {
     "name": "stderr",
     "output_type": "stream",
     "text": [
      "Epochs completed:  43%| █████████████████████████████████████████████████████████████████████████                                                                                                  86/200 [00:01]"
     ]
    },
    {
     "name": "stdout",
     "output_type": "stream",
     "text": [
      "\tcompleted  80  /  200 epochs\n"
     ]
    },
    {
     "name": "stderr",
     "output_type": "stream",
     "text": [
      "Epochs completed:  54%| ██████████████████████████████████████████████████████████████████████████████████████████▍                                                                               107/200 [00:02]"
     ]
    },
    {
     "name": "stdout",
     "output_type": "stream",
     "text": [
      "\tcompleted  100  /  200 epochs\n"
     ]
    },
    {
     "name": "stderr",
     "output_type": "stream",
     "text": [
      "Epochs completed:  64%| ████████████████████████████████████████████████████████████████████████████████████████████████████████████▏                                                             128/200 [00:02]"
     ]
    },
    {
     "name": "stdout",
     "output_type": "stream",
     "text": [
      "\tcompleted  120  /  200 epochs\n"
     ]
    },
    {
     "name": "stderr",
     "output_type": "stream",
     "text": [
      "Epochs completed:  73%| ███████████████████████████████████████████████████████████████████████████████████████████████████████████████████████████▎                                              146/200 [00:02]"
     ]
    },
    {
     "name": "stdout",
     "output_type": "stream",
     "text": [
      "\tcompleted  140  /  200 epochs\n"
     ]
    },
    {
     "name": "stderr",
     "output_type": "stream",
     "text": [
      "Epochs completed:  85%| ███████████████████████████████████████████████████████████████████████████████████████████████████████████████████████████████████████████████▋                          170/200 [00:03]"
     ]
    },
    {
     "name": "stdout",
     "output_type": "stream",
     "text": [
      "\tcompleted  160  /  200 epochs\n"
     ]
    },
    {
     "name": "stderr",
     "output_type": "stream",
     "text": [
      "Epochs completed:  94%| ██████████████████████████████████████████████████████████████████████████████████████████████████████████████████████████████████████████████████████████████▊           188/200 [00:03]"
     ]
    },
    {
     "name": "stdout",
     "output_type": "stream",
     "text": [
      "\tcompleted  180  /  200 epochs\n"
     ]
    },
    {
     "name": "stderr",
     "output_type": "stream",
     "text": [
      "Epochs completed: 100%| █████████████████████████████████████████████████████████████████████████████████████████████████████████████████████████████████████████████████████████████████████████ 200/200 [00:03]\n"
     ]
    },
    {
     "name": "stdout",
     "output_type": "stream",
     "text": [
      "Fri Apr 25 13:45:02 2025 Finished embedding\n",
      "Fri Apr 25 13:45:06 2025 Worst tree score: 0.49668799\n",
      "Fri Apr 25 13:45:06 2025 Mean tree score: 0.50138914\n",
      "Fri Apr 25 13:45:06 2025 Best tree score: 0.50616704\n",
      "Fri Apr 25 13:45:07 2025 Forward diversification reduced edges from 1148850 to 592660\n",
      "Fri Apr 25 13:45:07 2025 Reverse diversification reduced edges from 592660 to 592660\n",
      "Fri Apr 25 13:45:07 2025 Degree pruning reduced edges from 664124 to 663966\n",
      "Fri Apr 25 13:45:07 2025 Resorting data and graph based on tree order\n",
      "Fri Apr 25 13:45:07 2025 Building and compiling search function\n"
     ]
    },
    {
     "name": "stderr",
     "output_type": "stream",
     "text": [
      "Epochs completed: 100%| ███████████████████████████████████████████████████████████████████████████████████████████████████████████████████████████████████████████████████████████████████████████ 66/66 [00:00]\n"
     ]
    },
    {
     "name": "stdout",
     "output_type": "stream",
     "text": [
      "\tcompleted  0  /  66 epochs\n",
      "\tcompleted  6  /  66 epochs\n",
      "\tcompleted  12  /  66 epochs\n",
      "\tcompleted  18  /  66 epochs\n",
      "\tcompleted  24  /  66 epochs\n",
      "\tcompleted  30  /  66 epochs\n",
      "\tcompleted  36  /  66 epochs\n",
      "\tcompleted  42  /  66 epochs\n",
      "\tcompleted  48  /  66 epochs\n",
      "\tcompleted  54  /  66 epochs\n",
      "\tcompleted  60  /  66 epochs\n"
     ]
    },
    {
     "name": "stderr",
     "output_type": "stream",
     "text": [
      "Epochs completed: 100%| ███████████████████████████████████████████████████████████████████████████████████████████████████████████████████████████████████████████████████████████████████████████ 66/66 [00:25]\n"
     ]
    },
    {
     "name": "stdout",
     "output_type": "stream",
     "text": [
      "UMAP(init='pca', min_dist=0.05, n_epochs=200, n_jobs=95, n_neighbors=10, unique=True, verbose=True)\n",
      "Unique=True -> Number of data points reduced from  114885  to  114885\n",
      "Most common duplicate is 62991  with a count of  1\n",
      "Fri Apr 25 13:47:36 2025 Construct fuzzy simplicial set\n",
      "Fri Apr 25 13:47:36 2025 Finding Nearest Neighbors\n",
      "Fri Apr 25 13:47:36 2025 Building RP forest with 22 trees\n",
      "Fri Apr 25 13:47:37 2025 NN descent for 17 iterations\n",
      "\t 1  /  17\n",
      "\t 2  /  17\n",
      "\t 3  /  17\n",
      "\t 4  /  17\n",
      "\tStopping threshold met -- exiting after 4 iterations\n",
      "Fri Apr 25 13:47:41 2025 Finished Nearest Neighbor Search\n",
      "Fri Apr 25 13:47:41 2025 Construct embedding\n"
     ]
    },
    {
     "name": "stderr",
     "output_type": "stream",
     "text": [
      "Epochs completed:   4%| ██████▊                                                                                                                                                                     8/200 [00:00]"
     ]
    },
    {
     "name": "stdout",
     "output_type": "stream",
     "text": [
      "\tcompleted  0  /  200 epochs\n"
     ]
    },
    {
     "name": "stderr",
     "output_type": "stream",
     "text": [
      "Epochs completed:  14%| ███████████████████████▊                                                                                                                                                   28/200 [00:00]"
     ]
    },
    {
     "name": "stdout",
     "output_type": "stream",
     "text": [
      "\tcompleted  20  /  200 epochs\n"
     ]
    },
    {
     "name": "stderr",
     "output_type": "stream",
     "text": [
      "Epochs completed:  23%| ███████████████████████████████████████                                                                                                                                    46/200 [00:00]"
     ]
    },
    {
     "name": "stdout",
     "output_type": "stream",
     "text": [
      "\tcompleted  40  /  200 epochs\n"
     ]
    },
    {
     "name": "stderr",
     "output_type": "stream",
     "text": [
      "Epochs completed:  35%| ███████████████████████████████████████████████████████████▍                                                                                                               70/200 [00:01]"
     ]
    },
    {
     "name": "stdout",
     "output_type": "stream",
     "text": [
      "\tcompleted  60  /  200 epochs\n"
     ]
    },
    {
     "name": "stderr",
     "output_type": "stream",
     "text": [
      "Epochs completed:  44%| ██████████████████████████████████████████████████████████████████████████▊                                                                                                88/200 [00:01]"
     ]
    },
    {
     "name": "stdout",
     "output_type": "stream",
     "text": [
      "\tcompleted  80  /  200 epochs\n"
     ]
    },
    {
     "name": "stderr",
     "output_type": "stream",
     "text": [
      "Epochs completed:  53%| █████████████████████████████████████████████████████████████████████████████████████████▌                                                                                106/200 [00:02]"
     ]
    },
    {
     "name": "stdout",
     "output_type": "stream",
     "text": [
      "\tcompleted  100  /  200 epochs\n"
     ]
    },
    {
     "name": "stderr",
     "output_type": "stream",
     "text": [
      "Epochs completed:  65%| █████████████████████████████████████████████████████████████████████████████████████████████████████████████▊                                                            130/200 [00:02]"
     ]
    },
    {
     "name": "stdout",
     "output_type": "stream",
     "text": [
      "\tcompleted  120  /  200 epochs\n"
     ]
    },
    {
     "name": "stderr",
     "output_type": "stream",
     "text": [
      "Epochs completed:  74%| █████████████████████████████████████████████████████████████████████████████████████████████████████████████████████████████                                             148/200 [00:02]"
     ]
    },
    {
     "name": "stdout",
     "output_type": "stream",
     "text": [
      "\tcompleted  140  /  200 epochs\n"
     ]
    },
    {
     "name": "stderr",
     "output_type": "stream",
     "text": [
      "Epochs completed:  83%| ████████████████████████████████████████████████████████████████████████████████████████████████████████████████████████████████████████████▎                             166/200 [00:03]"
     ]
    },
    {
     "name": "stdout",
     "output_type": "stream",
     "text": [
      "\tcompleted  160  /  200 epochs\n"
     ]
    },
    {
     "name": "stderr",
     "output_type": "stream",
     "text": [
      "Epochs completed:  95%| ████████████████████████████████████████████████████████████████████████████████████████████████████████████████████████████████████████████████████████████████▌         190/200 [00:03]"
     ]
    },
    {
     "name": "stdout",
     "output_type": "stream",
     "text": [
      "\tcompleted  180  /  200 epochs\n"
     ]
    },
    {
     "name": "stderr",
     "output_type": "stream",
     "text": [
      "Epochs completed: 100%| █████████████████████████████████████████████████████████████████████████████████████████████████████████████████████████████████████████████████████████████████████████ 200/200 [00:03]\n"
     ]
    },
    {
     "name": "stdout",
     "output_type": "stream",
     "text": [
      "Fri Apr 25 13:47:45 2025 Finished embedding\n",
      "Fri Apr 25 13:47:50 2025 Worst tree score: 0.49855943\n",
      "Fri Apr 25 13:47:50 2025 Mean tree score: 0.50182040\n",
      "Fri Apr 25 13:47:50 2025 Best tree score: 0.50481786\n",
      "Fri Apr 25 13:47:50 2025 Forward diversification reduced edges from 1148850 to 592731\n",
      "Fri Apr 25 13:47:50 2025 Reverse diversification reduced edges from 592731 to 592731\n",
      "Fri Apr 25 13:47:50 2025 Degree pruning reduced edges from 664294 to 664132\n",
      "Fri Apr 25 13:47:50 2025 Resorting data and graph based on tree order\n",
      "Fri Apr 25 13:47:50 2025 Building and compiling search function\n"
     ]
    },
    {
     "name": "stderr",
     "output_type": "stream",
     "text": [
      "Epochs completed: 100%| ███████████████████████████████████████████████████████████████████████████████████████████████████████████████████████████████████████████████████████████████████████████ 66/66 [00:00]\n"
     ]
    },
    {
     "name": "stdout",
     "output_type": "stream",
     "text": [
      "\tcompleted  0  /  66 epochs\n",
      "\tcompleted  6  /  66 epochs\n",
      "\tcompleted  12  /  66 epochs\n",
      "\tcompleted  18  /  66 epochs\n",
      "\tcompleted  24  /  66 epochs\n",
      "\tcompleted  30  /  66 epochs\n",
      "\tcompleted  36  /  66 epochs\n",
      "\tcompleted  42  /  66 epochs\n",
      "\tcompleted  48  /  66 epochs\n",
      "\tcompleted  54  /  66 epochs\n",
      "\tcompleted  60  /  66 epochs\n"
     ]
    },
    {
     "name": "stderr",
     "output_type": "stream",
     "text": [
      "Epochs completed: 100%| ███████████████████████████████████████████████████████████████████████████████████████████████████████████████████████████████████████████████████████████████████████████ 66/66 [00:25]\n"
     ]
    },
    {
     "name": "stdout",
     "output_type": "stream",
     "text": [
      "UMAP(init='pca', n_epochs=200, n_jobs=95, n_neighbors=10, unique=True, verbose=True)\n",
      "Unique=True -> Number of data points reduced from  114885  to  114885\n",
      "Most common duplicate is 62991  with a count of  1\n",
      "Fri Apr 25 13:50:19 2025 Construct fuzzy simplicial set\n",
      "Fri Apr 25 13:50:19 2025 Finding Nearest Neighbors\n",
      "Fri Apr 25 13:50:19 2025 Building RP forest with 22 trees\n",
      "Fri Apr 25 13:50:19 2025 NN descent for 17 iterations\n",
      "\t 1  /  17\n",
      "\t 2  /  17\n",
      "\t 3  /  17\n",
      "\t 4  /  17\n",
      "\tStopping threshold met -- exiting after 4 iterations\n",
      "Fri Apr 25 13:50:24 2025 Finished Nearest Neighbor Search\n",
      "Fri Apr 25 13:50:24 2025 Construct embedding\n"
     ]
    },
    {
     "name": "stderr",
     "output_type": "stream",
     "text": [
      "Epochs completed:   4%| ██████▊                                                                                                                                                                     8/200 [00:00]"
     ]
    },
    {
     "name": "stdout",
     "output_type": "stream",
     "text": [
      "\tcompleted  0  /  200 epochs\n"
     ]
    },
    {
     "name": "stderr",
     "output_type": "stream",
     "text": [
      "Epochs completed:  14%| ███████████████████████▊                                                                                                                                                   28/200 [00:00]"
     ]
    },
    {
     "name": "stdout",
     "output_type": "stream",
     "text": [
      "\tcompleted  20  /  200 epochs\n"
     ]
    },
    {
     "name": "stderr",
     "output_type": "stream",
     "text": [
      "Epochs completed:  23%| ███████████████████████████████████████                                                                                                                                    46/200 [00:00]"
     ]
    },
    {
     "name": "stdout",
     "output_type": "stream",
     "text": [
      "\tcompleted  40  /  200 epochs\n"
     ]
    },
    {
     "name": "stderr",
     "output_type": "stream",
     "text": [
      "Epochs completed:  35%| ███████████████████████████████████████████████████████████▍                                                                                                               70/200 [00:01]"
     ]
    },
    {
     "name": "stdout",
     "output_type": "stream",
     "text": [
      "\tcompleted  60  /  200 epochs\n"
     ]
    },
    {
     "name": "stderr",
     "output_type": "stream",
     "text": [
      "Epochs completed:  44%| ██████████████████████████████████████████████████████████████████████████▊                                                                                                88/200 [00:01]"
     ]
    },
    {
     "name": "stdout",
     "output_type": "stream",
     "text": [
      "\tcompleted  80  /  200 epochs\n"
     ]
    },
    {
     "name": "stderr",
     "output_type": "stream",
     "text": [
      "Epochs completed:  53%| █████████████████████████████████████████████████████████████████████████████████████████▌                                                                                106/200 [00:02]"
     ]
    },
    {
     "name": "stdout",
     "output_type": "stream",
     "text": [
      "\tcompleted  100  /  200 epochs\n"
     ]
    },
    {
     "name": "stderr",
     "output_type": "stream",
     "text": [
      "Epochs completed:  65%| █████████████████████████████████████████████████████████████████████████████████████████████████████████████▊                                                            130/200 [00:02]"
     ]
    },
    {
     "name": "stdout",
     "output_type": "stream",
     "text": [
      "\tcompleted  120  /  200 epochs\n"
     ]
    },
    {
     "name": "stderr",
     "output_type": "stream",
     "text": [
      "Epochs completed:  74%| █████████████████████████████████████████████████████████████████████████████████████████████████████████████████████████████                                             148/200 [00:02]"
     ]
    },
    {
     "name": "stdout",
     "output_type": "stream",
     "text": [
      "\tcompleted  140  /  200 epochs\n"
     ]
    },
    {
     "name": "stderr",
     "output_type": "stream",
     "text": [
      "Epochs completed:  83%| ████████████████████████████████████████████████████████████████████████████████████████████████████████████████████████████████████████████▎                             166/200 [00:03]"
     ]
    },
    {
     "name": "stdout",
     "output_type": "stream",
     "text": [
      "\tcompleted  160  /  200 epochs\n"
     ]
    },
    {
     "name": "stderr",
     "output_type": "stream",
     "text": [
      "Epochs completed:  95%| ████████████████████████████████████████████████████████████████████████████████████████████████████████████████████████████████████████████████████████████████▌         190/200 [00:03]"
     ]
    },
    {
     "name": "stdout",
     "output_type": "stream",
     "text": [
      "\tcompleted  180  /  200 epochs\n"
     ]
    },
    {
     "name": "stderr",
     "output_type": "stream",
     "text": [
      "Epochs completed: 100%| █████████████████████████████████████████████████████████████████████████████████████████████████████████████████████████████████████████████████████████████████████████ 200/200 [00:03]\n"
     ]
    },
    {
     "name": "stdout",
     "output_type": "stream",
     "text": [
      "Fri Apr 25 13:50:28 2025 Finished embedding\n",
      "Fri Apr 25 13:50:32 2025 Worst tree score: 0.49865518\n",
      "Fri Apr 25 13:50:32 2025 Mean tree score: 0.50225443\n",
      "Fri Apr 25 13:50:32 2025 Best tree score: 0.50483527\n",
      "Fri Apr 25 13:50:33 2025 Forward diversification reduced edges from 1148850 to 592626\n",
      "Fri Apr 25 13:50:33 2025 Reverse diversification reduced edges from 592626 to 592626\n",
      "Fri Apr 25 13:50:33 2025 Degree pruning reduced edges from 663976 to 663816\n",
      "Fri Apr 25 13:50:33 2025 Resorting data and graph based on tree order\n",
      "Fri Apr 25 13:50:33 2025 Building and compiling search function\n"
     ]
    },
    {
     "name": "stderr",
     "output_type": "stream",
     "text": [
      "Epochs completed: 100%| ███████████████████████████████████████████████████████████████████████████████████████████████████████████████████████████████████████████████████████████████████████████ 66/66 [00:00]\n"
     ]
    },
    {
     "name": "stdout",
     "output_type": "stream",
     "text": [
      "\tcompleted  0  /  66 epochs\n",
      "\tcompleted  6  /  66 epochs\n",
      "\tcompleted  12  /  66 epochs\n",
      "\tcompleted  18  /  66 epochs\n",
      "\tcompleted  24  /  66 epochs\n",
      "\tcompleted  30  /  66 epochs\n",
      "\tcompleted  36  /  66 epochs\n",
      "\tcompleted  42  /  66 epochs\n",
      "\tcompleted  48  /  66 epochs\n",
      "\tcompleted  54  /  66 epochs\n",
      "\tcompleted  60  /  66 epochs\n"
     ]
    },
    {
     "name": "stderr",
     "output_type": "stream",
     "text": [
      "Epochs completed: 100%| ███████████████████████████████████████████████████████████████████████████████████████████████████████████████████████████████████████████████████████████████████████████ 66/66 [00:27]\n"
     ]
    },
    {
     "name": "stdout",
     "output_type": "stream",
     "text": [
      "UMAP(init='pca', min_dist=0.2, n_epochs=200, n_jobs=95, n_neighbors=10, unique=True, verbose=True)\n",
      "Unique=True -> Number of data points reduced from  114885  to  114885\n",
      "Most common duplicate is 62991  with a count of  1\n",
      "Fri Apr 25 13:53:07 2025 Construct fuzzy simplicial set\n",
      "Fri Apr 25 13:53:07 2025 Finding Nearest Neighbors\n",
      "Fri Apr 25 13:53:07 2025 Building RP forest with 22 trees\n",
      "Fri Apr 25 13:53:07 2025 NN descent for 17 iterations\n",
      "\t 1  /  17\n",
      "\t 2  /  17\n",
      "\t 3  /  17\n",
      "\t 4  /  17\n",
      "\tStopping threshold met -- exiting after 4 iterations\n",
      "Fri Apr 25 13:53:12 2025 Finished Nearest Neighbor Search\n",
      "Fri Apr 25 13:53:12 2025 Construct embedding\n"
     ]
    },
    {
     "name": "stderr",
     "output_type": "stream",
     "text": [
      "Epochs completed:   4%| ██████▊                                                                                                                                                                     8/200 [00:00]"
     ]
    },
    {
     "name": "stdout",
     "output_type": "stream",
     "text": [
      "\tcompleted  0  /  200 epochs\n"
     ]
    },
    {
     "name": "stderr",
     "output_type": "stream",
     "text": [
      "Epochs completed:  14%| ██████████████████████▉                                                                                                                                                    27/200 [00:00]"
     ]
    },
    {
     "name": "stdout",
     "output_type": "stream",
     "text": [
      "\tcompleted  20  /  200 epochs\n"
     ]
    },
    {
     "name": "stderr",
     "output_type": "stream",
     "text": [
      "Epochs completed:  26%| ███████████████████████████████████████████▎                                                                                                                               51/200 [00:00]"
     ]
    },
    {
     "name": "stdout",
     "output_type": "stream",
     "text": [
      "\tcompleted  40  /  200 epochs\n"
     ]
    },
    {
     "name": "stderr",
     "output_type": "stream",
     "text": [
      "Epochs completed:  34%| ██████████████████████████████████████████████████████████▋                                                                                                                69/200 [00:01]"
     ]
    },
    {
     "name": "stdout",
     "output_type": "stream",
     "text": [
      "\tcompleted  60  /  200 epochs\n"
     ]
    },
    {
     "name": "stderr",
     "output_type": "stream",
     "text": [
      "Epochs completed:  44%| █████████████████████████████████████████████████████████████████████████▉                                                                                                 87/200 [00:01]"
     ]
    },
    {
     "name": "stdout",
     "output_type": "stream",
     "text": [
      "\tcompleted  80  /  200 epochs\n"
     ]
    },
    {
     "name": "stderr",
     "output_type": "stream",
     "text": [
      "Epochs completed:  56%| █████████████████████████████████████████████████████████████████████████████████████████████▊                                                                            111/200 [00:02]"
     ]
    },
    {
     "name": "stdout",
     "output_type": "stream",
     "text": [
      "\tcompleted  100  /  200 epochs\n"
     ]
    },
    {
     "name": "stderr",
     "output_type": "stream",
     "text": [
      "Epochs completed:  64%| █████████████████████████████████████████████████████████████████████████████████████████████████████████████                                                             129/200 [00:02]"
     ]
    },
    {
     "name": "stdout",
     "output_type": "stream",
     "text": [
      "\tcompleted  120  /  200 epochs\n"
     ]
    },
    {
     "name": "stderr",
     "output_type": "stream",
     "text": [
      "Epochs completed:  74%| ████████████████████████████████████████████████████████████████████████████████████████████████████████████████████████████▏                                             147/200 [00:02]"
     ]
    },
    {
     "name": "stdout",
     "output_type": "stream",
     "text": [
      "\tcompleted  140  /  200 epochs\n"
     ]
    },
    {
     "name": "stderr",
     "output_type": "stream",
     "text": [
      "Epochs completed:  86%| ████████████████████████████████████████████████████████████████████████████████████████████████████████████████████████████████████████████████▍                         171/200 [00:03]"
     ]
    },
    {
     "name": "stdout",
     "output_type": "stream",
     "text": [
      "\tcompleted  160  /  200 epochs\n"
     ]
    },
    {
     "name": "stderr",
     "output_type": "stream",
     "text": [
      "Epochs completed:  94%| ███████████████████████████████████████████████████████████████████████████████████████████████████████████████████████████████████████████████████████████████▋          189/200 [00:03]"
     ]
    },
    {
     "name": "stdout",
     "output_type": "stream",
     "text": [
      "\tcompleted  180  /  200 epochs\n"
     ]
    },
    {
     "name": "stderr",
     "output_type": "stream",
     "text": [
      "Epochs completed: 100%| █████████████████████████████████████████████████████████████████████████████████████████████████████████████████████████████████████████████████████████████████████████ 200/200 [00:03]\n"
     ]
    },
    {
     "name": "stdout",
     "output_type": "stream",
     "text": [
      "Fri Apr 25 13:53:16 2025 Finished embedding\n",
      "Fri Apr 25 13:53:21 2025 Worst tree score: 0.49979545\n",
      "Fri Apr 25 13:53:21 2025 Mean tree score: 0.50302397\n",
      "Fri Apr 25 13:53:21 2025 Best tree score: 0.50724638\n",
      "Fri Apr 25 13:53:21 2025 Forward diversification reduced edges from 1148850 to 592781\n",
      "Fri Apr 25 13:53:21 2025 Reverse diversification reduced edges from 592781 to 592781\n",
      "Fri Apr 25 13:53:21 2025 Degree pruning reduced edges from 664246 to 664085\n",
      "Fri Apr 25 13:53:21 2025 Resorting data and graph based on tree order\n",
      "Fri Apr 25 13:53:21 2025 Building and compiling search function\n"
     ]
    },
    {
     "name": "stderr",
     "output_type": "stream",
     "text": [
      "Epochs completed: 100%| ███████████████████████████████████████████████████████████████████████████████████████████████████████████████████████████████████████████████████████████████████████████ 66/66 [00:00]\n"
     ]
    },
    {
     "name": "stdout",
     "output_type": "stream",
     "text": [
      "\tcompleted  0  /  66 epochs\n",
      "\tcompleted  6  /  66 epochs\n",
      "\tcompleted  12  /  66 epochs\n",
      "\tcompleted  18  /  66 epochs\n",
      "\tcompleted  24  /  66 epochs\n",
      "\tcompleted  30  /  66 epochs\n",
      "\tcompleted  36  /  66 epochs\n",
      "\tcompleted  42  /  66 epochs\n",
      "\tcompleted  48  /  66 epochs\n",
      "\tcompleted  54  /  66 epochs\n",
      "\tcompleted  60  /  66 epochs\n"
     ]
    },
    {
     "name": "stderr",
     "output_type": "stream",
     "text": [
      "Epochs completed: 100%| ███████████████████████████████████████████████████████████████████████████████████████████████████████████████████████████████████████████████████████████████████████████ 66/66 [00:27]\n"
     ]
    },
    {
     "name": "stdout",
     "output_type": "stream",
     "text": [
      "UMAP(init='pca', min_dist=0.5, n_epochs=200, n_jobs=95, n_neighbors=10, unique=True, verbose=True)\n",
      "Unique=True -> Number of data points reduced from  114885  to  114885\n",
      "Most common duplicate is 62991  with a count of  1\n",
      "Fri Apr 25 13:55:52 2025 Construct fuzzy simplicial set\n",
      "Fri Apr 25 13:55:52 2025 Finding Nearest Neighbors\n",
      "Fri Apr 25 13:55:52 2025 Building RP forest with 22 trees\n",
      "Fri Apr 25 13:55:53 2025 NN descent for 17 iterations\n",
      "\t 1  /  17\n",
      "\t 2  /  17\n",
      "\t 3  /  17\n",
      "\t 4  /  17\n",
      "\tStopping threshold met -- exiting after 4 iterations\n",
      "Fri Apr 25 13:55:57 2025 Finished Nearest Neighbor Search\n",
      "Fri Apr 25 13:55:57 2025 Construct embedding\n"
     ]
    },
    {
     "name": "stderr",
     "output_type": "stream",
     "text": [
      "Epochs completed:   4%| ██████▊                                                                                                                                                                     8/200 [00:00]"
     ]
    },
    {
     "name": "stdout",
     "output_type": "stream",
     "text": [
      "\tcompleted  0  /  200 epochs\n"
     ]
    },
    {
     "name": "stderr",
     "output_type": "stream",
     "text": [
      "Epochs completed:  14%| ██████████████████████▉                                                                                                                                                    27/200 [00:00]"
     ]
    },
    {
     "name": "stdout",
     "output_type": "stream",
     "text": [
      "\tcompleted  20  /  200 epochs\n"
     ]
    },
    {
     "name": "stderr",
     "output_type": "stream",
     "text": [
      "Epochs completed:  26%| ███████████████████████████████████████████▎                                                                                                                               51/200 [00:00]"
     ]
    },
    {
     "name": "stdout",
     "output_type": "stream",
     "text": [
      "\tcompleted  40  /  200 epochs\n"
     ]
    },
    {
     "name": "stderr",
     "output_type": "stream",
     "text": [
      "Epochs completed:  34%| ██████████████████████████████████████████████████████████▋                                                                                                                69/200 [00:01]"
     ]
    },
    {
     "name": "stdout",
     "output_type": "stream",
     "text": [
      "\tcompleted  60  /  200 epochs\n"
     ]
    },
    {
     "name": "stderr",
     "output_type": "stream",
     "text": [
      "Epochs completed:  44%| █████████████████████████████████████████████████████████████████████████▉                                                                                                 87/200 [00:01]"
     ]
    },
    {
     "name": "stdout",
     "output_type": "stream",
     "text": [
      "\tcompleted  80  /  200 epochs\n"
     ]
    },
    {
     "name": "stderr",
     "output_type": "stream",
     "text": [
      "Epochs completed:  55%| ████████████████████████████████████████████████████████████████████████████████████████████▉                                                                             110/200 [00:02]"
     ]
    },
    {
     "name": "stdout",
     "output_type": "stream",
     "text": [
      "\tcompleted  100  /  200 epochs\n"
     ]
    },
    {
     "name": "stderr",
     "output_type": "stream",
     "text": [
      "Epochs completed:  66%| ██████████████████████████████████████████████████████████████████████████████████████████████████████████████▋                                                           131/200 [00:02]"
     ]
    },
    {
     "name": "stdout",
     "output_type": "stream",
     "text": [
      "\tcompleted  120  /  200 epochs\n"
     ]
    },
    {
     "name": "stderr",
     "output_type": "stream",
     "text": [
      "Epochs completed:  74%| █████████████████████████████████████████████████████████████████████████████████████████████████████████████████████████████                                             148/200 [00:02]"
     ]
    },
    {
     "name": "stdout",
     "output_type": "stream",
     "text": [
      "\tcompleted  140  /  200 epochs\n"
     ]
    },
    {
     "name": "stderr",
     "output_type": "stream",
     "text": [
      "Epochs completed:  83%| ████████████████████████████████████████████████████████████████████████████████████████████████████████████████████████████████████████████▎                             166/200 [00:03]"
     ]
    },
    {
     "name": "stdout",
     "output_type": "stream",
     "text": [
      "\tcompleted  160  /  200 epochs\n"
     ]
    },
    {
     "name": "stderr",
     "output_type": "stream",
     "text": [
      "Epochs completed:  95%| ████████████████████████████████████████████████████████████████████████████████████████████████████████████████████████████████████████████████████████████████▌         190/200 [00:03]"
     ]
    },
    {
     "name": "stdout",
     "output_type": "stream",
     "text": [
      "\tcompleted  180  /  200 epochs\n"
     ]
    },
    {
     "name": "stderr",
     "output_type": "stream",
     "text": [
      "Epochs completed: 100%| █████████████████████████████████████████████████████████████████████████████████████████████████████████████████████████████████████████████████████████████████████████ 200/200 [00:03]\n"
     ]
    },
    {
     "name": "stdout",
     "output_type": "stream",
     "text": [
      "Fri Apr 25 13:56:02 2025 Finished embedding\n",
      "Fri Apr 25 13:56:06 2025 Worst tree score: 0.49821996\n",
      "Fri Apr 25 13:56:06 2025 Mean tree score: 0.50326493\n",
      "Fri Apr 25 13:56:06 2025 Best tree score: 0.50644558\n",
      "Fri Apr 25 13:56:06 2025 Forward diversification reduced edges from 1148850 to 592798\n",
      "Fri Apr 25 13:56:06 2025 Reverse diversification reduced edges from 592798 to 592798\n",
      "Fri Apr 25 13:56:06 2025 Degree pruning reduced edges from 664344 to 664190\n",
      "Fri Apr 25 13:56:06 2025 Resorting data and graph based on tree order\n",
      "Fri Apr 25 13:56:07 2025 Building and compiling search function\n"
     ]
    },
    {
     "name": "stderr",
     "output_type": "stream",
     "text": [
      "Epochs completed: 100%| ███████████████████████████████████████████████████████████████████████████████████████████████████████████████████████████████████████████████████████████████████████████ 66/66 [00:00]\n"
     ]
    },
    {
     "name": "stdout",
     "output_type": "stream",
     "text": [
      "\tcompleted  0  /  66 epochs\n",
      "\tcompleted  6  /  66 epochs\n",
      "\tcompleted  12  /  66 epochs\n",
      "\tcompleted  18  /  66 epochs\n",
      "\tcompleted  24  /  66 epochs\n",
      "\tcompleted  30  /  66 epochs\n",
      "\tcompleted  36  /  66 epochs\n",
      "\tcompleted  42  /  66 epochs\n",
      "\tcompleted  48  /  66 epochs\n",
      "\tcompleted  54  /  66 epochs\n",
      "\tcompleted  60  /  66 epochs\n"
     ]
    },
    {
     "name": "stderr",
     "output_type": "stream",
     "text": [
      "Epochs completed: 100%| ███████████████████████████████████████████████████████████████████████████████████████████████████████████████████████████████████████████████████████████████████████████ 66/66 [00:28]\n"
     ]
    },
    {
     "name": "stdout",
     "output_type": "stream",
     "text": [
      "UMAP(init='pca', min_dist=0.8, n_epochs=200, n_jobs=95, n_neighbors=10, unique=True, verbose=True)\n",
      "Unique=True -> Number of data points reduced from  114885  to  114885\n",
      "Most common duplicate is 62991  with a count of  1\n",
      "Fri Apr 25 13:58:43 2025 Construct fuzzy simplicial set\n",
      "Fri Apr 25 13:58:43 2025 Finding Nearest Neighbors\n",
      "Fri Apr 25 13:58:43 2025 Building RP forest with 22 trees\n",
      "Fri Apr 25 13:58:44 2025 NN descent for 17 iterations\n",
      "\t 1  /  17\n",
      "\t 2  /  17\n",
      "\t 3  /  17\n",
      "\t 4  /  17\n",
      "\tStopping threshold met -- exiting after 4 iterations\n",
      "Fri Apr 25 13:58:48 2025 Finished Nearest Neighbor Search\n",
      "Fri Apr 25 13:58:48 2025 Construct embedding\n"
     ]
    },
    {
     "name": "stderr",
     "output_type": "stream",
     "text": [
      "Epochs completed:   4%| ██████▊                                                                                                                                                                     8/200 [00:00]"
     ]
    },
    {
     "name": "stdout",
     "output_type": "stream",
     "text": [
      "\tcompleted  0  /  200 epochs\n"
     ]
    },
    {
     "name": "stderr",
     "output_type": "stream",
     "text": [
      "Epochs completed:  14%| ████████████████████████▋                                                                                                                                                  29/200 [00:00]"
     ]
    },
    {
     "name": "stdout",
     "output_type": "stream",
     "text": [
      "\tcompleted  20  /  200 epochs\n"
     ]
    },
    {
     "name": "stderr",
     "output_type": "stream",
     "text": [
      "Epochs completed:  24%| ███████████████████████████████████████▉                                                                                                                                   47/200 [00:00]"
     ]
    },
    {
     "name": "stdout",
     "output_type": "stream",
     "text": [
      "\tcompleted  40  /  200 epochs\n"
     ]
    },
    {
     "name": "stderr",
     "output_type": "stream",
     "text": [
      "Epochs completed:  35%| ███████████████████████████████████████████████████████████▍                                                                                                               70/200 [00:01]"
     ]
    },
    {
     "name": "stdout",
     "output_type": "stream",
     "text": [
      "\tcompleted  60  /  200 epochs\n"
     ]
    },
    {
     "name": "stderr",
     "output_type": "stream",
     "text": [
      "Epochs completed:  45%| ████████████████████████████████████████████████████████████████████████████▌                                                                                              90/200 [00:01]"
     ]
    },
    {
     "name": "stdout",
     "output_type": "stream",
     "text": [
      "\tcompleted  80  /  200 epochs\n"
     ]
    },
    {
     "name": "stderr",
     "output_type": "stream",
     "text": [
      "Epochs completed:  56%| █████████████████████████████████████████████████████████████████████████████████████████████▊                                                                            111/200 [00:02]"
     ]
    },
    {
     "name": "stdout",
     "output_type": "stream",
     "text": [
      "\tcompleted  100  /  200 epochs\n"
     ]
    },
    {
     "name": "stderr",
     "output_type": "stream",
     "text": [
      "Epochs completed:  64%| ███████████████████████████████████████████████████████████████████████████████████████████████████████████▎                                                              127/200 [00:02]"
     ]
    },
    {
     "name": "stdout",
     "output_type": "stream",
     "text": [
      "\tcompleted  120  /  200 epochs\n"
     ]
    },
    {
     "name": "stderr",
     "output_type": "stream",
     "text": [
      "Epochs completed:  74%| █████████████████████████████████████████████████████████████████████████████████████████████████████████████████████████████                                             148/200 [00:02]"
     ]
    },
    {
     "name": "stdout",
     "output_type": "stream",
     "text": [
      "\tcompleted  140  /  200 epochs\n"
     ]
    },
    {
     "name": "stderr",
     "output_type": "stream",
     "text": [
      "Epochs completed:  85%| ███████████████████████████████████████████████████████████████████████████████████████████████████████████████████████████████████████████████▋                          170/200 [00:03]"
     ]
    },
    {
     "name": "stdout",
     "output_type": "stream",
     "text": [
      "\tcompleted  160  /  200 epochs\n"
     ]
    },
    {
     "name": "stderr",
     "output_type": "stream",
     "text": [
      "Epochs completed:  96%| █████████████████████████████████████████████████████████████████████████████████████████████████████████████████████████████████████████████████████████████████▍        191/200 [00:03]"
     ]
    },
    {
     "name": "stdout",
     "output_type": "stream",
     "text": [
      "\tcompleted  180  /  200 epochs\n"
     ]
    },
    {
     "name": "stderr",
     "output_type": "stream",
     "text": [
      "Epochs completed: 100%| █████████████████████████████████████████████████████████████████████████████████████████████████████████████████████████████████████████████████████████████████████████ 200/200 [00:03]\n"
     ]
    },
    {
     "name": "stdout",
     "output_type": "stream",
     "text": [
      "Fri Apr 25 13:58:52 2025 Finished embedding\n",
      "Fri Apr 25 13:58:57 2025 Worst tree score: 0.49889019\n",
      "Fri Apr 25 13:58:57 2025 Mean tree score: 0.50251042\n",
      "Fri Apr 25 13:58:57 2025 Best tree score: 0.50525308\n",
      "Fri Apr 25 13:58:57 2025 Forward diversification reduced edges from 1148850 to 592571\n",
      "Fri Apr 25 13:58:57 2025 Reverse diversification reduced edges from 592571 to 592571\n",
      "Fri Apr 25 13:58:58 2025 Degree pruning reduced edges from 663938 to 663785\n",
      "Fri Apr 25 13:58:58 2025 Resorting data and graph based on tree order\n",
      "Fri Apr 25 13:58:58 2025 Building and compiling search function\n"
     ]
    },
    {
     "name": "stderr",
     "output_type": "stream",
     "text": [
      "Epochs completed: 100%| ███████████████████████████████████████████████████████████████████████████████████████████████████████████████████████████████████████████████████████████████████████████ 66/66 [00:00]\n"
     ]
    },
    {
     "name": "stdout",
     "output_type": "stream",
     "text": [
      "\tcompleted  0  /  66 epochs\n",
      "\tcompleted  6  /  66 epochs\n",
      "\tcompleted  12  /  66 epochs\n",
      "\tcompleted  18  /  66 epochs\n",
      "\tcompleted  24  /  66 epochs\n",
      "\tcompleted  30  /  66 epochs\n",
      "\tcompleted  36  /  66 epochs\n",
      "\tcompleted  42  /  66 epochs\n",
      "\tcompleted  48  /  66 epochs\n",
      "\tcompleted  54  /  66 epochs\n",
      "\tcompleted  60  /  66 epochs\n"
     ]
    },
    {
     "name": "stderr",
     "output_type": "stream",
     "text": [
      "Epochs completed: 100%| ███████████████████████████████████████████████████████████████████████████████████████████████████████████████████████████████████████████████████████████████████████████ 66/66 [00:28]\n"
     ]
    },
    {
     "name": "stdout",
     "output_type": "stream",
     "text": [
      "UMAP(init='pca', min_dist=0.99, n_epochs=200, n_jobs=95, n_neighbors=10, unique=True, verbose=True)\n",
      "Unique=True -> Number of data points reduced from  114885  to  114885\n",
      "Most common duplicate is 62991  with a count of  1\n",
      "Fri Apr 25 14:01:30 2025 Construct fuzzy simplicial set\n",
      "Fri Apr 25 14:01:30 2025 Finding Nearest Neighbors\n",
      "Fri Apr 25 14:01:30 2025 Building RP forest with 22 trees\n",
      "Fri Apr 25 14:01:30 2025 NN descent for 17 iterations\n",
      "\t 1  /  17\n",
      "\t 2  /  17\n",
      "\t 3  /  17\n",
      "\t 4  /  17\n",
      "\tStopping threshold met -- exiting after 4 iterations\n",
      "Fri Apr 25 14:01:34 2025 Finished Nearest Neighbor Search\n",
      "Fri Apr 25 14:01:34 2025 Construct embedding\n"
     ]
    },
    {
     "name": "stderr",
     "output_type": "stream",
     "text": [
      "Epochs completed:   4%| █████▉                                                                                                                                                                      7/200 [00:00]"
     ]
    },
    {
     "name": "stdout",
     "output_type": "stream",
     "text": [
      "\tcompleted  0  /  200 epochs\n"
     ]
    },
    {
     "name": "stderr",
     "output_type": "stream",
     "text": [
      "Epochs completed:  13%| ██████████████████████                                                                                                                                                     26/200 [00:00]"
     ]
    },
    {
     "name": "stdout",
     "output_type": "stream",
     "text": [
      "\tcompleted  20  /  200 epochs\n"
     ]
    },
    {
     "name": "stderr",
     "output_type": "stream",
     "text": [
      "Epochs completed:  24%| ████████████████████████████████████████▊                                                                                                                                  48/200 [00:00]"
     ]
    },
    {
     "name": "stdout",
     "output_type": "stream",
     "text": [
      "\tcompleted  40  /  200 epochs\n"
     ]
    },
    {
     "name": "stderr",
     "output_type": "stream",
     "text": [
      "Epochs completed:  35%| ███████████████████████████████████████████████████████████▍                                                                                                               70/200 [00:01]"
     ]
    },
    {
     "name": "stdout",
     "output_type": "stream",
     "text": [
      "\tcompleted  60  /  200 epochs\n"
     ]
    },
    {
     "name": "stderr",
     "output_type": "stream",
     "text": [
      "Epochs completed:  44%| ██████████████████████████████████████████████████████████████████████████▊                                                                                                88/200 [00:01]"
     ]
    },
    {
     "name": "stdout",
     "output_type": "stream",
     "text": [
      "\tcompleted  80  /  200 epochs\n"
     ]
    },
    {
     "name": "stderr",
     "output_type": "stream",
     "text": [
      "Epochs completed:  53%| █████████████████████████████████████████████████████████████████████████████████████████▌                                                                                106/200 [00:02]"
     ]
    },
    {
     "name": "stdout",
     "output_type": "stream",
     "text": [
      "\tcompleted  100  /  200 epochs\n"
     ]
    },
    {
     "name": "stderr",
     "output_type": "stream",
     "text": [
      "Epochs completed:  64%| ███████████████████████████████████████████████████████████████████████████████████████████████████████████▎                                                              127/200 [00:02]"
     ]
    },
    {
     "name": "stdout",
     "output_type": "stream",
     "text": [
      "\tcompleted  120  /  200 epochs\n"
     ]
    },
    {
     "name": "stderr",
     "output_type": "stream",
     "text": [
      "Epochs completed:  74%| ████████████████████████████████████████████████████████████████████████████████████████████████████████████████████████████▏                                             147/200 [00:02]"
     ]
    },
    {
     "name": "stdout",
     "output_type": "stream",
     "text": [
      "\tcompleted  140  /  200 epochs\n"
     ]
    },
    {
     "name": "stderr",
     "output_type": "stream",
     "text": [
      "Epochs completed:  84%| ██████████████████████████████████████████████████████████████████████████████████████████████████████████████████████████████████████████████▊                           169/200 [00:03]"
     ]
    },
    {
     "name": "stdout",
     "output_type": "stream",
     "text": [
      "\tcompleted  160  /  200 epochs\n"
     ]
    },
    {
     "name": "stderr",
     "output_type": "stream",
     "text": [
      "Epochs completed:  94%| ██████████████████████████████████████████████████████████████████████████████████████████████████████████████████████████████████████████████████████████████            187/200 [00:03]"
     ]
    },
    {
     "name": "stdout",
     "output_type": "stream",
     "text": [
      "\tcompleted  180  /  200 epochs\n"
     ]
    },
    {
     "name": "stderr",
     "output_type": "stream",
     "text": [
      "Epochs completed: 100%| █████████████████████████████████████████████████████████████████████████████████████████████████████████████████████████████████████████████████████████████████████████ 200/200 [00:03]\n"
     ]
    },
    {
     "name": "stdout",
     "output_type": "stream",
     "text": [
      "Fri Apr 25 14:01:39 2025 Finished embedding\n",
      "Fri Apr 25 14:01:43 2025 Worst tree score: 0.49613091\n",
      "Fri Apr 25 14:01:43 2025 Mean tree score: 0.50293812\n",
      "Fri Apr 25 14:01:43 2025 Best tree score: 0.50741176\n",
      "Fri Apr 25 14:01:44 2025 Forward diversification reduced edges from 1148850 to 592736\n",
      "Fri Apr 25 14:01:44 2025 Reverse diversification reduced edges from 592736 to 592736\n",
      "Fri Apr 25 14:01:44 2025 Degree pruning reduced edges from 664124 to 663966\n",
      "Fri Apr 25 14:01:44 2025 Resorting data and graph based on tree order\n",
      "Fri Apr 25 14:01:44 2025 Building and compiling search function\n"
     ]
    },
    {
     "name": "stderr",
     "output_type": "stream",
     "text": [
      "Epochs completed: 100%| ███████████████████████████████████████████████████████████████████████████████████████████████████████████████████████████████████████████████████████████████████████████ 66/66 [00:00]\n"
     ]
    },
    {
     "name": "stdout",
     "output_type": "stream",
     "text": [
      "\tcompleted  0  /  66 epochs\n",
      "\tcompleted  6  /  66 epochs\n",
      "\tcompleted  12  /  66 epochs\n",
      "\tcompleted  18  /  66 epochs\n",
      "\tcompleted  24  /  66 epochs\n",
      "\tcompleted  30  /  66 epochs\n",
      "\tcompleted  36  /  66 epochs\n",
      "\tcompleted  42  /  66 epochs\n",
      "\tcompleted  48  /  66 epochs\n",
      "\tcompleted  54  /  66 epochs\n",
      "\tcompleted  60  /  66 epochs\n"
     ]
    },
    {
     "name": "stderr",
     "output_type": "stream",
     "text": [
      "Epochs completed: 100%| ███████████████████████████████████████████████████████████████████████████████████████████████████████████████████████████████████████████████████████████████████████████ 66/66 [00:28]\n"
     ]
    },
    {
     "name": "stdout",
     "output_type": "stream",
     "text": [
      "UMAP(init='pca', min_dist=0.0, n_epochs=200, n_jobs=95, n_neighbors=20, unique=True, verbose=True)\n",
      "Unique=True -> Number of data points reduced from  114885  to  114885\n",
      "Most common duplicate is 62991  with a count of  1\n",
      "Fri Apr 25 14:04:15 2025 Construct fuzzy simplicial set\n",
      "Fri Apr 25 14:04:15 2025 Finding Nearest Neighbors\n",
      "Fri Apr 25 14:04:15 2025 Building RP forest with 22 trees\n",
      "Fri Apr 25 14:04:15 2025 NN descent for 17 iterations\n",
      "\t 1  /  17\n",
      "\t 2  /  17\n",
      "\t 3  /  17\n",
      "\tStopping threshold met -- exiting after 3 iterations\n",
      "Fri Apr 25 14:04:22 2025 Finished Nearest Neighbor Search\n",
      "Fri Apr 25 14:04:23 2025 Construct embedding\n"
     ]
    },
    {
     "name": "stderr",
     "output_type": "stream",
     "text": [
      "Epochs completed:   4%| █████▉                                                                                                                                                                      7/200 [00:00]"
     ]
    },
    {
     "name": "stdout",
     "output_type": "stream",
     "text": [
      "\tcompleted  0  /  200 epochs\n"
     ]
    },
    {
     "name": "stderr",
     "output_type": "stream",
     "text": [
      "Epochs completed:  12%| █████████████████████▎                                                                                                                                                     25/200 [00:00]"
     ]
    },
    {
     "name": "stdout",
     "output_type": "stream",
     "text": [
      "\tcompleted  20  /  200 epochs\n"
     ]
    },
    {
     "name": "stderr",
     "output_type": "stream",
     "text": [
      "Epochs completed:  22%| ██████████████████████████████████████▎                                                                                                                                    45/200 [00:01]"
     ]
    },
    {
     "name": "stdout",
     "output_type": "stream",
     "text": [
      "\tcompleted  40  /  200 epochs\n"
     ]
    },
    {
     "name": "stderr",
     "output_type": "stream",
     "text": [
      "Epochs completed:  32%| ███████████████████████████████████████████████████████▎                                                                                                                   65/200 [00:01]"
     ]
    },
    {
     "name": "stdout",
     "output_type": "stream",
     "text": [
      "\tcompleted  60  /  200 epochs\n"
     ]
    },
    {
     "name": "stderr",
     "output_type": "stream",
     "text": [
      "Epochs completed:  43%| █████████████████████████████████████████████████████████████████████████                                                                                                  86/200 [00:02]"
     ]
    },
    {
     "name": "stdout",
     "output_type": "stream",
     "text": [
      "\tcompleted  80  /  200 epochs\n"
     ]
    },
    {
     "name": "stderr",
     "output_type": "stream",
     "text": [
      "Epochs completed:  53%| █████████████████████████████████████████████████████████████████████████████████████████▌                                                                                106/200 [00:02]"
     ]
    },
    {
     "name": "stdout",
     "output_type": "stream",
     "text": [
      "\tcompleted  100  /  200 epochs\n"
     ]
    },
    {
     "name": "stderr",
     "output_type": "stream",
     "text": [
      "Epochs completed:  64%| ███████████████████████████████████████████████████████████████████████████████████████████████████████████▎                                                              127/200 [00:03]"
     ]
    },
    {
     "name": "stdout",
     "output_type": "stream",
     "text": [
      "\tcompleted  120  /  200 epochs\n"
     ]
    },
    {
     "name": "stderr",
     "output_type": "stream",
     "text": [
      "Epochs completed:  74%| █████████████████████████████████████████████████████████████████████████████████████████████████████████████████████████████▉                                            149/200 [00:03]"
     ]
    },
    {
     "name": "stdout",
     "output_type": "stream",
     "text": [
      "\tcompleted  140  /  200 epochs\n"
     ]
    },
    {
     "name": "stderr",
     "output_type": "stream",
     "text": [
      "Epochs completed:  84%| █████████████████████████████████████████████████████████████████████████████████████████████████████████████████████████████████████████████▉                            168/200 [00:04]"
     ]
    },
    {
     "name": "stdout",
     "output_type": "stream",
     "text": [
      "\tcompleted  160  /  200 epochs\n"
     ]
    },
    {
     "name": "stderr",
     "output_type": "stream",
     "text": [
      "Epochs completed:  94%| ██████████████████████████████████████████████████████████████████████████████████████████████████████████████████████████████████████████████████████████████▊           188/200 [00:04]"
     ]
    },
    {
     "name": "stdout",
     "output_type": "stream",
     "text": [
      "\tcompleted  180  /  200 epochs\n"
     ]
    },
    {
     "name": "stderr",
     "output_type": "stream",
     "text": [
      "Epochs completed: 100%| █████████████████████████████████████████████████████████████████████████████████████████████████████████████████████████████████████████████████████████████████████████ 200/200 [00:05]\n"
     ]
    },
    {
     "name": "stdout",
     "output_type": "stream",
     "text": [
      "Fri Apr 25 14:04:29 2025 Finished embedding\n",
      "Fri Apr 25 14:04:35 2025 Worst tree score: 0.72614353\n",
      "Fri Apr 25 14:04:35 2025 Mean tree score: 0.73674386\n",
      "Fri Apr 25 14:04:35 2025 Best tree score: 0.74115855\n",
      "Fri Apr 25 14:04:35 2025 Forward diversification reduced edges from 2297700 to 788746\n",
      "Fri Apr 25 14:04:35 2025 Reverse diversification reduced edges from 788746 to 788746\n",
      "Fri Apr 25 14:04:36 2025 Degree pruning reduced edges from 903872 to 903872\n",
      "Fri Apr 25 14:04:36 2025 Resorting data and graph based on tree order\n",
      "Fri Apr 25 14:04:36 2025 Building and compiling search function\n"
     ]
    },
    {
     "name": "stderr",
     "output_type": "stream",
     "text": [
      "Epochs completed: 100%| ███████████████████████████████████████████████████████████████████████████████████████████████████████████████████████████████████████████████████████████████████████████ 66/66 [00:00]\n"
     ]
    },
    {
     "name": "stdout",
     "output_type": "stream",
     "text": [
      "\tcompleted  0  /  66 epochs\n",
      "\tcompleted  6  /  66 epochs\n",
      "\tcompleted  12  /  66 epochs\n",
      "\tcompleted  18  /  66 epochs\n",
      "\tcompleted  24  /  66 epochs\n",
      "\tcompleted  30  /  66 epochs\n",
      "\tcompleted  36  /  66 epochs\n",
      "\tcompleted  42  /  66 epochs\n",
      "\tcompleted  48  /  66 epochs\n",
      "\tcompleted  54  /  66 epochs\n",
      "\tcompleted  60  /  66 epochs\n"
     ]
    },
    {
     "name": "stderr",
     "output_type": "stream",
     "text": [
      "Epochs completed: 100%| ███████████████████████████████████████████████████████████████████████████████████████████████████████████████████████████████████████████████████████████████████████████ 66/66 [00:25]\n"
     ]
    },
    {
     "name": "stdout",
     "output_type": "stream",
     "text": [
      "UMAP(init='pca', min_dist=0.02, n_epochs=200, n_jobs=95, n_neighbors=20, unique=True, verbose=True)\n",
      "Unique=True -> Number of data points reduced from  114885  to  114885\n",
      "Most common duplicate is 62991  with a count of  1\n",
      "Fri Apr 25 14:07:07 2025 Construct fuzzy simplicial set\n",
      "Fri Apr 25 14:07:07 2025 Finding Nearest Neighbors\n",
      "Fri Apr 25 14:07:07 2025 Building RP forest with 22 trees\n",
      "Fri Apr 25 14:07:07 2025 NN descent for 17 iterations\n",
      "\t 1  /  17\n",
      "\t 2  /  17\n",
      "\t 3  /  17\n",
      "\tStopping threshold met -- exiting after 3 iterations\n",
      "Fri Apr 25 14:07:14 2025 Finished Nearest Neighbor Search\n",
      "Fri Apr 25 14:07:15 2025 Construct embedding\n"
     ]
    },
    {
     "name": "stderr",
     "output_type": "stream",
     "text": [
      "Epochs completed:   3%| █████▏                                                                                                                                                                      6/200 [00:00]"
     ]
    },
    {
     "name": "stdout",
     "output_type": "stream",
     "text": [
      "\tcompleted  0  /  200 epochs\n"
     ]
    },
    {
     "name": "stderr",
     "output_type": "stream",
     "text": [
      "Epochs completed:  14%| ██████████████████████▉                                                                                                                                                    27/200 [00:00]"
     ]
    },
    {
     "name": "stdout",
     "output_type": "stream",
     "text": [
      "\tcompleted  20  /  200 epochs\n"
     ]
    },
    {
     "name": "stderr",
     "output_type": "stream",
     "text": [
      "Epochs completed:  23%| ███████████████████████████████████████                                                                                                                                    46/200 [00:01]"
     ]
    },
    {
     "name": "stdout",
     "output_type": "stream",
     "text": [
      "\tcompleted  40  /  200 epochs\n"
     ]
    },
    {
     "name": "stderr",
     "output_type": "stream",
     "text": [
      "Epochs completed:  33%| ████████████████████████████████████████████████████████                                                                                                                   66/200 [00:01]"
     ]
    },
    {
     "name": "stdout",
     "output_type": "stream",
     "text": [
      "\tcompleted  60  /  200 epochs\n"
     ]
    },
    {
     "name": "stderr",
     "output_type": "stream",
     "text": [
      "Epochs completed:  43%| █████████████████████████████████████████████████████████████████████████                                                                                                  86/200 [00:02]"
     ]
    },
    {
     "name": "stdout",
     "output_type": "stream",
     "text": [
      "\tcompleted  80  /  200 epochs\n"
     ]
    },
    {
     "name": "stderr",
     "output_type": "stream",
     "text": [
      "Epochs completed:  53%| █████████████████████████████████████████████████████████████████████████████████████████▌                                                                                106/200 [00:02]"
     ]
    },
    {
     "name": "stdout",
     "output_type": "stream",
     "text": [
      "\tcompleted  100  /  200 epochs\n"
     ]
    },
    {
     "name": "stderr",
     "output_type": "stream",
     "text": [
      "Epochs completed:  63%| ██████████████████████████████████████████████████████████████████████████████████████████████████████████▍                                                               126/200 [00:03]"
     ]
    },
    {
     "name": "stdout",
     "output_type": "stream",
     "text": [
      "\tcompleted  120  /  200 epochs\n"
     ]
    },
    {
     "name": "stderr",
     "output_type": "stream",
     "text": [
      "Epochs completed:  73%| ███████████████████████████████████████████████████████████████████████████████████████████████████████████████████████████▎                                              146/200 [00:03]"
     ]
    },
    {
     "name": "stdout",
     "output_type": "stream",
     "text": [
      "\tcompleted  140  /  200 epochs\n"
     ]
    },
    {
     "name": "stderr",
     "output_type": "stream",
     "text": [
      "Epochs completed:  83%| ████████████████████████████████████████████████████████████████████████████████████████████████████████████████████████████████████████████▎                             166/200 [00:04]"
     ]
    },
    {
     "name": "stdout",
     "output_type": "stream",
     "text": [
      "\tcompleted  160  /  200 epochs\n"
     ]
    },
    {
     "name": "stderr",
     "output_type": "stream",
     "text": [
      "Epochs completed:  94%| ██████████████████████████████████████████████████████████████████████████████████████████████████████████████████████████████████████████████████████████████            187/200 [00:04]"
     ]
    },
    {
     "name": "stdout",
     "output_type": "stream",
     "text": [
      "\tcompleted  180  /  200 epochs\n"
     ]
    },
    {
     "name": "stderr",
     "output_type": "stream",
     "text": [
      "Epochs completed: 100%| █████████████████████████████████████████████████████████████████████████████████████████████████████████████████████████████████████████████████████████████████████████ 200/200 [00:05]\n"
     ]
    },
    {
     "name": "stdout",
     "output_type": "stream",
     "text": [
      "Fri Apr 25 14:07:21 2025 Finished embedding\n",
      "Fri Apr 25 14:07:27 2025 Worst tree score: 0.73445620\n",
      "Fri Apr 25 14:07:27 2025 Mean tree score: 0.73806850\n",
      "Fri Apr 25 14:07:27 2025 Best tree score: 0.74369152\n",
      "Fri Apr 25 14:07:27 2025 Forward diversification reduced edges from 2297700 to 788766\n",
      "Fri Apr 25 14:07:27 2025 Reverse diversification reduced edges from 788766 to 788766\n",
      "Fri Apr 25 14:07:27 2025 Degree pruning reduced edges from 903918 to 903918\n",
      "Fri Apr 25 14:07:27 2025 Resorting data and graph based on tree order\n",
      "Fri Apr 25 14:07:28 2025 Building and compiling search function\n"
     ]
    },
    {
     "name": "stderr",
     "output_type": "stream",
     "text": [
      "Epochs completed: 100%| ███████████████████████████████████████████████████████████████████████████████████████████████████████████████████████████████████████████████████████████████████████████ 66/66 [00:00]\n"
     ]
    },
    {
     "name": "stdout",
     "output_type": "stream",
     "text": [
      "\tcompleted  0  /  66 epochs\n",
      "\tcompleted  6  /  66 epochs\n",
      "\tcompleted  12  /  66 epochs\n",
      "\tcompleted  18  /  66 epochs\n",
      "\tcompleted  24  /  66 epochs\n",
      "\tcompleted  30  /  66 epochs\n",
      "\tcompleted  36  /  66 epochs\n",
      "\tcompleted  42  /  66 epochs\n",
      "\tcompleted  48  /  66 epochs\n",
      "\tcompleted  54  /  66 epochs\n",
      "\tcompleted  60  /  66 epochs\n"
     ]
    },
    {
     "name": "stderr",
     "output_type": "stream",
     "text": [
      "Epochs completed: 100%| ███████████████████████████████████████████████████████████████████████████████████████████████████████████████████████████████████████████████████████████████████████████ 66/66 [00:26]\n"
     ]
    },
    {
     "name": "stdout",
     "output_type": "stream",
     "text": [
      "UMAP(init='pca', min_dist=0.05, n_epochs=200, n_jobs=95, n_neighbors=20, unique=True, verbose=True)\n",
      "Unique=True -> Number of data points reduced from  114885  to  114885\n",
      "Most common duplicate is 62991  with a count of  1\n",
      "Fri Apr 25 14:09:57 2025 Construct fuzzy simplicial set\n",
      "Fri Apr 25 14:09:57 2025 Finding Nearest Neighbors\n",
      "Fri Apr 25 14:09:57 2025 Building RP forest with 22 trees\n",
      "Fri Apr 25 14:09:58 2025 NN descent for 17 iterations\n",
      "\t 1  /  17\n",
      "\t 2  /  17\n",
      "\t 3  /  17\n",
      "\tStopping threshold met -- exiting after 3 iterations\n",
      "Fri Apr 25 14:10:04 2025 Finished Nearest Neighbor Search\n",
      "Fri Apr 25 14:10:05 2025 Construct embedding\n"
     ]
    },
    {
     "name": "stderr",
     "output_type": "stream",
     "text": [
      "Epochs completed:   4%| █████▉                                                                                                                                                                      7/200 [00:00]"
     ]
    },
    {
     "name": "stdout",
     "output_type": "stream",
     "text": [
      "\tcompleted  0  /  200 epochs\n"
     ]
    },
    {
     "name": "stderr",
     "output_type": "stream",
     "text": [
      "Epochs completed:  12%| █████████████████████▎                                                                                                                                                     25/200 [00:00]"
     ]
    },
    {
     "name": "stdout",
     "output_type": "stream",
     "text": [
      "\tcompleted  20  /  200 epochs\n"
     ]
    },
    {
     "name": "stderr",
     "output_type": "stream",
     "text": [
      "Epochs completed:  22%| ██████████████████████████████████████▎                                                                                                                                    45/200 [00:01]"
     ]
    },
    {
     "name": "stdout",
     "output_type": "stream",
     "text": [
      "\tcompleted  40  /  200 epochs\n"
     ]
    },
    {
     "name": "stderr",
     "output_type": "stream",
     "text": [
      "Epochs completed:  32%| ███████████████████████████████████████████████████████▎                                                                                                                   65/200 [00:01]"
     ]
    },
    {
     "name": "stdout",
     "output_type": "stream",
     "text": [
      "\tcompleted  60  /  200 epochs\n"
     ]
    },
    {
     "name": "stderr",
     "output_type": "stream",
     "text": [
      "Epochs completed:  42%| ████████████████████████████████████████████████████████████████████████▎                                                                                                  85/200 [00:02]"
     ]
    },
    {
     "name": "stdout",
     "output_type": "stream",
     "text": [
      "\tcompleted  80  /  200 epochs\n"
     ]
    },
    {
     "name": "stderr",
     "output_type": "stream",
     "text": [
      "Epochs completed:  54%| ███████████████████████████████████████████████████████████████████████████████████████████▎                                                                              108/200 [00:02]"
     ]
    },
    {
     "name": "stdout",
     "output_type": "stream",
     "text": [
      "\tcompleted  100  /  200 epochs\n"
     ]
    },
    {
     "name": "stderr",
     "output_type": "stream",
     "text": [
      "Epochs completed:  64%| ███████████████████████████████████████████████████████████████████████████████████████████████████████████▎                                                              127/200 [00:03]"
     ]
    },
    {
     "name": "stdout",
     "output_type": "stream",
     "text": [
      "\tcompleted  120  /  200 epochs\n"
     ]
    },
    {
     "name": "stderr",
     "output_type": "stream",
     "text": [
      "Epochs completed:  72%| ██████████████████████████████████████████████████████████████████████████████████████████████████████████████████████████▌                                               145/200 [00:03]"
     ]
    },
    {
     "name": "stdout",
     "output_type": "stream",
     "text": [
      "\tcompleted  140  /  200 epochs\n"
     ]
    },
    {
     "name": "stderr",
     "output_type": "stream",
     "text": [
      "Epochs completed:  82%| ███████████████████████████████████████████████████████████████████████████████████████████████████████████████████████████████████████████▍                              165/200 [00:04]"
     ]
    },
    {
     "name": "stdout",
     "output_type": "stream",
     "text": [
      "\tcompleted  160  /  200 epochs\n"
     ]
    },
    {
     "name": "stderr",
     "output_type": "stream",
     "text": [
      "Epochs completed:  92%| ████████████████████████████████████████████████████████████████████████████████████████████████████████████████████████████████████████████████████████████▎             185/200 [00:04]"
     ]
    },
    {
     "name": "stdout",
     "output_type": "stream",
     "text": [
      "\tcompleted  180  /  200 epochs\n"
     ]
    },
    {
     "name": "stderr",
     "output_type": "stream",
     "text": [
      "Epochs completed: 100%| █████████████████████████████████████████████████████████████████████████████████████████████████████████████████████████████████████████████████████████████████████████ 200/200 [00:04]\n"
     ]
    },
    {
     "name": "stdout",
     "output_type": "stream",
     "text": [
      "Fri Apr 25 14:10:11 2025 Finished embedding\n",
      "Fri Apr 25 14:10:17 2025 Worst tree score: 0.73315925\n",
      "Fri Apr 25 14:10:17 2025 Mean tree score: 0.73704772\n",
      "Fri Apr 25 14:10:17 2025 Best tree score: 0.73983549\n",
      "Fri Apr 25 14:10:17 2025 Forward diversification reduced edges from 2297700 to 788766\n",
      "Fri Apr 25 14:10:17 2025 Reverse diversification reduced edges from 788766 to 788766\n",
      "Fri Apr 25 14:10:17 2025 Degree pruning reduced edges from 903934 to 903934\n",
      "Fri Apr 25 14:10:17 2025 Resorting data and graph based on tree order\n",
      "Fri Apr 25 14:10:18 2025 Building and compiling search function\n"
     ]
    },
    {
     "name": "stderr",
     "output_type": "stream",
     "text": [
      "Epochs completed: 100%| ███████████████████████████████████████████████████████████████████████████████████████████████████████████████████████████████████████████████████████████████████████████ 66/66 [00:00]"
     ]
    },
    {
     "name": "stdout",
     "output_type": "stream",
     "text": [
      "\tcompleted  0  /  66 epochs\n",
      "\tcompleted  6  /  66 epochs\n",
      "\tcompleted  12  /  66 epochs\n",
      "\tcompleted  18  /  66 epochs\n",
      "\tcompleted  24  /  66 epochs\n",
      "\tcompleted  30  /  66 epochs\n",
      "\tcompleted  36  /  66 epochs\n",
      "\tcompleted  42  /  66 epochs\n",
      "\tcompleted  48  /  66 epochs\n",
      "\tcompleted  54  /  66 epochs\n",
      "\tcompleted  60  /  66 epochs\n"
     ]
    },
    {
     "name": "stderr",
     "output_type": "stream",
     "text": [
      "\n",
      "Epochs completed: 100%| ███████████████████████████████████████████████████████████████████████████████████████████████████████████████████████████████████████████████████████████████████████████ 66/66 [00:26]\n"
     ]
    },
    {
     "name": "stdout",
     "output_type": "stream",
     "text": [
      "UMAP(init='pca', n_epochs=200, n_jobs=95, n_neighbors=20, unique=True, verbose=True)\n",
      "Unique=True -> Number of data points reduced from  114885  to  114885\n",
      "Most common duplicate is 62991  with a count of  1\n",
      "Fri Apr 25 14:12:50 2025 Construct fuzzy simplicial set\n",
      "Fri Apr 25 14:12:50 2025 Finding Nearest Neighbors\n",
      "Fri Apr 25 14:12:50 2025 Building RP forest with 22 trees\n",
      "Fri Apr 25 14:12:50 2025 NN descent for 17 iterations\n",
      "\t 1  /  17\n",
      "\t 2  /  17\n",
      "\t 3  /  17\n",
      "\tStopping threshold met -- exiting after 3 iterations\n",
      "Fri Apr 25 14:12:57 2025 Finished Nearest Neighbor Search\n",
      "Fri Apr 25 14:12:58 2025 Construct embedding\n"
     ]
    },
    {
     "name": "stderr",
     "output_type": "stream",
     "text": [
      "Epochs completed:   4%| █████▉                                                                                                                                                                      7/200 [00:00]"
     ]
    },
    {
     "name": "stdout",
     "output_type": "stream",
     "text": [
      "\tcompleted  0  /  200 epochs\n"
     ]
    },
    {
     "name": "stderr",
     "output_type": "stream",
     "text": [
      "Epochs completed:  12%| ████████████████████▍                                                                                                                                                      24/200 [00:00]"
     ]
    },
    {
     "name": "stdout",
     "output_type": "stream",
     "text": [
      "\tcompleted  20  /  200 epochs\n"
     ]
    },
    {
     "name": "stderr",
     "output_type": "stream",
     "text": [
      "Epochs completed:  24%| ████████████████████████████████████████▊                                                                                                                                  48/200 [00:01]"
     ]
    },
    {
     "name": "stdout",
     "output_type": "stream",
     "text": [
      "\tcompleted  40  /  200 epochs\n"
     ]
    },
    {
     "name": "stderr",
     "output_type": "stream",
     "text": [
      "Epochs completed:  34%| ██████████████████████████████████████████████████████████▋                                                                                                                69/200 [00:01]"
     ]
    },
    {
     "name": "stdout",
     "output_type": "stream",
     "text": [
      "\tcompleted  60  /  200 epochs\n"
     ]
    },
    {
     "name": "stderr",
     "output_type": "stream",
     "text": [
      "Epochs completed:  44%| █████████████████████████████████████████████████████████████████████████▉                                                                                                 87/200 [00:02]"
     ]
    },
    {
     "name": "stdout",
     "output_type": "stream",
     "text": [
      "\tcompleted  80  /  200 epochs\n"
     ]
    },
    {
     "name": "stderr",
     "output_type": "stream",
     "text": [
      "Epochs completed:  54%| ██████████████████████████████████████████████████████████████████████████████████████████▍                                                                               107/200 [00:02]"
     ]
    },
    {
     "name": "stdout",
     "output_type": "stream",
     "text": [
      "\tcompleted  100  /  200 epochs\n"
     ]
    },
    {
     "name": "stderr",
     "output_type": "stream",
     "text": [
      "Epochs completed:  64%| ███████████████████████████████████████████████████████████████████████████████████████████████████████████▎                                                              127/200 [00:03]"
     ]
    },
    {
     "name": "stdout",
     "output_type": "stream",
     "text": [
      "\tcompleted  120  /  200 epochs\n"
     ]
    },
    {
     "name": "stderr",
     "output_type": "stream",
     "text": [
      "Epochs completed:  72%| ██████████████████████████████████████████████████████████████████████████████████████████████████████████████████████████▌                                               145/200 [00:03]"
     ]
    },
    {
     "name": "stdout",
     "output_type": "stream",
     "text": [
      "\tcompleted  140  /  200 epochs\n"
     ]
    },
    {
     "name": "stderr",
     "output_type": "stream",
     "text": [
      "Epochs completed:  82%| ███████████████████████████████████████████████████████████████████████████████████████████████████████████████████████████████████████████▍                              165/200 [00:04]"
     ]
    },
    {
     "name": "stdout",
     "output_type": "stream",
     "text": [
      "\tcompleted  160  /  200 epochs\n"
     ]
    },
    {
     "name": "stderr",
     "output_type": "stream",
     "text": [
      "Epochs completed:  93%| █████████████████████████████████████████████████████████████████████████████████████████████████████████████████████████████████████████████████████████████▏            186/200 [00:04]"
     ]
    },
    {
     "name": "stdout",
     "output_type": "stream",
     "text": [
      "\tcompleted  180  /  200 epochs\n"
     ]
    },
    {
     "name": "stderr",
     "output_type": "stream",
     "text": [
      "Epochs completed: 100%| █████████████████████████████████████████████████████████████████████████████████████████████████████████████████████████████████████████████████████████████████████████ 200/200 [00:05]\n"
     ]
    },
    {
     "name": "stdout",
     "output_type": "stream",
     "text": [
      "Fri Apr 25 14:13:04 2025 Finished embedding\n",
      "Fri Apr 25 14:13:10 2025 Worst tree score: 0.73290682\n",
      "Fri Apr 25 14:13:10 2025 Mean tree score: 0.73695593\n",
      "Fri Apr 25 14:13:10 2025 Best tree score: 0.74016625\n",
      "Fri Apr 25 14:13:10 2025 Forward diversification reduced edges from 2297700 to 788744\n",
      "Fri Apr 25 14:13:10 2025 Reverse diversification reduced edges from 788744 to 788744\n",
      "Fri Apr 25 14:13:10 2025 Degree pruning reduced edges from 903880 to 903880\n",
      "Fri Apr 25 14:13:10 2025 Resorting data and graph based on tree order\n",
      "Fri Apr 25 14:13:10 2025 Building and compiling search function\n"
     ]
    },
    {
     "name": "stderr",
     "output_type": "stream",
     "text": [
      "Epochs completed: 100%| ███████████████████████████████████████████████████████████████████████████████████████████████████████████████████████████████████████████████████████████████████████████ 66/66 [00:00]\n"
     ]
    },
    {
     "name": "stdout",
     "output_type": "stream",
     "text": [
      "\tcompleted  0  /  66 epochs\n",
      "\tcompleted  6  /  66 epochs\n",
      "\tcompleted  12  /  66 epochs\n",
      "\tcompleted  18  /  66 epochs\n",
      "\tcompleted  24  /  66 epochs\n",
      "\tcompleted  30  /  66 epochs\n",
      "\tcompleted  36  /  66 epochs\n",
      "\tcompleted  42  /  66 epochs\n",
      "\tcompleted  48  /  66 epochs\n",
      "\tcompleted  54  /  66 epochs\n",
      "\tcompleted  60  /  66 epochs\n"
     ]
    },
    {
     "name": "stderr",
     "output_type": "stream",
     "text": [
      "Epochs completed: 100%| ███████████████████████████████████████████████████████████████████████████████████████████████████████████████████████████████████████████████████████████████████████████ 66/66 [00:26]\n"
     ]
    },
    {
     "name": "stdout",
     "output_type": "stream",
     "text": [
      "UMAP(init='pca', min_dist=0.2, n_epochs=200, n_jobs=95, n_neighbors=20, unique=True, verbose=True)\n",
      "Unique=True -> Number of data points reduced from  114885  to  114885\n",
      "Most common duplicate is 62991  with a count of  1\n",
      "Fri Apr 25 14:15:41 2025 Construct fuzzy simplicial set\n",
      "Fri Apr 25 14:15:41 2025 Finding Nearest Neighbors\n",
      "Fri Apr 25 14:15:41 2025 Building RP forest with 22 trees\n",
      "Fri Apr 25 14:15:41 2025 NN descent for 17 iterations\n",
      "\t 1  /  17\n",
      "\t 2  /  17\n",
      "\t 3  /  17\n",
      "\tStopping threshold met -- exiting after 3 iterations\n",
      "Fri Apr 25 14:15:47 2025 Finished Nearest Neighbor Search\n",
      "Fri Apr 25 14:15:49 2025 Construct embedding\n"
     ]
    },
    {
     "name": "stderr",
     "output_type": "stream",
     "text": [
      "Epochs completed:   4%| █████▉                                                                                                                                                                      7/200 [00:00]"
     ]
    },
    {
     "name": "stdout",
     "output_type": "stream",
     "text": [
      "\tcompleted  0  /  200 epochs\n"
     ]
    },
    {
     "name": "stderr",
     "output_type": "stream",
     "text": [
      "Epochs completed:  12%| ████████████████████▍                                                                                                                                                      24/200 [00:00]"
     ]
    },
    {
     "name": "stdout",
     "output_type": "stream",
     "text": [
      "\tcompleted  20  /  200 epochs\n"
     ]
    },
    {
     "name": "stderr",
     "output_type": "stream",
     "text": [
      "Epochs completed:  22%| █████████████████████████████████████▍                                                                                                                                     44/200 [00:01]"
     ]
    },
    {
     "name": "stdout",
     "output_type": "stream",
     "text": [
      "\tcompleted  40  /  200 epochs\n"
     ]
    },
    {
     "name": "stderr",
     "output_type": "stream",
     "text": [
      "Epochs completed:  33%| ████████████████████████████████████████████████████████                                                                                                                   66/200 [00:01]"
     ]
    },
    {
     "name": "stdout",
     "output_type": "stream",
     "text": [
      "\tcompleted  60  /  200 epochs\n"
     ]
    },
    {
     "name": "stderr",
     "output_type": "stream",
     "text": [
      "Epochs completed:  43%| █████████████████████████████████████████████████████████████████████████                                                                                                  86/200 [00:02]"
     ]
    },
    {
     "name": "stdout",
     "output_type": "stream",
     "text": [
      "\tcompleted  80  /  200 epochs\n"
     ]
    },
    {
     "name": "stderr",
     "output_type": "stream",
     "text": [
      "Epochs completed:  53%| █████████████████████████████████████████████████████████████████████████████████████████▌                                                                                106/200 [00:02]"
     ]
    },
    {
     "name": "stdout",
     "output_type": "stream",
     "text": [
      "\tcompleted  100  /  200 epochs\n"
     ]
    },
    {
     "name": "stderr",
     "output_type": "stream",
     "text": [
      "Epochs completed:  63%| ██████████████████████████████████████████████████████████████████████████████████████████████████████████▍                                                               126/200 [00:03]"
     ]
    },
    {
     "name": "stdout",
     "output_type": "stream",
     "text": [
      "\tcompleted  120  /  200 epochs\n"
     ]
    },
    {
     "name": "stderr",
     "output_type": "stream",
     "text": [
      "Epochs completed:  73%| ███████████████████████████████████████████████████████████████████████████████████████████████████████████████████████████▎                                              146/200 [00:03]"
     ]
    },
    {
     "name": "stdout",
     "output_type": "stream",
     "text": [
      "\tcompleted  140  /  200 epochs\n"
     ]
    },
    {
     "name": "stderr",
     "output_type": "stream",
     "text": [
      "Epochs completed:  84%| █████████████████████████████████████████████████████████████████████████████████████████████████████████████████████████████████████████████                             167/200 [00:04]"
     ]
    },
    {
     "name": "stdout",
     "output_type": "stream",
     "text": [
      "\tcompleted  160  /  200 epochs\n"
     ]
    },
    {
     "name": "stderr",
     "output_type": "stream",
     "text": [
      "Epochs completed:  92%| ████████████████████████████████████████████████████████████████████████████████████████████████████████████████████████████████████████████████████████████▎             185/200 [00:04]"
     ]
    },
    {
     "name": "stdout",
     "output_type": "stream",
     "text": [
      "\tcompleted  180  /  200 epochs\n"
     ]
    },
    {
     "name": "stderr",
     "output_type": "stream",
     "text": [
      "Epochs completed: 100%| █████████████████████████████████████████████████████████████████████████████████████████████████████████████████████████████████████████████████████████████████████████ 200/200 [00:05]\n"
     ]
    },
    {
     "name": "stdout",
     "output_type": "stream",
     "text": [
      "Fri Apr 25 14:15:55 2025 Finished embedding\n",
      "Fri Apr 25 14:16:00 2025 Worst tree score: 0.73111372\n",
      "Fri Apr 25 14:16:00 2025 Mean tree score: 0.73762775\n",
      "Fri Apr 25 14:16:00 2025 Best tree score: 0.74316055\n",
      "Fri Apr 25 14:16:01 2025 Forward diversification reduced edges from 2297700 to 788763\n",
      "Fri Apr 25 14:16:01 2025 Reverse diversification reduced edges from 788763 to 788763\n",
      "Fri Apr 25 14:16:01 2025 Degree pruning reduced edges from 903942 to 903942\n",
      "Fri Apr 25 14:16:01 2025 Resorting data and graph based on tree order\n",
      "Fri Apr 25 14:16:01 2025 Building and compiling search function\n"
     ]
    },
    {
     "name": "stderr",
     "output_type": "stream",
     "text": [
      "Epochs completed: 100%| ███████████████████████████████████████████████████████████████████████████████████████████████████████████████████████████████████████████████████████████████████████████ 66/66 [00:00]"
     ]
    },
    {
     "name": "stdout",
     "output_type": "stream",
     "text": [
      "\tcompleted  0  /  66 epochs\n",
      "\tcompleted  6  /  66 epochs\n",
      "\tcompleted  12  /  66 epochs\n",
      "\tcompleted  18  /  66 epochs\n",
      "\tcompleted  24  /  66 epochs\n",
      "\tcompleted  30  /  66 epochs\n",
      "\tcompleted  36  /  66 epochs\n",
      "\tcompleted  42  /  66 epochs\n",
      "\tcompleted  48  /  66 epochs\n",
      "\tcompleted  54  /  66 epochs\n",
      "\tcompleted  60  /  66 epochs\n"
     ]
    },
    {
     "name": "stderr",
     "output_type": "stream",
     "text": [
      "Epochs completed: 100%| ███████████████████████████████████████████████████████████████████████████████████████████████████████████████████████████████████████████████████████████████████████████ 66/66 [00:00]\n",
      "Epochs completed: 100%| ███████████████████████████████████████████████████████████████████████████████████████████████████████████████████████████████████████████████████████████████████████████ 66/66 [00:27]\n"
     ]
    },
    {
     "name": "stdout",
     "output_type": "stream",
     "text": [
      "UMAP(init='pca', min_dist=0.5, n_epochs=200, n_jobs=95, n_neighbors=20, unique=True, verbose=True)\n",
      "Unique=True -> Number of data points reduced from  114885  to  114885\n",
      "Most common duplicate is 62991  with a count of  1\n",
      "Fri Apr 25 14:18:33 2025 Construct fuzzy simplicial set\n",
      "Fri Apr 25 14:18:33 2025 Finding Nearest Neighbors\n",
      "Fri Apr 25 14:18:33 2025 Building RP forest with 22 trees\n",
      "Fri Apr 25 14:18:33 2025 NN descent for 17 iterations\n",
      "\t 1  /  17\n",
      "\t 2  /  17\n",
      "\t 3  /  17\n",
      "\tStopping threshold met -- exiting after 3 iterations\n",
      "Fri Apr 25 14:18:39 2025 Finished Nearest Neighbor Search\n",
      "Fri Apr 25 14:18:40 2025 Construct embedding\n"
     ]
    },
    {
     "name": "stderr",
     "output_type": "stream",
     "text": [
      "Epochs completed:   4%| █████▉                                                                                                                                                                      7/200 [00:00]"
     ]
    },
    {
     "name": "stdout",
     "output_type": "stream",
     "text": [
      "\tcompleted  0  /  200 epochs\n"
     ]
    },
    {
     "name": "stderr",
     "output_type": "stream",
     "text": [
      "Epochs completed:  12%| ████████████████████▍                                                                                                                                                      24/200 [00:00]"
     ]
    },
    {
     "name": "stdout",
     "output_type": "stream",
     "text": [
      "\tcompleted  20  /  200 epochs\n"
     ]
    },
    {
     "name": "stderr",
     "output_type": "stream",
     "text": [
      "Epochs completed:  22%| ██████████████████████████████████████▎                                                                                                                                    45/200 [00:01]"
     ]
    },
    {
     "name": "stdout",
     "output_type": "stream",
     "text": [
      "\tcompleted  40  /  200 epochs\n"
     ]
    },
    {
     "name": "stderr",
     "output_type": "stream",
     "text": [
      "Epochs completed:  32%| ███████████████████████████████████████████████████████▎                                                                                                                   65/200 [00:01]"
     ]
    },
    {
     "name": "stdout",
     "output_type": "stream",
     "text": [
      "\tcompleted  60  /  200 epochs\n"
     ]
    },
    {
     "name": "stderr",
     "output_type": "stream",
     "text": [
      "Epochs completed:  43%| █████████████████████████████████████████████████████████████████████████                                                                                                  86/200 [00:02]"
     ]
    },
    {
     "name": "stdout",
     "output_type": "stream",
     "text": [
      "\tcompleted  80  /  200 epochs\n"
     ]
    },
    {
     "name": "stderr",
     "output_type": "stream",
     "text": [
      "Epochs completed:  54%| ██████████████████████████████████████████████████████████████████████████████████████████▍                                                                               107/200 [00:02]"
     ]
    },
    {
     "name": "stdout",
     "output_type": "stream",
     "text": [
      "\tcompleted  100  /  200 epochs\n"
     ]
    },
    {
     "name": "stderr",
     "output_type": "stream",
     "text": [
      "Epochs completed:  64%| ███████████████████████████████████████████████████████████████████████████████████████████████████████████▎                                                              127/200 [00:03]"
     ]
    },
    {
     "name": "stdout",
     "output_type": "stream",
     "text": [
      "\tcompleted  120  /  200 epochs\n"
     ]
    },
    {
     "name": "stderr",
     "output_type": "stream",
     "text": [
      "Epochs completed:  74%| ████████████████████████████████████████████████████████████████████████████████████████████████████████████████████████████▏                                             147/200 [00:03]"
     ]
    },
    {
     "name": "stdout",
     "output_type": "stream",
     "text": [
      "\tcompleted  140  /  200 epochs\n"
     ]
    },
    {
     "name": "stderr",
     "output_type": "stream",
     "text": [
      "Epochs completed:  84%| █████████████████████████████████████████████████████████████████████████████████████████████████████████████████████████████████████████████                             167/200 [00:04]"
     ]
    },
    {
     "name": "stdout",
     "output_type": "stream",
     "text": [
      "\tcompleted  160  /  200 epochs\n"
     ]
    },
    {
     "name": "stderr",
     "output_type": "stream",
     "text": [
      "Epochs completed:  94%| ██████████████████████████████████████████████████████████████████████████████████████████████████████████████████████████████████████████████████████████████            187/200 [00:04]"
     ]
    },
    {
     "name": "stdout",
     "output_type": "stream",
     "text": [
      "\tcompleted  180  /  200 epochs\n"
     ]
    },
    {
     "name": "stderr",
     "output_type": "stream",
     "text": [
      "Epochs completed: 100%| █████████████████████████████████████████████████████████████████████████████████████████████████████████████████████████████████████████████████████████████████████████ 200/200 [00:05]\n"
     ]
    },
    {
     "name": "stdout",
     "output_type": "stream",
     "text": [
      "Fri Apr 25 14:18:46 2025 Finished embedding\n",
      "Fri Apr 25 14:18:52 2025 Worst tree score: 0.73183618\n",
      "Fri Apr 25 14:18:52 2025 Mean tree score: 0.73652308\n",
      "Fri Apr 25 14:18:52 2025 Best tree score: 0.74000087\n",
      "Fri Apr 25 14:18:52 2025 Forward diversification reduced edges from 2297700 to 788743\n",
      "Fri Apr 25 14:18:52 2025 Reverse diversification reduced edges from 788743 to 788743\n",
      "Fri Apr 25 14:18:52 2025 Degree pruning reduced edges from 903872 to 903872\n",
      "Fri Apr 25 14:18:52 2025 Resorting data and graph based on tree order\n",
      "Fri Apr 25 14:18:52 2025 Building and compiling search function\n"
     ]
    },
    {
     "name": "stderr",
     "output_type": "stream",
     "text": [
      "Epochs completed: 100%| ███████████████████████████████████████████████████████████████████████████████████████████████████████████████████████████████████████████████████████████████████████████ 66/66 [00:00]\n"
     ]
    },
    {
     "name": "stdout",
     "output_type": "stream",
     "text": [
      "\tcompleted  0  /  66 epochs\n",
      "\tcompleted  6  /  66 epochs\n",
      "\tcompleted  12  /  66 epochs\n",
      "\tcompleted  18  /  66 epochs\n",
      "\tcompleted  24  /  66 epochs\n",
      "\tcompleted  30  /  66 epochs\n",
      "\tcompleted  36  /  66 epochs\n",
      "\tcompleted  42  /  66 epochs\n",
      "\tcompleted  48  /  66 epochs\n",
      "\tcompleted  54  /  66 epochs\n",
      "\tcompleted  60  /  66 epochs\n"
     ]
    },
    {
     "name": "stderr",
     "output_type": "stream",
     "text": [
      "Epochs completed: 100%| ███████████████████████████████████████████████████████████████████████████████████████████████████████████████████████████████████████████████████████████████████████████ 66/66 [00:28]\n"
     ]
    },
    {
     "name": "stdout",
     "output_type": "stream",
     "text": [
      "UMAP(init='pca', min_dist=0.8, n_epochs=200, n_jobs=95, n_neighbors=20, unique=True, verbose=True)\n",
      "Unique=True -> Number of data points reduced from  114885  to  114885\n",
      "Most common duplicate is 62991  with a count of  1\n",
      "Fri Apr 25 14:21:29 2025 Construct fuzzy simplicial set\n",
      "Fri Apr 25 14:21:29 2025 Finding Nearest Neighbors\n",
      "Fri Apr 25 14:21:29 2025 Building RP forest with 22 trees\n",
      "Fri Apr 25 14:21:29 2025 NN descent for 17 iterations\n",
      "\t 1  /  17\n",
      "\t 2  /  17\n",
      "\t 3  /  17\n",
      "\tStopping threshold met -- exiting after 3 iterations\n",
      "Fri Apr 25 14:21:35 2025 Finished Nearest Neighbor Search\n",
      "Fri Apr 25 14:21:36 2025 Construct embedding\n"
     ]
    },
    {
     "name": "stderr",
     "output_type": "stream",
     "text": [
      "Epochs completed:   4%| █████▉                                                                                                                                                                      7/200 [00:00]"
     ]
    },
    {
     "name": "stdout",
     "output_type": "stream",
     "text": [
      "\tcompleted  0  /  200 epochs\n"
     ]
    },
    {
     "name": "stderr",
     "output_type": "stream",
     "text": [
      "Epochs completed:  12%| ████████████████████▍                                                                                                                                                      24/200 [00:00]"
     ]
    },
    {
     "name": "stdout",
     "output_type": "stream",
     "text": [
      "\tcompleted  20  /  200 epochs\n"
     ]
    },
    {
     "name": "stderr",
     "output_type": "stream",
     "text": [
      "Epochs completed:  24%| ████████████████████████████████████████▊                                                                                                                                  48/200 [00:01]"
     ]
    },
    {
     "name": "stdout",
     "output_type": "stream",
     "text": [
      "\tcompleted  40  /  200 epochs\n"
     ]
    },
    {
     "name": "stderr",
     "output_type": "stream",
     "text": [
      "Epochs completed:  34%| █████████████████████████████████████████████████████████▊                                                                                                                 68/200 [00:01]"
     ]
    },
    {
     "name": "stdout",
     "output_type": "stream",
     "text": [
      "\tcompleted  60  /  200 epochs\n"
     ]
    },
    {
     "name": "stderr",
     "output_type": "stream",
     "text": [
      "Epochs completed:  44%| ██████████████████████████████████████████████████████████████████████████▊                                                                                                88/200 [00:02]"
     ]
    },
    {
     "name": "stdout",
     "output_type": "stream",
     "text": [
      "\tcompleted  80  /  200 epochs\n"
     ]
    },
    {
     "name": "stderr",
     "output_type": "stream",
     "text": [
      "Epochs completed:  52%| ████████████████████████████████████████████████████████████████████████████████████████▋                                                                                 105/200 [00:02]"
     ]
    },
    {
     "name": "stdout",
     "output_type": "stream",
     "text": [
      "\tcompleted  100  /  200 epochs\n"
     ]
    },
    {
     "name": "stderr",
     "output_type": "stream",
     "text": [
      "Epochs completed:  62%| █████████████████████████████████████████████████████████████████████████████████████████████████████████▋                                                                125/200 [00:03]"
     ]
    },
    {
     "name": "stdout",
     "output_type": "stream",
     "text": [
      "\tcompleted  120  /  200 epochs\n"
     ]
    },
    {
     "name": "stderr",
     "output_type": "stream",
     "text": [
      "Epochs completed:  72%| ██████████████████████████████████████████████████████████████████████████████████████████████████████████████████████████▌                                               145/200 [00:03]"
     ]
    },
    {
     "name": "stdout",
     "output_type": "stream",
     "text": [
      "\tcompleted  140  /  200 epochs\n"
     ]
    },
    {
     "name": "stderr",
     "output_type": "stream",
     "text": [
      "Epochs completed:  82%| ███████████████████████████████████████████████████████████████████████████████████████████████████████████████████████████████████████████▍                              165/200 [00:04]"
     ]
    },
    {
     "name": "stdout",
     "output_type": "stream",
     "text": [
      "\tcompleted  160  /  200 epochs\n"
     ]
    },
    {
     "name": "stderr",
     "output_type": "stream",
     "text": [
      "Epochs completed:  93%| █████████████████████████████████████████████████████████████████████████████████████████████████████████████████████████████████████████████████████████████▏            186/200 [00:04]"
     ]
    },
    {
     "name": "stdout",
     "output_type": "stream",
     "text": [
      "\tcompleted  180  /  200 epochs\n"
     ]
    },
    {
     "name": "stderr",
     "output_type": "stream",
     "text": [
      "Epochs completed: 100%| █████████████████████████████████████████████████████████████████████████████████████████████████████████████████████████████████████████████████████████████████████████ 200/200 [00:05]\n"
     ]
    },
    {
     "name": "stdout",
     "output_type": "stream",
     "text": [
      "Fri Apr 25 14:21:42 2025 Finished embedding\n",
      "Fri Apr 25 14:21:47 2025 Worst tree score: 0.73268051\n",
      "Fri Apr 25 14:21:47 2025 Mean tree score: 0.73668174\n",
      "Fri Apr 25 14:21:47 2025 Best tree score: 0.74025330\n",
      "Fri Apr 25 14:21:48 2025 Forward diversification reduced edges from 2297700 to 788725\n",
      "Fri Apr 25 14:21:48 2025 Reverse diversification reduced edges from 788725 to 788725\n",
      "Fri Apr 25 14:21:48 2025 Degree pruning reduced edges from 903852 to 903852\n",
      "Fri Apr 25 14:21:48 2025 Resorting data and graph based on tree order\n",
      "Fri Apr 25 14:21:48 2025 Building and compiling search function\n"
     ]
    },
    {
     "name": "stderr",
     "output_type": "stream",
     "text": [
      "Epochs completed: 100%| ███████████████████████████████████████████████████████████████████████████████████████████████████████████████████████████████████████████████████████████████████████████ 66/66 [00:00]\n"
     ]
    },
    {
     "name": "stdout",
     "output_type": "stream",
     "text": [
      "\tcompleted  0  /  66 epochs\n",
      "\tcompleted  6  /  66 epochs\n",
      "\tcompleted  12  /  66 epochs\n",
      "\tcompleted  18  /  66 epochs\n",
      "\tcompleted  24  /  66 epochs\n",
      "\tcompleted  30  /  66 epochs\n",
      "\tcompleted  36  /  66 epochs\n",
      "\tcompleted  42  /  66 epochs\n",
      "\tcompleted  48  /  66 epochs\n",
      "\tcompleted  54  /  66 epochs\n",
      "\tcompleted  60  /  66 epochs\n"
     ]
    },
    {
     "name": "stderr",
     "output_type": "stream",
     "text": [
      "Epochs completed: 100%| ███████████████████████████████████████████████████████████████████████████████████████████████████████████████████████████████████████████████████████████████████████████ 66/66 [00:28]\n"
     ]
    },
    {
     "name": "stdout",
     "output_type": "stream",
     "text": [
      "UMAP(init='pca', min_dist=0.99, n_epochs=200, n_jobs=95, n_neighbors=20, unique=True, verbose=True)\n",
      "Unique=True -> Number of data points reduced from  114885  to  114885\n",
      "Most common duplicate is 62991  with a count of  1\n",
      "Fri Apr 25 14:24:18 2025 Construct fuzzy simplicial set\n",
      "Fri Apr 25 14:24:18 2025 Finding Nearest Neighbors\n",
      "Fri Apr 25 14:24:18 2025 Building RP forest with 22 trees\n",
      "Fri Apr 25 14:24:18 2025 NN descent for 17 iterations\n",
      "\t 1  /  17\n",
      "\t 2  /  17\n",
      "\t 3  /  17\n",
      "\tStopping threshold met -- exiting after 3 iterations\n",
      "Fri Apr 25 14:24:25 2025 Finished Nearest Neighbor Search\n",
      "Fri Apr 25 14:24:26 2025 Construct embedding\n"
     ]
    },
    {
     "name": "stderr",
     "output_type": "stream",
     "text": [
      "Epochs completed:   4%| █████▉                                                                                                                                                                      7/200 [00:00]"
     ]
    },
    {
     "name": "stdout",
     "output_type": "stream",
     "text": [
      "\tcompleted  0  /  200 epochs\n"
     ]
    },
    {
     "name": "stderr",
     "output_type": "stream",
     "text": [
      "Epochs completed:  14%| ██████████████████████▉                                                                                                                                                    27/200 [00:00]"
     ]
    },
    {
     "name": "stdout",
     "output_type": "stream",
     "text": [
      "\tcompleted  20  /  200 epochs\n"
     ]
    },
    {
     "name": "stderr",
     "output_type": "stream",
     "text": [
      "Epochs completed:  24%| ████████████████████████████████████████▊                                                                                                                                  48/200 [00:01]"
     ]
    },
    {
     "name": "stdout",
     "output_type": "stream",
     "text": [
      "\tcompleted  40  /  200 epochs\n"
     ]
    },
    {
     "name": "stderr",
     "output_type": "stream",
     "text": [
      "Epochs completed:  34%| █████████████████████████████████████████████████████████▊                                                                                                                 68/200 [00:01]"
     ]
    },
    {
     "name": "stdout",
     "output_type": "stream",
     "text": [
      "\tcompleted  60  /  200 epochs\n"
     ]
    },
    {
     "name": "stderr",
     "output_type": "stream",
     "text": [
      "Epochs completed:  44%| ███████████████████████████████████████████████████████████████████████████▋                                                                                               89/200 [00:02]"
     ]
    },
    {
     "name": "stdout",
     "output_type": "stream",
     "text": [
      "\tcompleted  80  /  200 epochs\n"
     ]
    },
    {
     "name": "stderr",
     "output_type": "stream",
     "text": [
      "Epochs completed:  53%| █████████████████████████████████████████████████████████████████████████████████████████▌                                                                                106/200 [00:02]"
     ]
    },
    {
     "name": "stdout",
     "output_type": "stream",
     "text": [
      "\tcompleted  100  /  200 epochs\n"
     ]
    },
    {
     "name": "stderr",
     "output_type": "stream",
     "text": [
      "Epochs completed:  63%| ██████████████████████████████████████████████████████████████████████████████████████████████████████████▍                                                               126/200 [00:03]"
     ]
    },
    {
     "name": "stdout",
     "output_type": "stream",
     "text": [
      "\tcompleted  120  /  200 epochs\n"
     ]
    },
    {
     "name": "stderr",
     "output_type": "stream",
     "text": [
      "Epochs completed:  73%| ███████████████████████████████████████████████████████████████████████████████████████████████████████████████████████████▎                                              146/200 [00:03]"
     ]
    },
    {
     "name": "stdout",
     "output_type": "stream",
     "text": [
      "\tcompleted  140  /  200 epochs\n"
     ]
    },
    {
     "name": "stderr",
     "output_type": "stream",
     "text": [
      "Epochs completed:  84%| █████████████████████████████████████████████████████████████████████████████████████████████████████████████████████████████████████████████                             167/200 [00:04]"
     ]
    },
    {
     "name": "stdout",
     "output_type": "stream",
     "text": [
      "\tcompleted  160  /  200 epochs\n"
     ]
    },
    {
     "name": "stderr",
     "output_type": "stream",
     "text": [
      "Epochs completed:  94%| ██████████████████████████████████████████████████████████████████████████████████████████████████████████████████████████████████████████████████████████████            187/200 [00:04]"
     ]
    },
    {
     "name": "stdout",
     "output_type": "stream",
     "text": [
      "\tcompleted  180  /  200 epochs\n"
     ]
    },
    {
     "name": "stderr",
     "output_type": "stream",
     "text": [
      "Epochs completed: 100%| █████████████████████████████████████████████████████████████████████████████████████████████████████████████████████████████████████████████████████████████████████████ 200/200 [00:05]\n"
     ]
    },
    {
     "name": "stdout",
     "output_type": "stream",
     "text": [
      "Fri Apr 25 14:24:32 2025 Finished embedding\n",
      "Fri Apr 25 14:24:38 2025 Worst tree score: 0.73239326\n",
      "Fri Apr 25 14:24:38 2025 Mean tree score: 0.73640320\n",
      "Fri Apr 25 14:24:38 2025 Best tree score: 0.74088001\n",
      "Fri Apr 25 14:24:38 2025 Forward diversification reduced edges from 2297700 to 788787\n",
      "Fri Apr 25 14:24:38 2025 Reverse diversification reduced edges from 788787 to 788787\n",
      "Fri Apr 25 14:24:38 2025 Degree pruning reduced edges from 903974 to 903974\n",
      "Fri Apr 25 14:24:38 2025 Resorting data and graph based on tree order\n",
      "Fri Apr 25 14:24:38 2025 Building and compiling search function\n"
     ]
    },
    {
     "name": "stderr",
     "output_type": "stream",
     "text": [
      "Epochs completed: 100%| ███████████████████████████████████████████████████████████████████████████████████████████████████████████████████████████████████████████████████████████████████████████ 66/66 [00:00]\n"
     ]
    },
    {
     "name": "stdout",
     "output_type": "stream",
     "text": [
      "\tcompleted  0  /  66 epochs\n",
      "\tcompleted  6  /  66 epochs\n",
      "\tcompleted  12  /  66 epochs\n",
      "\tcompleted  18  /  66 epochs\n",
      "\tcompleted  24  /  66 epochs\n",
      "\tcompleted  30  /  66 epochs\n",
      "\tcompleted  36  /  66 epochs\n",
      "\tcompleted  42  /  66 epochs\n",
      "\tcompleted  48  /  66 epochs\n",
      "\tcompleted  54  /  66 epochs\n",
      "\tcompleted  60  /  66 epochs\n"
     ]
    },
    {
     "name": "stderr",
     "output_type": "stream",
     "text": [
      "Epochs completed: 100%| ███████████████████████████████████████████████████████████████████████████████████████████████████████████████████████████████████████████████████████████████████████████ 66/66 [00:28]\n"
     ]
    },
    {
     "name": "stdout",
     "output_type": "stream",
     "text": [
      "UMAP(init='pca', min_dist=0.0, n_epochs=200, n_jobs=95, n_neighbors=50, unique=True, verbose=True)\n",
      "Unique=True -> Number of data points reduced from  114885  to  114885\n",
      "Most common duplicate is 62991  with a count of  1\n",
      "Fri Apr 25 14:27:14 2025 Construct fuzzy simplicial set\n",
      "Fri Apr 25 14:27:14 2025 Finding Nearest Neighbors\n",
      "Fri Apr 25 14:27:14 2025 Building RP forest with 22 trees\n",
      "Fri Apr 25 14:27:14 2025 NN descent for 17 iterations\n",
      "\t 1  /  17\n",
      "\t 2  /  17\n",
      "\t 3  /  17\n",
      "\tStopping threshold met -- exiting after 3 iterations\n",
      "Fri Apr 25 14:27:33 2025 Finished Nearest Neighbor Search\n",
      "Fri Apr 25 14:27:36 2025 Construct embedding\n"
     ]
    },
    {
     "name": "stderr",
     "output_type": "stream",
     "text": [
      "Epochs completed:   4%| █████▉                                                                                                                                                                      7/200 [00:00]"
     ]
    },
    {
     "name": "stdout",
     "output_type": "stream",
     "text": [
      "\tcompleted  0  /  200 epochs\n"
     ]
    },
    {
     "name": "stderr",
     "output_type": "stream",
     "text": [
      "Epochs completed:  13%| ██████████████████████                                                                                                                                                     26/200 [00:00]"
     ]
    },
    {
     "name": "stdout",
     "output_type": "stream",
     "text": [
      "\tcompleted  20  /  200 epochs\n"
     ]
    },
    {
     "name": "stderr",
     "output_type": "stream",
     "text": [
      "Epochs completed:  23%| ███████████████████████████████████████                                                                                                                                    46/200 [00:01]"
     ]
    },
    {
     "name": "stdout",
     "output_type": "stream",
     "text": [
      "\tcompleted  40  /  200 epochs\n"
     ]
    },
    {
     "name": "stderr",
     "output_type": "stream",
     "text": [
      "Epochs completed:  33%| ████████████████████████████████████████████████████████                                                                                                                   66/200 [00:02]"
     ]
    },
    {
     "name": "stdout",
     "output_type": "stream",
     "text": [
      "\tcompleted  60  /  200 epochs\n"
     ]
    },
    {
     "name": "stderr",
     "output_type": "stream",
     "text": [
      "Epochs completed:  43%| █████████████████████████████████████████████████████████████████████████                                                                                                  86/200 [00:02]"
     ]
    },
    {
     "name": "stdout",
     "output_type": "stream",
     "text": [
      "\tcompleted  80  /  200 epochs\n"
     ]
    },
    {
     "name": "stderr",
     "output_type": "stream",
     "text": [
      "Epochs completed:  53%| █████████████████████████████████████████████████████████████████████████████████████████▌                                                                                106/200 [00:03]"
     ]
    },
    {
     "name": "stdout",
     "output_type": "stream",
     "text": [
      "\tcompleted  100  /  200 epochs\n"
     ]
    },
    {
     "name": "stderr",
     "output_type": "stream",
     "text": [
      "Epochs completed:  63%| ██████████████████████████████████████████████████████████████████████████████████████████████████████████▍                                                               126/200 [00:03]"
     ]
    },
    {
     "name": "stdout",
     "output_type": "stream",
     "text": [
      "\tcompleted  120  /  200 epochs\n"
     ]
    },
    {
     "name": "stderr",
     "output_type": "stream",
     "text": [
      "Epochs completed:  73%| ███████████████████████████████████████████████████████████████████████████████████████████████████████████████████████████▎                                              146/200 [00:04]"
     ]
    },
    {
     "name": "stdout",
     "output_type": "stream",
     "text": [
      "\tcompleted  140  /  200 epochs\n"
     ]
    },
    {
     "name": "stderr",
     "output_type": "stream",
     "text": [
      "Epochs completed:  83%| ████████████████████████████████████████████████████████████████████████████████████████████████████████████████████████████████████████████▎                             166/200 [00:05]"
     ]
    },
    {
     "name": "stdout",
     "output_type": "stream",
     "text": [
      "\tcompleted  160  /  200 epochs\n"
     ]
    },
    {
     "name": "stderr",
     "output_type": "stream",
     "text": [
      "Epochs completed:  93%| █████████████████████████████████████████████████████████████████████████████████████████████████████████████████████████████████████████████████████████████▏            186/200 [00:05]"
     ]
    },
    {
     "name": "stdout",
     "output_type": "stream",
     "text": [
      "\tcompleted  180  /  200 epochs\n"
     ]
    },
    {
     "name": "stderr",
     "output_type": "stream",
     "text": [
      "Epochs completed: 100%| █████████████████████████████████████████████████████████████████████████████████████████████████████████████████████████████████████████████████████████████████████████ 200/200 [00:06]\n"
     ]
    },
    {
     "name": "stdout",
     "output_type": "stream",
     "text": [
      "Fri Apr 25 14:27:45 2025 Finished embedding\n",
      "Fri Apr 25 14:27:56 2025 Worst tree score: 0.93396005\n",
      "Fri Apr 25 14:27:56 2025 Mean tree score: 0.93688669\n",
      "Fri Apr 25 14:27:56 2025 Best tree score: 0.93990512\n",
      "Fri Apr 25 14:27:56 2025 Forward diversification reduced edges from 5744250 to 1048473\n",
      "Fri Apr 25 14:27:56 2025 Reverse diversification reduced edges from 1048473 to 1048473\n",
      "Fri Apr 25 14:27:56 2025 Degree pruning reduced edges from 1257794 to 1257794\n",
      "Fri Apr 25 14:27:56 2025 Resorting data and graph based on tree order\n",
      "Fri Apr 25 14:27:56 2025 Building and compiling search function\n"
     ]
    },
    {
     "name": "stderr",
     "output_type": "stream",
     "text": [
      "Epochs completed:  39%| ███████████████████████████████████████████████████████████████████▎                                                                                                        26/66 [00:00]"
     ]
    },
    {
     "name": "stdout",
     "output_type": "stream",
     "text": [
      "\tcompleted  0  /  66 epochs\n",
      "\tcompleted  6  /  66 epochs\n",
      "\tcompleted  12  /  66 epochs\n",
      "\tcompleted  18  /  66 epochs\n",
      "\tcompleted  24  /  66 epochs\n",
      "\tcompleted  30  /  66 epochs\n",
      "\tcompleted  36  /  66 epochs\n",
      "\tcompleted  42  /  66 epochs\n"
     ]
    },
    {
     "name": "stderr",
     "output_type": "stream",
     "text": [
      "Epochs completed: 100%| ███████████████████████████████████████████████████████████████████████████████████████████████████████████████████████████████████████████████████████████████████████████ 66/66 [00:00]\n"
     ]
    },
    {
     "name": "stdout",
     "output_type": "stream",
     "text": [
      "\tcompleted  48  /  66 epochs\n",
      "\tcompleted  54  /  66 epochs\n",
      "\tcompleted  60  /  66 epochs\n"
     ]
    },
    {
     "name": "stderr",
     "output_type": "stream",
     "text": [
      "Epochs completed: 100%| ███████████████████████████████████████████████████████████████████████████████████████████████████████████████████████████████████████████████████████████████████████████ 66/66 [00:24]\n"
     ]
    },
    {
     "name": "stdout",
     "output_type": "stream",
     "text": [
      "UMAP(init='pca', min_dist=0.02, n_epochs=200, n_jobs=95, n_neighbors=50, unique=True, verbose=True)\n",
      "Unique=True -> Number of data points reduced from  114885  to  114885\n",
      "Most common duplicate is 62991  with a count of  1\n",
      "Fri Apr 25 14:30:32 2025 Construct fuzzy simplicial set\n",
      "Fri Apr 25 14:30:32 2025 Finding Nearest Neighbors\n",
      "Fri Apr 25 14:30:32 2025 Building RP forest with 22 trees\n",
      "Fri Apr 25 14:30:33 2025 NN descent for 17 iterations\n",
      "\t 1  /  17\n",
      "\t 2  /  17\n",
      "\t 3  /  17\n",
      "\tStopping threshold met -- exiting after 3 iterations\n",
      "Fri Apr 25 14:30:52 2025 Finished Nearest Neighbor Search\n",
      "Fri Apr 25 14:30:55 2025 Construct embedding\n"
     ]
    },
    {
     "name": "stderr",
     "output_type": "stream",
     "text": [
      "Epochs completed:   4%| █████▉                                                                                                                                                                      7/200 [00:00]"
     ]
    },
    {
     "name": "stdout",
     "output_type": "stream",
     "text": [
      "\tcompleted  0  /  200 epochs\n"
     ]
    },
    {
     "name": "stderr",
     "output_type": "stream",
     "text": [
      "Epochs completed:  13%| ██████████████████████                                                                                                                                                     26/200 [00:00]"
     ]
    },
    {
     "name": "stdout",
     "output_type": "stream",
     "text": [
      "\tcompleted  20  /  200 epochs\n"
     ]
    },
    {
     "name": "stderr",
     "output_type": "stream",
     "text": [
      "Epochs completed:  23%| ███████████████████████████████████████                                                                                                                                    46/200 [00:01]"
     ]
    },
    {
     "name": "stdout",
     "output_type": "stream",
     "text": [
      "\tcompleted  40  /  200 epochs\n"
     ]
    },
    {
     "name": "stderr",
     "output_type": "stream",
     "text": [
      "Epochs completed:  32%| ██████████████████████████████████████████████████████▍                                                                                                                    64/200 [00:01]"
     ]
    },
    {
     "name": "stdout",
     "output_type": "stream",
     "text": [
      "\tcompleted  60  /  200 epochs\n"
     ]
    },
    {
     "name": "stderr",
     "output_type": "stream",
     "text": [
      "Epochs completed:  42%| ███████████████████████████████████████████████████████████████████████▍                                                                                                   84/200 [00:02]"
     ]
    },
    {
     "name": "stdout",
     "output_type": "stream",
     "text": [
      "\tcompleted  80  /  200 epochs\n"
     ]
    },
    {
     "name": "stderr",
     "output_type": "stream",
     "text": [
      "Epochs completed:  52%| ███████████████████████████████████████████████████████████████████████████████████████▉                                                                                  104/200 [00:03]"
     ]
    },
    {
     "name": "stdout",
     "output_type": "stream",
     "text": [
      "\tcompleted  100  /  200 epochs\n"
     ]
    },
    {
     "name": "stderr",
     "output_type": "stream",
     "text": [
      "Epochs completed:  62%| ████████████████████████████████████████████████████████████████████████████████████████████████████████▊                                                                 124/200 [00:03]"
     ]
    },
    {
     "name": "stdout",
     "output_type": "stream",
     "text": [
      "\tcompleted  120  /  200 epochs\n"
     ]
    },
    {
     "name": "stderr",
     "output_type": "stream",
     "text": [
      "Epochs completed:  72%| █████████████████████████████████████████████████████████████████████████████████████████████████████████████████████████▋                                                144/200 [00:04]"
     ]
    },
    {
     "name": "stdout",
     "output_type": "stream",
     "text": [
      "\tcompleted  140  /  200 epochs\n"
     ]
    },
    {
     "name": "stderr",
     "output_type": "stream",
     "text": [
      "Epochs completed:  84%| █████████████████████████████████████████████████████████████████████████████████████████████████████████████████████████████████████████████                             167/200 [00:05]"
     ]
    },
    {
     "name": "stdout",
     "output_type": "stream",
     "text": [
      "\tcompleted  160  /  200 epochs\n"
     ]
    },
    {
     "name": "stderr",
     "output_type": "stream",
     "text": [
      "Epochs completed:  92%| ████████████████████████████████████████████████████████████████████████████████████████████████████████████████████████████████████████████████████████████▎             185/200 [00:05]"
     ]
    },
    {
     "name": "stdout",
     "output_type": "stream",
     "text": [
      "\tcompleted  180  /  200 epochs\n"
     ]
    },
    {
     "name": "stderr",
     "output_type": "stream",
     "text": [
      "Epochs completed: 100%| █████████████████████████████████████████████████████████████████████████████████████████████████████████████████████████████████████████████████████████████████████████ 200/200 [00:06]\n"
     ]
    },
    {
     "name": "stdout",
     "output_type": "stream",
     "text": [
      "Fri Apr 25 14:31:03 2025 Finished embedding\n",
      "Fri Apr 25 14:31:14 2025 Worst tree score: 0.93257605\n",
      "Fri Apr 25 14:31:14 2025 Mean tree score: 0.93670983\n",
      "Fri Apr 25 14:31:14 2025 Best tree score: 0.93846890\n",
      "Fri Apr 25 14:31:15 2025 Forward diversification reduced edges from 5744250 to 1048472\n",
      "Fri Apr 25 14:31:15 2025 Reverse diversification reduced edges from 1048472 to 1048472\n",
      "Fri Apr 25 14:31:15 2025 Degree pruning reduced edges from 1257782 to 1257782\n",
      "Fri Apr 25 14:31:15 2025 Resorting data and graph based on tree order\n",
      "Fri Apr 25 14:31:15 2025 Building and compiling search function\n"
     ]
    },
    {
     "name": "stderr",
     "output_type": "stream",
     "text": [
      "Epochs completed:  41%| █████████████████████████████████████████████████████████████████████▉                                                                                                      27/66 [00:00]"
     ]
    },
    {
     "name": "stdout",
     "output_type": "stream",
     "text": [
      "\tcompleted  0  /  66 epochs\n",
      "\tcompleted  6  /  66 epochs\n",
      "\tcompleted  12  /  66 epochs\n",
      "\tcompleted  18  /  66 epochs\n",
      "\tcompleted  24  /  66 epochs\n",
      "\tcompleted  30  /  66 epochs\n",
      "\tcompleted  36  /  66 epochs\n",
      "\tcompleted  42  /  66 epochs\n",
      "\tcompleted  48  /  66 epochs\n"
     ]
    },
    {
     "name": "stderr",
     "output_type": "stream",
     "text": [
      "Epochs completed: 100%| ███████████████████████████████████████████████████████████████████████████████████████████████████████████████████████████████████████████████████████████████████████████ 66/66 [00:00]\n"
     ]
    },
    {
     "name": "stdout",
     "output_type": "stream",
     "text": [
      "\tcompleted  54  /  66 epochs\n",
      "\tcompleted  60  /  66 epochs\n"
     ]
    },
    {
     "name": "stderr",
     "output_type": "stream",
     "text": [
      "Epochs completed: 100%| ███████████████████████████████████████████████████████████████████████████████████████████████████████████████████████████████████████████████████████████████████████████ 66/66 [00:25]\n"
     ]
    },
    {
     "name": "stdout",
     "output_type": "stream",
     "text": [
      "UMAP(init='pca', min_dist=0.05, n_epochs=200, n_jobs=95, n_neighbors=50, unique=True, verbose=True)\n",
      "Unique=True -> Number of data points reduced from  114885  to  114885\n",
      "Most common duplicate is 62991  with a count of  1\n",
      "Fri Apr 25 14:33:50 2025 Construct fuzzy simplicial set\n",
      "Fri Apr 25 14:33:50 2025 Finding Nearest Neighbors\n",
      "Fri Apr 25 14:33:50 2025 Building RP forest with 22 trees\n",
      "Fri Apr 25 14:33:50 2025 NN descent for 17 iterations\n",
      "\t 1  /  17\n",
      "\t 2  /  17\n",
      "\t 3  /  17\n",
      "\tStopping threshold met -- exiting after 3 iterations\n",
      "Fri Apr 25 14:34:07 2025 Finished Nearest Neighbor Search\n",
      "Fri Apr 25 14:34:11 2025 Construct embedding\n"
     ]
    },
    {
     "name": "stderr",
     "output_type": "stream",
     "text": [
      "Epochs completed:   3%| █████▏                                                                                                                                                                      6/200 [00:00]"
     ]
    },
    {
     "name": "stdout",
     "output_type": "stream",
     "text": [
      "\tcompleted  0  /  200 epochs\n"
     ]
    },
    {
     "name": "stderr",
     "output_type": "stream",
     "text": [
      "Epochs completed:  12%| █████████████████████▎                                                                                                                                                     25/200 [00:00]"
     ]
    },
    {
     "name": "stdout",
     "output_type": "stream",
     "text": [
      "\tcompleted  20  /  200 epochs\n"
     ]
    },
    {
     "name": "stderr",
     "output_type": "stream",
     "text": [
      "Epochs completed:  22%| ██████████████████████████████████████▎                                                                                                                                    45/200 [00:01]"
     ]
    },
    {
     "name": "stdout",
     "output_type": "stream",
     "text": [
      "\tcompleted  40  /  200 epochs\n"
     ]
    },
    {
     "name": "stderr",
     "output_type": "stream",
     "text": [
      "Epochs completed:  32%| ███████████████████████████████████████████████████████▎                                                                                                                   65/200 [00:01]"
     ]
    },
    {
     "name": "stdout",
     "output_type": "stream",
     "text": [
      "\tcompleted  60  /  200 epochs\n"
     ]
    },
    {
     "name": "stderr",
     "output_type": "stream",
     "text": [
      "Epochs completed:  42%| ████████████████████████████████████████████████████████████████████████▎                                                                                                  85/200 [00:02]"
     ]
    },
    {
     "name": "stdout",
     "output_type": "stream",
     "text": [
      "\tcompleted  80  /  200 epochs\n"
     ]
    },
    {
     "name": "stderr",
     "output_type": "stream",
     "text": [
      "Epochs completed:  53%| █████████████████████████████████████████████████████████████████████████████████████████▌                                                                                106/200 [00:03]"
     ]
    },
    {
     "name": "stdout",
     "output_type": "stream",
     "text": [
      "\tcompleted  100  /  200 epochs\n"
     ]
    },
    {
     "name": "stderr",
     "output_type": "stream",
     "text": [
      "Epochs completed:  63%| ██████████████████████████████████████████████████████████████████████████████████████████████████████████▍                                                               126/200 [00:04]"
     ]
    },
    {
     "name": "stdout",
     "output_type": "stream",
     "text": [
      "\tcompleted  120  /  200 epochs\n"
     ]
    },
    {
     "name": "stderr",
     "output_type": "stream",
     "text": [
      "Epochs completed:  73%| ███████████████████████████████████████████████████████████████████████████████████████████████████████████████████████████▎                                              146/200 [00:04]"
     ]
    },
    {
     "name": "stdout",
     "output_type": "stream",
     "text": [
      "\tcompleted  140  /  200 epochs\n"
     ]
    },
    {
     "name": "stderr",
     "output_type": "stream",
     "text": [
      "Epochs completed:  82%| ███████████████████████████████████████████████████████████████████████████████████████████████████████████████████████████████████████████▍                              165/200 [00:05]"
     ]
    },
    {
     "name": "stdout",
     "output_type": "stream",
     "text": [
      "\tcompleted  160  /  200 epochs\n"
     ]
    },
    {
     "name": "stderr",
     "output_type": "stream",
     "text": [
      "Epochs completed:  92%| ███████████████████████████████████████████████████████████████████████████████████████████████████████████████████████████████████████████████████████████▍              184/200 [00:05]"
     ]
    },
    {
     "name": "stdout",
     "output_type": "stream",
     "text": [
      "\tcompleted  180  /  200 epochs\n"
     ]
    },
    {
     "name": "stderr",
     "output_type": "stream",
     "text": [
      "Epochs completed: 100%| █████████████████████████████████████████████████████████████████████████████████████████████████████████████████████████████████████████████████████████████████████████ 200/200 [00:06]\n"
     ]
    },
    {
     "name": "stdout",
     "output_type": "stream",
     "text": [
      "Fri Apr 25 14:34:19 2025 Finished embedding\n",
      "Fri Apr 25 14:34:30 2025 Worst tree score: 0.93295034\n",
      "Fri Apr 25 14:34:30 2025 Mean tree score: 0.93669480\n",
      "Fri Apr 25 14:34:30 2025 Best tree score: 0.93913043\n",
      "Fri Apr 25 14:34:30 2025 Forward diversification reduced edges from 5744250 to 1048478\n",
      "Fri Apr 25 14:34:30 2025 Reverse diversification reduced edges from 1048478 to 1048478\n",
      "Fri Apr 25 14:34:30 2025 Degree pruning reduced edges from 1257792 to 1257792\n",
      "Fri Apr 25 14:34:30 2025 Resorting data and graph based on tree order\n",
      "Fri Apr 25 14:34:30 2025 Building and compiling search function\n"
     ]
    },
    {
     "name": "stderr",
     "output_type": "stream",
     "text": [
      "Epochs completed:  39%| ███████████████████████████████████████████████████████████████████▎                                                                                                        26/66 [00:00]"
     ]
    },
    {
     "name": "stdout",
     "output_type": "stream",
     "text": [
      "\tcompleted  0  /  66 epochs\n",
      "\tcompleted  6  /  66 epochs\n",
      "\tcompleted  12  /  66 epochs\n",
      "\tcompleted  18  /  66 epochs\n",
      "\tcompleted  24  /  66 epochs\n",
      "\tcompleted  30  /  66 epochs\n",
      "\tcompleted  36  /  66 epochs\n",
      "\tcompleted  42  /  66 epochs\n"
     ]
    },
    {
     "name": "stderr",
     "output_type": "stream",
     "text": [
      "Epochs completed: 100%| ███████████████████████████████████████████████████████████████████████████████████████████████████████████████████████████████████████████████████████████████████████████ 66/66 [00:00]\n"
     ]
    },
    {
     "name": "stdout",
     "output_type": "stream",
     "text": [
      "\tcompleted  48  /  66 epochs\n",
      "\tcompleted  54  /  66 epochs\n",
      "\tcompleted  60  /  66 epochs\n"
     ]
    },
    {
     "name": "stderr",
     "output_type": "stream",
     "text": [
      "Epochs completed: 100%| ███████████████████████████████████████████████████████████████████████████████████████████████████████████████████████████████████████████████████████████████████████████ 66/66 [00:26]\n"
     ]
    },
    {
     "name": "stdout",
     "output_type": "stream",
     "text": [
      "UMAP(init='pca', n_epochs=200, n_jobs=95, n_neighbors=50, unique=True, verbose=True)\n",
      "Unique=True -> Number of data points reduced from  114885  to  114885\n",
      "Most common duplicate is 62991  with a count of  1\n",
      "Fri Apr 25 14:37:07 2025 Construct fuzzy simplicial set\n",
      "Fri Apr 25 14:37:07 2025 Finding Nearest Neighbors\n",
      "Fri Apr 25 14:37:07 2025 Building RP forest with 22 trees\n",
      "Fri Apr 25 14:37:07 2025 NN descent for 17 iterations\n",
      "\t 1  /  17\n",
      "\t 2  /  17\n",
      "\t 3  /  17\n",
      "\tStopping threshold met -- exiting after 3 iterations\n",
      "Fri Apr 25 14:37:27 2025 Finished Nearest Neighbor Search\n",
      "Fri Apr 25 14:37:30 2025 Construct embedding\n"
     ]
    },
    {
     "name": "stderr",
     "output_type": "stream",
     "text": [
      "Epochs completed:   3%| █████▏                                                                                                                                                                      6/200 [00:00]"
     ]
    },
    {
     "name": "stdout",
     "output_type": "stream",
     "text": [
      "\tcompleted  0  /  200 epochs\n"
     ]
    },
    {
     "name": "stderr",
     "output_type": "stream",
     "text": [
      "Epochs completed:  12%| █████████████████████▎                                                                                                                                                     25/200 [00:00]"
     ]
    },
    {
     "name": "stdout",
     "output_type": "stream",
     "text": [
      "\tcompleted  20  /  200 epochs\n"
     ]
    },
    {
     "name": "stderr",
     "output_type": "stream",
     "text": [
      "Epochs completed:  22%| ██████████████████████████████████████▎                                                                                                                                    45/200 [00:01]"
     ]
    },
    {
     "name": "stdout",
     "output_type": "stream",
     "text": [
      "\tcompleted  40  /  200 epochs\n"
     ]
    },
    {
     "name": "stderr",
     "output_type": "stream",
     "text": [
      "Epochs completed:  32%| ███████████████████████████████████████████████████████▎                                                                                                                   65/200 [00:01]"
     ]
    },
    {
     "name": "stdout",
     "output_type": "stream",
     "text": [
      "\tcompleted  60  /  200 epochs\n"
     ]
    },
    {
     "name": "stderr",
     "output_type": "stream",
     "text": [
      "Epochs completed:  42%| ████████████████████████████████████████████████████████████████████████▎                                                                                                  85/200 [00:02]"
     ]
    },
    {
     "name": "stdout",
     "output_type": "stream",
     "text": [
      "\tcompleted  80  /  200 epochs\n"
     ]
    },
    {
     "name": "stderr",
     "output_type": "stream",
     "text": [
      "Epochs completed:  52%| ████████████████████████████████████████████████████████████████████████████████████████▋                                                                                 105/200 [00:03]"
     ]
    },
    {
     "name": "stdout",
     "output_type": "stream",
     "text": [
      "\tcompleted  100  /  200 epochs\n"
     ]
    },
    {
     "name": "stderr",
     "output_type": "stream",
     "text": [
      "Epochs completed:  62%| █████████████████████████████████████████████████████████████████████████████████████████████████████████▋                                                                125/200 [00:03]"
     ]
    },
    {
     "name": "stdout",
     "output_type": "stream",
     "text": [
      "\tcompleted  120  /  200 epochs\n"
     ]
    },
    {
     "name": "stderr",
     "output_type": "stream",
     "text": [
      "Epochs completed:  72%| ██████████████████████████████████████████████████████████████████████████████████████████████████████████████████████████▌                                               145/200 [00:04]"
     ]
    },
    {
     "name": "stdout",
     "output_type": "stream",
     "text": [
      "\tcompleted  140  /  200 epochs\n"
     ]
    },
    {
     "name": "stderr",
     "output_type": "stream",
     "text": [
      "Epochs completed:  84%| █████████████████████████████████████████████████████████████████████████████████████████████████████████████████████████████████████████████                             167/200 [00:05]"
     ]
    },
    {
     "name": "stdout",
     "output_type": "stream",
     "text": [
      "\tcompleted  160  /  200 epochs\n"
     ]
    },
    {
     "name": "stderr",
     "output_type": "stream",
     "text": [
      "Epochs completed:  94%| ██████████████████████████████████████████████████████████████████████████████████████████████████████████████████████████████████████████████████████████████            187/200 [00:06]"
     ]
    },
    {
     "name": "stdout",
     "output_type": "stream",
     "text": [
      "\tcompleted  180  /  200 epochs\n"
     ]
    },
    {
     "name": "stderr",
     "output_type": "stream",
     "text": [
      "Epochs completed: 100%| █████████████████████████████████████████████████████████████████████████████████████████████████████████████████████████████████████████████████████████████████████████ 200/200 [00:06]\n"
     ]
    },
    {
     "name": "stdout",
     "output_type": "stream",
     "text": [
      "Fri Apr 25 14:37:39 2025 Finished embedding\n",
      "Fri Apr 25 14:37:49 2025 Worst tree score: 0.93503939\n",
      "Fri Apr 25 14:37:49 2025 Mean tree score: 0.93656740\n",
      "Fri Apr 25 14:37:49 2025 Best tree score: 0.93943509\n",
      "Fri Apr 25 14:37:50 2025 Forward diversification reduced edges from 5744250 to 1048464\n",
      "Fri Apr 25 14:37:50 2025 Reverse diversification reduced edges from 1048464 to 1048464\n",
      "Fri Apr 25 14:37:50 2025 Degree pruning reduced edges from 1257774 to 1257774\n",
      "Fri Apr 25 14:37:50 2025 Resorting data and graph based on tree order\n",
      "Fri Apr 25 14:37:50 2025 Building and compiling search function\n"
     ]
    },
    {
     "name": "stderr",
     "output_type": "stream",
     "text": [
      "Epochs completed:  41%| █████████████████████████████████████████████████████████████████████▉                                                                                                      27/66 [00:00]"
     ]
    },
    {
     "name": "stdout",
     "output_type": "stream",
     "text": [
      "\tcompleted  0  /  66 epochs\n",
      "\tcompleted  6  /  66 epochs\n",
      "\tcompleted  12  /  66 epochs\n",
      "\tcompleted  18  /  66 epochs\n",
      "\tcompleted  24  /  66 epochs\n",
      "\tcompleted  30  /  66 epochs\n",
      "\tcompleted  36  /  66 epochs\n",
      "\tcompleted  42  /  66 epochs\n",
      "\tcompleted  48  /  66 epochs\n"
     ]
    },
    {
     "name": "stderr",
     "output_type": "stream",
     "text": [
      "Epochs completed: 100%| ███████████████████████████████████████████████████████████████████████████████████████████████████████████████████████████████████████████████████████████████████████████ 66/66 [00:00]\n"
     ]
    },
    {
     "name": "stdout",
     "output_type": "stream",
     "text": [
      "\tcompleted  54  /  66 epochs\n",
      "\tcompleted  60  /  66 epochs\n"
     ]
    },
    {
     "name": "stderr",
     "output_type": "stream",
     "text": [
      "Epochs completed: 100%| ███████████████████████████████████████████████████████████████████████████████████████████████████████████████████████████████████████████████████████████████████████████ 66/66 [00:26]\n"
     ]
    },
    {
     "name": "stdout",
     "output_type": "stream",
     "text": [
      "UMAP(init='pca', min_dist=0.2, n_epochs=200, n_jobs=95, n_neighbors=50, unique=True, verbose=True)\n",
      "Unique=True -> Number of data points reduced from  114885  to  114885\n",
      "Most common duplicate is 62991  with a count of  1\n",
      "Fri Apr 25 14:40:21 2025 Construct fuzzy simplicial set\n",
      "Fri Apr 25 14:40:21 2025 Finding Nearest Neighbors\n",
      "Fri Apr 25 14:40:21 2025 Building RP forest with 22 trees\n",
      "Fri Apr 25 14:40:22 2025 NN descent for 17 iterations\n",
      "\t 1  /  17\n",
      "\t 2  /  17\n",
      "\t 3  /  17\n",
      "\tStopping threshold met -- exiting after 3 iterations\n",
      "Fri Apr 25 14:40:39 2025 Finished Nearest Neighbor Search\n",
      "Fri Apr 25 14:40:42 2025 Construct embedding\n"
     ]
    },
    {
     "name": "stderr",
     "output_type": "stream",
     "text": [
      "Epochs completed:   4%| █████▉                                                                                                                                                                      7/200 [00:00]"
     ]
    },
    {
     "name": "stdout",
     "output_type": "stream",
     "text": [
      "\tcompleted  0  /  200 epochs\n"
     ]
    },
    {
     "name": "stderr",
     "output_type": "stream",
     "text": [
      "Epochs completed:  13%| ██████████████████████                                                                                                                                                     26/200 [00:00]"
     ]
    },
    {
     "name": "stdout",
     "output_type": "stream",
     "text": [
      "\tcompleted  20  /  200 epochs\n"
     ]
    },
    {
     "name": "stderr",
     "output_type": "stream",
     "text": [
      "Epochs completed:  23%| ███████████████████████████████████████                                                                                                                                    46/200 [00:01]"
     ]
    },
    {
     "name": "stdout",
     "output_type": "stream",
     "text": [
      "\tcompleted  40  /  200 epochs\n"
     ]
    },
    {
     "name": "stderr",
     "output_type": "stream",
     "text": [
      "Epochs completed:  33%| ████████████████████████████████████████████████████████                                                                                                                   66/200 [00:02]"
     ]
    },
    {
     "name": "stdout",
     "output_type": "stream",
     "text": [
      "\tcompleted  60  /  200 epochs\n"
     ]
    },
    {
     "name": "stderr",
     "output_type": "stream",
     "text": [
      "Epochs completed:  43%| █████████████████████████████████████████████████████████████████████████                                                                                                  86/200 [00:02]"
     ]
    },
    {
     "name": "stdout",
     "output_type": "stream",
     "text": [
      "\tcompleted  80  /  200 epochs\n"
     ]
    },
    {
     "name": "stderr",
     "output_type": "stream",
     "text": [
      "Epochs completed:  53%| █████████████████████████████████████████████████████████████████████████████████████████▌                                                                                106/200 [00:03]"
     ]
    },
    {
     "name": "stdout",
     "output_type": "stream",
     "text": [
      "\tcompleted  100  /  200 epochs\n"
     ]
    },
    {
     "name": "stderr",
     "output_type": "stream",
     "text": [
      "Epochs completed:  63%| ██████████████████████████████████████████████████████████████████████████████████████████████████████████▍                                                               126/200 [00:03]"
     ]
    },
    {
     "name": "stdout",
     "output_type": "stream",
     "text": [
      "\tcompleted  120  /  200 epochs\n"
     ]
    },
    {
     "name": "stderr",
     "output_type": "stream",
     "text": [
      "Epochs completed:  73%| ███████████████████████████████████████████████████████████████████████████████████████████████████████████████████████████▎                                              146/200 [00:04]"
     ]
    },
    {
     "name": "stdout",
     "output_type": "stream",
     "text": [
      "\tcompleted  140  /  200 epochs\n"
     ]
    },
    {
     "name": "stderr",
     "output_type": "stream",
     "text": [
      "Epochs completed:  83%| ████████████████████████████████████████████████████████████████████████████████████████████████████████████████████████████████████████████▎                             166/200 [00:05]"
     ]
    },
    {
     "name": "stdout",
     "output_type": "stream",
     "text": [
      "\tcompleted  160  /  200 epochs\n"
     ]
    },
    {
     "name": "stderr",
     "output_type": "stream",
     "text": [
      "Epochs completed:  93%| █████████████████████████████████████████████████████████████████████████████████████████████████████████████████████████████████████████████████████████████▏            186/200 [00:05]"
     ]
    },
    {
     "name": "stdout",
     "output_type": "stream",
     "text": [
      "\tcompleted  180  /  200 epochs\n"
     ]
    },
    {
     "name": "stderr",
     "output_type": "stream",
     "text": [
      "Epochs completed: 100%| █████████████████████████████████████████████████████████████████████████████████████████████████████████████████████████████████████████████████████████████████████████ 200/200 [00:06]\n"
     ]
    },
    {
     "name": "stdout",
     "output_type": "stream",
     "text": [
      "Fri Apr 25 14:40:51 2025 Finished embedding\n",
      "Fri Apr 25 14:41:01 2025 Worst tree score: 0.93457806\n",
      "Fri Apr 25 14:41:01 2025 Mean tree score: 0.93701805\n",
      "Fri Apr 25 14:41:01 2025 Best tree score: 0.93934804\n",
      "Fri Apr 25 14:41:02 2025 Forward diversification reduced edges from 5744250 to 1048491\n",
      "Fri Apr 25 14:41:02 2025 Reverse diversification reduced edges from 1048491 to 1048491\n",
      "Fri Apr 25 14:41:02 2025 Degree pruning reduced edges from 1257816 to 1257816\n",
      "Fri Apr 25 14:41:02 2025 Resorting data and graph based on tree order\n",
      "Fri Apr 25 14:41:02 2025 Building and compiling search function\n"
     ]
    },
    {
     "name": "stderr",
     "output_type": "stream",
     "text": [
      "Epochs completed:  38%| ████████████████████████████████████████████████████████████████▊                                                                                                           25/66 [00:00]"
     ]
    },
    {
     "name": "stdout",
     "output_type": "stream",
     "text": [
      "\tcompleted  0  /  66 epochs\n",
      "\tcompleted  6  /  66 epochs\n",
      "\tcompleted  12  /  66 epochs\n",
      "\tcompleted  18  /  66 epochs\n",
      "\tcompleted  24  /  66 epochs\n",
      "\tcompleted  30  /  66 epochs\n",
      "\tcompleted  36  /  66 epochs\n",
      "\tcompleted  42  /  66 epochs\n"
     ]
    },
    {
     "name": "stderr",
     "output_type": "stream",
     "text": [
      "Epochs completed: 100%| ███████████████████████████████████████████████████████████████████████████████████████████████████████████████████████████████████████████████████████████████████████████ 66/66 [00:00]\n"
     ]
    },
    {
     "name": "stdout",
     "output_type": "stream",
     "text": [
      "\tcompleted  48  /  66 epochs\n",
      "\tcompleted  54  /  66 epochs\n",
      "\tcompleted  60  /  66 epochs\n"
     ]
    },
    {
     "name": "stderr",
     "output_type": "stream",
     "text": [
      "Epochs completed: 100%| ███████████████████████████████████████████████████████████████████████████████████████████████████████████████████████████████████████████████████████████████████████████ 66/66 [00:27]\n"
     ]
    },
    {
     "name": "stdout",
     "output_type": "stream",
     "text": [
      "UMAP(init='pca', min_dist=0.5, n_epochs=200, n_jobs=95, n_neighbors=50, unique=True, verbose=True)\n",
      "Unique=True -> Number of data points reduced from  114885  to  114885\n",
      "Most common duplicate is 62991  with a count of  1\n",
      "Fri Apr 25 14:43:37 2025 Construct fuzzy simplicial set\n",
      "Fri Apr 25 14:43:37 2025 Finding Nearest Neighbors\n",
      "Fri Apr 25 14:43:37 2025 Building RP forest with 22 trees\n",
      "Fri Apr 25 14:43:37 2025 NN descent for 17 iterations\n",
      "\t 1  /  17\n",
      "\t 2  /  17\n",
      "\t 3  /  17\n",
      "\tStopping threshold met -- exiting after 3 iterations\n",
      "Fri Apr 25 14:43:54 2025 Finished Nearest Neighbor Search\n",
      "Fri Apr 25 14:43:57 2025 Construct embedding\n"
     ]
    },
    {
     "name": "stderr",
     "output_type": "stream",
     "text": [
      "Epochs completed:   4%| █████▉                                                                                                                                                                      7/200 [00:00]"
     ]
    },
    {
     "name": "stdout",
     "output_type": "stream",
     "text": [
      "\tcompleted  0  /  200 epochs\n"
     ]
    },
    {
     "name": "stderr",
     "output_type": "stream",
     "text": [
      "Epochs completed:  13%| ██████████████████████                                                                                                                                                     26/200 [00:00]"
     ]
    },
    {
     "name": "stdout",
     "output_type": "stream",
     "text": [
      "\tcompleted  20  /  200 epochs\n"
     ]
    },
    {
     "name": "stderr",
     "output_type": "stream",
     "text": [
      "Epochs completed:  23%| ███████████████████████████████████████                                                                                                                                    46/200 [00:01]"
     ]
    },
    {
     "name": "stdout",
     "output_type": "stream",
     "text": [
      "\tcompleted  40  /  200 epochs\n"
     ]
    },
    {
     "name": "stderr",
     "output_type": "stream",
     "text": [
      "Epochs completed:  33%| ████████████████████████████████████████████████████████                                                                                                                   66/200 [00:02]"
     ]
    },
    {
     "name": "stdout",
     "output_type": "stream",
     "text": [
      "\tcompleted  60  /  200 epochs\n"
     ]
    },
    {
     "name": "stderr",
     "output_type": "stream",
     "text": [
      "Epochs completed:  43%| █████████████████████████████████████████████████████████████████████████                                                                                                  86/200 [00:02]"
     ]
    },
    {
     "name": "stdout",
     "output_type": "stream",
     "text": [
      "\tcompleted  80  /  200 epochs\n"
     ]
    },
    {
     "name": "stderr",
     "output_type": "stream",
     "text": [
      "Epochs completed:  53%| █████████████████████████████████████████████████████████████████████████████████████████▌                                                                                106/200 [00:03]"
     ]
    },
    {
     "name": "stdout",
     "output_type": "stream",
     "text": [
      "\tcompleted  100  /  200 epochs\n"
     ]
    },
    {
     "name": "stderr",
     "output_type": "stream",
     "text": [
      "Epochs completed:  63%| ██████████████████████████████████████████████████████████████████████████████████████████████████████████▍                                                               126/200 [00:03]"
     ]
    },
    {
     "name": "stdout",
     "output_type": "stream",
     "text": [
      "\tcompleted  120  /  200 epochs\n"
     ]
    },
    {
     "name": "stderr",
     "output_type": "stream",
     "text": [
      "Epochs completed:  73%| ███████████████████████████████████████████████████████████████████████████████████████████████████████████████████████████▎                                              146/200 [00:04]"
     ]
    },
    {
     "name": "stdout",
     "output_type": "stream",
     "text": [
      "\tcompleted  140  /  200 epochs\n"
     ]
    },
    {
     "name": "stderr",
     "output_type": "stream",
     "text": [
      "Epochs completed:  83%| ████████████████████████████████████████████████████████████████████████████████████████████████████████████████████████████████████████████▎                             166/200 [00:05]"
     ]
    },
    {
     "name": "stdout",
     "output_type": "stream",
     "text": [
      "\tcompleted  160  /  200 epochs\n"
     ]
    },
    {
     "name": "stderr",
     "output_type": "stream",
     "text": [
      "Epochs completed:  93%| █████████████████████████████████████████████████████████████████████████████████████████████████████████████████████████████████████████████████████████████▏            186/200 [00:05]"
     ]
    },
    {
     "name": "stdout",
     "output_type": "stream",
     "text": [
      "\tcompleted  180  /  200 epochs\n"
     ]
    },
    {
     "name": "stderr",
     "output_type": "stream",
     "text": [
      "Epochs completed: 100%| █████████████████████████████████████████████████████████████████████████████████████████████████████████████████████████████████████████████████████████████████████████ 200/200 [00:06]\n"
     ]
    },
    {
     "name": "stdout",
     "output_type": "stream",
     "text": [
      "Fri Apr 25 14:44:06 2025 Finished embedding\n",
      "Fri Apr 25 14:44:16 2025 Worst tree score: 0.93302868\n",
      "Fri Apr 25 14:44:16 2025 Mean tree score: 0.93654643\n",
      "Fri Apr 25 14:44:16 2025 Best tree score: 0.93810332\n",
      "Fri Apr 25 14:44:17 2025 Forward diversification reduced edges from 5744250 to 1048478\n",
      "Fri Apr 25 14:44:17 2025 Reverse diversification reduced edges from 1048478 to 1048478\n",
      "Fri Apr 25 14:44:17 2025 Degree pruning reduced edges from 1257798 to 1257798\n",
      "Fri Apr 25 14:44:17 2025 Resorting data and graph based on tree order\n",
      "Fri Apr 25 14:44:17 2025 Building and compiling search function\n"
     ]
    },
    {
     "name": "stderr",
     "output_type": "stream",
     "text": [
      "Epochs completed:  36%| ██████████████████████████████████████████████████████████████▏                                                                                                             24/66 [00:00]"
     ]
    },
    {
     "name": "stdout",
     "output_type": "stream",
     "text": [
      "\tcompleted  0  /  66 epochs\n",
      "\tcompleted  6  /  66 epochs\n",
      "\tcompleted  12  /  66 epochs\n",
      "\tcompleted  18  /  66 epochs\n",
      "\tcompleted  24  /  66 epochs\n",
      "\tcompleted  30  /  66 epochs\n",
      "\tcompleted  36  /  66 epochs\n",
      "\tcompleted  42  /  66 epochs\n"
     ]
    },
    {
     "name": "stderr",
     "output_type": "stream",
     "text": [
      "Epochs completed: 100%| ███████████████████████████████████████████████████████████████████████████████████████████████████████████████████████████████████████████████████████████████████████████ 66/66 [00:00]\n"
     ]
    },
    {
     "name": "stdout",
     "output_type": "stream",
     "text": [
      "\tcompleted  48  /  66 epochs\n",
      "\tcompleted  54  /  66 epochs\n",
      "\tcompleted  60  /  66 epochs\n"
     ]
    },
    {
     "name": "stderr",
     "output_type": "stream",
     "text": [
      "Epochs completed: 100%| ███████████████████████████████████████████████████████████████████████████████████████████████████████████████████████████████████████████████████████████████████████████ 66/66 [00:28]\n"
     ]
    },
    {
     "name": "stdout",
     "output_type": "stream",
     "text": [
      "UMAP(init='pca', min_dist=0.8, n_epochs=200, n_jobs=95, n_neighbors=50, unique=True, verbose=True)\n",
      "Unique=True -> Number of data points reduced from  114885  to  114885\n",
      "Most common duplicate is 62991  with a count of  1\n",
      "Fri Apr 25 14:46:53 2025 Construct fuzzy simplicial set\n",
      "Fri Apr 25 14:46:53 2025 Finding Nearest Neighbors\n",
      "Fri Apr 25 14:46:53 2025 Building RP forest with 22 trees\n",
      "Fri Apr 25 14:46:53 2025 NN descent for 17 iterations\n",
      "\t 1  /  17\n",
      "\t 2  /  17\n",
      "\t 3  /  17\n",
      "\tStopping threshold met -- exiting after 3 iterations\n",
      "Fri Apr 25 14:47:10 2025 Finished Nearest Neighbor Search\n",
      "Fri Apr 25 14:47:13 2025 Construct embedding\n"
     ]
    },
    {
     "name": "stderr",
     "output_type": "stream",
     "text": [
      "Epochs completed:   3%| █████▏                                                                                                                                                                      6/200 [00:00]"
     ]
    },
    {
     "name": "stdout",
     "output_type": "stream",
     "text": [
      "\tcompleted  0  /  200 epochs\n"
     ]
    },
    {
     "name": "stderr",
     "output_type": "stream",
     "text": [
      "Epochs completed:  12%| █████████████████████▎                                                                                                                                                     25/200 [00:00]"
     ]
    },
    {
     "name": "stdout",
     "output_type": "stream",
     "text": [
      "\tcompleted  20  /  200 epochs\n"
     ]
    },
    {
     "name": "stderr",
     "output_type": "stream",
     "text": [
      "Epochs completed:  22%| ██████████████████████████████████████▎                                                                                                                                    45/200 [00:01]"
     ]
    },
    {
     "name": "stdout",
     "output_type": "stream",
     "text": [
      "\tcompleted  40  /  200 epochs\n"
     ]
    },
    {
     "name": "stderr",
     "output_type": "stream",
     "text": [
      "Epochs completed:  32%| ███████████████████████████████████████████████████████▎                                                                                                                   65/200 [00:02]"
     ]
    },
    {
     "name": "stdout",
     "output_type": "stream",
     "text": [
      "\tcompleted  60  /  200 epochs\n"
     ]
    },
    {
     "name": "stderr",
     "output_type": "stream",
     "text": [
      "Epochs completed:  42%| ████████████████████████████████████████████████████████████████████████▎                                                                                                  85/200 [00:02]"
     ]
    },
    {
     "name": "stdout",
     "output_type": "stream",
     "text": [
      "\tcompleted  80  /  200 epochs\n"
     ]
    },
    {
     "name": "stderr",
     "output_type": "stream",
     "text": [
      "Epochs completed:  52%| ████████████████████████████████████████████████████████████████████████████████████████▋                                                                                 105/200 [00:03]"
     ]
    },
    {
     "name": "stdout",
     "output_type": "stream",
     "text": [
      "\tcompleted  100  /  200 epochs\n"
     ]
    },
    {
     "name": "stderr",
     "output_type": "stream",
     "text": [
      "Epochs completed:  62%| █████████████████████████████████████████████████████████████████████████████████████████████████████████▋                                                                125/200 [00:03]"
     ]
    },
    {
     "name": "stdout",
     "output_type": "stream",
     "text": [
      "\tcompleted  120  /  200 epochs\n"
     ]
    },
    {
     "name": "stderr",
     "output_type": "stream",
     "text": [
      "Epochs completed:  72%| ██████████████████████████████████████████████████████████████████████████████████████████████████████████████████████████▌                                               145/200 [00:04]"
     ]
    },
    {
     "name": "stdout",
     "output_type": "stream",
     "text": [
      "\tcompleted  140  /  200 epochs\n"
     ]
    },
    {
     "name": "stderr",
     "output_type": "stream",
     "text": [
      "Epochs completed:  83%| ████████████████████████████████████████████████████████████████████████████████████████████████████████████████████████████████████████████▎                             166/200 [00:05]"
     ]
    },
    {
     "name": "stdout",
     "output_type": "stream",
     "text": [
      "\tcompleted  160  /  200 epochs\n"
     ]
    },
    {
     "name": "stderr",
     "output_type": "stream",
     "text": [
      "Epochs completed:  93%| █████████████████████████████████████████████████████████████████████████████████████████████████████████████████████████████████████████████████████████████▏            186/200 [00:05]"
     ]
    },
    {
     "name": "stdout",
     "output_type": "stream",
     "text": [
      "\tcompleted  180  /  200 epochs\n"
     ]
    },
    {
     "name": "stderr",
     "output_type": "stream",
     "text": [
      "Epochs completed: 100%| █████████████████████████████████████████████████████████████████████████████████████████████████████████████████████████████████████████████████████████████████████████ 200/200 [00:06]\n"
     ]
    },
    {
     "name": "stdout",
     "output_type": "stream",
     "text": [
      "Fri Apr 25 14:47:22 2025 Finished embedding\n",
      "Fri Apr 25 14:47:33 2025 Worst tree score: 0.93418636\n",
      "Fri Apr 25 14:47:33 2025 Mean tree score: 0.93681468\n",
      "Fri Apr 25 14:47:33 2025 Best tree score: 0.93915655\n",
      "Fri Apr 25 14:47:33 2025 Forward diversification reduced edges from 5744250 to 1048491\n",
      "Fri Apr 25 14:47:33 2025 Reverse diversification reduced edges from 1048491 to 1048491\n",
      "Fri Apr 25 14:47:33 2025 Degree pruning reduced edges from 1257820 to 1257820\n",
      "Fri Apr 25 14:47:33 2025 Resorting data and graph based on tree order\n",
      "Fri Apr 25 14:47:33 2025 Building and compiling search function\n"
     ]
    },
    {
     "name": "stderr",
     "output_type": "stream",
     "text": [
      "Epochs completed:  39%| ███████████████████████████████████████████████████████████████████▎                                                                                                        26/66 [00:00]"
     ]
    },
    {
     "name": "stdout",
     "output_type": "stream",
     "text": [
      "\tcompleted  0  /  66 epochs\n",
      "\tcompleted  6  /  66 epochs\n",
      "\tcompleted  12  /  66 epochs\n",
      "\tcompleted  18  /  66 epochs\n",
      "\tcompleted  24  /  66 epochs\n",
      "\tcompleted  30  /  66 epochs\n",
      "\tcompleted  36  /  66 epochs\n",
      "\tcompleted  42  /  66 epochs\n"
     ]
    },
    {
     "name": "stderr",
     "output_type": "stream",
     "text": [
      "Epochs completed: 100%| ███████████████████████████████████████████████████████████████████████████████████████████████████████████████████████████████████████████████████████████████████████████ 66/66 [00:00]\n"
     ]
    },
    {
     "name": "stdout",
     "output_type": "stream",
     "text": [
      "\tcompleted  48  /  66 epochs\n",
      "\tcompleted  54  /  66 epochs\n",
      "\tcompleted  60  /  66 epochs\n"
     ]
    },
    {
     "name": "stderr",
     "output_type": "stream",
     "text": [
      "Epochs completed: 100%| ███████████████████████████████████████████████████████████████████████████████████████████████████████████████████████████████████████████████████████████████████████████ 66/66 [00:28]\n"
     ]
    },
    {
     "name": "stdout",
     "output_type": "stream",
     "text": [
      "UMAP(init='pca', min_dist=0.99, n_epochs=200, n_jobs=95, n_neighbors=50, unique=True, verbose=True)\n",
      "Unique=True -> Number of data points reduced from  114885  to  114885\n",
      "Most common duplicate is 62991  with a count of  1\n",
      "Fri Apr 25 14:50:09 2025 Construct fuzzy simplicial set\n",
      "Fri Apr 25 14:50:09 2025 Finding Nearest Neighbors\n",
      "Fri Apr 25 14:50:09 2025 Building RP forest with 22 trees\n",
      "Fri Apr 25 14:50:09 2025 NN descent for 17 iterations\n",
      "\t 1  /  17\n",
      "\t 2  /  17\n",
      "\t 3  /  17\n",
      "\tStopping threshold met -- exiting after 3 iterations\n",
      "Fri Apr 25 14:50:26 2025 Finished Nearest Neighbor Search\n",
      "Fri Apr 25 14:50:29 2025 Construct embedding\n"
     ]
    },
    {
     "name": "stderr",
     "output_type": "stream",
     "text": [
      "Epochs completed:   4%| █████▉                                                                                                                                                                      7/200 [00:00]"
     ]
    },
    {
     "name": "stdout",
     "output_type": "stream",
     "text": [
      "\tcompleted  0  /  200 epochs\n"
     ]
    },
    {
     "name": "stderr",
     "output_type": "stream",
     "text": [
      "Epochs completed:  13%| ██████████████████████                                                                                                                                                     26/200 [00:00]"
     ]
    },
    {
     "name": "stdout",
     "output_type": "stream",
     "text": [
      "\tcompleted  20  /  200 epochs\n"
     ]
    },
    {
     "name": "stderr",
     "output_type": "stream",
     "text": [
      "Epochs completed:  23%| ███████████████████████████████████████                                                                                                                                    46/200 [00:01]"
     ]
    },
    {
     "name": "stdout",
     "output_type": "stream",
     "text": [
      "\tcompleted  40  /  200 epochs\n"
     ]
    },
    {
     "name": "stderr",
     "output_type": "stream",
     "text": [
      "Epochs completed:  33%| ████████████████████████████████████████████████████████                                                                                                                   66/200 [00:02]"
     ]
    },
    {
     "name": "stdout",
     "output_type": "stream",
     "text": [
      "\tcompleted  60  /  200 epochs\n"
     ]
    },
    {
     "name": "stderr",
     "output_type": "stream",
     "text": [
      "Epochs completed:  43%| █████████████████████████████████████████████████████████████████████████                                                                                                  86/200 [00:02]"
     ]
    },
    {
     "name": "stdout",
     "output_type": "stream",
     "text": [
      "\tcompleted  80  /  200 epochs\n"
     ]
    },
    {
     "name": "stderr",
     "output_type": "stream",
     "text": [
      "Epochs completed:  53%| █████████████████████████████████████████████████████████████████████████████████████████▌                                                                                106/200 [00:03]"
     ]
    },
    {
     "name": "stdout",
     "output_type": "stream",
     "text": [
      "\tcompleted  100  /  200 epochs\n"
     ]
    },
    {
     "name": "stderr",
     "output_type": "stream",
     "text": [
      "Epochs completed:  63%| ██████████████████████████████████████████████████████████████████████████████████████████████████████████▍                                                               126/200 [00:03]"
     ]
    },
    {
     "name": "stdout",
     "output_type": "stream",
     "text": [
      "\tcompleted  120  /  200 epochs\n"
     ]
    },
    {
     "name": "stderr",
     "output_type": "stream",
     "text": [
      "Epochs completed:  73%| ███████████████████████████████████████████████████████████████████████████████████████████████████████████████████████████▎                                              146/200 [00:04]"
     ]
    },
    {
     "name": "stdout",
     "output_type": "stream",
     "text": [
      "\tcompleted  140  /  200 epochs\n"
     ]
    },
    {
     "name": "stderr",
     "output_type": "stream",
     "text": [
      "Epochs completed:  83%| ████████████████████████████████████████████████████████████████████████████████████████████████████████████████████████████████████████████▎                             166/200 [00:05]"
     ]
    },
    {
     "name": "stdout",
     "output_type": "stream",
     "text": [
      "\tcompleted  160  /  200 epochs\n"
     ]
    },
    {
     "name": "stderr",
     "output_type": "stream",
     "text": [
      "Epochs completed:  93%| █████████████████████████████████████████████████████████████████████████████████████████████████████████████████████████████████████████████████████████████▏            186/200 [00:05]"
     ]
    },
    {
     "name": "stdout",
     "output_type": "stream",
     "text": [
      "\tcompleted  180  /  200 epochs\n"
     ]
    },
    {
     "name": "stderr",
     "output_type": "stream",
     "text": [
      "Epochs completed: 100%| █████████████████████████████████████████████████████████████████████████████████████████████████████████████████████████████████████████████████████████████████████████ 200/200 [00:06]\n"
     ]
    },
    {
     "name": "stdout",
     "output_type": "stream",
     "text": [
      "Fri Apr 25 14:50:38 2025 Finished embedding\n",
      "Fri Apr 25 14:50:48 2025 Worst tree score: 0.93452583\n",
      "Fri Apr 25 14:50:48 2025 Mean tree score: 0.93665246\n",
      "Fri Apr 25 14:50:48 2025 Best tree score: 0.93839927\n",
      "Fri Apr 25 14:50:49 2025 Forward diversification reduced edges from 5744250 to 1048477\n",
      "Fri Apr 25 14:50:49 2025 Reverse diversification reduced edges from 1048477 to 1048477\n",
      "Fri Apr 25 14:50:49 2025 Degree pruning reduced edges from 1257798 to 1257798\n",
      "Fri Apr 25 14:50:49 2025 Resorting data and graph based on tree order\n",
      "Fri Apr 25 14:50:49 2025 Building and compiling search function\n"
     ]
    },
    {
     "name": "stderr",
     "output_type": "stream",
     "text": [
      "Epochs completed:  39%| ███████████████████████████████████████████████████████████████████▎                                                                                                        26/66 [00:00]"
     ]
    },
    {
     "name": "stdout",
     "output_type": "stream",
     "text": [
      "\tcompleted  0  /  66 epochs\n",
      "\tcompleted  6  /  66 epochs\n",
      "\tcompleted  12  /  66 epochs\n",
      "\tcompleted  18  /  66 epochs\n",
      "\tcompleted  24  /  66 epochs\n",
      "\tcompleted  30  /  66 epochs\n",
      "\tcompleted  36  /  66 epochs\n",
      "\tcompleted  42  /  66 epochs\n",
      "\tcompleted  48  /  66 epochs\n"
     ]
    },
    {
     "name": "stderr",
     "output_type": "stream",
     "text": [
      "Epochs completed: 100%| ███████████████████████████████████████████████████████████████████████████████████████████████████████████████████████████████████████████████████████████████████████████ 66/66 [00:00]\n"
     ]
    },
    {
     "name": "stdout",
     "output_type": "stream",
     "text": [
      "\tcompleted  54  /  66 epochs\n",
      "\tcompleted  60  /  66 epochs\n"
     ]
    },
    {
     "name": "stderr",
     "output_type": "stream",
     "text": [
      "Epochs completed: 100%| ███████████████████████████████████████████████████████████████████████████████████████████████████████████████████████████████████████████████████████████████████████████ 66/66 [00:27]\n"
     ]
    },
    {
     "name": "stdout",
     "output_type": "stream",
     "text": [
      "UMAP(init='pca', min_dist=0.0, n_epochs=200, n_jobs=95, n_neighbors=100, unique=True, verbose=True)\n",
      "Unique=True -> Number of data points reduced from  114885  to  114885\n",
      "Most common duplicate is 62991  with a count of  1\n",
      "Fri Apr 25 14:53:23 2025 Construct fuzzy simplicial set\n",
      "Fri Apr 25 14:53:23 2025 Finding Nearest Neighbors\n",
      "Fri Apr 25 14:53:23 2025 Building RP forest with 22 trees\n",
      "Fri Apr 25 14:53:23 2025 NN descent for 17 iterations\n",
      "\t 1  /  17\n",
      "\t 2  /  17\n",
      "\t 3  /  17\n",
      "\tStopping threshold met -- exiting after 3 iterations\n",
      "Fri Apr 25 14:54:16 2025 Finished Nearest Neighbor Search\n",
      "Fri Apr 25 14:54:23 2025 Construct embedding\n"
     ]
    },
    {
     "name": "stderr",
     "output_type": "stream",
     "text": [
      "Epochs completed:   3%| █████▏                                                                                                                                                                      6/200 [00:00]"
     ]
    },
    {
     "name": "stdout",
     "output_type": "stream",
     "text": [
      "\tcompleted  0  /  200 epochs\n"
     ]
    },
    {
     "name": "stderr",
     "output_type": "stream",
     "text": [
      "Epochs completed:  12%| █████████████████████▎                                                                                                                                                     25/200 [00:00]"
     ]
    },
    {
     "name": "stdout",
     "output_type": "stream",
     "text": [
      "\tcompleted  20  /  200 epochs\n"
     ]
    },
    {
     "name": "stderr",
     "output_type": "stream",
     "text": [
      "Epochs completed:  22%| ██████████████████████████████████████▎                                                                                                                                    45/200 [00:01]"
     ]
    },
    {
     "name": "stdout",
     "output_type": "stream",
     "text": [
      "\tcompleted  40  /  200 epochs\n"
     ]
    },
    {
     "name": "stderr",
     "output_type": "stream",
     "text": [
      "Epochs completed:  33%| ████████████████████████████████████████████████████████                                                                                                                   66/200 [00:02]"
     ]
    },
    {
     "name": "stdout",
     "output_type": "stream",
     "text": [
      "\tcompleted  60  /  200 epochs\n"
     ]
    },
    {
     "name": "stderr",
     "output_type": "stream",
     "text": [
      "Epochs completed:  42%| ███████████████████████████████████████████████████████████████████████▍                                                                                                   84/200 [00:02]"
     ]
    },
    {
     "name": "stdout",
     "output_type": "stream",
     "text": [
      "\tcompleted  80  /  200 epochs\n"
     ]
    },
    {
     "name": "stderr",
     "output_type": "stream",
     "text": [
      "Epochs completed:  52%| ████████████████████████████████████████████████████████████████████████████████████████▋                                                                                 105/200 [00:03]"
     ]
    },
    {
     "name": "stdout",
     "output_type": "stream",
     "text": [
      "\tcompleted  100  /  200 epochs\n"
     ]
    },
    {
     "name": "stderr",
     "output_type": "stream",
     "text": [
      "Epochs completed:  63%| ██████████████████████████████████████████████████████████████████████████████████████████████████████████▍                                                               126/200 [00:04]"
     ]
    },
    {
     "name": "stdout",
     "output_type": "stream",
     "text": [
      "\tcompleted  120  /  200 epochs\n"
     ]
    },
    {
     "name": "stderr",
     "output_type": "stream",
     "text": [
      "Epochs completed:  72%| █████████████████████████████████████████████████████████████████████████████████████████████████████████████████████████▋                                                144/200 [00:05]"
     ]
    },
    {
     "name": "stdout",
     "output_type": "stream",
     "text": [
      "\tcompleted  140  /  200 epochs\n"
     ]
    },
    {
     "name": "stderr",
     "output_type": "stream",
     "text": [
      "Epochs completed:  82%| ███████████████████████████████████████████████████████████████████████████████████████████████████████████████████████████████████████████▍                              165/200 [00:06]"
     ]
    },
    {
     "name": "stdout",
     "output_type": "stream",
     "text": [
      "\tcompleted  160  /  200 epochs\n"
     ]
    },
    {
     "name": "stderr",
     "output_type": "stream",
     "text": [
      "Epochs completed:  93%| █████████████████████████████████████████████████████████████████████████████████████████████████████████████████████████████████████████████████████████████▏            186/200 [00:06]"
     ]
    },
    {
     "name": "stdout",
     "output_type": "stream",
     "text": [
      "\tcompleted  180  /  200 epochs\n"
     ]
    },
    {
     "name": "stderr",
     "output_type": "stream",
     "text": [
      "Epochs completed: 100%| █████████████████████████████████████████████████████████████████████████████████████████████████████████████████████████████████████████████████████████████████████████ 200/200 [00:07]\n"
     ]
    },
    {
     "name": "stdout",
     "output_type": "stream",
     "text": [
      "Fri Apr 25 14:54:34 2025 Finished embedding\n",
      "Fri Apr 25 14:54:54 2025 Worst tree score: 0.98369674\n",
      "Fri Apr 25 14:54:54 2025 Mean tree score: 0.98550566\n",
      "Fri Apr 25 14:54:54 2025 Best tree score: 0.98656047\n",
      "Fri Apr 25 14:54:55 2025 Forward diversification reduced edges from 11488500 to 1230431\n",
      "Fri Apr 25 14:54:55 2025 Reverse diversification reduced edges from 1230431 to 1230431\n",
      "Fri Apr 25 14:54:55 2025 Degree pruning reduced edges from 1544292 to 1544292\n",
      "Fri Apr 25 14:54:55 2025 Resorting data and graph based on tree order\n",
      "Fri Apr 25 14:54:55 2025 Building and compiling search function\n"
     ]
    },
    {
     "name": "stderr",
     "output_type": "stream",
     "text": [
      "Epochs completed:  36%| ██████████████████████████████████████████████████████████████▏                                                                                                             24/66 [00:00]"
     ]
    },
    {
     "name": "stdout",
     "output_type": "stream",
     "text": [
      "\tcompleted  0  /  66 epochs\n",
      "\tcompleted  6  /  66 epochs\n",
      "\tcompleted  12  /  66 epochs\n",
      "\tcompleted  18  /  66 epochs\n",
      "\tcompleted  24  /  66 epochs\n",
      "\tcompleted  30  /  66 epochs\n",
      "\tcompleted  36  /  66 epochs\n",
      "\tcompleted  42  /  66 epochs\n"
     ]
    },
    {
     "name": "stderr",
     "output_type": "stream",
     "text": [
      "Epochs completed: 100%| ███████████████████████████████████████████████████████████████████████████████████████████████████████████████████████████████████████████████████████████████████████████ 66/66 [00:00]\n"
     ]
    },
    {
     "name": "stdout",
     "output_type": "stream",
     "text": [
      "\tcompleted  48  /  66 epochs\n",
      "\tcompleted  54  /  66 epochs\n",
      "\tcompleted  60  /  66 epochs\n"
     ]
    },
    {
     "name": "stderr",
     "output_type": "stream",
     "text": [
      "Epochs completed: 100%| ███████████████████████████████████████████████████████████████████████████████████████████████████████████████████████████████████████████████████████████████████████████ 66/66 [00:25]\n"
     ]
    },
    {
     "name": "stdout",
     "output_type": "stream",
     "text": [
      "UMAP(init='pca', min_dist=0.02, n_epochs=200, n_jobs=95, n_neighbors=100, unique=True, verbose=True)\n",
      "Unique=True -> Number of data points reduced from  114885  to  114885\n",
      "Most common duplicate is 62991  with a count of  1\n",
      "Fri Apr 25 14:57:34 2025 Construct fuzzy simplicial set\n",
      "Fri Apr 25 14:57:34 2025 Finding Nearest Neighbors\n",
      "Fri Apr 25 14:57:34 2025 Building RP forest with 22 trees\n",
      "Fri Apr 25 14:57:34 2025 NN descent for 17 iterations\n",
      "\t 1  /  17\n",
      "\t 2  /  17\n",
      "\t 3  /  17\n",
      "\tStopping threshold met -- exiting after 3 iterations\n",
      "Fri Apr 25 14:58:25 2025 Finished Nearest Neighbor Search\n",
      "Fri Apr 25 14:58:31 2025 Construct embedding\n"
     ]
    },
    {
     "name": "stderr",
     "output_type": "stream",
     "text": [
      "Epochs completed:   3%| █████▏                                                                                                                                                                      6/200 [00:00]"
     ]
    },
    {
     "name": "stdout",
     "output_type": "stream",
     "text": [
      "\tcompleted  0  /  200 epochs\n"
     ]
    },
    {
     "name": "stderr",
     "output_type": "stream",
     "text": [
      "Epochs completed:  12%| █████████████████████▎                                                                                                                                                     25/200 [00:00]"
     ]
    },
    {
     "name": "stdout",
     "output_type": "stream",
     "text": [
      "\tcompleted  20  /  200 epochs\n"
     ]
    },
    {
     "name": "stderr",
     "output_type": "stream",
     "text": [
      "Epochs completed:  22%| █████████████████████████████████████▍                                                                                                                                     44/200 [00:01]"
     ]
    },
    {
     "name": "stdout",
     "output_type": "stream",
     "text": [
      "\tcompleted  40  /  200 epochs\n"
     ]
    },
    {
     "name": "stderr",
     "output_type": "stream",
     "text": [
      "Epochs completed:  32%| ███████████████████████████████████████████████████████▎                                                                                                                   65/200 [00:02]"
     ]
    },
    {
     "name": "stdout",
     "output_type": "stream",
     "text": [
      "\tcompleted  60  /  200 epochs\n"
     ]
    },
    {
     "name": "stderr",
     "output_type": "stream",
     "text": [
      "Epochs completed:  43%| █████████████████████████████████████████████████████████████████████████                                                                                                  86/200 [00:03]"
     ]
    },
    {
     "name": "stdout",
     "output_type": "stream",
     "text": [
      "\tcompleted  80  /  200 epochs\n"
     ]
    },
    {
     "name": "stderr",
     "output_type": "stream",
     "text": [
      "Epochs completed:  52%| ███████████████████████████████████████████████████████████████████████████████████████▉                                                                                  104/200 [00:03]"
     ]
    },
    {
     "name": "stdout",
     "output_type": "stream",
     "text": [
      "\tcompleted  100  /  200 epochs\n"
     ]
    },
    {
     "name": "stderr",
     "output_type": "stream",
     "text": [
      "Epochs completed:  62%| █████████████████████████████████████████████████████████████████████████████████████████████████████████▋                                                                125/200 [00:04]"
     ]
    },
    {
     "name": "stdout",
     "output_type": "stream",
     "text": [
      "\tcompleted  120  /  200 epochs\n"
     ]
    },
    {
     "name": "stderr",
     "output_type": "stream",
     "text": [
      "Epochs completed:  73%| ███████████████████████████████████████████████████████████████████████████████████████████████████████████████████████████▎                                              146/200 [00:05]"
     ]
    },
    {
     "name": "stdout",
     "output_type": "stream",
     "text": [
      "\tcompleted  140  /  200 epochs\n"
     ]
    },
    {
     "name": "stderr",
     "output_type": "stream",
     "text": [
      "Epochs completed:  82%| ██████████████████████████████████████████████████████████████████████████████████████████████████████████████████████████████████████████▌                               164/200 [00:06]"
     ]
    },
    {
     "name": "stdout",
     "output_type": "stream",
     "text": [
      "\tcompleted  160  /  200 epochs\n"
     ]
    },
    {
     "name": "stderr",
     "output_type": "stream",
     "text": [
      "Epochs completed:  92%| ████████████████████████████████████████████████████████████████████████████████████████████████████████████████████████████████████████████████████████████▎             185/200 [00:06]"
     ]
    },
    {
     "name": "stdout",
     "output_type": "stream",
     "text": [
      "\tcompleted  180  /  200 epochs\n"
     ]
    },
    {
     "name": "stderr",
     "output_type": "stream",
     "text": [
      "Epochs completed: 100%| █████████████████████████████████████████████████████████████████████████████████████████████████████████████████████████████████████████████████████████████████████████ 200/200 [00:07]\n"
     ]
    },
    {
     "name": "stdout",
     "output_type": "stream",
     "text": [
      "Fri Apr 25 14:58:43 2025 Finished embedding\n",
      "Fri Apr 25 14:59:03 2025 Worst tree score: 0.98347043\n",
      "Fri Apr 25 14:59:03 2025 Mean tree score: 0.98511792\n",
      "Fri Apr 25 14:59:03 2025 Best tree score: 0.98659529\n",
      "Fri Apr 25 14:59:04 2025 Forward diversification reduced edges from 11488500 to 1230427\n",
      "Fri Apr 25 14:59:04 2025 Reverse diversification reduced edges from 1230427 to 1230427\n",
      "Fri Apr 25 14:59:04 2025 Degree pruning reduced edges from 1544286 to 1544286\n",
      "Fri Apr 25 14:59:04 2025 Resorting data and graph based on tree order\n",
      "Fri Apr 25 14:59:04 2025 Building and compiling search function\n"
     ]
    },
    {
     "name": "stderr",
     "output_type": "stream",
     "text": [
      "Epochs completed:  39%| ███████████████████████████████████████████████████████████████████▎                                                                                                        26/66 [00:00]"
     ]
    },
    {
     "name": "stdout",
     "output_type": "stream",
     "text": [
      "\tcompleted  0  /  66 epochs\n",
      "\tcompleted  6  /  66 epochs\n",
      "\tcompleted  12  /  66 epochs\n",
      "\tcompleted  18  /  66 epochs\n",
      "\tcompleted  24  /  66 epochs\n",
      "\tcompleted  30  /  66 epochs\n",
      "\tcompleted  36  /  66 epochs\n",
      "\tcompleted  42  /  66 epochs\n"
     ]
    },
    {
     "name": "stderr",
     "output_type": "stream",
     "text": [
      "Epochs completed: 100%| ███████████████████████████████████████████████████████████████████████████████████████████████████████████████████████████████████████████████████████████████████████████ 66/66 [00:00]"
     ]
    },
    {
     "name": "stdout",
     "output_type": "stream",
     "text": [
      "\tcompleted  48  /  66 epochs\n",
      "\tcompleted  54  /  66 epochs\n",
      "\tcompleted  60  /  66 epochs\n"
     ]
    },
    {
     "name": "stderr",
     "output_type": "stream",
     "text": [
      "\n",
      "Epochs completed: 100%| ███████████████████████████████████████████████████████████████████████████████████████████████████████████████████████████████████████████████████████████████████████████ 66/66 [00:26]\n"
     ]
    },
    {
     "name": "stdout",
     "output_type": "stream",
     "text": [
      "UMAP(init='pca', min_dist=0.05, n_epochs=200, n_jobs=95, n_neighbors=100, unique=True, verbose=True)\n",
      "Unique=True -> Number of data points reduced from  114885  to  114885\n",
      "Most common duplicate is 62991  with a count of  1\n",
      "Fri Apr 25 15:01:43 2025 Construct fuzzy simplicial set\n",
      "Fri Apr 25 15:01:43 2025 Finding Nearest Neighbors\n",
      "Fri Apr 25 15:01:43 2025 Building RP forest with 22 trees\n",
      "Fri Apr 25 15:01:43 2025 NN descent for 17 iterations\n",
      "\t 1  /  17\n",
      "\t 2  /  17\n",
      "\t 3  /  17\n",
      "\tStopping threshold met -- exiting after 3 iterations\n",
      "Fri Apr 25 15:02:33 2025 Finished Nearest Neighbor Search\n",
      "Fri Apr 25 15:02:40 2025 Construct embedding\n"
     ]
    },
    {
     "name": "stderr",
     "output_type": "stream",
     "text": [
      "Epochs completed:   3%| █████▏                                                                                                                                                                      6/200 [00:00]"
     ]
    },
    {
     "name": "stdout",
     "output_type": "stream",
     "text": [
      "\tcompleted  0  /  200 epochs\n"
     ]
    },
    {
     "name": "stderr",
     "output_type": "stream",
     "text": [
      "Epochs completed:  12%| █████████████████████▎                                                                                                                                                     25/200 [00:00]"
     ]
    },
    {
     "name": "stdout",
     "output_type": "stream",
     "text": [
      "\tcompleted  20  /  200 epochs\n"
     ]
    },
    {
     "name": "stderr",
     "output_type": "stream",
     "text": [
      "Epochs completed:  22%| ██████████████████████████████████████▎                                                                                                                                    45/200 [00:01]"
     ]
    },
    {
     "name": "stdout",
     "output_type": "stream",
     "text": [
      "\tcompleted  40  /  200 epochs\n"
     ]
    },
    {
     "name": "stderr",
     "output_type": "stream",
     "text": [
      "Epochs completed:  33%| ████████████████████████████████████████████████████████                                                                                                                   66/200 [00:02]"
     ]
    },
    {
     "name": "stdout",
     "output_type": "stream",
     "text": [
      "\tcompleted  60  /  200 epochs\n"
     ]
    },
    {
     "name": "stderr",
     "output_type": "stream",
     "text": [
      "Epochs completed:  42%| ███████████████████████████████████████████████████████████████████████▍                                                                                                   84/200 [00:02]"
     ]
    },
    {
     "name": "stdout",
     "output_type": "stream",
     "text": [
      "\tcompleted  80  /  200 epochs\n"
     ]
    },
    {
     "name": "stderr",
     "output_type": "stream",
     "text": [
      "Epochs completed:  52%| ████████████████████████████████████████████████████████████████████████████████████████▋                                                                                 105/200 [00:03]"
     ]
    },
    {
     "name": "stdout",
     "output_type": "stream",
     "text": [
      "\tcompleted  100  /  200 epochs\n"
     ]
    },
    {
     "name": "stderr",
     "output_type": "stream",
     "text": [
      "Epochs completed:  62%| ███████████████████████████████████████████████████████████████████████████████████████████████████████▉                                                                  123/200 [00:04]"
     ]
    },
    {
     "name": "stdout",
     "output_type": "stream",
     "text": [
      "\tcompleted  120  /  200 epochs\n"
     ]
    },
    {
     "name": "stderr",
     "output_type": "stream",
     "text": [
      "Epochs completed:  72%| █████████████████████████████████████████████████████████████████████████████████████████████████████████████████████████▋                                                144/200 [00:05]"
     ]
    },
    {
     "name": "stdout",
     "output_type": "stream",
     "text": [
      "\tcompleted  140  /  200 epochs\n"
     ]
    },
    {
     "name": "stderr",
     "output_type": "stream",
     "text": [
      "Epochs completed:  82%| ███████████████████████████████████████████████████████████████████████████████████████████████████████████████████████████████████████████▍                              165/200 [00:06]"
     ]
    },
    {
     "name": "stdout",
     "output_type": "stream",
     "text": [
      "\tcompleted  160  /  200 epochs\n"
     ]
    },
    {
     "name": "stderr",
     "output_type": "stream",
     "text": [
      "Epochs completed:  93%| █████████████████████████████████████████████████████████████████████████████████████████████████████████████████████████████████████████████████████████████▏            186/200 [00:06]"
     ]
    },
    {
     "name": "stdout",
     "output_type": "stream",
     "text": [
      "\tcompleted  180  /  200 epochs\n"
     ]
    },
    {
     "name": "stderr",
     "output_type": "stream",
     "text": [
      "Epochs completed: 100%| █████████████████████████████████████████████████████████████████████████████████████████████████████████████████████████████████████████████████████████████████████████ 200/200 [00:07]\n"
     ]
    },
    {
     "name": "stdout",
     "output_type": "stream",
     "text": [
      "Fri Apr 25 15:02:51 2025 Finished embedding\n",
      "Fri Apr 25 15:03:12 2025 Worst tree score: 0.98454977\n",
      "Fri Apr 25 15:03:12 2025 Mean tree score: 0.98552584\n",
      "Fri Apr 25 15:03:12 2025 Best tree score: 0.98670845\n",
      "Fri Apr 25 15:03:13 2025 Forward diversification reduced edges from 11488500 to 1230430\n",
      "Fri Apr 25 15:03:13 2025 Reverse diversification reduced edges from 1230430 to 1230430\n",
      "Fri Apr 25 15:03:13 2025 Degree pruning reduced edges from 1544292 to 1544292\n",
      "Fri Apr 25 15:03:13 2025 Resorting data and graph based on tree order\n",
      "Fri Apr 25 15:03:13 2025 Building and compiling search function\n"
     ]
    },
    {
     "name": "stderr",
     "output_type": "stream",
     "text": [
      "Epochs completed:  36%| ██████████████████████████████████████████████████████████████▏                                                                                                             24/66 [00:00]"
     ]
    },
    {
     "name": "stdout",
     "output_type": "stream",
     "text": [
      "\tcompleted  0  /  66 epochs\n",
      "\tcompleted  6  /  66 epochs\n",
      "\tcompleted  12  /  66 epochs\n",
      "\tcompleted  18  /  66 epochs\n",
      "\tcompleted  24  /  66 epochs\n",
      "\tcompleted  30  /  66 epochs\n",
      "\tcompleted  36  /  66 epochs\n",
      "\tcompleted  42  /  66 epochs\n"
     ]
    },
    {
     "name": "stderr",
     "output_type": "stream",
     "text": [
      "Epochs completed: 100%| ███████████████████████████████████████████████████████████████████████████████████████████████████████████████████████████████████████████████████████████████████████████ 66/66 [00:00]\n"
     ]
    },
    {
     "name": "stdout",
     "output_type": "stream",
     "text": [
      "\tcompleted  48  /  66 epochs\n",
      "\tcompleted  54  /  66 epochs\n",
      "\tcompleted  60  /  66 epochs\n"
     ]
    },
    {
     "name": "stderr",
     "output_type": "stream",
     "text": [
      "Epochs completed: 100%| ███████████████████████████████████████████████████████████████████████████████████████████████████████████████████████████████████████████████████████████████████████████ 66/66 [00:23]\n"
     ]
    },
    {
     "name": "stdout",
     "output_type": "stream",
     "text": [
      "UMAP(init='pca', n_epochs=200, n_jobs=95, n_neighbors=100, unique=True, verbose=True)\n",
      "Unique=True -> Number of data points reduced from  114885  to  114885\n",
      "Most common duplicate is 62991  with a count of  1\n",
      "Fri Apr 25 15:05:54 2025 Construct fuzzy simplicial set\n",
      "Fri Apr 25 15:05:54 2025 Finding Nearest Neighbors\n",
      "Fri Apr 25 15:05:54 2025 Building RP forest with 22 trees\n",
      "Fri Apr 25 15:05:54 2025 NN descent for 17 iterations\n",
      "\t 1  /  17\n",
      "\t 2  /  17\n",
      "\t 3  /  17\n",
      "\tStopping threshold met -- exiting after 3 iterations\n",
      "Fri Apr 25 15:06:45 2025 Finished Nearest Neighbor Search\n",
      "Fri Apr 25 15:06:52 2025 Construct embedding\n"
     ]
    },
    {
     "name": "stderr",
     "output_type": "stream",
     "text": [
      "Epochs completed:   3%| █████▏                                                                                                                                                                      6/200 [00:00]"
     ]
    },
    {
     "name": "stdout",
     "output_type": "stream",
     "text": [
      "\tcompleted  0  /  200 epochs\n"
     ]
    },
    {
     "name": "stderr",
     "output_type": "stream",
     "text": [
      "Epochs completed:  12%| █████████████████████▎                                                                                                                                                     25/200 [00:00]"
     ]
    },
    {
     "name": "stdout",
     "output_type": "stream",
     "text": [
      "\tcompleted  20  /  200 epochs\n"
     ]
    },
    {
     "name": "stderr",
     "output_type": "stream",
     "text": [
      "Epochs completed:  22%| █████████████████████████████████████▍                                                                                                                                     44/200 [00:01]"
     ]
    },
    {
     "name": "stdout",
     "output_type": "stream",
     "text": [
      "\tcompleted  40  /  200 epochs\n"
     ]
    },
    {
     "name": "stderr",
     "output_type": "stream",
     "text": [
      "Epochs completed:  32%| ███████████████████████████████████████████████████████▎                                                                                                                   65/200 [00:02]"
     ]
    },
    {
     "name": "stdout",
     "output_type": "stream",
     "text": [
      "\tcompleted  60  /  200 epochs\n"
     ]
    },
    {
     "name": "stderr",
     "output_type": "stream",
     "text": [
      "Epochs completed:  43%| █████████████████████████████████████████████████████████████████████████                                                                                                  86/200 [00:03]"
     ]
    },
    {
     "name": "stdout",
     "output_type": "stream",
     "text": [
      "\tcompleted  80  /  200 epochs\n"
     ]
    },
    {
     "name": "stderr",
     "output_type": "stream",
     "text": [
      "Epochs completed:  52%| ███████████████████████████████████████████████████████████████████████████████████████▉                                                                                  104/200 [00:03]"
     ]
    },
    {
     "name": "stdout",
     "output_type": "stream",
     "text": [
      "\tcompleted  100  /  200 epochs\n"
     ]
    },
    {
     "name": "stderr",
     "output_type": "stream",
     "text": [
      "Epochs completed:  62%| █████████████████████████████████████████████████████████████████████████████████████████████████████████▋                                                                125/200 [00:04]"
     ]
    },
    {
     "name": "stdout",
     "output_type": "stream",
     "text": [
      "\tcompleted  120  /  200 epochs\n"
     ]
    },
    {
     "name": "stderr",
     "output_type": "stream",
     "text": [
      "Epochs completed:  73%| ███████████████████████████████████████████████████████████████████████████████████████████████████████████████████████████▎                                              146/200 [00:05]"
     ]
    },
    {
     "name": "stdout",
     "output_type": "stream",
     "text": [
      "\tcompleted  140  /  200 epochs\n"
     ]
    },
    {
     "name": "stderr",
     "output_type": "stream",
     "text": [
      "Epochs completed:  82%| ██████████████████████████████████████████████████████████████████████████████████████████████████████████████████████████████████████████▌                               164/200 [00:06]"
     ]
    },
    {
     "name": "stdout",
     "output_type": "stream",
     "text": [
      "\tcompleted  160  /  200 epochs\n"
     ]
    },
    {
     "name": "stderr",
     "output_type": "stream",
     "text": [
      "Epochs completed:  92%| ████████████████████████████████████████████████████████████████████████████████████████████████████████████████████████████████████████████████████████████▎             185/200 [00:07]"
     ]
    },
    {
     "name": "stdout",
     "output_type": "stream",
     "text": [
      "\tcompleted  180  /  200 epochs\n"
     ]
    },
    {
     "name": "stderr",
     "output_type": "stream",
     "text": [
      "Epochs completed: 100%| █████████████████████████████████████████████████████████████████████████████████████████████████████████████████████████████████████████████████████████████████████████ 200/200 [00:07]\n"
     ]
    },
    {
     "name": "stdout",
     "output_type": "stream",
     "text": [
      "Fri Apr 25 15:07:04 2025 Finished embedding\n",
      "Fri Apr 25 15:07:23 2025 Worst tree score: 0.98395787\n",
      "Fri Apr 25 15:07:23 2025 Mean tree score: 0.98537391\n",
      "Fri Apr 25 15:07:23 2025 Best tree score: 0.98666493\n",
      "Fri Apr 25 15:07:24 2025 Forward diversification reduced edges from 11488500 to 1230425\n",
      "Fri Apr 25 15:07:24 2025 Reverse diversification reduced edges from 1230425 to 1230425\n",
      "Fri Apr 25 15:07:24 2025 Degree pruning reduced edges from 1544284 to 1544284\n",
      "Fri Apr 25 15:07:24 2025 Resorting data and graph based on tree order\n",
      "Fri Apr 25 15:07:24 2025 Building and compiling search function\n"
     ]
    },
    {
     "name": "stderr",
     "output_type": "stream",
     "text": [
      "Epochs completed:  39%| ███████████████████████████████████████████████████████████████████▎                                                                                                        26/66 [00:00]"
     ]
    },
    {
     "name": "stdout",
     "output_type": "stream",
     "text": [
      "\tcompleted  0  /  66 epochs\n",
      "\tcompleted  6  /  66 epochs\n",
      "\tcompleted  12  /  66 epochs\n",
      "\tcompleted  18  /  66 epochs\n",
      "\tcompleted  24  /  66 epochs\n",
      "\tcompleted  30  /  66 epochs\n",
      "\tcompleted  36  /  66 epochs\n",
      "\tcompleted  42  /  66 epochs\n"
     ]
    },
    {
     "name": "stderr",
     "output_type": "stream",
     "text": [
      "Epochs completed: 100%| ███████████████████████████████████████████████████████████████████████████████████████████████████████████████████████████████████████████████████████████████████████████ 66/66 [00:00]\n"
     ]
    },
    {
     "name": "stdout",
     "output_type": "stream",
     "text": [
      "\tcompleted  48  /  66 epochs\n",
      "\tcompleted  54  /  66 epochs\n",
      "\tcompleted  60  /  66 epochs\n"
     ]
    },
    {
     "name": "stderr",
     "output_type": "stream",
     "text": [
      "Epochs completed: 100%| ███████████████████████████████████████████████████████████████████████████████████████████████████████████████████████████████████████████████████████████████████████████ 66/66 [00:26]\n"
     ]
    },
    {
     "name": "stdout",
     "output_type": "stream",
     "text": [
      "UMAP(init='pca', min_dist=0.2, n_epochs=200, n_jobs=95, n_neighbors=100, unique=True, verbose=True)\n",
      "Unique=True -> Number of data points reduced from  114885  to  114885\n",
      "Most common duplicate is 62991  with a count of  1\n",
      "Fri Apr 25 15:10:03 2025 Construct fuzzy simplicial set\n",
      "Fri Apr 25 15:10:03 2025 Finding Nearest Neighbors\n",
      "Fri Apr 25 15:10:03 2025 Building RP forest with 22 trees\n",
      "Fri Apr 25 15:10:03 2025 NN descent for 17 iterations\n",
      "\t 1  /  17\n",
      "\t 2  /  17\n",
      "\t 3  /  17\n",
      "\tStopping threshold met -- exiting after 3 iterations\n",
      "Fri Apr 25 15:10:55 2025 Finished Nearest Neighbor Search\n",
      "Fri Apr 25 15:11:02 2025 Construct embedding\n"
     ]
    },
    {
     "name": "stderr",
     "output_type": "stream",
     "text": [
      "Epochs completed:   3%| █████▏                                                                                                                                                                      6/200 [00:00]"
     ]
    },
    {
     "name": "stdout",
     "output_type": "stream",
     "text": [
      "\tcompleted  0  /  200 epochs\n"
     ]
    },
    {
     "name": "stderr",
     "output_type": "stream",
     "text": [
      "Epochs completed:  12%| █████████████████████▎                                                                                                                                                     25/200 [00:00]"
     ]
    },
    {
     "name": "stdout",
     "output_type": "stream",
     "text": [
      "\tcompleted  20  /  200 epochs\n"
     ]
    },
    {
     "name": "stderr",
     "output_type": "stream",
     "text": [
      "Epochs completed:  22%| ██████████████████████████████████████▎                                                                                                                                    45/200 [00:01]"
     ]
    },
    {
     "name": "stdout",
     "output_type": "stream",
     "text": [
      "\tcompleted  40  /  200 epochs\n"
     ]
    },
    {
     "name": "stderr",
     "output_type": "stream",
     "text": [
      "Epochs completed:  33%| ████████████████████████████████████████████████████████                                                                                                                   66/200 [00:02]"
     ]
    },
    {
     "name": "stdout",
     "output_type": "stream",
     "text": [
      "\tcompleted  60  /  200 epochs\n"
     ]
    },
    {
     "name": "stderr",
     "output_type": "stream",
     "text": [
      "Epochs completed:  42%| ███████████████████████████████████████████████████████████████████████▍                                                                                                   84/200 [00:02]"
     ]
    },
    {
     "name": "stdout",
     "output_type": "stream",
     "text": [
      "\tcompleted  80  /  200 epochs\n"
     ]
    },
    {
     "name": "stderr",
     "output_type": "stream",
     "text": [
      "Epochs completed:  52%| ████████████████████████████████████████████████████████████████████████████████████████▋                                                                                 105/200 [00:03]"
     ]
    },
    {
     "name": "stdout",
     "output_type": "stream",
     "text": [
      "\tcompleted  100  /  200 epochs\n"
     ]
    },
    {
     "name": "stderr",
     "output_type": "stream",
     "text": [
      "Epochs completed:  63%| ██████████████████████████████████████████████████████████████████████████████████████████████████████████▍                                                               126/200 [00:04]"
     ]
    },
    {
     "name": "stdout",
     "output_type": "stream",
     "text": [
      "\tcompleted  120  /  200 epochs\n"
     ]
    },
    {
     "name": "stderr",
     "output_type": "stream",
     "text": [
      "Epochs completed:  72%| █████████████████████████████████████████████████████████████████████████████████████████████████████████████████████████▋                                                144/200 [00:05]"
     ]
    },
    {
     "name": "stdout",
     "output_type": "stream",
     "text": [
      "\tcompleted  140  /  200 epochs\n"
     ]
    },
    {
     "name": "stderr",
     "output_type": "stream",
     "text": [
      "Epochs completed:  82%| ███████████████████████████████████████████████████████████████████████████████████████████████████████████████████████████████████████████▍                              165/200 [00:06]"
     ]
    },
    {
     "name": "stdout",
     "output_type": "stream",
     "text": [
      "\tcompleted  160  /  200 epochs\n"
     ]
    },
    {
     "name": "stderr",
     "output_type": "stream",
     "text": [
      "Epochs completed:  93%| █████████████████████████████████████████████████████████████████████████████████████████████████████████████████████████████████████████████████████████████▏            186/200 [00:06]"
     ]
    },
    {
     "name": "stdout",
     "output_type": "stream",
     "text": [
      "\tcompleted  180  /  200 epochs\n"
     ]
    },
    {
     "name": "stderr",
     "output_type": "stream",
     "text": [
      "Epochs completed: 100%| █████████████████████████████████████████████████████████████████████████████████████████████████████████████████████████████████████████████████████████████████████████ 200/200 [00:07]\n"
     ]
    },
    {
     "name": "stdout",
     "output_type": "stream",
     "text": [
      "Fri Apr 25 15:11:14 2025 Finished embedding\n",
      "Fri Apr 25 15:11:34 2025 Worst tree score: 0.98469774\n",
      "Fri Apr 25 15:11:34 2025 Mean tree score: 0.98562911\n",
      "Fri Apr 25 15:11:34 2025 Best tree score: 0.98705662\n",
      "Fri Apr 25 15:11:35 2025 Forward diversification reduced edges from 11488500 to 1230438\n",
      "Fri Apr 25 15:11:35 2025 Reverse diversification reduced edges from 1230438 to 1230438\n",
      "Fri Apr 25 15:11:36 2025 Degree pruning reduced edges from 1544306 to 1544306\n",
      "Fri Apr 25 15:11:36 2025 Resorting data and graph based on tree order\n",
      "Fri Apr 25 15:11:36 2025 Building and compiling search function\n"
     ]
    },
    {
     "name": "stderr",
     "output_type": "stream",
     "text": [
      "Epochs completed:  36%| ██████████████████████████████████████████████████████████████▏                                                                                                             24/66 [00:00]"
     ]
    },
    {
     "name": "stdout",
     "output_type": "stream",
     "text": [
      "\tcompleted  0  /  66 epochs\n",
      "\tcompleted  6  /  66 epochs\n",
      "\tcompleted  12  /  66 epochs\n",
      "\tcompleted  18  /  66 epochs\n",
      "\tcompleted  24  /  66 epochs\n",
      "\tcompleted  30  /  66 epochs\n",
      "\tcompleted  36  /  66 epochs\n",
      "\tcompleted  42  /  66 epochs\n"
     ]
    },
    {
     "name": "stderr",
     "output_type": "stream",
     "text": [
      "Epochs completed: 100%| ███████████████████████████████████████████████████████████████████████████████████████████████████████████████████████████████████████████████████████████████████████████ 66/66 [00:00]\n"
     ]
    },
    {
     "name": "stdout",
     "output_type": "stream",
     "text": [
      "\tcompleted  48  /  66 epochs\n",
      "\tcompleted  54  /  66 epochs\n",
      "\tcompleted  60  /  66 epochs\n"
     ]
    },
    {
     "name": "stderr",
     "output_type": "stream",
     "text": [
      "Epochs completed: 100%| ███████████████████████████████████████████████████████████████████████████████████████████████████████████████████████████████████████████████████████████████████████████ 66/66 [00:26]\n"
     ]
    },
    {
     "name": "stdout",
     "output_type": "stream",
     "text": [
      "UMAP(init='pca', min_dist=0.5, n_epochs=200, n_jobs=95, n_neighbors=100, unique=True, verbose=True)\n",
      "Unique=True -> Number of data points reduced from  114885  to  114885\n",
      "Most common duplicate is 62991  with a count of  1\n",
      "Fri Apr 25 15:14:14 2025 Construct fuzzy simplicial set\n",
      "Fri Apr 25 15:14:14 2025 Finding Nearest Neighbors\n",
      "Fri Apr 25 15:14:14 2025 Building RP forest with 22 trees\n",
      "Fri Apr 25 15:14:14 2025 NN descent for 17 iterations\n",
      "\t 1  /  17\n",
      "\t 2  /  17\n",
      "\t 3  /  17\n",
      "\tStopping threshold met -- exiting after 3 iterations\n",
      "Fri Apr 25 15:15:06 2025 Finished Nearest Neighbor Search\n",
      "Fri Apr 25 15:15:13 2025 Construct embedding\n"
     ]
    },
    {
     "name": "stderr",
     "output_type": "stream",
     "text": [
      "Epochs completed:   3%| █████▏                                                                                                                                                                      6/200 [00:00]"
     ]
    },
    {
     "name": "stdout",
     "output_type": "stream",
     "text": [
      "\tcompleted  0  /  200 epochs\n"
     ]
    },
    {
     "name": "stderr",
     "output_type": "stream",
     "text": [
      "Epochs completed:  12%| █████████████████████▎                                                                                                                                                     25/200 [00:00]"
     ]
    },
    {
     "name": "stdout",
     "output_type": "stream",
     "text": [
      "\tcompleted  20  /  200 epochs\n"
     ]
    },
    {
     "name": "stderr",
     "output_type": "stream",
     "text": [
      "Epochs completed:  22%| ██████████████████████████████████████▎                                                                                                                                    45/200 [00:01]"
     ]
    },
    {
     "name": "stdout",
     "output_type": "stream",
     "text": [
      "\tcompleted  40  /  200 epochs\n"
     ]
    },
    {
     "name": "stderr",
     "output_type": "stream",
     "text": [
      "Epochs completed:  33%| ████████████████████████████████████████████████████████                                                                                                                   66/200 [00:02]"
     ]
    },
    {
     "name": "stdout",
     "output_type": "stream",
     "text": [
      "\tcompleted  60  /  200 epochs\n"
     ]
    },
    {
     "name": "stderr",
     "output_type": "stream",
     "text": [
      "Epochs completed:  42%| ███████████████████████████████████████████████████████████████████████▍                                                                                                   84/200 [00:02]"
     ]
    },
    {
     "name": "stdout",
     "output_type": "stream",
     "text": [
      "\tcompleted  80  /  200 epochs\n"
     ]
    },
    {
     "name": "stderr",
     "output_type": "stream",
     "text": [
      "Epochs completed:  52%| ████████████████████████████████████████████████████████████████████████████████████████▋                                                                                 105/200 [00:03]"
     ]
    },
    {
     "name": "stdout",
     "output_type": "stream",
     "text": [
      "\tcompleted  100  /  200 epochs\n"
     ]
    },
    {
     "name": "stderr",
     "output_type": "stream",
     "text": [
      "Epochs completed:  63%| ██████████████████████████████████████████████████████████████████████████████████████████████████████████▍                                                               126/200 [00:04]"
     ]
    },
    {
     "name": "stdout",
     "output_type": "stream",
     "text": [
      "\tcompleted  120  /  200 epochs\n"
     ]
    },
    {
     "name": "stderr",
     "output_type": "stream",
     "text": [
      "Epochs completed:  72%| █████████████████████████████████████████████████████████████████████████████████████████████████████████████████████████▋                                                144/200 [00:05]"
     ]
    },
    {
     "name": "stdout",
     "output_type": "stream",
     "text": [
      "\tcompleted  140  /  200 epochs\n"
     ]
    },
    {
     "name": "stderr",
     "output_type": "stream",
     "text": [
      "Epochs completed:  82%| ███████████████████████████████████████████████████████████████████████████████████████████████████████████████████████████████████████████▍                              165/200 [00:06]"
     ]
    },
    {
     "name": "stdout",
     "output_type": "stream",
     "text": [
      "\tcompleted  160  /  200 epochs\n"
     ]
    },
    {
     "name": "stderr",
     "output_type": "stream",
     "text": [
      "Epochs completed:  93%| █████████████████████████████████████████████████████████████████████████████████████████████████████████████████████████████████████████████████████████████▏            186/200 [00:06]"
     ]
    },
    {
     "name": "stdout",
     "output_type": "stream",
     "text": [
      "\tcompleted  180  /  200 epochs\n"
     ]
    },
    {
     "name": "stderr",
     "output_type": "stream",
     "text": [
      "Epochs completed: 100%| █████████████████████████████████████████████████████████████████████████████████████████████████████████████████████████████████████████████████████████████████████████ 200/200 [00:07]\n"
     ]
    },
    {
     "name": "stdout",
     "output_type": "stream",
     "text": [
      "Fri Apr 25 15:15:25 2025 Finished embedding\n",
      "Fri Apr 25 15:15:45 2025 Worst tree score: 0.98380990\n",
      "Fri Apr 25 15:15:45 2025 Mean tree score: 0.98535848\n",
      "Fri Apr 25 15:15:45 2025 Best tree score: 0.98636027\n",
      "Fri Apr 25 15:15:46 2025 Forward diversification reduced edges from 11488500 to 1230425\n",
      "Fri Apr 25 15:15:46 2025 Reverse diversification reduced edges from 1230425 to 1230425\n",
      "Fri Apr 25 15:15:46 2025 Degree pruning reduced edges from 1544282 to 1544282\n",
      "Fri Apr 25 15:15:46 2025 Resorting data and graph based on tree order\n",
      "Fri Apr 25 15:15:46 2025 Building and compiling search function\n"
     ]
    },
    {
     "name": "stderr",
     "output_type": "stream",
     "text": [
      "Epochs completed:  36%| ██████████████████████████████████████████████████████████████▏                                                                                                             24/66 [00:00]"
     ]
    },
    {
     "name": "stdout",
     "output_type": "stream",
     "text": [
      "\tcompleted  0  /  66 epochs\n",
      "\tcompleted  6  /  66 epochs\n",
      "\tcompleted  12  /  66 epochs\n",
      "\tcompleted  18  /  66 epochs\n",
      "\tcompleted  24  /  66 epochs\n",
      "\tcompleted  30  /  66 epochs\n",
      "\tcompleted  36  /  66 epochs\n",
      "\tcompleted  42  /  66 epochs\n"
     ]
    },
    {
     "name": "stderr",
     "output_type": "stream",
     "text": [
      "Epochs completed: 100%| ███████████████████████████████████████████████████████████████████████████████████████████████████████████████████████████████████████████████████████████████████████████ 66/66 [00:00]\n"
     ]
    },
    {
     "name": "stdout",
     "output_type": "stream",
     "text": [
      "\tcompleted  48  /  66 epochs\n",
      "\tcompleted  54  /  66 epochs\n",
      "\tcompleted  60  /  66 epochs\n"
     ]
    },
    {
     "name": "stderr",
     "output_type": "stream",
     "text": [
      "Epochs completed: 100%| ███████████████████████████████████████████████████████████████████████████████████████████████████████████████████████████████████████████████████████████████████████████ 66/66 [00:28]\n"
     ]
    },
    {
     "name": "stdout",
     "output_type": "stream",
     "text": [
      "UMAP(init='pca', min_dist=0.8, n_epochs=200, n_jobs=95, n_neighbors=100, unique=True, verbose=True)\n",
      "Unique=True -> Number of data points reduced from  114885  to  114885\n",
      "Most common duplicate is 62991  with a count of  1\n",
      "Fri Apr 25 15:18:26 2025 Construct fuzzy simplicial set\n",
      "Fri Apr 25 15:18:26 2025 Finding Nearest Neighbors\n",
      "Fri Apr 25 15:18:26 2025 Building RP forest with 22 trees\n",
      "Fri Apr 25 15:18:26 2025 NN descent for 17 iterations\n",
      "\t 1  /  17\n",
      "\t 2  /  17\n",
      "\t 3  /  17\n",
      "\tStopping threshold met -- exiting after 3 iterations\n",
      "Fri Apr 25 15:19:17 2025 Finished Nearest Neighbor Search\n",
      "Fri Apr 25 15:19:23 2025 Construct embedding\n"
     ]
    },
    {
     "name": "stderr",
     "output_type": "stream",
     "text": [
      "Epochs completed:   3%| █████▏                                                                                                                                                                      6/200 [00:00]"
     ]
    },
    {
     "name": "stdout",
     "output_type": "stream",
     "text": [
      "\tcompleted  0  /  200 epochs\n"
     ]
    },
    {
     "name": "stderr",
     "output_type": "stream",
     "text": [
      "Epochs completed:  12%| █████████████████████▎                                                                                                                                                     25/200 [00:00]"
     ]
    },
    {
     "name": "stdout",
     "output_type": "stream",
     "text": [
      "\tcompleted  20  /  200 epochs\n"
     ]
    },
    {
     "name": "stderr",
     "output_type": "stream",
     "text": [
      "Epochs completed:  22%| ██████████████████████████████████████▎                                                                                                                                    45/200 [00:01]"
     ]
    },
    {
     "name": "stdout",
     "output_type": "stream",
     "text": [
      "\tcompleted  40  /  200 epochs\n"
     ]
    },
    {
     "name": "stderr",
     "output_type": "stream",
     "text": [
      "Epochs completed:  33%| ████████████████████████████████████████████████████████                                                                                                                   66/200 [00:02]"
     ]
    },
    {
     "name": "stdout",
     "output_type": "stream",
     "text": [
      "\tcompleted  60  /  200 epochs\n"
     ]
    },
    {
     "name": "stderr",
     "output_type": "stream",
     "text": [
      "Epochs completed:  42%| ███████████████████████████████████████████████████████████████████████▍                                                                                                   84/200 [00:02]"
     ]
    },
    {
     "name": "stdout",
     "output_type": "stream",
     "text": [
      "\tcompleted  80  /  200 epochs\n"
     ]
    },
    {
     "name": "stderr",
     "output_type": "stream",
     "text": [
      "Epochs completed:  52%| ████████████████████████████████████████████████████████████████████████████████████████▋                                                                                 105/200 [00:03]"
     ]
    },
    {
     "name": "stdout",
     "output_type": "stream",
     "text": [
      "\tcompleted  100  /  200 epochs\n"
     ]
    },
    {
     "name": "stderr",
     "output_type": "stream",
     "text": [
      "Epochs completed:  63%| ██████████████████████████████████████████████████████████████████████████████████████████████████████████▍                                                               126/200 [00:04]"
     ]
    },
    {
     "name": "stdout",
     "output_type": "stream",
     "text": [
      "\tcompleted  120  /  200 epochs\n"
     ]
    },
    {
     "name": "stderr",
     "output_type": "stream",
     "text": [
      "Epochs completed:  72%| █████████████████████████████████████████████████████████████████████████████████████████████████████████████████████████▋                                                144/200 [00:05]"
     ]
    },
    {
     "name": "stdout",
     "output_type": "stream",
     "text": [
      "\tcompleted  140  /  200 epochs\n"
     ]
    },
    {
     "name": "stderr",
     "output_type": "stream",
     "text": [
      "Epochs completed:  82%| ███████████████████████████████████████████████████████████████████████████████████████████████████████████████████████████████████████████▍                              165/200 [00:06]"
     ]
    },
    {
     "name": "stdout",
     "output_type": "stream",
     "text": [
      "\tcompleted  160  /  200 epochs\n"
     ]
    },
    {
     "name": "stderr",
     "output_type": "stream",
     "text": [
      "Epochs completed:  93%| █████████████████████████████████████████████████████████████████████████████████████████████████████████████████████████████████████████████████████████████▏            186/200 [00:06]"
     ]
    },
    {
     "name": "stdout",
     "output_type": "stream",
     "text": [
      "\tcompleted  180  /  200 epochs\n"
     ]
    },
    {
     "name": "stderr",
     "output_type": "stream",
     "text": [
      "Epochs completed: 100%| █████████████████████████████████████████████████████████████████████████████████████████████████████████████████████████████████████████████████████████████████████████ 200/200 [00:07]\n"
     ]
    },
    {
     "name": "stdout",
     "output_type": "stream",
     "text": [
      "Fri Apr 25 15:19:35 2025 Finished embedding\n",
      "Fri Apr 25 15:19:55 2025 Worst tree score: 0.98386212\n",
      "Fri Apr 25 15:19:55 2025 Mean tree score: 0.98534384\n",
      "Fri Apr 25 15:19:55 2025 Best tree score: 0.98723071\n",
      "Fri Apr 25 15:19:56 2025 Forward diversification reduced edges from 11488500 to 1230426\n",
      "Fri Apr 25 15:19:56 2025 Reverse diversification reduced edges from 1230426 to 1230426\n",
      "Fri Apr 25 15:19:56 2025 Degree pruning reduced edges from 1544280 to 1544280\n",
      "Fri Apr 25 15:19:56 2025 Resorting data and graph based on tree order\n",
      "Fri Apr 25 15:19:56 2025 Building and compiling search function\n"
     ]
    },
    {
     "name": "stderr",
     "output_type": "stream",
     "text": [
      "Epochs completed:  38%| ████████████████████████████████████████████████████████████████▊                                                                                                           25/66 [00:00]"
     ]
    },
    {
     "name": "stdout",
     "output_type": "stream",
     "text": [
      "\tcompleted  0  /  66 epochs\n",
      "\tcompleted  6  /  66 epochs\n",
      "\tcompleted  12  /  66 epochs\n",
      "\tcompleted  18  /  66 epochs\n",
      "\tcompleted  24  /  66 epochs\n",
      "\tcompleted  30  /  66 epochs\n",
      "\tcompleted  36  /  66 epochs\n",
      "\tcompleted  42  /  66 epochs\n"
     ]
    },
    {
     "name": "stderr",
     "output_type": "stream",
     "text": [
      "Epochs completed: 100%| ███████████████████████████████████████████████████████████████████████████████████████████████████████████████████████████████████████████████████████████████████████████ 66/66 [00:00]"
     ]
    },
    {
     "name": "stdout",
     "output_type": "stream",
     "text": [
      "\tcompleted  48  /  66 epochs\n",
      "\tcompleted  54  /  66 epochs\n",
      "\tcompleted  60  /  66 epochs\n"
     ]
    },
    {
     "name": "stderr",
     "output_type": "stream",
     "text": [
      "\n",
      "Epochs completed: 100%| ███████████████████████████████████████████████████████████████████████████████████████████████████████████████████████████████████████████████████████████████████████████ 66/66 [00:28]\n"
     ]
    },
    {
     "name": "stdout",
     "output_type": "stream",
     "text": [
      "UMAP(init='pca', min_dist=0.99, n_epochs=200, n_jobs=95, n_neighbors=100, unique=True, verbose=True)\n",
      "Unique=True -> Number of data points reduced from  114885  to  114885\n",
      "Most common duplicate is 62991  with a count of  1\n",
      "Fri Apr 25 15:22:37 2025 Construct fuzzy simplicial set\n",
      "Fri Apr 25 15:22:37 2025 Finding Nearest Neighbors\n",
      "Fri Apr 25 15:22:37 2025 Building RP forest with 22 trees\n",
      "Fri Apr 25 15:22:37 2025 NN descent for 17 iterations\n",
      "\t 1  /  17\n",
      "\t 2  /  17\n",
      "\t 3  /  17\n",
      "\tStopping threshold met -- exiting after 3 iterations\n",
      "Fri Apr 25 15:23:27 2025 Finished Nearest Neighbor Search\n",
      "Fri Apr 25 15:23:34 2025 Construct embedding\n"
     ]
    },
    {
     "name": "stderr",
     "output_type": "stream",
     "text": [
      "Epochs completed:   3%| █████▏                                                                                                                                                                      6/200 [00:00]"
     ]
    },
    {
     "name": "stdout",
     "output_type": "stream",
     "text": [
      "\tcompleted  0  /  200 epochs\n"
     ]
    },
    {
     "name": "stderr",
     "output_type": "stream",
     "text": [
      "Epochs completed:  12%| █████████████████████▎                                                                                                                                                     25/200 [00:00]"
     ]
    },
    {
     "name": "stdout",
     "output_type": "stream",
     "text": [
      "\tcompleted  20  /  200 epochs\n"
     ]
    },
    {
     "name": "stderr",
     "output_type": "stream",
     "text": [
      "Epochs completed:  22%| ██████████████████████████████████████▎                                                                                                                                    45/200 [00:01]"
     ]
    },
    {
     "name": "stdout",
     "output_type": "stream",
     "text": [
      "\tcompleted  40  /  200 epochs\n"
     ]
    },
    {
     "name": "stderr",
     "output_type": "stream",
     "text": [
      "Epochs completed:  33%| ████████████████████████████████████████████████████████                                                                                                                   66/200 [00:02]"
     ]
    },
    {
     "name": "stdout",
     "output_type": "stream",
     "text": [
      "\tcompleted  60  /  200 epochs\n"
     ]
    },
    {
     "name": "stderr",
     "output_type": "stream",
     "text": [
      "Epochs completed:  42%| ███████████████████████████████████████████████████████████████████████▍                                                                                                   84/200 [00:02]"
     ]
    },
    {
     "name": "stdout",
     "output_type": "stream",
     "text": [
      "\tcompleted  80  /  200 epochs\n"
     ]
    },
    {
     "name": "stderr",
     "output_type": "stream",
     "text": [
      "Epochs completed:  52%| ████████████████████████████████████████████████████████████████████████████████████████▋                                                                                 105/200 [00:03]"
     ]
    },
    {
     "name": "stdout",
     "output_type": "stream",
     "text": [
      "\tcompleted  100  /  200 epochs\n"
     ]
    },
    {
     "name": "stderr",
     "output_type": "stream",
     "text": [
      "Epochs completed:  63%| ██████████████████████████████████████████████████████████████████████████████████████████████████████████▍                                                               126/200 [00:04]"
     ]
    },
    {
     "name": "stdout",
     "output_type": "stream",
     "text": [
      "\tcompleted  120  /  200 epochs\n"
     ]
    },
    {
     "name": "stderr",
     "output_type": "stream",
     "text": [
      "Epochs completed:  72%| █████████████████████████████████████████████████████████████████████████████████████████████████████████████████████████▋                                                144/200 [00:05]"
     ]
    },
    {
     "name": "stdout",
     "output_type": "stream",
     "text": [
      "\tcompleted  140  /  200 epochs\n"
     ]
    },
    {
     "name": "stderr",
     "output_type": "stream",
     "text": [
      "Epochs completed:  82%| ███████████████████████████████████████████████████████████████████████████████████████████████████████████████████████████████████████████▍                              165/200 [00:06]"
     ]
    },
    {
     "name": "stdout",
     "output_type": "stream",
     "text": [
      "\tcompleted  160  /  200 epochs\n"
     ]
    },
    {
     "name": "stderr",
     "output_type": "stream",
     "text": [
      "Epochs completed:  93%| █████████████████████████████████████████████████████████████████████████████████████████████████████████████████████████████████████████████████████████████▏            186/200 [00:06]"
     ]
    },
    {
     "name": "stdout",
     "output_type": "stream",
     "text": [
      "\tcompleted  180  /  200 epochs\n"
     ]
    },
    {
     "name": "stderr",
     "output_type": "stream",
     "text": [
      "Epochs completed: 100%| █████████████████████████████████████████████████████████████████████████████████████████████████████████████████████████████████████████████████████████████████████████ 200/200 [00:07]\n"
     ]
    },
    {
     "name": "stdout",
     "output_type": "stream",
     "text": [
      "Fri Apr 25 15:23:46 2025 Finished embedding\n",
      "Fri Apr 25 15:24:05 2025 Worst tree score: 0.98451495\n",
      "Fri Apr 25 15:24:05 2025 Mean tree score: 0.98556303\n",
      "Fri Apr 25 15:24:05 2025 Best tree score: 0.98669974\n",
      "Fri Apr 25 15:24:06 2025 Forward diversification reduced edges from 11488500 to 1230431\n",
      "Fri Apr 25 15:24:06 2025 Reverse diversification reduced edges from 1230431 to 1230431\n",
      "Fri Apr 25 15:24:06 2025 Degree pruning reduced edges from 1544294 to 1544294\n",
      "Fri Apr 25 15:24:06 2025 Resorting data and graph based on tree order\n",
      "Fri Apr 25 15:24:06 2025 Building and compiling search function\n"
     ]
    },
    {
     "name": "stderr",
     "output_type": "stream",
     "text": [
      "Epochs completed:  39%| ███████████████████████████████████████████████████████████████████▎                                                                                                        26/66 [00:00]"
     ]
    },
    {
     "name": "stdout",
     "output_type": "stream",
     "text": [
      "\tcompleted  0  /  66 epochs\n",
      "\tcompleted  6  /  66 epochs\n",
      "\tcompleted  12  /  66 epochs\n",
      "\tcompleted  18  /  66 epochs\n",
      "\tcompleted  24  /  66 epochs\n",
      "\tcompleted  30  /  66 epochs\n",
      "\tcompleted  36  /  66 epochs\n",
      "\tcompleted  42  /  66 epochs\n"
     ]
    },
    {
     "name": "stderr",
     "output_type": "stream",
     "text": [
      "Epochs completed: 100%| ███████████████████████████████████████████████████████████████████████████████████████████████████████████████████████████████████████████████████████████████████████████ 66/66 [00:00]\n"
     ]
    },
    {
     "name": "stdout",
     "output_type": "stream",
     "text": [
      "\tcompleted  48  /  66 epochs\n",
      "\tcompleted  54  /  66 epochs\n",
      "\tcompleted  60  /  66 epochs\n"
     ]
    },
    {
     "name": "stderr",
     "output_type": "stream",
     "text": [
      "Epochs completed: 100%| ███████████████████████████████████████████████████████████████████████████████████████████████████████████████████████████████████████████████████████████████████████████ 66/66 [00:27]\n"
     ]
    },
    {
     "name": "stdout",
     "output_type": "stream",
     "text": [
      "UMAP(init='pca', min_dist=0.0, n_epochs=200, n_jobs=95, n_neighbors=200, unique=True, verbose=True)\n",
      "Unique=True -> Number of data points reduced from  114885  to  114885\n",
      "Most common duplicate is 62991  with a count of  1\n",
      "Fri Apr 25 15:26:44 2025 Construct fuzzy simplicial set\n",
      "Fri Apr 25 15:26:44 2025 Finding Nearest Neighbors\n",
      "Fri Apr 25 15:26:44 2025 Building RP forest with 22 trees\n",
      "Fri Apr 25 15:26:44 2025 NN descent for 17 iterations\n",
      "\t 1  /  17\n",
      "\t 2  /  17\n",
      "\t 3  /  17\n",
      "\tStopping threshold met -- exiting after 3 iterations\n",
      "Fri Apr 25 15:28:04 2025 Finished Nearest Neighbor Search\n",
      "Fri Apr 25 15:28:18 2025 Construct embedding\n"
     ]
    },
    {
     "name": "stderr",
     "output_type": "stream",
     "text": [
      "Epochs completed:   3%| █████▏                                                                                                                                                                      6/200 [00:00]"
     ]
    },
    {
     "name": "stdout",
     "output_type": "stream",
     "text": [
      "\tcompleted  0  /  200 epochs\n"
     ]
    },
    {
     "name": "stderr",
     "output_type": "stream",
     "text": [
      "Epochs completed:  12%| ████████████████████▍                                                                                                                                                      24/200 [00:00]"
     ]
    },
    {
     "name": "stdout",
     "output_type": "stream",
     "text": [
      "\tcompleted  20  /  200 epochs\n"
     ]
    },
    {
     "name": "stderr",
     "output_type": "stream",
     "text": [
      "Epochs completed:  22%| ██████████████████████████████████████▎                                                                                                                                    45/200 [00:01]"
     ]
    },
    {
     "name": "stdout",
     "output_type": "stream",
     "text": [
      "\tcompleted  40  /  200 epochs\n"
     ]
    },
    {
     "name": "stderr",
     "output_type": "stream",
     "text": [
      "Epochs completed:  32%| █████████████████████████████████████████████████████▌                                                                                                                     63/200 [00:02]"
     ]
    },
    {
     "name": "stdout",
     "output_type": "stream",
     "text": [
      "\tcompleted  60  /  200 epochs\n"
     ]
    },
    {
     "name": "stderr",
     "output_type": "stream",
     "text": [
      "Epochs completed:  42%| ███████████████████████████████████████████████████████████████████████▍                                                                                                   84/200 [00:03]"
     ]
    },
    {
     "name": "stdout",
     "output_type": "stream",
     "text": [
      "\tcompleted  80  /  200 epochs\n"
     ]
    },
    {
     "name": "stderr",
     "output_type": "stream",
     "text": [
      "Epochs completed:  52%| ████████████████████████████████████████████████████████████████████████████████████████▋                                                                                 105/200 [00:04]"
     ]
    },
    {
     "name": "stdout",
     "output_type": "stream",
     "text": [
      "\tcompleted  100  /  200 epochs\n"
     ]
    },
    {
     "name": "stderr",
     "output_type": "stream",
     "text": [
      "Epochs completed:  62%| ███████████████████████████████████████████████████████████████████████████████████████████████████████▉                                                                  123/200 [00:05]"
     ]
    },
    {
     "name": "stdout",
     "output_type": "stream",
     "text": [
      "\tcompleted  120  /  200 epochs\n"
     ]
    },
    {
     "name": "stderr",
     "output_type": "stream",
     "text": [
      "Epochs completed:  72%| █████████████████████████████████████████████████████████████████████████████████████████████████████████████████████████▋                                                144/200 [00:06]"
     ]
    },
    {
     "name": "stdout",
     "output_type": "stream",
     "text": [
      "\tcompleted  140  /  200 epochs\n"
     ]
    },
    {
     "name": "stderr",
     "output_type": "stream",
     "text": [
      "Epochs completed:  82%| ███████████████████████████████████████████████████████████████████████████████████████████████████████████████████████████████████████████▍                              165/200 [00:07]"
     ]
    },
    {
     "name": "stdout",
     "output_type": "stream",
     "text": [
      "\tcompleted  160  /  200 epochs\n"
     ]
    },
    {
     "name": "stderr",
     "output_type": "stream",
     "text": [
      "Epochs completed:  92%| ██████████████████████████████████████████████████████████████████████████████████████████████████████████████████████████████████████████████████████████▋               183/200 [00:07]"
     ]
    },
    {
     "name": "stdout",
     "output_type": "stream",
     "text": [
      "\tcompleted  180  /  200 epochs\n"
     ]
    },
    {
     "name": "stderr",
     "output_type": "stream",
     "text": [
      "Epochs completed: 100%| █████████████████████████████████████████████████████████████████████████████████████████████████████████████████████████████████████████████████████████████████████████ 200/200 [00:08]\n"
     ]
    },
    {
     "name": "stdout",
     "output_type": "stream",
     "text": [
      "Fri Apr 25 15:28:35 2025 Finished embedding\n",
      "Fri Apr 25 15:29:17 2025 Worst tree score: 0.99655307\n",
      "Fri Apr 25 15:29:17 2025 Mean tree score: 0.99706624\n",
      "Fri Apr 25 15:29:17 2025 Best tree score: 0.99749315\n",
      "Fri Apr 25 15:29:19 2025 Forward diversification reduced edges from 22977000 to 1390909\n",
      "Fri Apr 25 15:29:19 2025 Reverse diversification reduced edges from 1390909 to 1390909\n",
      "Fri Apr 25 15:29:19 2025 Degree pruning reduced edges from 1822190 to 1822190\n",
      "Fri Apr 25 15:29:19 2025 Resorting data and graph based on tree order\n",
      "Fri Apr 25 15:29:19 2025 Building and compiling search function\n"
     ]
    },
    {
     "name": "stderr",
     "output_type": "stream",
     "text": [
      "Epochs completed:  41%| █████████████████████████████████████████████████████████████████████▉                                                                                                      27/66 [00:00]"
     ]
    },
    {
     "name": "stdout",
     "output_type": "stream",
     "text": [
      "\tcompleted  0  /  66 epochs\n",
      "\tcompleted  6  /  66 epochs\n",
      "\tcompleted  12  /  66 epochs\n",
      "\tcompleted  18  /  66 epochs\n",
      "\tcompleted  24  /  66 epochs\n",
      "\tcompleted  30  /  66 epochs\n",
      "\tcompleted  36  /  66 epochs\n",
      "\tcompleted  42  /  66 epochs\n"
     ]
    },
    {
     "name": "stderr",
     "output_type": "stream",
     "text": [
      "Epochs completed: 100%| ███████████████████████████████████████████████████████████████████████████████████████████████████████████████████████████████████████████████████████████████████████████ 66/66 [00:00]"
     ]
    },
    {
     "name": "stdout",
     "output_type": "stream",
     "text": [
      "\tcompleted  48  /  66 epochs\n",
      "\tcompleted  54  /  66 epochs\n",
      "\tcompleted  60  /  66 epochs\n"
     ]
    },
    {
     "name": "stderr",
     "output_type": "stream",
     "text": [
      "\n",
      "Epochs completed: 100%| ███████████████████████████████████████████████████████████████████████████████████████████████████████████████████████████████████████████████████████████████████████████ 66/66 [00:23]\n"
     ]
    },
    {
     "name": "stdout",
     "output_type": "stream",
     "text": [
      "UMAP(init='pca', min_dist=0.02, n_epochs=200, n_jobs=95, n_neighbors=200, unique=True, verbose=True)\n",
      "Unique=True -> Number of data points reduced from  114885  to  114885\n",
      "Most common duplicate is 62991  with a count of  1\n",
      "Fri Apr 25 15:32:04 2025 Construct fuzzy simplicial set\n",
      "Fri Apr 25 15:32:04 2025 Finding Nearest Neighbors\n",
      "Fri Apr 25 15:32:04 2025 Building RP forest with 22 trees\n",
      "Fri Apr 25 15:32:05 2025 NN descent for 17 iterations\n",
      "\t 1  /  17\n",
      "\t 2  /  17\n",
      "\t 3  /  17\n",
      "\tStopping threshold met -- exiting after 3 iterations\n",
      "Fri Apr 25 15:33:28 2025 Finished Nearest Neighbor Search\n",
      "Fri Apr 25 15:33:42 2025 Construct embedding\n"
     ]
    },
    {
     "name": "stderr",
     "output_type": "stream",
     "text": [
      "Epochs completed:   3%| █████▏                                                                                                                                                                      6/200 [00:00]"
     ]
    },
    {
     "name": "stdout",
     "output_type": "stream",
     "text": [
      "\tcompleted  0  /  200 epochs\n"
     ]
    },
    {
     "name": "stderr",
     "output_type": "stream",
     "text": [
      "Epochs completed:  12%| █████████████████████▎                                                                                                                                                     25/200 [00:00]"
     ]
    },
    {
     "name": "stdout",
     "output_type": "stream",
     "text": [
      "\tcompleted  20  /  200 epochs\n"
     ]
    },
    {
     "name": "stderr",
     "output_type": "stream",
     "text": [
      "Epochs completed:  22%| ████████████████████████████████████▌                                                                                                                                      43/200 [00:01]"
     ]
    },
    {
     "name": "stdout",
     "output_type": "stream",
     "text": [
      "\tcompleted  40  /  200 epochs\n"
     ]
    },
    {
     "name": "stderr",
     "output_type": "stream",
     "text": [
      "Epochs completed:  32%| ██████████████████████████████████████████████████████▍                                                                                                                    64/200 [00:02]"
     ]
    },
    {
     "name": "stdout",
     "output_type": "stream",
     "text": [
      "\tcompleted  60  /  200 epochs\n"
     ]
    },
    {
     "name": "stderr",
     "output_type": "stream",
     "text": [
      "Epochs completed:  42%| ████████████████████████████████████████████████████████████████████████▎                                                                                                  85/200 [00:03]"
     ]
    },
    {
     "name": "stdout",
     "output_type": "stream",
     "text": [
      "\tcompleted  80  /  200 epochs\n"
     ]
    },
    {
     "name": "stderr",
     "output_type": "stream",
     "text": [
      "Epochs completed:  52%| ███████████████████████████████████████████████████████████████████████████████████████                                                                                   103/200 [00:04]"
     ]
    },
    {
     "name": "stdout",
     "output_type": "stream",
     "text": [
      "\tcompleted  100  /  200 epochs\n"
     ]
    },
    {
     "name": "stderr",
     "output_type": "stream",
     "text": [
      "Epochs completed:  62%| ████████████████████████████████████████████████████████████████████████████████████████████████████████▊                                                                 124/200 [00:05]"
     ]
    },
    {
     "name": "stdout",
     "output_type": "stream",
     "text": [
      "\tcompleted  120  /  200 epochs\n"
     ]
    },
    {
     "name": "stderr",
     "output_type": "stream",
     "text": [
      "Epochs completed:  72%| ██████████████████████████████████████████████████████████████████████████████████████████████████████████████████████████▌                                               145/200 [00:06]"
     ]
    },
    {
     "name": "stdout",
     "output_type": "stream",
     "text": [
      "\tcompleted  140  /  200 epochs\n"
     ]
    },
    {
     "name": "stderr",
     "output_type": "stream",
     "text": [
      "Epochs completed:  82%| █████████████████████████████████████████████████████████████████████████████████████████████████████████████████████████████████████████▋                                163/200 [00:07]"
     ]
    },
    {
     "name": "stdout",
     "output_type": "stream",
     "text": [
      "\tcompleted  160  /  200 epochs\n"
     ]
    },
    {
     "name": "stderr",
     "output_type": "stream",
     "text": [
      "Epochs completed:  92%| ███████████████████████████████████████████████████████████████████████████████████████████████████████████████████████████████████████████████████████████▍              184/200 [00:08]"
     ]
    },
    {
     "name": "stdout",
     "output_type": "stream",
     "text": [
      "\tcompleted  180  /  200 epochs\n"
     ]
    },
    {
     "name": "stderr",
     "output_type": "stream",
     "text": [
      "Epochs completed: 100%| █████████████████████████████████████████████████████████████████████████████████████████████████████████████████████████████████████████████████████████████████████████ 200/200 [00:09]\n"
     ]
    },
    {
     "name": "stdout",
     "output_type": "stream",
     "text": [
      "Fri Apr 25 15:34:00 2025 Finished embedding\n",
      "Fri Apr 25 15:34:39 2025 Worst tree score: 0.99646603\n",
      "Fri Apr 25 15:34:39 2025 Mean tree score: 0.99709908\n",
      "Fri Apr 25 15:34:39 2025 Best tree score: 0.99766723\n",
      "Fri Apr 25 15:34:41 2025 Forward diversification reduced edges from 22977000 to 1390899\n",
      "Fri Apr 25 15:34:41 2025 Reverse diversification reduced edges from 1390899 to 1390899\n",
      "Fri Apr 25 15:34:42 2025 Degree pruning reduced edges from 1822176 to 1822176\n",
      "Fri Apr 25 15:34:42 2025 Resorting data and graph based on tree order\n",
      "Fri Apr 25 15:34:42 2025 Building and compiling search function\n"
     ]
    },
    {
     "name": "stderr",
     "output_type": "stream",
     "text": [
      "Epochs completed:  41%| █████████████████████████████████████████████████████████████████████▉                                                                                                      27/66 [00:00]"
     ]
    },
    {
     "name": "stdout",
     "output_type": "stream",
     "text": [
      "\tcompleted  0  /  66 epochs\n",
      "\tcompleted  6  /  66 epochs\n",
      "\tcompleted  12  /  66 epochs\n",
      "\tcompleted  18  /  66 epochs\n",
      "\tcompleted  24  /  66 epochs\n",
      "\tcompleted  30  /  66 epochs\n",
      "\tcompleted  36  /  66 epochs\n",
      "\tcompleted  42  /  66 epochs\n"
     ]
    },
    {
     "name": "stderr",
     "output_type": "stream",
     "text": [
      "Epochs completed: 100%| ███████████████████████████████████████████████████████████████████████████████████████████████████████████████████████████████████████████████████████████████████████████ 66/66 [00:00]"
     ]
    },
    {
     "name": "stdout",
     "output_type": "stream",
     "text": [
      "\tcompleted  48  /  66 epochs\n",
      "\tcompleted  54  /  66 epochs\n",
      "\tcompleted  60  /  66 epochs\n"
     ]
    },
    {
     "name": "stderr",
     "output_type": "stream",
     "text": [
      "\n",
      "Epochs completed: 100%| ███████████████████████████████████████████████████████████████████████████████████████████████████████████████████████████████████████████████████████████████████████████ 66/66 [00:24]\n"
     ]
    },
    {
     "name": "stdout",
     "output_type": "stream",
     "text": [
      "UMAP(init='pca', min_dist=0.05, n_epochs=200, n_jobs=95, n_neighbors=200, unique=True, verbose=True)\n",
      "Unique=True -> Number of data points reduced from  114885  to  114885\n",
      "Most common duplicate is 62991  with a count of  1\n",
      "Fri Apr 25 15:37:24 2025 Construct fuzzy simplicial set\n",
      "Fri Apr 25 15:37:24 2025 Finding Nearest Neighbors\n",
      "Fri Apr 25 15:37:24 2025 Building RP forest with 22 trees\n",
      "Fri Apr 25 15:37:24 2025 NN descent for 17 iterations\n",
      "\t 1  /  17\n",
      "\t 2  /  17\n",
      "\t 3  /  17\n",
      "\tStopping threshold met -- exiting after 3 iterations\n",
      "Fri Apr 25 15:38:46 2025 Finished Nearest Neighbor Search\n",
      "Fri Apr 25 15:39:01 2025 Construct embedding\n"
     ]
    },
    {
     "name": "stderr",
     "output_type": "stream",
     "text": [
      "Epochs completed:   3%| █████▏                                                                                                                                                                      6/200 [00:00]"
     ]
    },
    {
     "name": "stdout",
     "output_type": "stream",
     "text": [
      "\tcompleted  0  /  200 epochs\n"
     ]
    },
    {
     "name": "stderr",
     "output_type": "stream",
     "text": [
      "Epochs completed:  12%| ████████████████████▍                                                                                                                                                      24/200 [00:00]"
     ]
    },
    {
     "name": "stdout",
     "output_type": "stream",
     "text": [
      "\tcompleted  20  /  200 epochs\n"
     ]
    },
    {
     "name": "stderr",
     "output_type": "stream",
     "text": [
      "Epochs completed:  22%| ██████████████████████████████████████▎                                                                                                                                    45/200 [00:01]"
     ]
    },
    {
     "name": "stdout",
     "output_type": "stream",
     "text": [
      "\tcompleted  40  /  200 epochs\n"
     ]
    },
    {
     "name": "stderr",
     "output_type": "stream",
     "text": [
      "Epochs completed:  32%| █████████████████████████████████████████████████████▌                                                                                                                     63/200 [00:02]"
     ]
    },
    {
     "name": "stdout",
     "output_type": "stream",
     "text": [
      "\tcompleted  60  /  200 epochs\n"
     ]
    },
    {
     "name": "stderr",
     "output_type": "stream",
     "text": [
      "Epochs completed:  42%| ███████████████████████████████████████████████████████████████████████▍                                                                                                   84/200 [00:03]"
     ]
    },
    {
     "name": "stdout",
     "output_type": "stream",
     "text": [
      "\tcompleted  80  /  200 epochs\n"
     ]
    },
    {
     "name": "stderr",
     "output_type": "stream",
     "text": [
      "Epochs completed:  52%| ████████████████████████████████████████████████████████████████████████████████████████▋                                                                                 105/200 [00:04]"
     ]
    },
    {
     "name": "stdout",
     "output_type": "stream",
     "text": [
      "\tcompleted  100  /  200 epochs\n"
     ]
    },
    {
     "name": "stderr",
     "output_type": "stream",
     "text": [
      "Epochs completed:  62%| ███████████████████████████████████████████████████████████████████████████████████████████████████████▉                                                                  123/200 [00:05]"
     ]
    },
    {
     "name": "stdout",
     "output_type": "stream",
     "text": [
      "\tcompleted  120  /  200 epochs\n"
     ]
    },
    {
     "name": "stderr",
     "output_type": "stream",
     "text": [
      "Epochs completed:  72%| █████████████████████████████████████████████████████████████████████████████████████████████████████████████████████████▋                                                144/200 [00:06]"
     ]
    },
    {
     "name": "stdout",
     "output_type": "stream",
     "text": [
      "\tcompleted  140  /  200 epochs\n"
     ]
    },
    {
     "name": "stderr",
     "output_type": "stream",
     "text": [
      "Epochs completed:  82%| ███████████████████████████████████████████████████████████████████████████████████████████████████████████████████████████████████████████▍                              165/200 [00:07]"
     ]
    },
    {
     "name": "stdout",
     "output_type": "stream",
     "text": [
      "\tcompleted  160  /  200 epochs\n"
     ]
    },
    {
     "name": "stderr",
     "output_type": "stream",
     "text": [
      "Epochs completed:  92%| ██████████████████████████████████████████████████████████████████████████████████████████████████████████████████████████████████████████████████████████▋               183/200 [00:07]"
     ]
    },
    {
     "name": "stdout",
     "output_type": "stream",
     "text": [
      "\tcompleted  180  /  200 epochs\n"
     ]
    },
    {
     "name": "stderr",
     "output_type": "stream",
     "text": [
      "Epochs completed: 100%| █████████████████████████████████████████████████████████████████████████████████████████████████████████████████████████████████████████████████████████████████████████ 200/200 [00:08]\n"
     ]
    },
    {
     "name": "stdout",
     "output_type": "stream",
     "text": [
      "Fri Apr 25 15:39:18 2025 Finished embedding\n",
      "Fri Apr 25 15:39:59 2025 Worst tree score: 0.99624842\n",
      "Fri Apr 25 15:39:59 2025 Mean tree score: 0.99719443\n",
      "Fri Apr 25 15:39:59 2025 Best tree score: 0.99758889\n",
      "Fri Apr 25 15:40:01 2025 Forward diversification reduced edges from 22977000 to 1390910\n",
      "Fri Apr 25 15:40:01 2025 Reverse diversification reduced edges from 1390910 to 1390909\n",
      "Fri Apr 25 15:40:01 2025 Degree pruning reduced edges from 1822194 to 1822194\n",
      "Fri Apr 25 15:40:01 2025 Resorting data and graph based on tree order\n",
      "Fri Apr 25 15:40:01 2025 Building and compiling search function\n"
     ]
    },
    {
     "name": "stderr",
     "output_type": "stream",
     "text": [
      "Epochs completed:  39%| ███████████████████████████████████████████████████████████████████▎                                                                                                        26/66 [00:00]"
     ]
    },
    {
     "name": "stdout",
     "output_type": "stream",
     "text": [
      "\tcompleted  0  /  66 epochs\n",
      "\tcompleted  6  /  66 epochs\n",
      "\tcompleted  12  /  66 epochs\n",
      "\tcompleted  18  /  66 epochs\n",
      "\tcompleted  24  /  66 epochs\n",
      "\tcompleted  30  /  66 epochs\n",
      "\tcompleted  36  /  66 epochs\n",
      "\tcompleted  42  /  66 epochs\n"
     ]
    },
    {
     "name": "stderr",
     "output_type": "stream",
     "text": [
      "Epochs completed: 100%| ███████████████████████████████████████████████████████████████████████████████████████████████████████████████████████████████████████████████████████████████████████████ 66/66 [00:00]"
     ]
    },
    {
     "name": "stdout",
     "output_type": "stream",
     "text": [
      "\tcompleted  48  /  66 epochs\n",
      "\tcompleted  54  /  66 epochs\n",
      "\tcompleted  60  /  66 epochs\n"
     ]
    },
    {
     "name": "stderr",
     "output_type": "stream",
     "text": [
      "\n",
      "Epochs completed: 100%| ███████████████████████████████████████████████████████████████████████████████████████████████████████████████████████████████████████████████████████████████████████████ 66/66 [00:26]\n"
     ]
    },
    {
     "name": "stdout",
     "output_type": "stream",
     "text": [
      "UMAP(init='pca', n_epochs=200, n_jobs=95, n_neighbors=200, unique=True, verbose=True)\n",
      "Unique=True -> Number of data points reduced from  114885  to  114885\n",
      "Most common duplicate is 62991  with a count of  1\n",
      "Fri Apr 25 15:42:47 2025 Construct fuzzy simplicial set\n",
      "Fri Apr 25 15:42:47 2025 Finding Nearest Neighbors\n",
      "Fri Apr 25 15:42:47 2025 Building RP forest with 22 trees\n",
      "Fri Apr 25 15:42:47 2025 NN descent for 17 iterations\n",
      "\t 1  /  17\n",
      "\t 2  /  17\n",
      "\t 3  /  17\n",
      "\tStopping threshold met -- exiting after 3 iterations\n",
      "Fri Apr 25 15:44:04 2025 Finished Nearest Neighbor Search\n",
      "Fri Apr 25 15:44:19 2025 Construct embedding\n"
     ]
    },
    {
     "name": "stderr",
     "output_type": "stream",
     "text": [
      "Epochs completed:   2%| ████▎                                                                                                                                                                       5/200 [00:00]"
     ]
    },
    {
     "name": "stdout",
     "output_type": "stream",
     "text": [
      "\tcompleted  0  /  200 epochs\n"
     ]
    },
    {
     "name": "stderr",
     "output_type": "stream",
     "text": [
      "Epochs completed:  12%| █████████████████████▎                                                                                                                                                     25/200 [00:00]"
     ]
    },
    {
     "name": "stdout",
     "output_type": "stream",
     "text": [
      "\tcompleted  20  /  200 epochs\n"
     ]
    },
    {
     "name": "stderr",
     "output_type": "stream",
     "text": [
      "Epochs completed:  22%| ████████████████████████████████████▌                                                                                                                                      43/200 [00:01]"
     ]
    },
    {
     "name": "stdout",
     "output_type": "stream",
     "text": [
      "\tcompleted  40  /  200 epochs\n"
     ]
    },
    {
     "name": "stderr",
     "output_type": "stream",
     "text": [
      "Epochs completed:  32%| ██████████████████████████████████████████████████████▍                                                                                                                    64/200 [00:02]"
     ]
    },
    {
     "name": "stdout",
     "output_type": "stream",
     "text": [
      "\tcompleted  60  /  200 epochs\n"
     ]
    },
    {
     "name": "stderr",
     "output_type": "stream",
     "text": [
      "Epochs completed:  42%| ████████████████████████████████████████████████████████████████████████▎                                                                                                  85/200 [00:03]"
     ]
    },
    {
     "name": "stdout",
     "output_type": "stream",
     "text": [
      "\tcompleted  80  /  200 epochs\n"
     ]
    },
    {
     "name": "stderr",
     "output_type": "stream",
     "text": [
      "Epochs completed:  52%| ███████████████████████████████████████████████████████████████████████████████████████                                                                                   103/200 [00:04]"
     ]
    },
    {
     "name": "stdout",
     "output_type": "stream",
     "text": [
      "\tcompleted  100  /  200 epochs\n"
     ]
    },
    {
     "name": "stderr",
     "output_type": "stream",
     "text": [
      "Epochs completed:  62%| ████████████████████████████████████████████████████████████████████████████████████████████████████████▊                                                                 124/200 [00:05]"
     ]
    },
    {
     "name": "stdout",
     "output_type": "stream",
     "text": [
      "\tcompleted  120  /  200 epochs\n"
     ]
    },
    {
     "name": "stderr",
     "output_type": "stream",
     "text": [
      "Epochs completed:  72%| ██████████████████████████████████████████████████████████████████████████████████████████████████████████████████████████▌                                               145/200 [00:06]"
     ]
    },
    {
     "name": "stdout",
     "output_type": "stream",
     "text": [
      "\tcompleted  140  /  200 epochs\n"
     ]
    },
    {
     "name": "stderr",
     "output_type": "stream",
     "text": [
      "Epochs completed:  82%| █████████████████████████████████████████████████████████████████████████████████████████████████████████████████████████████████████████▋                                163/200 [00:06]"
     ]
    },
    {
     "name": "stdout",
     "output_type": "stream",
     "text": [
      "\tcompleted  160  /  200 epochs\n"
     ]
    },
    {
     "name": "stderr",
     "output_type": "stream",
     "text": [
      "Epochs completed:  92%| ███████████████████████████████████████████████████████████████████████████████████████████████████████████████████████████████████████████████████████████▍              184/200 [00:07]"
     ]
    },
    {
     "name": "stdout",
     "output_type": "stream",
     "text": [
      "\tcompleted  180  /  200 epochs\n"
     ]
    },
    {
     "name": "stderr",
     "output_type": "stream",
     "text": [
      "Epochs completed: 100%| █████████████████████████████████████████████████████████████████████████████████████████████████████████████████████████████████████████████████████████████████████████ 200/200 [00:08]\n"
     ]
    },
    {
     "name": "stdout",
     "output_type": "stream",
     "text": [
      "Fri Apr 25 15:44:36 2025 Finished embedding\n",
      "Fri Apr 25 15:45:16 2025 Worst tree score: 0.99658789\n",
      "Fri Apr 25 15:45:16 2025 Mean tree score: 0.99715051\n",
      "Fri Apr 25 15:45:16 2025 Best tree score: 0.99746703\n",
      "Fri Apr 25 15:45:18 2025 Forward diversification reduced edges from 22977000 to 1390910\n",
      "Fri Apr 25 15:45:18 2025 Reverse diversification reduced edges from 1390910 to 1390910\n",
      "Fri Apr 25 15:45:19 2025 Degree pruning reduced edges from 1822202 to 1822202\n",
      "Fri Apr 25 15:45:19 2025 Resorting data and graph based on tree order\n",
      "Fri Apr 25 15:45:19 2025 Building and compiling search function\n"
     ]
    },
    {
     "name": "stderr",
     "output_type": "stream",
     "text": [
      "Epochs completed:  44%| ███████████████████████████████████████████████████████████████████████████▏                                                                                                29/66 [00:00]"
     ]
    },
    {
     "name": "stdout",
     "output_type": "stream",
     "text": [
      "\tcompleted  0  /  66 epochs\n",
      "\tcompleted  6  /  66 epochs\n",
      "\tcompleted  12  /  66 epochs\n",
      "\tcompleted  18  /  66 epochs\n",
      "\tcompleted  24  /  66 epochs\n",
      "\tcompleted  30  /  66 epochs\n",
      "\tcompleted  36  /  66 epochs\n",
      "\tcompleted  42  /  66 epochs\n"
     ]
    },
    {
     "name": "stderr",
     "output_type": "stream",
     "text": [
      "Epochs completed: 100%| ███████████████████████████████████████████████████████████████████████████████████████████████████████████████████████████████████████████████████████████████████████████ 66/66 [00:00]"
     ]
    },
    {
     "name": "stdout",
     "output_type": "stream",
     "text": [
      "\tcompleted  48  /  66 epochs\n",
      "\tcompleted  54  /  66 epochs\n",
      "\tcompleted  60  /  66 epochs\n"
     ]
    },
    {
     "name": "stderr",
     "output_type": "stream",
     "text": [
      "\n",
      "Epochs completed: 100%| ███████████████████████████████████████████████████████████████████████████████████████████████████████████████████████████████████████████████████████████████████████████ 66/66 [00:27]\n"
     ]
    },
    {
     "name": "stdout",
     "output_type": "stream",
     "text": [
      "UMAP(init='pca', min_dist=0.2, n_epochs=200, n_jobs=95, n_neighbors=200, unique=True, verbose=True)\n",
      "Unique=True -> Number of data points reduced from  114885  to  114885\n",
      "Most common duplicate is 62991  with a count of  1\n",
      "Fri Apr 25 15:48:05 2025 Construct fuzzy simplicial set\n",
      "Fri Apr 25 15:48:05 2025 Finding Nearest Neighbors\n",
      "Fri Apr 25 15:48:05 2025 Building RP forest with 22 trees\n",
      "Fri Apr 25 15:48:05 2025 NN descent for 17 iterations\n",
      "\t 1  /  17\n",
      "\t 2  /  17\n",
      "\t 3  /  17\n",
      "\tStopping threshold met -- exiting after 3 iterations\n",
      "Fri Apr 25 15:49:25 2025 Finished Nearest Neighbor Search\n",
      "Fri Apr 25 15:49:39 2025 Construct embedding\n"
     ]
    },
    {
     "name": "stderr",
     "output_type": "stream",
     "text": [
      "Epochs completed:   3%| █████▏                                                                                                                                                                      6/200 [00:00]"
     ]
    },
    {
     "name": "stdout",
     "output_type": "stream",
     "text": [
      "\tcompleted  0  /  200 epochs\n"
     ]
    },
    {
     "name": "stderr",
     "output_type": "stream",
     "text": [
      "Epochs completed:  12%| ████████████████████▍                                                                                                                                                      24/200 [00:00]"
     ]
    },
    {
     "name": "stdout",
     "output_type": "stream",
     "text": [
      "\tcompleted  20  /  200 epochs\n"
     ]
    },
    {
     "name": "stderr",
     "output_type": "stream",
     "text": [
      "Epochs completed:  22%| ██████████████████████████████████████▎                                                                                                                                    45/200 [00:01]"
     ]
    },
    {
     "name": "stdout",
     "output_type": "stream",
     "text": [
      "\tcompleted  40  /  200 epochs\n"
     ]
    },
    {
     "name": "stderr",
     "output_type": "stream",
     "text": [
      "Epochs completed:  32%| ███████████████████████████████████████████████████████▎                                                                                                                   65/200 [00:02]"
     ]
    },
    {
     "name": "stdout",
     "output_type": "stream",
     "text": [
      "\tcompleted  60  /  200 epochs\n"
     ]
    },
    {
     "name": "stderr",
     "output_type": "stream",
     "text": [
      "Epochs completed:  43%| █████████████████████████████████████████████████████████████████████████                                                                                                  86/200 [00:03]"
     ]
    },
    {
     "name": "stdout",
     "output_type": "stream",
     "text": [
      "\tcompleted  80  /  200 epochs\n"
     ]
    },
    {
     "name": "stderr",
     "output_type": "stream",
     "text": [
      "Epochs completed:  53%| █████████████████████████████████████████████████████████████████████████████████████████▌                                                                                106/200 [00:03]"
     ]
    },
    {
     "name": "stdout",
     "output_type": "stream",
     "text": [
      "\tcompleted  100  /  200 epochs\n"
     ]
    },
    {
     "name": "stderr",
     "output_type": "stream",
     "text": [
      "Epochs completed:  62%| ████████████████████████████████████████████████████████████████████████████████████████████████████████▊                                                                 124/200 [00:04]"
     ]
    },
    {
     "name": "stdout",
     "output_type": "stream",
     "text": [
      "\tcompleted  120  /  200 epochs\n"
     ]
    },
    {
     "name": "stderr",
     "output_type": "stream",
     "text": [
      "Epochs completed:  72%| ██████████████████████████████████████████████████████████████████████████████████████████████████████████████████████████▌                                               145/200 [00:05]"
     ]
    },
    {
     "name": "stdout",
     "output_type": "stream",
     "text": [
      "\tcompleted  140  /  200 epochs\n"
     ]
    },
    {
     "name": "stderr",
     "output_type": "stream",
     "text": [
      "Epochs completed:  82%| █████████████████████████████████████████████████████████████████████████████████████████████████████████████████████████████████████████▋                                163/200 [00:06]"
     ]
    },
    {
     "name": "stdout",
     "output_type": "stream",
     "text": [
      "\tcompleted  160  /  200 epochs\n"
     ]
    },
    {
     "name": "stderr",
     "output_type": "stream",
     "text": [
      "Epochs completed:  92%| ███████████████████████████████████████████████████████████████████████████████████████████████████████████████████████████████████████████████████████████▍              184/200 [00:07]"
     ]
    },
    {
     "name": "stdout",
     "output_type": "stream",
     "text": [
      "\tcompleted  180  /  200 epochs\n"
     ]
    },
    {
     "name": "stderr",
     "output_type": "stream",
     "text": [
      "Epochs completed: 100%| █████████████████████████████████████████████████████████████████████████████████████████████████████████████████████████████████████████████████████████████████████████ 200/200 [00:08]\n"
     ]
    },
    {
     "name": "stdout",
     "output_type": "stream",
     "text": [
      "Fri Apr 25 15:49:56 2025 Finished embedding\n",
      "Fri Apr 25 15:50:36 2025 Worst tree score: 0.99642251\n",
      "Fri Apr 25 15:50:36 2025 Mean tree score: 0.99707969\n",
      "Fri Apr 25 15:50:36 2025 Best tree score: 0.99759760\n",
      "Fri Apr 25 15:50:38 2025 Forward diversification reduced edges from 22977000 to 1390899\n",
      "Fri Apr 25 15:50:38 2025 Reverse diversification reduced edges from 1390899 to 1390899\n",
      "Fri Apr 25 15:50:38 2025 Degree pruning reduced edges from 1822178 to 1822178\n",
      "Fri Apr 25 15:50:38 2025 Resorting data and graph based on tree order\n",
      "Fri Apr 25 15:50:38 2025 Building and compiling search function\n"
     ]
    },
    {
     "name": "stderr",
     "output_type": "stream",
     "text": [
      "Epochs completed:  38%| ████████████████████████████████████████████████████████████████▊                                                                                                           25/66 [00:00]"
     ]
    },
    {
     "name": "stdout",
     "output_type": "stream",
     "text": [
      "\tcompleted  0  /  66 epochs\n",
      "\tcompleted  6  /  66 epochs\n",
      "\tcompleted  12  /  66 epochs\n",
      "\tcompleted  18  /  66 epochs\n",
      "\tcompleted  24  /  66 epochs\n",
      "\tcompleted  30  /  66 epochs\n",
      "\tcompleted  36  /  66 epochs\n"
     ]
    },
    {
     "name": "stderr",
     "output_type": "stream",
     "text": [
      "Epochs completed: 100%| ███████████████████████████████████████████████████████████████████████████████████████████████████████████████████████████████████████████████████████████████████████████ 66/66 [00:00]"
     ]
    },
    {
     "name": "stdout",
     "output_type": "stream",
     "text": [
      "\tcompleted  42  /  66 epochs\n",
      "\tcompleted  48  /  66 epochs\n",
      "\tcompleted  54  /  66 epochs\n",
      "\tcompleted  60  /  66 epochs\n"
     ]
    },
    {
     "name": "stderr",
     "output_type": "stream",
     "text": [
      "\n",
      "Epochs completed: 100%| ███████████████████████████████████████████████████████████████████████████████████████████████████████████████████████████████████████████████████████████████████████████ 66/66 [00:27]\n"
     ]
    },
    {
     "name": "stdout",
     "output_type": "stream",
     "text": [
      "UMAP(init='pca', min_dist=0.5, n_epochs=200, n_jobs=95, n_neighbors=200, unique=True, verbose=True)\n",
      "Unique=True -> Number of data points reduced from  114885  to  114885\n",
      "Most common duplicate is 62991  with a count of  1\n",
      "Fri Apr 25 15:53:25 2025 Construct fuzzy simplicial set\n",
      "Fri Apr 25 15:53:25 2025 Finding Nearest Neighbors\n",
      "Fri Apr 25 15:53:25 2025 Building RP forest with 22 trees\n",
      "Fri Apr 25 15:53:26 2025 NN descent for 17 iterations\n",
      "\t 1  /  17\n",
      "\t 2  /  17\n",
      "\t 3  /  17\n",
      "\tStopping threshold met -- exiting after 3 iterations\n",
      "Fri Apr 25 15:54:44 2025 Finished Nearest Neighbor Search\n",
      "Fri Apr 25 15:54:59 2025 Construct embedding\n"
     ]
    },
    {
     "name": "stderr",
     "output_type": "stream",
     "text": [
      "Epochs completed:   3%| █████▏                                                                                                                                                                      6/200 [00:00]"
     ]
    },
    {
     "name": "stdout",
     "output_type": "stream",
     "text": [
      "\tcompleted  0  /  200 epochs\n"
     ]
    },
    {
     "name": "stderr",
     "output_type": "stream",
     "text": [
      "Epochs completed:  12%| ████████████████████▍                                                                                                                                                      24/200 [00:00]"
     ]
    },
    {
     "name": "stdout",
     "output_type": "stream",
     "text": [
      "\tcompleted  20  /  200 epochs\n"
     ]
    },
    {
     "name": "stderr",
     "output_type": "stream",
     "text": [
      "Epochs completed:  22%| ██████████████████████████████████████▎                                                                                                                                    45/200 [00:01]"
     ]
    },
    {
     "name": "stdout",
     "output_type": "stream",
     "text": [
      "\tcompleted  40  /  200 epochs\n"
     ]
    },
    {
     "name": "stderr",
     "output_type": "stream",
     "text": [
      "Epochs completed:  32%| █████████████████████████████████████████████████████▌                                                                                                                     63/200 [00:02]"
     ]
    },
    {
     "name": "stdout",
     "output_type": "stream",
     "text": [
      "\tcompleted  60  /  200 epochs\n"
     ]
    },
    {
     "name": "stderr",
     "output_type": "stream",
     "text": [
      "Epochs completed:  42%| ███████████████████████████████████████████████████████████████████████▍                                                                                                   84/200 [00:03]"
     ]
    },
    {
     "name": "stdout",
     "output_type": "stream",
     "text": [
      "\tcompleted  80  /  200 epochs\n"
     ]
    },
    {
     "name": "stderr",
     "output_type": "stream",
     "text": [
      "Epochs completed:  52%| ████████████████████████████████████████████████████████████████████████████████████████▋                                                                                 105/200 [00:04]"
     ]
    },
    {
     "name": "stdout",
     "output_type": "stream",
     "text": [
      "\tcompleted  100  /  200 epochs\n"
     ]
    },
    {
     "name": "stderr",
     "output_type": "stream",
     "text": [
      "Epochs completed:  62%| ███████████████████████████████████████████████████████████████████████████████████████████████████████▉                                                                  123/200 [00:05]"
     ]
    },
    {
     "name": "stdout",
     "output_type": "stream",
     "text": [
      "\tcompleted  120  /  200 epochs\n"
     ]
    },
    {
     "name": "stderr",
     "output_type": "stream",
     "text": [
      "Epochs completed:  72%| █████████████████████████████████████████████████████████████████████████████████████████████████████████████████████████▋                                                144/200 [00:06]"
     ]
    },
    {
     "name": "stdout",
     "output_type": "stream",
     "text": [
      "\tcompleted  140  /  200 epochs\n"
     ]
    },
    {
     "name": "stderr",
     "output_type": "stream",
     "text": [
      "Epochs completed:  82%| ███████████████████████████████████████████████████████████████████████████████████████████████████████████████████████████████████████████▍                              165/200 [00:07]"
     ]
    },
    {
     "name": "stdout",
     "output_type": "stream",
     "text": [
      "\tcompleted  160  /  200 epochs\n"
     ]
    },
    {
     "name": "stderr",
     "output_type": "stream",
     "text": [
      "Epochs completed:  92%| ██████████████████████████████████████████████████████████████████████████████████████████████████████████████████████████████████████████████████████████▋               183/200 [00:07]"
     ]
    },
    {
     "name": "stdout",
     "output_type": "stream",
     "text": [
      "\tcompleted  180  /  200 epochs\n"
     ]
    },
    {
     "name": "stderr",
     "output_type": "stream",
     "text": [
      "Epochs completed: 100%| █████████████████████████████████████████████████████████████████████████████████████████████████████████████████████████████████████████████████████████████████████████ 200/200 [00:08]\n"
     ]
    },
    {
     "name": "stdout",
     "output_type": "stream",
     "text": [
      "Fri Apr 25 15:55:17 2025 Finished embedding\n",
      "Fri Apr 25 15:55:57 2025 Worst tree score: 0.99657919\n",
      "Fri Apr 25 15:55:57 2025 Mean tree score: 0.99707850\n",
      "Fri Apr 25 15:55:57 2025 Best tree score: 0.99746703\n",
      "Fri Apr 25 15:56:00 2025 Forward diversification reduced edges from 22977000 to 1390915\n",
      "Fri Apr 25 15:56:00 2025 Reverse diversification reduced edges from 1390915 to 1390915\n",
      "Fri Apr 25 15:56:00 2025 Degree pruning reduced edges from 1822204 to 1822204\n",
      "Fri Apr 25 15:56:00 2025 Resorting data and graph based on tree order\n",
      "Fri Apr 25 15:56:00 2025 Building and compiling search function\n"
     ]
    },
    {
     "name": "stderr",
     "output_type": "stream",
     "text": [
      "Epochs completed:  39%| ███████████████████████████████████████████████████████████████████▎                                                                                                        26/66 [00:00]"
     ]
    },
    {
     "name": "stdout",
     "output_type": "stream",
     "text": [
      "\tcompleted  0  /  66 epochs\n",
      "\tcompleted  6  /  66 epochs\n",
      "\tcompleted  12  /  66 epochs\n",
      "\tcompleted  18  /  66 epochs\n",
      "\tcompleted  24  /  66 epochs\n",
      "\tcompleted  30  /  66 epochs\n",
      "\tcompleted  36  /  66 epochs\n",
      "\tcompleted  42  /  66 epochs\n"
     ]
    },
    {
     "name": "stderr",
     "output_type": "stream",
     "text": [
      "Epochs completed: 100%| ███████████████████████████████████████████████████████████████████████████████████████████████████████████████████████████████████████████████████████████████████████████ 66/66 [00:00]"
     ]
    },
    {
     "name": "stdout",
     "output_type": "stream",
     "text": [
      "\tcompleted  48  /  66 epochs\n",
      "\tcompleted  54  /  66 epochs\n",
      "\tcompleted  60  /  66 epochs\n"
     ]
    },
    {
     "name": "stderr",
     "output_type": "stream",
     "text": [
      "\n",
      "Epochs completed: 100%| ███████████████████████████████████████████████████████████████████████████████████████████████████████████████████████████████████████████████████████████████████████████ 66/66 [00:27]\n"
     ]
    },
    {
     "name": "stdout",
     "output_type": "stream",
     "text": [
      "UMAP(init='pca', min_dist=0.8, n_epochs=200, n_jobs=95, n_neighbors=200, unique=True, verbose=True)\n",
      "Unique=True -> Number of data points reduced from  114885  to  114885\n",
      "Most common duplicate is 62991  with a count of  1\n",
      "Fri Apr 25 15:58:51 2025 Construct fuzzy simplicial set\n",
      "Fri Apr 25 15:58:51 2025 Finding Nearest Neighbors\n",
      "Fri Apr 25 15:58:51 2025 Building RP forest with 22 trees\n",
      "Fri Apr 25 15:58:51 2025 NN descent for 17 iterations\n",
      "\t 1  /  17\n",
      "\t 2  /  17\n",
      "\t 3  /  17\n",
      "\tStopping threshold met -- exiting after 3 iterations\n",
      "Fri Apr 25 16:00:13 2025 Finished Nearest Neighbor Search\n",
      "Fri Apr 25 16:00:24 2025 Construct embedding\n"
     ]
    },
    {
     "name": "stderr",
     "output_type": "stream",
     "text": [
      "Epochs completed:   3%| █████▏                                                                                                                                                                      6/200 [00:00]"
     ]
    },
    {
     "name": "stdout",
     "output_type": "stream",
     "text": [
      "\tcompleted  0  /  200 epochs\n"
     ]
    },
    {
     "name": "stderr",
     "output_type": "stream",
     "text": [
      "Epochs completed:  12%| █████████████████████▎                                                                                                                                                     25/200 [00:00]"
     ]
    },
    {
     "name": "stdout",
     "output_type": "stream",
     "text": [
      "\tcompleted  20  /  200 epochs\n"
     ]
    },
    {
     "name": "stderr",
     "output_type": "stream",
     "text": [
      "Epochs completed:  22%| ██████████████████████████████████████▎                                                                                                                                    45/200 [00:01]"
     ]
    },
    {
     "name": "stdout",
     "output_type": "stream",
     "text": [
      "\tcompleted  40  /  200 epochs\n"
     ]
    },
    {
     "name": "stderr",
     "output_type": "stream",
     "text": [
      "Epochs completed:  32%| ███████████████████████████████████████████████████████▎                                                                                                                   65/200 [00:02]"
     ]
    },
    {
     "name": "stdout",
     "output_type": "stream",
     "text": [
      "\tcompleted  60  /  200 epochs\n"
     ]
    },
    {
     "name": "stderr",
     "output_type": "stream",
     "text": [
      "Epochs completed:  42%| ████████████████████████████████████████████████████████████████████████▎                                                                                                  85/200 [00:02]"
     ]
    },
    {
     "name": "stdout",
     "output_type": "stream",
     "text": [
      "\tcompleted  80  /  200 epochs\n"
     ]
    },
    {
     "name": "stderr",
     "output_type": "stream",
     "text": [
      "Epochs completed:  52%| ████████████████████████████████████████████████████████████████████████████████████████▋                                                                                 105/200 [00:03]"
     ]
    },
    {
     "name": "stdout",
     "output_type": "stream",
     "text": [
      "\tcompleted  100  /  200 epochs\n"
     ]
    },
    {
     "name": "stderr",
     "output_type": "stream",
     "text": [
      "Epochs completed:  62%| █████████████████████████████████████████████████████████████████████████████████████████████████████████▋                                                                125/200 [00:04]"
     ]
    },
    {
     "name": "stdout",
     "output_type": "stream",
     "text": [
      "\tcompleted  120  /  200 epochs\n"
     ]
    },
    {
     "name": "stderr",
     "output_type": "stream",
     "text": [
      "Epochs completed:  72%| █████████████████████████████████████████████████████████████████████████████████████████████████████████████████████████▋                                                144/200 [00:04]"
     ]
    },
    {
     "name": "stdout",
     "output_type": "stream",
     "text": [
      "\tcompleted  140  /  200 epochs\n"
     ]
    },
    {
     "name": "stderr",
     "output_type": "stream",
     "text": [
      "Epochs completed:  82%| ███████████████████████████████████████████████████████████████████████████████████████████████████████████████████████████████████████████▍                              165/200 [00:05]"
     ]
    },
    {
     "name": "stdout",
     "output_type": "stream",
     "text": [
      "\tcompleted  160  /  200 epochs\n"
     ]
    },
    {
     "name": "stderr",
     "output_type": "stream",
     "text": [
      "Epochs completed:  92%| ███████████████████████████████████████████████████████████████████████████████████████████████████████████████████████████████████████████████████████████▍              184/200 [00:06]"
     ]
    },
    {
     "name": "stdout",
     "output_type": "stream",
     "text": [
      "\tcompleted  180  /  200 epochs\n"
     ]
    },
    {
     "name": "stderr",
     "output_type": "stream",
     "text": [
      "Epochs completed: 100%| █████████████████████████████████████████████████████████████████████████████████████████████████████████████████████████████████████████████████████████████████████████ 200/200 [00:06]\n"
     ]
    },
    {
     "name": "stdout",
     "output_type": "stream",
     "text": [
      "Fri Apr 25 16:00:39 2025 Finished embedding\n",
      "Fri Apr 25 16:01:08 2025 Worst tree score: 0.99682291\n",
      "Fri Apr 25 16:01:08 2025 Mean tree score: 0.99718256\n",
      "Fri Apr 25 16:01:08 2025 Best tree score: 0.99764112\n",
      "Fri Apr 25 16:01:10 2025 Forward diversification reduced edges from 22977000 to 1390903\n",
      "Fri Apr 25 16:01:10 2025 Reverse diversification reduced edges from 1390903 to 1390903\n",
      "Fri Apr 25 16:01:10 2025 Degree pruning reduced edges from 1822188 to 1822188\n",
      "Fri Apr 25 16:01:10 2025 Resorting data and graph based on tree order\n",
      "Fri Apr 25 16:01:10 2025 Building and compiling search function\n"
     ]
    },
    {
     "name": "stderr",
     "output_type": "stream",
     "text": [
      "Epochs completed:  39%| ███████████████████████████████████████████████████████████████████▎                                                                                                        26/66 [00:00]"
     ]
    },
    {
     "name": "stdout",
     "output_type": "stream",
     "text": [
      "\tcompleted  0  /  66 epochs\n",
      "\tcompleted  6  /  66 epochs\n",
      "\tcompleted  12  /  66 epochs\n",
      "\tcompleted  18  /  66 epochs\n",
      "\tcompleted  24  /  66 epochs\n",
      "\tcompleted  30  /  66 epochs\n",
      "\tcompleted  36  /  66 epochs\n",
      "\tcompleted  42  /  66 epochs\n",
      "\tcompleted  48  /  66 epochs\n"
     ]
    },
    {
     "name": "stderr",
     "output_type": "stream",
     "text": [
      "Epochs completed: 100%| ███████████████████████████████████████████████████████████████████████████████████████████████████████████████████████████████████████████████████████████████████████████ 66/66 [00:00]\n"
     ]
    },
    {
     "name": "stdout",
     "output_type": "stream",
     "text": [
      "\tcompleted  54  /  66 epochs\n",
      "\tcompleted  60  /  66 epochs\n"
     ]
    },
    {
     "name": "stderr",
     "output_type": "stream",
     "text": [
      "Epochs completed: 100%| ███████████████████████████████████████████████████████████████████████████████████████████████████████████████████████████████████████████████████████████████████████████ 66/66 [00:20]\n"
     ]
    },
    {
     "name": "stdout",
     "output_type": "stream",
     "text": [
      "UMAP(init='pca', min_dist=0.99, n_epochs=200, n_jobs=95, n_neighbors=200, unique=True, verbose=True)\n",
      "Unique=True -> Number of data points reduced from  114885  to  114885\n",
      "Most common duplicate is 62991  with a count of  1\n",
      "Fri Apr 25 16:03:15 2025 Construct fuzzy simplicial set\n",
      "Fri Apr 25 16:03:15 2025 Finding Nearest Neighbors\n",
      "Fri Apr 25 16:03:15 2025 Building RP forest with 22 trees\n",
      "Fri Apr 25 16:03:15 2025 NN descent for 17 iterations\n",
      "\t 1  /  17\n",
      "\t 2  /  17\n",
      "\t 3  /  17\n",
      "\tStopping threshold met -- exiting after 3 iterations\n",
      "Fri Apr 25 16:04:43 2025 Finished Nearest Neighbor Search\n",
      "Fri Apr 25 16:04:53 2025 Construct embedding\n"
     ]
    },
    {
     "name": "stderr",
     "output_type": "stream",
     "text": [
      "Epochs completed:   2%| ████▎                                                                                                                                                                       5/200 [00:00]"
     ]
    },
    {
     "name": "stdout",
     "output_type": "stream",
     "text": [
      "\tcompleted  0  /  200 epochs\n"
     ]
    },
    {
     "name": "stderr",
     "output_type": "stream",
     "text": [
      "Epochs completed:  13%| ██████████████████████                                                                                                                                                     26/200 [00:00]"
     ]
    },
    {
     "name": "stdout",
     "output_type": "stream",
     "text": [
      "\tcompleted  20  /  200 epochs\n"
     ]
    },
    {
     "name": "stderr",
     "output_type": "stream",
     "text": [
      "Epochs completed:  23%| ███████████████████████████████████████                                                                                                                                    46/200 [00:01]"
     ]
    },
    {
     "name": "stdout",
     "output_type": "stream",
     "text": [
      "\tcompleted  40  /  200 epochs\n"
     ]
    },
    {
     "name": "stderr",
     "output_type": "stream",
     "text": [
      "Epochs completed:  33%| ████████████████████████████████████████████████████████                                                                                                                   66/200 [00:02]"
     ]
    },
    {
     "name": "stdout",
     "output_type": "stream",
     "text": [
      "\tcompleted  60  /  200 epochs\n"
     ]
    },
    {
     "name": "stderr",
     "output_type": "stream",
     "text": [
      "Epochs completed:  42%| ███████████████████████████████████████████████████████████████████████▍                                                                                                   84/200 [00:02]"
     ]
    },
    {
     "name": "stdout",
     "output_type": "stream",
     "text": [
      "\tcompleted  80  /  200 epochs\n"
     ]
    },
    {
     "name": "stderr",
     "output_type": "stream",
     "text": [
      "Epochs completed:  52%| ███████████████████████████████████████████████████████████████████████████████████████▉                                                                                  104/200 [00:03]"
     ]
    },
    {
     "name": "stdout",
     "output_type": "stream",
     "text": [
      "\tcompleted  100  /  200 epochs\n"
     ]
    },
    {
     "name": "stderr",
     "output_type": "stream",
     "text": [
      "Epochs completed:  62%| █████████████████████████████████████████████████████████████████████████████████████████████████████████▋                                                                125/200 [00:04]"
     ]
    },
    {
     "name": "stdout",
     "output_type": "stream",
     "text": [
      "\tcompleted  120  /  200 epochs\n"
     ]
    },
    {
     "name": "stderr",
     "output_type": "stream",
     "text": [
      "Epochs completed:  72%| ██████████████████████████████████████████████████████████████████████████████████████████████████████████████████████████▌                                               145/200 [00:04]"
     ]
    },
    {
     "name": "stdout",
     "output_type": "stream",
     "text": [
      "\tcompleted  140  /  200 epochs\n"
     ]
    },
    {
     "name": "stderr",
     "output_type": "stream",
     "text": [
      "Epochs completed:  84%| █████████████████████████████████████████████████████████████████████████████████████████████████████████████████████████████████████████████                             167/200 [00:05]"
     ]
    },
    {
     "name": "stdout",
     "output_type": "stream",
     "text": [
      "\tcompleted  160  /  200 epochs\n"
     ]
    },
    {
     "name": "stderr",
     "output_type": "stream",
     "text": [
      "Epochs completed:  92%| ██████████████████████████████████████████████████████████████████████████████████████████████████████████████████████████████████████████████████████████▋               183/200 [00:06]"
     ]
    },
    {
     "name": "stdout",
     "output_type": "stream",
     "text": [
      "\tcompleted  180  /  200 epochs\n"
     ]
    },
    {
     "name": "stderr",
     "output_type": "stream",
     "text": [
      "Epochs completed: 100%| █████████████████████████████████████████████████████████████████████████████████████████████████████████████████████████████████████████████████████████████████████████ 200/200 [00:06]\n"
     ]
    },
    {
     "name": "stdout",
     "output_type": "stream",
     "text": [
      "Fri Apr 25 16:05:07 2025 Finished embedding\n",
      "Fri Apr 25 16:05:35 2025 Worst tree score: 0.99673587\n",
      "Fri Apr 25 16:05:35 2025 Mean tree score: 0.99711846\n",
      "Fri Apr 25 16:05:35 2025 Best tree score: 0.99773687\n",
      "Fri Apr 25 16:05:38 2025 Forward diversification reduced edges from 22977000 to 1390905\n",
      "Fri Apr 25 16:05:38 2025 Reverse diversification reduced edges from 1390905 to 1390905\n",
      "Fri Apr 25 16:05:38 2025 Degree pruning reduced edges from 1822190 to 1822190\n",
      "Fri Apr 25 16:05:38 2025 Resorting data and graph based on tree order\n",
      "Fri Apr 25 16:05:38 2025 Building and compiling search function\n"
     ]
    },
    {
     "name": "stderr",
     "output_type": "stream",
     "text": [
      "Epochs completed:  39%| ███████████████████████████████████████████████████████████████████▎                                                                                                        26/66 [00:00]"
     ]
    },
    {
     "name": "stdout",
     "output_type": "stream",
     "text": [
      "\tcompleted  0  /  66 epochs\n",
      "\tcompleted  6  /  66 epochs\n",
      "\tcompleted  12  /  66 epochs\n",
      "\tcompleted  18  /  66 epochs\n",
      "\tcompleted  24  /  66 epochs\n",
      "\tcompleted  30  /  66 epochs\n",
      "\tcompleted  36  /  66 epochs\n",
      "\tcompleted  42  /  66 epochs\n",
      "\tcompleted  48  /  66 epochs\n"
     ]
    },
    {
     "name": "stderr",
     "output_type": "stream",
     "text": [
      "Epochs completed: 100%| ███████████████████████████████████████████████████████████████████████████████████████████████████████████████████████████████████████████████████████████████████████████ 66/66 [00:00]\n"
     ]
    },
    {
     "name": "stdout",
     "output_type": "stream",
     "text": [
      "\tcompleted  54  /  66 epochs\n",
      "\tcompleted  60  /  66 epochs\n"
     ]
    },
    {
     "name": "stderr",
     "output_type": "stream",
     "text": [
      "Epochs completed: 100%| ███████████████████████████████████████████████████████████████████████████████████████████████████████████████████████████████████████████████████████████████████████████ 66/66 [00:21]\n"
     ]
    },
    {
     "name": "stdout",
     "output_type": "stream",
     "text": [
      "UMAP(init='pca', min_dist=0.0, n_epochs=200, n_jobs=95, n_neighbors=500, unique=True, verbose=True)\n",
      "Unique=True -> Number of data points reduced from  114885  to  114885\n",
      "Most common duplicate is 62991  with a count of  1\n",
      "Fri Apr 25 16:07:44 2025 Construct fuzzy simplicial set\n",
      "Fri Apr 25 16:07:44 2025 Finding Nearest Neighbors\n",
      "Fri Apr 25 16:07:44 2025 Building RP forest with 22 trees\n",
      "Fri Apr 25 16:07:44 2025 NN descent for 17 iterations\n",
      "\t 1  /  17\n",
      "\t 2  /  17\n",
      "\t 3  /  17\n",
      "\t 4  /  17\n",
      "\tStopping threshold met -- exiting after 4 iterations\n",
      "Fri Apr 25 16:11:02 2025 Finished Nearest Neighbor Search\n",
      "Fri Apr 25 16:11:31 2025 Construct embedding\n"
     ]
    },
    {
     "name": "stderr",
     "output_type": "stream",
     "text": [
      "Epochs completed:   3%| █████▏                                                                                                                                                                      6/200 [00:00]"
     ]
    },
    {
     "name": "stdout",
     "output_type": "stream",
     "text": [
      "\tcompleted  0  /  200 epochs\n"
     ]
    },
    {
     "name": "stderr",
     "output_type": "stream",
     "text": [
      "Epochs completed:  13%| ██████████████████████                                                                                                                                                     26/200 [00:00]"
     ]
    },
    {
     "name": "stdout",
     "output_type": "stream",
     "text": [
      "\tcompleted  20  /  200 epochs\n"
     ]
    },
    {
     "name": "stderr",
     "output_type": "stream",
     "text": [
      "Epochs completed:  22%| █████████████████████████████████████▍                                                                                                                                     44/200 [00:01]"
     ]
    },
    {
     "name": "stdout",
     "output_type": "stream",
     "text": [
      "\tcompleted  40  /  200 epochs\n"
     ]
    },
    {
     "name": "stderr",
     "output_type": "stream",
     "text": [
      "Epochs completed:  32%| ███████████████████████████████████████████████████████▎                                                                                                                   65/200 [00:02]"
     ]
    },
    {
     "name": "stdout",
     "output_type": "stream",
     "text": [
      "\tcompleted  60  /  200 epochs\n"
     ]
    },
    {
     "name": "stderr",
     "output_type": "stream",
     "text": [
      "Epochs completed:  42%| ██████████████████████████████████████████████████████████████████████▌                                                                                                    83/200 [00:02]"
     ]
    },
    {
     "name": "stdout",
     "output_type": "stream",
     "text": [
      "\tcompleted  80  /  200 epochs\n"
     ]
    },
    {
     "name": "stderr",
     "output_type": "stream",
     "text": [
      "Epochs completed:  52%| ███████████████████████████████████████████████████████████████████████████████████████▉                                                                                  104/200 [00:03]"
     ]
    },
    {
     "name": "stdout",
     "output_type": "stream",
     "text": [
      "\tcompleted  100  /  200 epochs\n"
     ]
    },
    {
     "name": "stderr",
     "output_type": "stream",
     "text": [
      "Epochs completed:  62%| █████████████████████████████████████████████████████████████████████████████████████████████████████████▋                                                                125/200 [00:04]"
     ]
    },
    {
     "name": "stdout",
     "output_type": "stream",
     "text": [
      "\tcompleted  120  /  200 epochs\n"
     ]
    },
    {
     "name": "stderr",
     "output_type": "stream",
     "text": [
      "Epochs completed:  72%| ████████████████████████████████████████████████████████████████████████████████████████████████████████████████████████▊                                                 143/200 [00:05]"
     ]
    },
    {
     "name": "stdout",
     "output_type": "stream",
     "text": [
      "\tcompleted  140  /  200 epochs\n"
     ]
    },
    {
     "name": "stderr",
     "output_type": "stream",
     "text": [
      "Epochs completed:  82%| ██████████████████████████████████████████████████████████████████████████████████████████████████████████████████████████████████████████▌                               164/200 [00:06]"
     ]
    },
    {
     "name": "stdout",
     "output_type": "stream",
     "text": [
      "\tcompleted  160  /  200 epochs\n"
     ]
    },
    {
     "name": "stderr",
     "output_type": "stream",
     "text": [
      "Epochs completed:  92%| ████████████████████████████████████████████████████████████████████████████████████████████████████████████████████████████████████████████████████████████▎             185/200 [00:07]"
     ]
    },
    {
     "name": "stdout",
     "output_type": "stream",
     "text": [
      "\tcompleted  180  /  200 epochs\n"
     ]
    },
    {
     "name": "stderr",
     "output_type": "stream",
     "text": [
      "Epochs completed: 100%| █████████████████████████████████████████████████████████████████████████████████████████████████████████████████████████████████████████████████████████████████████████ 200/200 [00:07]\n"
     ]
    },
    {
     "name": "stdout",
     "output_type": "stream",
     "text": [
      "Fri Apr 25 16:11:57 2025 Finished embedding\n",
      "Fri Apr 25 16:13:15 2025 Worst tree score: 0.99938199\n",
      "Fri Apr 25 16:13:15 2025 Mean tree score: 0.99965855\n",
      "Fri Apr 25 16:13:15 2025 Best tree score: 0.99981721\n",
      "Fri Apr 25 16:13:20 2025 Forward diversification reduced edges from 57442500 to 1558364\n",
      "Fri Apr 25 16:13:20 2025 Reverse diversification reduced edges from 1558364 to 1558364\n",
      "Fri Apr 25 16:13:20 2025 Degree pruning reduced edges from 2131440 to 2131440\n",
      "Fri Apr 25 16:13:20 2025 Resorting data and graph based on tree order\n",
      "Fri Apr 25 16:13:20 2025 Building and compiling search function\n"
     ]
    },
    {
     "name": "stderr",
     "output_type": "stream",
     "text": [
      "Epochs completed:  48%| ██████████████████████████████████████████████████████████████████████████████████▉                                                                                         32/66 [00:00]"
     ]
    },
    {
     "name": "stdout",
     "output_type": "stream",
     "text": [
      "\tcompleted  0  /  66 epochs\n",
      "\tcompleted  6  /  66 epochs\n",
      "\tcompleted  12  /  66 epochs\n",
      "\tcompleted  18  /  66 epochs\n",
      "\tcompleted  24  /  66 epochs\n",
      "\tcompleted  30  /  66 epochs\n",
      "\tcompleted  36  /  66 epochs\n",
      "\tcompleted  42  /  66 epochs\n"
     ]
    },
    {
     "name": "stderr",
     "output_type": "stream",
     "text": [
      "Epochs completed: 100%| ███████████████████████████████████████████████████████████████████████████████████████████████████████████████████████████████████████████████████████████████████████████ 66/66 [00:00]"
     ]
    },
    {
     "name": "stdout",
     "output_type": "stream",
     "text": [
      "\tcompleted  48  /  66 epochs\n",
      "\tcompleted  54  /  66 epochs\n",
      "\tcompleted  60  /  66 epochs\n"
     ]
    },
    {
     "name": "stderr",
     "output_type": "stream",
     "text": [
      "\n",
      "Epochs completed: 100%| ███████████████████████████████████████████████████████████████████████████████████████████████████████████████████████████████████████████████████████████████████████████ 66/66 [00:17]\n"
     ]
    },
    {
     "name": "stdout",
     "output_type": "stream",
     "text": [
      "UMAP(init='pca', min_dist=0.02, n_epochs=200, n_jobs=95, n_neighbors=500, unique=True, verbose=True)\n",
      "Unique=True -> Number of data points reduced from  114885  to  114885\n",
      "Most common duplicate is 62991  with a count of  1\n",
      "Fri Apr 25 16:15:43 2025 Construct fuzzy simplicial set\n",
      "Fri Apr 25 16:15:43 2025 Finding Nearest Neighbors\n",
      "Fri Apr 25 16:15:43 2025 Building RP forest with 22 trees\n",
      "Fri Apr 25 16:15:44 2025 NN descent for 17 iterations\n",
      "\t 1  /  17\n",
      "\t 2  /  17\n",
      "\t 3  /  17\n",
      "\t 4  /  17\n",
      "\tStopping threshold met -- exiting after 4 iterations\n",
      "Fri Apr 25 16:19:00 2025 Finished Nearest Neighbor Search\n",
      "Fri Apr 25 16:19:30 2025 Construct embedding\n"
     ]
    },
    {
     "name": "stderr",
     "output_type": "stream",
     "text": [
      "Epochs completed:   2%| ████▎                                                                                                                                                                       5/200 [00:00]"
     ]
    },
    {
     "name": "stdout",
     "output_type": "stream",
     "text": [
      "\tcompleted  0  /  200 epochs\n"
     ]
    },
    {
     "name": "stderr",
     "output_type": "stream",
     "text": [
      "Epochs completed:  12%| █████████████████████▎                                                                                                                                                     25/200 [00:00]"
     ]
    },
    {
     "name": "stdout",
     "output_type": "stream",
     "text": [
      "\tcompleted  20  /  200 epochs\n"
     ]
    },
    {
     "name": "stderr",
     "output_type": "stream",
     "text": [
      "Epochs completed:  23%| ███████████████████████████████████████                                                                                                                                    46/200 [00:01]"
     ]
    },
    {
     "name": "stdout",
     "output_type": "stream",
     "text": [
      "\tcompleted  40  /  200 epochs\n"
     ]
    },
    {
     "name": "stderr",
     "output_type": "stream",
     "text": [
      "Epochs completed:  32%| ██████████████████████████████████████████████████████▍                                                                                                                    64/200 [00:02]"
     ]
    },
    {
     "name": "stdout",
     "output_type": "stream",
     "text": [
      "\tcompleted  60  /  200 epochs\n"
     ]
    },
    {
     "name": "stderr",
     "output_type": "stream",
     "text": [
      "Epochs completed:  42%| ███████████████████████████████████████████████████████████████████████▍                                                                                                   84/200 [00:03]"
     ]
    },
    {
     "name": "stdout",
     "output_type": "stream",
     "text": [
      "\tcompleted  80  /  200 epochs\n"
     ]
    },
    {
     "name": "stderr",
     "output_type": "stream",
     "text": [
      "Epochs completed:  52%| ███████████████████████████████████████████████████████████████████████████████████████                                                                                   103/200 [00:04]"
     ]
    },
    {
     "name": "stdout",
     "output_type": "stream",
     "text": [
      "\tcompleted  100  /  200 epochs\n"
     ]
    },
    {
     "name": "stderr",
     "output_type": "stream",
     "text": [
      "Epochs completed:  62%| ████████████████████████████████████████████████████████████████████████████████████████████████████████▊                                                                 124/200 [00:05]"
     ]
    },
    {
     "name": "stdout",
     "output_type": "stream",
     "text": [
      "\tcompleted  120  /  200 epochs\n"
     ]
    },
    {
     "name": "stderr",
     "output_type": "stream",
     "text": [
      "Epochs completed:  72%| ██████████████████████████████████████████████████████████████████████████████████████████████████████████████████████████▌                                               145/200 [00:06]"
     ]
    },
    {
     "name": "stdout",
     "output_type": "stream",
     "text": [
      "\tcompleted  140  /  200 epochs\n"
     ]
    },
    {
     "name": "stderr",
     "output_type": "stream",
     "text": [
      "Epochs completed:  83%| ████████████████████████████████████████████████████████████████████████████████████████████████████████████████████████████████████████████▎                             166/200 [00:07]"
     ]
    },
    {
     "name": "stdout",
     "output_type": "stream",
     "text": [
      "\tcompleted  160  /  200 epochs\n"
     ]
    },
    {
     "name": "stderr",
     "output_type": "stream",
     "text": [
      "Epochs completed:  92%| ███████████████████████████████████████████████████████████████████████████████████████████████████████████████████████████████████████████████████████████▍              184/200 [00:08]"
     ]
    },
    {
     "name": "stdout",
     "output_type": "stream",
     "text": [
      "\tcompleted  180  /  200 epochs\n"
     ]
    },
    {
     "name": "stderr",
     "output_type": "stream",
     "text": [
      "Epochs completed: 100%| █████████████████████████████████████████████████████████████████████████████████████████████████████████████████████████████████████████████████████████████████████████ 200/200 [00:08]\n"
     ]
    },
    {
     "name": "stdout",
     "output_type": "stream",
     "text": [
      "Fri Apr 25 16:19:57 2025 Finished embedding\n",
      "Fri Apr 25 16:21:15 2025 Worst tree score: 0.99954737\n",
      "Fri Apr 25 16:21:15 2025 Mean tree score: 0.99967121\n",
      "Fri Apr 25 16:21:15 2025 Best tree score: 0.99978239\n",
      "Fri Apr 25 16:21:20 2025 Forward diversification reduced edges from 57442500 to 1558374\n",
      "Fri Apr 25 16:21:20 2025 Reverse diversification reduced edges from 1558374 to 1558374\n",
      "Fri Apr 25 16:21:20 2025 Degree pruning reduced edges from 2131476 to 2131476\n",
      "Fri Apr 25 16:21:20 2025 Resorting data and graph based on tree order\n",
      "Fri Apr 25 16:21:20 2025 Building and compiling search function\n"
     ]
    },
    {
     "name": "stderr",
     "output_type": "stream",
     "text": [
      "Epochs completed:  48%| ██████████████████████████████████████████████████████████████████████████████████▉                                                                                         32/66 [00:00]"
     ]
    },
    {
     "name": "stdout",
     "output_type": "stream",
     "text": [
      "\tcompleted  0  /  66 epochs\n",
      "\tcompleted  6  /  66 epochs\n",
      "\tcompleted  12  /  66 epochs\n",
      "\tcompleted  18  /  66 epochs\n",
      "\tcompleted  24  /  66 epochs\n",
      "\tcompleted  30  /  66 epochs\n",
      "\tcompleted  36  /  66 epochs\n",
      "\tcompleted  42  /  66 epochs\n",
      "\tcompleted  48  /  66 epochs\n"
     ]
    },
    {
     "name": "stderr",
     "output_type": "stream",
     "text": [
      "Epochs completed: 100%| ███████████████████████████████████████████████████████████████████████████████████████████████████████████████████████████████████████████████████████████████████████████ 66/66 [00:00]\n"
     ]
    },
    {
     "name": "stdout",
     "output_type": "stream",
     "text": [
      "\tcompleted  54  /  66 epochs\n",
      "\tcompleted  60  /  66 epochs\n"
     ]
    },
    {
     "name": "stderr",
     "output_type": "stream",
     "text": [
      "Epochs completed: 100%| ███████████████████████████████████████████████████████████████████████████████████████████████████████████████████████████████████████████████████████████████████████████ 66/66 [00:17]\n"
     ]
    },
    {
     "name": "stdout",
     "output_type": "stream",
     "text": [
      "UMAP(init='pca', min_dist=0.05, n_epochs=200, n_jobs=95, n_neighbors=500, unique=True, verbose=True)\n",
      "Unique=True -> Number of data points reduced from  114885  to  114885\n",
      "Most common duplicate is 62991  with a count of  1\n",
      "Fri Apr 25 16:23:44 2025 Construct fuzzy simplicial set\n",
      "Fri Apr 25 16:23:44 2025 Finding Nearest Neighbors\n",
      "Fri Apr 25 16:23:44 2025 Building RP forest with 22 trees\n",
      "Fri Apr 25 16:23:44 2025 NN descent for 17 iterations\n",
      "\t 1  /  17\n",
      "\t 2  /  17\n",
      "\t 3  /  17\n",
      "\t 4  /  17\n",
      "\tStopping threshold met -- exiting after 4 iterations\n",
      "Fri Apr 25 16:27:01 2025 Finished Nearest Neighbor Search\n",
      "Fri Apr 25 16:27:29 2025 Construct embedding\n"
     ]
    },
    {
     "name": "stderr",
     "output_type": "stream",
     "text": [
      "Epochs completed:   3%| █████▏                                                                                                                                                                      6/200 [00:00]"
     ]
    },
    {
     "name": "stdout",
     "output_type": "stream",
     "text": [
      "\tcompleted  0  /  200 epochs\n"
     ]
    },
    {
     "name": "stderr",
     "output_type": "stream",
     "text": [
      "Epochs completed:  13%| ██████████████████████                                                                                                                                                     26/200 [00:00]"
     ]
    },
    {
     "name": "stdout",
     "output_type": "stream",
     "text": [
      "\tcompleted  20  /  200 epochs\n"
     ]
    },
    {
     "name": "stderr",
     "output_type": "stream",
     "text": [
      "Epochs completed:  22%| █████████████████████████████████████▍                                                                                                                                     44/200 [00:01]"
     ]
    },
    {
     "name": "stdout",
     "output_type": "stream",
     "text": [
      "\tcompleted  40  /  200 epochs\n"
     ]
    },
    {
     "name": "stderr",
     "output_type": "stream",
     "text": [
      "Epochs completed:  32%| ███████████████████████████████████████████████████████▎                                                                                                                   65/200 [00:02]"
     ]
    },
    {
     "name": "stdout",
     "output_type": "stream",
     "text": [
      "\tcompleted  60  /  200 epochs\n"
     ]
    },
    {
     "name": "stderr",
     "output_type": "stream",
     "text": [
      "Epochs completed:  43%| █████████████████████████████████████████████████████████████████████████                                                                                                  86/200 [00:03]"
     ]
    },
    {
     "name": "stdout",
     "output_type": "stream",
     "text": [
      "\tcompleted  80  /  200 epochs\n"
     ]
    },
    {
     "name": "stderr",
     "output_type": "stream",
     "text": [
      "Epochs completed:  52%| ███████████████████████████████████████████████████████████████████████████████████████▉                                                                                  104/200 [00:04]"
     ]
    },
    {
     "name": "stdout",
     "output_type": "stream",
     "text": [
      "\tcompleted  100  /  200 epochs\n"
     ]
    },
    {
     "name": "stderr",
     "output_type": "stream",
     "text": [
      "Epochs completed:  62%| █████████████████████████████████████████████████████████████████████████████████████████████████████████▋                                                                125/200 [00:05]"
     ]
    },
    {
     "name": "stdout",
     "output_type": "stream",
     "text": [
      "\tcompleted  120  /  200 epochs\n"
     ]
    },
    {
     "name": "stderr",
     "output_type": "stream",
     "text": [
      "Epochs completed:  72%| ████████████████████████████████████████████████████████████████████████████████████████████████████████████████████████▊                                                 143/200 [00:05]"
     ]
    },
    {
     "name": "stdout",
     "output_type": "stream",
     "text": [
      "\tcompleted  140  /  200 epochs\n"
     ]
    },
    {
     "name": "stderr",
     "output_type": "stream",
     "text": [
      "Epochs completed:  82%| ██████████████████████████████████████████████████████████████████████████████████████████████████████████████████████████████████████████▌                               164/200 [00:06]"
     ]
    },
    {
     "name": "stdout",
     "output_type": "stream",
     "text": [
      "\tcompleted  160  /  200 epochs\n"
     ]
    },
    {
     "name": "stderr",
     "output_type": "stream",
     "text": [
      "Epochs completed:  92%| ████████████████████████████████████████████████████████████████████████████████████████████████████████████████████████████████████████████████████████████▎             185/200 [00:07]"
     ]
    },
    {
     "name": "stdout",
     "output_type": "stream",
     "text": [
      "\tcompleted  180  /  200 epochs\n"
     ]
    },
    {
     "name": "stderr",
     "output_type": "stream",
     "text": [
      "Epochs completed: 100%| █████████████████████████████████████████████████████████████████████████████████████████████████████████████████████████████████████████████████████████████████████████ 200/200 [00:08]\n"
     ]
    },
    {
     "name": "stdout",
     "output_type": "stream",
     "text": [
      "Fri Apr 25 16:27:54 2025 Finished embedding\n",
      "Fri Apr 25 16:29:11 2025 Worst tree score: 0.99950385\n",
      "Fri Apr 25 16:29:11 2025 Mean tree score: 0.99967161\n",
      "Fri Apr 25 16:29:11 2025 Best tree score: 0.99980850\n",
      "Fri Apr 25 16:29:16 2025 Forward diversification reduced edges from 57442500 to 1558367\n",
      "Fri Apr 25 16:29:16 2025 Reverse diversification reduced edges from 1558367 to 1558366\n",
      "Fri Apr 25 16:29:16 2025 Degree pruning reduced edges from 2131450 to 2131450\n",
      "Fri Apr 25 16:29:16 2025 Resorting data and graph based on tree order\n",
      "Fri Apr 25 16:29:16 2025 Building and compiling search function\n"
     ]
    },
    {
     "name": "stderr",
     "output_type": "stream",
     "text": [
      "Epochs completed:  48%| ██████████████████████████████████████████████████████████████████████████████████▉                                                                                         32/66 [00:00]"
     ]
    },
    {
     "name": "stdout",
     "output_type": "stream",
     "text": [
      "\tcompleted  0  /  66 epochs\n",
      "\tcompleted  6  /  66 epochs\n",
      "\tcompleted  12  /  66 epochs\n",
      "\tcompleted  18  /  66 epochs\n",
      "\tcompleted  24  /  66 epochs\n",
      "\tcompleted  30  /  66 epochs\n",
      "\tcompleted  36  /  66 epochs\n",
      "\tcompleted  42  /  66 epochs\n"
     ]
    },
    {
     "name": "stderr",
     "output_type": "stream",
     "text": [
      "Epochs completed: 100%| ███████████████████████████████████████████████████████████████████████████████████████████████████████████████████████████████████████████████████████████████████████████ 66/66 [00:00]"
     ]
    },
    {
     "name": "stdout",
     "output_type": "stream",
     "text": [
      "\tcompleted  48  /  66 epochs\n",
      "\tcompleted  54  /  66 epochs\n",
      "\tcompleted  60  /  66 epochs\n"
     ]
    },
    {
     "name": "stderr",
     "output_type": "stream",
     "text": [
      "\n",
      "Epochs completed: 100%| ███████████████████████████████████████████████████████████████████████████████████████████████████████████████████████████████████████████████████████████████████████████ 66/66 [00:18]\n"
     ]
    },
    {
     "name": "stdout",
     "output_type": "stream",
     "text": [
      "UMAP(init='pca', n_epochs=200, n_jobs=95, n_neighbors=500, unique=True, verbose=True)\n",
      "Unique=True -> Number of data points reduced from  114885  to  114885\n",
      "Most common duplicate is 62991  with a count of  1\n",
      "Fri Apr 25 16:31:41 2025 Construct fuzzy simplicial set\n",
      "Fri Apr 25 16:31:41 2025 Finding Nearest Neighbors\n",
      "Fri Apr 25 16:31:41 2025 Building RP forest with 22 trees\n",
      "Fri Apr 25 16:31:41 2025 NN descent for 17 iterations\n",
      "\t 1  /  17\n",
      "\t 2  /  17\n",
      "\t 3  /  17\n",
      "\t 4  /  17\n",
      "\tStopping threshold met -- exiting after 4 iterations\n",
      "Fri Apr 25 16:34:57 2025 Finished Nearest Neighbor Search\n",
      "Fri Apr 25 16:35:25 2025 Construct embedding\n"
     ]
    },
    {
     "name": "stderr",
     "output_type": "stream",
     "text": [
      "Epochs completed:   2%| ████▎                                                                                                                                                                       5/200 [00:00]"
     ]
    },
    {
     "name": "stdout",
     "output_type": "stream",
     "text": [
      "\tcompleted  0  /  200 epochs\n"
     ]
    },
    {
     "name": "stderr",
     "output_type": "stream",
     "text": [
      "Epochs completed:  13%| ██████████████████████                                                                                                                                                     26/200 [00:00]"
     ]
    },
    {
     "name": "stdout",
     "output_type": "stream",
     "text": [
      "\tcompleted  20  /  200 epochs\n"
     ]
    },
    {
     "name": "stderr",
     "output_type": "stream",
     "text": [
      "Epochs completed:  22%| █████████████████████████████████████▍                                                                                                                                     44/200 [00:01]"
     ]
    },
    {
     "name": "stdout",
     "output_type": "stream",
     "text": [
      "\tcompleted  40  /  200 epochs\n"
     ]
    },
    {
     "name": "stderr",
     "output_type": "stream",
     "text": [
      "Epochs completed:  32%| ███████████████████████████████████████████████████████▎                                                                                                                   65/200 [00:02]"
     ]
    },
    {
     "name": "stdout",
     "output_type": "stream",
     "text": [
      "\tcompleted  60  /  200 epochs\n"
     ]
    },
    {
     "name": "stderr",
     "output_type": "stream",
     "text": [
      "Epochs completed:  43%| █████████████████████████████████████████████████████████████████████████                                                                                                  86/200 [00:03]"
     ]
    },
    {
     "name": "stdout",
     "output_type": "stream",
     "text": [
      "\tcompleted  80  /  200 epochs\n"
     ]
    },
    {
     "name": "stderr",
     "output_type": "stream",
     "text": [
      "Epochs completed:  52%| ███████████████████████████████████████████████████████████████████████████████████████▉                                                                                  104/200 [00:03]"
     ]
    },
    {
     "name": "stdout",
     "output_type": "stream",
     "text": [
      "\tcompleted  100  /  200 epochs\n"
     ]
    },
    {
     "name": "stderr",
     "output_type": "stream",
     "text": [
      "Epochs completed:  62%| █████████████████████████████████████████████████████████████████████████████████████████████████████████▋                                                                125/200 [00:04]"
     ]
    },
    {
     "name": "stdout",
     "output_type": "stream",
     "text": [
      "\tcompleted  120  /  200 epochs\n"
     ]
    },
    {
     "name": "stderr",
     "output_type": "stream",
     "text": [
      "Epochs completed:  72%| ████████████████████████████████████████████████████████████████████████████████████████████████████████████████████████▊                                                 143/200 [00:05]"
     ]
    },
    {
     "name": "stdout",
     "output_type": "stream",
     "text": [
      "\tcompleted  140  /  200 epochs\n"
     ]
    },
    {
     "name": "stderr",
     "output_type": "stream",
     "text": [
      "Epochs completed:  82%| ██████████████████████████████████████████████████████████████████████████████████████████████████████████████████████████████████████████▌                               164/200 [00:06]"
     ]
    },
    {
     "name": "stdout",
     "output_type": "stream",
     "text": [
      "\tcompleted  160  /  200 epochs\n"
     ]
    },
    {
     "name": "stderr",
     "output_type": "stream",
     "text": [
      "Epochs completed:  92%| ████████████████████████████████████████████████████████████████████████████████████████████████████████████████████████████████████████████████████████████▎             185/200 [00:07]"
     ]
    },
    {
     "name": "stdout",
     "output_type": "stream",
     "text": [
      "\tcompleted  180  /  200 epochs\n"
     ]
    },
    {
     "name": "stderr",
     "output_type": "stream",
     "text": [
      "Epochs completed: 100%| █████████████████████████████████████████████████████████████████████████████████████████████████████████████████████████████████████████████████████████████████████████ 200/200 [00:07]\n"
     ]
    },
    {
     "name": "stdout",
     "output_type": "stream",
     "text": [
      "Fri Apr 25 16:35:51 2025 Finished embedding\n",
      "Fri Apr 25 16:37:09 2025 Worst tree score: 0.99954737\n",
      "Fri Apr 25 16:37:09 2025 Mean tree score: 0.99968348\n",
      "Fri Apr 25 16:37:09 2025 Best tree score: 0.99979980\n",
      "Fri Apr 25 16:37:14 2025 Forward diversification reduced edges from 57442500 to 1558369\n",
      "Fri Apr 25 16:37:14 2025 Reverse diversification reduced edges from 1558369 to 1558369\n",
      "Fri Apr 25 16:37:14 2025 Degree pruning reduced edges from 2131464 to 2131464\n",
      "Fri Apr 25 16:37:14 2025 Resorting data and graph based on tree order\n",
      "Fri Apr 25 16:37:14 2025 Building and compiling search function\n"
     ]
    },
    {
     "name": "stderr",
     "output_type": "stream",
     "text": [
      "Epochs completed:  50%| █████████████████████████████████████████████████████████████████████████████████████▌                                                                                      33/66 [00:00]"
     ]
    },
    {
     "name": "stdout",
     "output_type": "stream",
     "text": [
      "\tcompleted  0  /  66 epochs\n",
      "\tcompleted  6  /  66 epochs\n",
      "\tcompleted  12  /  66 epochs\n",
      "\tcompleted  18  /  66 epochs\n",
      "\tcompleted  24  /  66 epochs\n",
      "\tcompleted  30  /  66 epochs\n",
      "\tcompleted  36  /  66 epochs\n",
      "\tcompleted  42  /  66 epochs\n",
      "\tcompleted  48  /  66 epochs\n"
     ]
    },
    {
     "name": "stderr",
     "output_type": "stream",
     "text": [
      "Epochs completed: 100%| ███████████████████████████████████████████████████████████████████████████████████████████████████████████████████████████████████████████████████████████████████████████ 66/66 [00:00]\n"
     ]
    },
    {
     "name": "stdout",
     "output_type": "stream",
     "text": [
      "\tcompleted  54  /  66 epochs\n",
      "\tcompleted  60  /  66 epochs\n"
     ]
    },
    {
     "name": "stderr",
     "output_type": "stream",
     "text": [
      "Epochs completed: 100%| ███████████████████████████████████████████████████████████████████████████████████████████████████████████████████████████████████████████████████████████████████████████ 66/66 [00:19]\n"
     ]
    },
    {
     "name": "stdout",
     "output_type": "stream",
     "text": [
      "UMAP(init='pca', min_dist=0.2, n_epochs=200, n_jobs=95, n_neighbors=500, unique=True, verbose=True)\n",
      "Unique=True -> Number of data points reduced from  114885  to  114885\n",
      "Most common duplicate is 62991  with a count of  1\n",
      "Fri Apr 25 16:39:37 2025 Construct fuzzy simplicial set\n",
      "Fri Apr 25 16:39:37 2025 Finding Nearest Neighbors\n",
      "Fri Apr 25 16:39:37 2025 Building RP forest with 22 trees\n",
      "Fri Apr 25 16:39:37 2025 NN descent for 17 iterations\n",
      "\t 1  /  17\n",
      "\t 2  /  17\n",
      "\t 3  /  17\n",
      "\t 4  /  17\n",
      "\tStopping threshold met -- exiting after 4 iterations\n",
      "Fri Apr 25 16:42:53 2025 Finished Nearest Neighbor Search\n",
      "Fri Apr 25 16:43:23 2025 Construct embedding\n"
     ]
    },
    {
     "name": "stderr",
     "output_type": "stream",
     "text": [
      "Epochs completed:   2%| ████▎                                                                                                                                                                       5/200 [00:00]"
     ]
    },
    {
     "name": "stdout",
     "output_type": "stream",
     "text": [
      "\tcompleted  0  /  200 epochs\n"
     ]
    },
    {
     "name": "stderr",
     "output_type": "stream",
     "text": [
      "Epochs completed:  12%| █████████████████████▎                                                                                                                                                     25/200 [00:00]"
     ]
    },
    {
     "name": "stdout",
     "output_type": "stream",
     "text": [
      "\tcompleted  20  /  200 epochs\n"
     ]
    },
    {
     "name": "stderr",
     "output_type": "stream",
     "text": [
      "Epochs completed:  22%| ████████████████████████████████████▌                                                                                                                                      43/200 [00:01]"
     ]
    },
    {
     "name": "stdout",
     "output_type": "stream",
     "text": [
      "\tcompleted  40  /  200 epochs\n"
     ]
    },
    {
     "name": "stderr",
     "output_type": "stream",
     "text": [
      "Epochs completed:  32%| ██████████████████████████████████████████████████████▍                                                                                                                    64/200 [00:02]"
     ]
    },
    {
     "name": "stdout",
     "output_type": "stream",
     "text": [
      "\tcompleted  60  /  200 epochs\n"
     ]
    },
    {
     "name": "stderr",
     "output_type": "stream",
     "text": [
      "Epochs completed:  42%| ████████████████████████████████████████████████████████████████████████▎                                                                                                  85/200 [00:03]"
     ]
    },
    {
     "name": "stdout",
     "output_type": "stream",
     "text": [
      "\tcompleted  80  /  200 epochs\n"
     ]
    },
    {
     "name": "stderr",
     "output_type": "stream",
     "text": [
      "Epochs completed:  53%| █████████████████████████████████████████████████████████████████████████████████████████▌                                                                                106/200 [00:04]"
     ]
    },
    {
     "name": "stdout",
     "output_type": "stream",
     "text": [
      "\tcompleted  100  /  200 epochs\n"
     ]
    },
    {
     "name": "stderr",
     "output_type": "stream",
     "text": [
      "Epochs completed:  62%| ████████████████████████████████████████████████████████████████████████████████████████████████████████▊                                                                 124/200 [00:04]"
     ]
    },
    {
     "name": "stdout",
     "output_type": "stream",
     "text": [
      "\tcompleted  120  /  200 epochs\n"
     ]
    },
    {
     "name": "stderr",
     "output_type": "stream",
     "text": [
      "Epochs completed:  72%| ██████████████████████████████████████████████████████████████████████████████████████████████████████████████████████████▌                                               145/200 [00:05]"
     ]
    },
    {
     "name": "stdout",
     "output_type": "stream",
     "text": [
      "\tcompleted  140  /  200 epochs\n"
     ]
    },
    {
     "name": "stderr",
     "output_type": "stream",
     "text": [
      "Epochs completed:  82%| █████████████████████████████████████████████████████████████████████████████████████████████████████████████████████████████████████████▋                                163/200 [00:06]"
     ]
    },
    {
     "name": "stdout",
     "output_type": "stream",
     "text": [
      "\tcompleted  160  /  200 epochs\n"
     ]
    },
    {
     "name": "stderr",
     "output_type": "stream",
     "text": [
      "Epochs completed:  92%| ███████████████████████████████████████████████████████████████████████████████████████████████████████████████████████████████████████████████████████████▍              184/200 [00:07]"
     ]
    },
    {
     "name": "stdout",
     "output_type": "stream",
     "text": [
      "\tcompleted  180  /  200 epochs\n"
     ]
    },
    {
     "name": "stderr",
     "output_type": "stream",
     "text": [
      "Epochs completed: 100%| █████████████████████████████████████████████████████████████████████████████████████████████████████████████████████████████████████████████████████████████████████████ 200/200 [00:07]\n"
     ]
    },
    {
     "name": "stdout",
     "output_type": "stream",
     "text": [
      "Fri Apr 25 16:43:51 2025 Finished embedding\n",
      "Fri Apr 25 16:45:10 2025 Worst tree score: 0.99953867\n",
      "Fri Apr 25 16:45:10 2025 Mean tree score: 0.99965460\n",
      "Fri Apr 25 16:45:10 2025 Best tree score: 0.99975628\n",
      "Fri Apr 25 16:45:15 2025 Forward diversification reduced edges from 57442500 to 1558378\n",
      "Fri Apr 25 16:45:15 2025 Reverse diversification reduced edges from 1558378 to 1558378\n",
      "Fri Apr 25 16:45:15 2025 Degree pruning reduced edges from 2131462 to 2131462\n",
      "Fri Apr 25 16:45:15 2025 Resorting data and graph based on tree order\n",
      "Fri Apr 25 16:45:15 2025 Building and compiling search function\n"
     ]
    },
    {
     "name": "stderr",
     "output_type": "stream",
     "text": [
      "Epochs completed:  47%| ████████████████████████████████████████████████████████████████████████████████▎                                                                                           31/66 [00:00]"
     ]
    },
    {
     "name": "stdout",
     "output_type": "stream",
     "text": [
      "\tcompleted  0  /  66 epochs\n",
      "\tcompleted  6  /  66 epochs\n",
      "\tcompleted  12  /  66 epochs\n",
      "\tcompleted  18  /  66 epochs\n",
      "\tcompleted  24  /  66 epochs\n",
      "\tcompleted  30  /  66 epochs\n",
      "\tcompleted  36  /  66 epochs\n",
      "\tcompleted  42  /  66 epochs\n"
     ]
    },
    {
     "name": "stderr",
     "output_type": "stream",
     "text": [
      "Epochs completed: 100%| ███████████████████████████████████████████████████████████████████████████████████████████████████████████████████████████████████████████████████████████████████████████ 66/66 [00:00]"
     ]
    },
    {
     "name": "stdout",
     "output_type": "stream",
     "text": [
      "\tcompleted  48  /  66 epochs\n",
      "\tcompleted  54  /  66 epochs\n",
      "\tcompleted  60  /  66 epochs\n"
     ]
    },
    {
     "name": "stderr",
     "output_type": "stream",
     "text": [
      "\n",
      "Epochs completed: 100%| ███████████████████████████████████████████████████████████████████████████████████████████████████████████████████████████████████████████████████████████████████████████ 66/66 [00:20]\n"
     ]
    },
    {
     "name": "stdout",
     "output_type": "stream",
     "text": [
      "UMAP(init='pca', min_dist=0.5, n_epochs=200, n_jobs=95, n_neighbors=500, unique=True, verbose=True)\n",
      "Unique=True -> Number of data points reduced from  114885  to  114885\n",
      "Most common duplicate is 62991  with a count of  1\n",
      "Fri Apr 25 16:47:52 2025 Construct fuzzy simplicial set\n",
      "Fri Apr 25 16:47:52 2025 Finding Nearest Neighbors\n",
      "Fri Apr 25 16:47:52 2025 Building RP forest with 22 trees\n",
      "Fri Apr 25 16:47:52 2025 NN descent for 17 iterations\n",
      "\t 1  /  17\n",
      "\t 2  /  17\n",
      "\t 3  /  17\n",
      "\t 4  /  17\n",
      "\tStopping threshold met -- exiting after 4 iterations\n",
      "Fri Apr 25 16:51:06 2025 Finished Nearest Neighbor Search\n",
      "Fri Apr 25 16:51:34 2025 Construct embedding\n"
     ]
    },
    {
     "name": "stderr",
     "output_type": "stream",
     "text": [
      "Epochs completed:   2%| ████▎                                                                                                                                                                       5/200 [00:00]"
     ]
    },
    {
     "name": "stdout",
     "output_type": "stream",
     "text": [
      "\tcompleted  0  /  200 epochs\n"
     ]
    },
    {
     "name": "stderr",
     "output_type": "stream",
     "text": [
      "Epochs completed:  12%| ████████████████████▍                                                                                                                                                      24/200 [00:00]"
     ]
    },
    {
     "name": "stdout",
     "output_type": "stream",
     "text": [
      "\tcompleted  20  /  200 epochs\n"
     ]
    },
    {
     "name": "stderr",
     "output_type": "stream",
     "text": [
      "Epochs completed:  22%| ██████████████████████████████████████▎                                                                                                                                    45/200 [00:01]"
     ]
    },
    {
     "name": "stdout",
     "output_type": "stream",
     "text": [
      "\tcompleted  40  /  200 epochs\n"
     ]
    },
    {
     "name": "stderr",
     "output_type": "stream",
     "text": [
      "Epochs completed:  32%| █████████████████████████████████████████████████████▌                                                                                                                     63/200 [00:02]"
     ]
    },
    {
     "name": "stdout",
     "output_type": "stream",
     "text": [
      "\tcompleted  60  /  200 epochs\n"
     ]
    },
    {
     "name": "stderr",
     "output_type": "stream",
     "text": [
      "Epochs completed:  42%| ███████████████████████████████████████████████████████████████████████▍                                                                                                   84/200 [00:03]"
     ]
    },
    {
     "name": "stdout",
     "output_type": "stream",
     "text": [
      "\tcompleted  80  /  200 epochs\n"
     ]
    },
    {
     "name": "stderr",
     "output_type": "stream",
     "text": [
      "Epochs completed:  52%| ███████████████████████████████████████████████████████████████████████████████████████▉                                                                                  104/200 [00:04]"
     ]
    },
    {
     "name": "stdout",
     "output_type": "stream",
     "text": [
      "\tcompleted  100  /  200 epochs\n"
     ]
    },
    {
     "name": "stderr",
     "output_type": "stream",
     "text": [
      "Epochs completed:  62%| █████████████████████████████████████████████████████████████████████████████████████████████████████████▋                                                                125/200 [00:05]"
     ]
    },
    {
     "name": "stdout",
     "output_type": "stream",
     "text": [
      "\tcompleted  120  /  200 epochs\n"
     ]
    },
    {
     "name": "stderr",
     "output_type": "stream",
     "text": [
      "Epochs completed:  72%| ████████████████████████████████████████████████████████████████████████████████████████████████████████████████████████▊                                                 143/200 [00:06]"
     ]
    },
    {
     "name": "stdout",
     "output_type": "stream",
     "text": [
      "\tcompleted  140  /  200 epochs\n"
     ]
    },
    {
     "name": "stderr",
     "output_type": "stream",
     "text": [
      "Epochs completed:  82%| ██████████████████████████████████████████████████████████████████████████████████████████████████████████████████████████████████████████▌                               164/200 [00:07]"
     ]
    },
    {
     "name": "stdout",
     "output_type": "stream",
     "text": [
      "\tcompleted  160  /  200 epochs\n"
     ]
    },
    {
     "name": "stderr",
     "output_type": "stream",
     "text": [
      "Epochs completed:  92%| ████████████████████████████████████████████████████████████████████████████████████████████████████████████████████████████████████████████████████████████▎             185/200 [00:08]"
     ]
    },
    {
     "name": "stdout",
     "output_type": "stream",
     "text": [
      "\tcompleted  180  /  200 epochs\n"
     ]
    },
    {
     "name": "stderr",
     "output_type": "stream",
     "text": [
      "Epochs completed: 100%| █████████████████████████████████████████████████████████████████████████████████████████████████████████████████████████████████████████████████████████████████████████ 200/200 [00:08]\n"
     ]
    },
    {
     "name": "stdout",
     "output_type": "stream",
     "text": [
      "Fri Apr 25 16:52:00 2025 Finished embedding\n",
      "Fri Apr 25 16:53:16 2025 Worst tree score: 0.99952126\n",
      "Fri Apr 25 16:53:16 2025 Mean tree score: 0.99967873\n",
      "Fri Apr 25 16:53:16 2025 Best tree score: 0.99977369\n",
      "Fri Apr 25 16:53:22 2025 Forward diversification reduced edges from 57442500 to 1558388\n",
      "Fri Apr 25 16:53:22 2025 Reverse diversification reduced edges from 1558388 to 1558388\n",
      "Fri Apr 25 16:53:22 2025 Degree pruning reduced edges from 2131488 to 2131488\n",
      "Fri Apr 25 16:53:22 2025 Resorting data and graph based on tree order\n",
      "Fri Apr 25 16:53:22 2025 Building and compiling search function\n"
     ]
    },
    {
     "name": "stderr",
     "output_type": "stream",
     "text": [
      "Epochs completed:  50%| █████████████████████████████████████████████████████████████████████████████████████▌                                                                                      33/66 [00:00]"
     ]
    },
    {
     "name": "stdout",
     "output_type": "stream",
     "text": [
      "\tcompleted  0  /  66 epochs\n",
      "\tcompleted  6  /  66 epochs\n",
      "\tcompleted  12  /  66 epochs\n",
      "\tcompleted  18  /  66 epochs\n",
      "\tcompleted  24  /  66 epochs\n",
      "\tcompleted  30  /  66 epochs\n",
      "\tcompleted  36  /  66 epochs\n",
      "\tcompleted  42  /  66 epochs\n"
     ]
    },
    {
     "name": "stderr",
     "output_type": "stream",
     "text": [
      "Epochs completed: 100%| ███████████████████████████████████████████████████████████████████████████████████████████████████████████████████████████████████████████████████████████████████████████ 66/66 [00:00]\n"
     ]
    },
    {
     "name": "stdout",
     "output_type": "stream",
     "text": [
      "\tcompleted  48  /  66 epochs\n",
      "\tcompleted  54  /  66 epochs\n",
      "\tcompleted  60  /  66 epochs\n"
     ]
    },
    {
     "name": "stderr",
     "output_type": "stream",
     "text": [
      "Epochs completed: 100%| ███████████████████████████████████████████████████████████████████████████████████████████████████████████████████████████████████████████████████████████████████████████ 66/66 [00:20]\n"
     ]
    },
    {
     "name": "stdout",
     "output_type": "stream",
     "text": [
      "UMAP(init='pca', min_dist=0.8, n_epochs=200, n_jobs=95, n_neighbors=500, unique=True, verbose=True)\n",
      "Unique=True -> Number of data points reduced from  114885  to  114885\n",
      "Most common duplicate is 62991  with a count of  1\n",
      "Fri Apr 25 16:55:44 2025 Construct fuzzy simplicial set\n",
      "Fri Apr 25 16:55:44 2025 Finding Nearest Neighbors\n",
      "Fri Apr 25 16:55:44 2025 Building RP forest with 22 trees\n",
      "Fri Apr 25 16:55:44 2025 NN descent for 17 iterations\n",
      "\t 1  /  17\n",
      "\t 2  /  17\n",
      "\t 3  /  17\n",
      "\t 4  /  17\n",
      "\tStopping threshold met -- exiting after 4 iterations\n",
      "Fri Apr 25 16:59:02 2025 Finished Nearest Neighbor Search\n",
      "Fri Apr 25 16:59:30 2025 Construct embedding\n"
     ]
    },
    {
     "name": "stderr",
     "output_type": "stream",
     "text": [
      "Epochs completed:   2%| ████▎                                                                                                                                                                       5/200 [00:00]"
     ]
    },
    {
     "name": "stdout",
     "output_type": "stream",
     "text": [
      "\tcompleted  0  /  200 epochs\n"
     ]
    },
    {
     "name": "stderr",
     "output_type": "stream",
     "text": [
      "Epochs completed:  12%| █████████████████████▎                                                                                                                                                     25/200 [00:00]"
     ]
    },
    {
     "name": "stdout",
     "output_type": "stream",
     "text": [
      "\tcompleted  20  /  200 epochs\n"
     ]
    },
    {
     "name": "stderr",
     "output_type": "stream",
     "text": [
      "Epochs completed:  22%| ████████████████████████████████████▌                                                                                                                                      43/200 [00:01]"
     ]
    },
    {
     "name": "stdout",
     "output_type": "stream",
     "text": [
      "\tcompleted  40  /  200 epochs\n"
     ]
    },
    {
     "name": "stderr",
     "output_type": "stream",
     "text": [
      "Epochs completed:  30%| ███████████████████████████████████████████████████▊                                                                                                                       61/200 [00:02]"
     ]
    },
    {
     "name": "stdout",
     "output_type": "stream",
     "text": [
      "\tcompleted  60  /  200 epochs\n"
     ]
    },
    {
     "name": "stderr",
     "output_type": "stream",
     "text": [
      "Epochs completed:  42%| ███████████████████████████████████████████████████████████████████████▍                                                                                                   84/200 [00:03]"
     ]
    },
    {
     "name": "stdout",
     "output_type": "stream",
     "text": [
      "\tcompleted  80  /  200 epochs\n"
     ]
    },
    {
     "name": "stderr",
     "output_type": "stream",
     "text": [
      "Epochs completed:  52%| ████████████████████████████████████████████████████████████████████████████████████████▋                                                                                 105/200 [00:04]"
     ]
    },
    {
     "name": "stdout",
     "output_type": "stream",
     "text": [
      "\tcompleted  100  /  200 epochs\n"
     ]
    },
    {
     "name": "stderr",
     "output_type": "stream",
     "text": [
      "Epochs completed:  62%| ███████████████████████████████████████████████████████████████████████████████████████████████████████▉                                                                  123/200 [00:05]"
     ]
    },
    {
     "name": "stdout",
     "output_type": "stream",
     "text": [
      "\tcompleted  120  /  200 epochs\n"
     ]
    },
    {
     "name": "stderr",
     "output_type": "stream",
     "text": [
      "Epochs completed:  72%| █████████████████████████████████████████████████████████████████████████████████████████████████████████████████████████▋                                                144/200 [00:06]"
     ]
    },
    {
     "name": "stdout",
     "output_type": "stream",
     "text": [
      "\tcompleted  140  /  200 epochs\n"
     ]
    },
    {
     "name": "stderr",
     "output_type": "stream",
     "text": [
      "Epochs completed:  82%| ███████████████████████████████████████████████████████████████████████████████████████████████████████████████████████████████████████████▍                              165/200 [00:07]"
     ]
    },
    {
     "name": "stdout",
     "output_type": "stream",
     "text": [
      "\tcompleted  160  /  200 epochs\n"
     ]
    },
    {
     "name": "stderr",
     "output_type": "stream",
     "text": [
      "Epochs completed:  92%| ███████████████████████████████████████████████████████████████████████████████████████████████████████████████████████████████████████████████████████████▍              184/200 [00:08]"
     ]
    },
    {
     "name": "stdout",
     "output_type": "stream",
     "text": [
      "\tcompleted  180  /  200 epochs\n"
     ]
    },
    {
     "name": "stderr",
     "output_type": "stream",
     "text": [
      "Epochs completed: 100%| █████████████████████████████████████████████████████████████████████████████████████████████████████████████████████████████████████████████████████████████████████████ 200/200 [00:09]\n"
     ]
    },
    {
     "name": "stdout",
     "output_type": "stream",
     "text": [
      "Fri Apr 25 16:59:57 2025 Finished embedding\n",
      "Fri Apr 25 17:01:15 2025 Worst tree score: 0.99949515\n",
      "Fri Apr 25 17:01:15 2025 Mean tree score: 0.99966290\n",
      "Fri Apr 25 17:01:15 2025 Best tree score: 0.99983462\n",
      "Fri Apr 25 17:01:20 2025 Forward diversification reduced edges from 57442500 to 1558381\n",
      "Fri Apr 25 17:01:20 2025 Reverse diversification reduced edges from 1558381 to 1558381\n",
      "Fri Apr 25 17:01:20 2025 Degree pruning reduced edges from 2131484 to 2131484\n",
      "Fri Apr 25 17:01:20 2025 Resorting data and graph based on tree order\n",
      "Fri Apr 25 17:01:20 2025 Building and compiling search function\n"
     ]
    },
    {
     "name": "stderr",
     "output_type": "stream",
     "text": [
      "Epochs completed:  48%| ██████████████████████████████████████████████████████████████████████████████████▉                                                                                         32/66 [00:00]"
     ]
    },
    {
     "name": "stdout",
     "output_type": "stream",
     "text": [
      "\tcompleted  0  /  66 epochs\n",
      "\tcompleted  6  /  66 epochs\n",
      "\tcompleted  12  /  66 epochs\n",
      "\tcompleted  18  /  66 epochs\n",
      "\tcompleted  24  /  66 epochs\n",
      "\tcompleted  30  /  66 epochs\n",
      "\tcompleted  36  /  66 epochs\n",
      "\tcompleted  42  /  66 epochs\n",
      "\tcompleted  48  /  66 epochs\n"
     ]
    },
    {
     "name": "stderr",
     "output_type": "stream",
     "text": [
      "Epochs completed: 100%| ███████████████████████████████████████████████████████████████████████████████████████████████████████████████████████████████████████████████████████████████████████████ 66/66 [00:00]\n"
     ]
    },
    {
     "name": "stdout",
     "output_type": "stream",
     "text": [
      "\tcompleted  54  /  66 epochs\n",
      "\tcompleted  60  /  66 epochs\n"
     ]
    },
    {
     "name": "stderr",
     "output_type": "stream",
     "text": [
      "Epochs completed: 100%| ███████████████████████████████████████████████████████████████████████████████████████████████████████████████████████████████████████████████████████████████████████████ 66/66 [00:21]\n"
     ]
    },
    {
     "name": "stdout",
     "output_type": "stream",
     "text": [
      "UMAP(init='pca', min_dist=0.99, n_epochs=200, n_jobs=95, n_neighbors=500, unique=True, verbose=True)\n",
      "Unique=True -> Number of data points reduced from  114885  to  114885\n",
      "Most common duplicate is 62991  with a count of  1\n",
      "Fri Apr 25 17:03:46 2025 Construct fuzzy simplicial set\n",
      "Fri Apr 25 17:03:46 2025 Finding Nearest Neighbors\n",
      "Fri Apr 25 17:03:46 2025 Building RP forest with 22 trees\n",
      "Fri Apr 25 17:03:46 2025 NN descent for 17 iterations\n",
      "\t 1  /  17\n",
      "\t 2  /  17\n",
      "\t 3  /  17\n",
      "\t 4  /  17\n",
      "\tStopping threshold met -- exiting after 4 iterations\n",
      "Fri Apr 25 17:07:01 2025 Finished Nearest Neighbor Search\n",
      "Fri Apr 25 17:07:30 2025 Construct embedding\n"
     ]
    },
    {
     "name": "stderr",
     "output_type": "stream",
     "text": [
      "Epochs completed:   3%| █████▏                                                                                                                                                                      6/200 [00:00]"
     ]
    },
    {
     "name": "stdout",
     "output_type": "stream",
     "text": [
      "\tcompleted  0  /  200 epochs\n"
     ]
    },
    {
     "name": "stderr",
     "output_type": "stream",
     "text": [
      "Epochs completed:  13%| ██████████████████████                                                                                                                                                     26/200 [00:00]"
     ]
    },
    {
     "name": "stdout",
     "output_type": "stream",
     "text": [
      "\tcompleted  20  /  200 epochs\n"
     ]
    },
    {
     "name": "stderr",
     "output_type": "stream",
     "text": [
      "Epochs completed:  22%| █████████████████████████████████████▍                                                                                                                                     44/200 [00:01]"
     ]
    },
    {
     "name": "stdout",
     "output_type": "stream",
     "text": [
      "\tcompleted  40  /  200 epochs\n"
     ]
    },
    {
     "name": "stderr",
     "output_type": "stream",
     "text": [
      "Epochs completed:  32%| ███████████████████████████████████████████████████████▎                                                                                                                   65/200 [00:02]"
     ]
    },
    {
     "name": "stdout",
     "output_type": "stream",
     "text": [
      "\tcompleted  60  /  200 epochs\n"
     ]
    },
    {
     "name": "stderr",
     "output_type": "stream",
     "text": [
      "Epochs completed:  43%| █████████████████████████████████████████████████████████████████████████                                                                                                  86/200 [00:03]"
     ]
    },
    {
     "name": "stdout",
     "output_type": "stream",
     "text": [
      "\tcompleted  80  /  200 epochs\n"
     ]
    },
    {
     "name": "stderr",
     "output_type": "stream",
     "text": [
      "Epochs completed:  52%| ███████████████████████████████████████████████████████████████████████████████████████▉                                                                                  104/200 [00:03]"
     ]
    },
    {
     "name": "stdout",
     "output_type": "stream",
     "text": [
      "\tcompleted  100  /  200 epochs\n"
     ]
    },
    {
     "name": "stderr",
     "output_type": "stream",
     "text": [
      "Epochs completed:  62%| █████████████████████████████████████████████████████████████████████████████████████████████████████████▋                                                                125/200 [00:04]"
     ]
    },
    {
     "name": "stdout",
     "output_type": "stream",
     "text": [
      "\tcompleted  120  /  200 epochs\n"
     ]
    },
    {
     "name": "stderr",
     "output_type": "stream",
     "text": [
      "Epochs completed:  73%| ███████████████████████████████████████████████████████████████████████████████████████████████████████████████████████████▎                                              146/200 [00:05]"
     ]
    },
    {
     "name": "stdout",
     "output_type": "stream",
     "text": [
      "\tcompleted  140  /  200 epochs\n"
     ]
    },
    {
     "name": "stderr",
     "output_type": "stream",
     "text": [
      "Epochs completed:  82%| ██████████████████████████████████████████████████████████████████████████████████████████████████████████████████████████████████████████▌                               164/200 [00:06]"
     ]
    },
    {
     "name": "stdout",
     "output_type": "stream",
     "text": [
      "\tcompleted  160  /  200 epochs\n"
     ]
    },
    {
     "name": "stderr",
     "output_type": "stream",
     "text": [
      "Epochs completed:  92%| ████████████████████████████████████████████████████████████████████████████████████████████████████████████████████████████████████████████████████████████▎             185/200 [00:07]"
     ]
    },
    {
     "name": "stdout",
     "output_type": "stream",
     "text": [
      "\tcompleted  180  /  200 epochs\n"
     ]
    },
    {
     "name": "stderr",
     "output_type": "stream",
     "text": [
      "Epochs completed: 100%| █████████████████████████████████████████████████████████████████████████████████████████████████████████████████████████████████████████████████████████████████████████ 200/200 [00:07]\n"
     ]
    },
    {
     "name": "stdout",
     "output_type": "stream",
     "text": [
      "Fri Apr 25 17:07:55 2025 Finished embedding\n",
      "Fri Apr 25 17:09:13 2025 Worst tree score: 0.99934717\n",
      "Fri Apr 25 17:09:13 2025 Mean tree score: 0.99965262\n",
      "Fri Apr 25 17:09:13 2025 Best tree score: 0.99977369\n",
      "Fri Apr 25 17:09:18 2025 Forward diversification reduced edges from 57442500 to 1558385\n",
      "Fri Apr 25 17:09:18 2025 Reverse diversification reduced edges from 1558385 to 1558385\n",
      "Fri Apr 25 17:09:18 2025 Degree pruning reduced edges from 2131484 to 2131484\n",
      "Fri Apr 25 17:09:18 2025 Resorting data and graph based on tree order\n",
      "Fri Apr 25 17:09:18 2025 Building and compiling search function\n"
     ]
    },
    {
     "name": "stderr",
     "output_type": "stream",
     "text": [
      "Epochs completed:  47%| ████████████████████████████████████████████████████████████████████████████████▎                                                                                           31/66 [00:00]"
     ]
    },
    {
     "name": "stdout",
     "output_type": "stream",
     "text": [
      "\tcompleted  0  /  66 epochs\n",
      "\tcompleted  6  /  66 epochs\n",
      "\tcompleted  12  /  66 epochs\n",
      "\tcompleted  18  /  66 epochs\n",
      "\tcompleted  24  /  66 epochs\n",
      "\tcompleted  30  /  66 epochs\n",
      "\tcompleted  36  /  66 epochs\n",
      "\tcompleted  42  /  66 epochs\n"
     ]
    },
    {
     "name": "stderr",
     "output_type": "stream",
     "text": [
      "Epochs completed: 100%| ███████████████████████████████████████████████████████████████████████████████████████████████████████████████████████████████████████████████████████████████████████████ 66/66 [00:00]\n"
     ]
    },
    {
     "name": "stdout",
     "output_type": "stream",
     "text": [
      "\tcompleted  48  /  66 epochs\n",
      "\tcompleted  54  /  66 epochs\n",
      "\tcompleted  60  /  66 epochs\n"
     ]
    },
    {
     "name": "stderr",
     "output_type": "stream",
     "text": [
      "Epochs completed: 100%| ███████████████████████████████████████████████████████████████████████████████████████████████████████████████████████████████████████████████████████████████████████████ 66/66 [00:21]\n"
     ]
    },
    {
     "name": "stdout",
     "output_type": "stream",
     "text": [
      "UMAP(init='pca', min_dist=0.0, n_epochs=200, n_jobs=95, n_neighbors=1000, unique=True, verbose=True)\n",
      "Unique=True -> Number of data points reduced from  114885  to  114885\n",
      "Most common duplicate is 62991  with a count of  1\n",
      "Fri Apr 25 17:11:44 2025 Construct fuzzy simplicial set\n",
      "Fri Apr 25 17:11:44 2025 Finding Nearest Neighbors\n",
      "Fri Apr 25 17:11:44 2025 Building RP forest with 22 trees\n",
      "Fri Apr 25 17:11:44 2025 NN descent for 17 iterations\n",
      "\t 1  /  17\n",
      "\t 2  /  17\n",
      "\t 3  /  17\n",
      "\t 4  /  17\n",
      "\t 5  /  17\n",
      "\tStopping threshold met -- exiting after 5 iterations\n",
      "Fri Apr 25 17:19:24 2025 Finished Nearest Neighbor Search\n",
      "Fri Apr 25 17:20:22 2025 Construct embedding\n"
     ]
    },
    {
     "name": "stderr",
     "output_type": "stream",
     "text": [
      "Epochs completed:   2%| ████▎                                                                                                                                                                       5/200 [00:00]"
     ]
    },
    {
     "name": "stdout",
     "output_type": "stream",
     "text": [
      "\tcompleted  0  /  200 epochs\n"
     ]
    },
    {
     "name": "stderr",
     "output_type": "stream",
     "text": [
      "Epochs completed:  12%| ███████████████████▌                                                                                                                                                       23/200 [00:00]"
     ]
    },
    {
     "name": "stdout",
     "output_type": "stream",
     "text": [
      "\tcompleted  20  /  200 epochs\n"
     ]
    },
    {
     "name": "stderr",
     "output_type": "stream",
     "text": [
      "Epochs completed:  22%| █████████████████████████████████████▍                                                                                                                                     44/200 [00:01]"
     ]
    },
    {
     "name": "stdout",
     "output_type": "stream",
     "text": [
      "\tcompleted  40  /  200 epochs\n"
     ]
    },
    {
     "name": "stderr",
     "output_type": "stream",
     "text": [
      "Epochs completed:  32%| ███████████████████████████████████████████████████████▎                                                                                                                   65/200 [00:02]"
     ]
    },
    {
     "name": "stdout",
     "output_type": "stream",
     "text": [
      "\tcompleted  60  /  200 epochs\n"
     ]
    },
    {
     "name": "stderr",
     "output_type": "stream",
     "text": [
      "Epochs completed:  42%| ██████████████████████████████████████████████████████████████████████▌                                                                                                    83/200 [00:03]"
     ]
    },
    {
     "name": "stdout",
     "output_type": "stream",
     "text": [
      "\tcompleted  80  /  200 epochs\n"
     ]
    },
    {
     "name": "stderr",
     "output_type": "stream",
     "text": [
      "Epochs completed:  52%| ████████████████████████████████████████████████████████████████████████████████████████▋                                                                                 105/200 [00:04]"
     ]
    },
    {
     "name": "stdout",
     "output_type": "stream",
     "text": [
      "\tcompleted  100  /  200 epochs\n"
     ]
    },
    {
     "name": "stderr",
     "output_type": "stream",
     "text": [
      "Epochs completed:  62%| ███████████████████████████████████████████████████████████████████████████████████████████████████████▉                                                                  123/200 [00:05]"
     ]
    },
    {
     "name": "stdout",
     "output_type": "stream",
     "text": [
      "\tcompleted  120  /  200 epochs\n"
     ]
    },
    {
     "name": "stderr",
     "output_type": "stream",
     "text": [
      "Epochs completed:  72%| █████████████████████████████████████████████████████████████████████████████████████████████████████████████████████████▋                                                144/200 [00:06]"
     ]
    },
    {
     "name": "stdout",
     "output_type": "stream",
     "text": [
      "\tcompleted  140  /  200 epochs\n"
     ]
    },
    {
     "name": "stderr",
     "output_type": "stream",
     "text": [
      "Epochs completed:  82%| █████████████████████████████████████████████████████████████████████████████████████████████████████████████████████████████████████████▋                                163/200 [00:07]"
     ]
    },
    {
     "name": "stdout",
     "output_type": "stream",
     "text": [
      "\tcompleted  160  /  200 epochs\n"
     ]
    },
    {
     "name": "stderr",
     "output_type": "stream",
     "text": [
      "Epochs completed:  92%| ███████████████████████████████████████████████████████████████████████████████████████████████████████████████████████████████████████████████████████████▍              184/200 [00:08]"
     ]
    },
    {
     "name": "stdout",
     "output_type": "stream",
     "text": [
      "\tcompleted  180  /  200 epochs\n"
     ]
    },
    {
     "name": "stderr",
     "output_type": "stream",
     "text": [
      "Epochs completed: 100%| █████████████████████████████████████████████████████████████████████████████████████████████████████████████████████████████████████████████████████████████████████████ 200/200 [00:09]\n"
     ]
    },
    {
     "name": "stdout",
     "output_type": "stream",
     "text": [
      "Fri Apr 25 17:21:04 2025 Finished embedding\n",
      "Fri Apr 25 17:23:50 2025 Worst tree score: 0.99989555\n",
      "Fri Apr 25 17:23:50 2025 Mean tree score: 0.99993076\n",
      "Fri Apr 25 17:23:50 2025 Best tree score: 0.99996518\n",
      "Fri Apr 25 17:24:01 2025 Forward diversification reduced edges from 114885000 to 1651961\n",
      "Fri Apr 25 17:24:01 2025 Reverse diversification reduced edges from 1651961 to 1651960\n",
      "Fri Apr 25 17:24:01 2025 Degree pruning reduced edges from 2310822 to 2310822\n",
      "Fri Apr 25 17:24:01 2025 Resorting data and graph based on tree order\n",
      "Fri Apr 25 17:24:01 2025 Building and compiling search function\n"
     ]
    },
    {
     "name": "stderr",
     "output_type": "stream",
     "text": [
      "Epochs completed:  62%| ██████████████████████████████████████████████████████████████████████████████████████████████████████████▏                                                                 41/66 [00:00]"
     ]
    },
    {
     "name": "stdout",
     "output_type": "stream",
     "text": [
      "\tcompleted  0  /  66 epochs\n",
      "\tcompleted  6  /  66 epochs\n",
      "\tcompleted  12  /  66 epochs\n",
      "\tcompleted  18  /  66 epochs\n",
      "\tcompleted  24  /  66 epochs\n",
      "\tcompleted  30  /  66 epochs\n",
      "\tcompleted  36  /  66 epochs\n",
      "\tcompleted  42  /  66 epochs\n",
      "\tcompleted  48  /  66 epochs\n",
      "\tcompleted  54  /  66 epochs\n",
      "\tcompleted  60  /  66 epochs\n"
     ]
    },
    {
     "name": "stderr",
     "output_type": "stream",
     "text": [
      "Epochs completed: 100%| ███████████████████████████████████████████████████████████████████████████████████████████████████████████████████████████████████████████████████████████████████████████ 66/66 [00:00]\n",
      "Epochs completed: 100%| ███████████████████████████████████████████████████████████████████████████████████████████████████████████████████████████████████████████████████████████████████████████ 66/66 [00:17]\n"
     ]
    },
    {
     "name": "stdout",
     "output_type": "stream",
     "text": [
      "UMAP(init='pca', min_dist=0.02, n_epochs=200, n_jobs=95, n_neighbors=1000, unique=True, verbose=True)\n",
      "Unique=True -> Number of data points reduced from  114885  to  114885\n",
      "Most common duplicate is 62991  with a count of  1\n",
      "Fri Apr 25 17:26:55 2025 Construct fuzzy simplicial set\n",
      "Fri Apr 25 17:26:55 2025 Finding Nearest Neighbors\n",
      "Fri Apr 25 17:26:55 2025 Building RP forest with 22 trees\n",
      "Fri Apr 25 17:26:55 2025 NN descent for 17 iterations\n",
      "\t 1  /  17\n",
      "\t 2  /  17\n",
      "\t 3  /  17\n",
      "\t 4  /  17\n",
      "\t 5  /  17\n",
      "\tStopping threshold met -- exiting after 5 iterations\n",
      "Fri Apr 25 17:34:28 2025 Finished Nearest Neighbor Search\n",
      "Fri Apr 25 17:35:30 2025 Construct embedding\n"
     ]
    },
    {
     "name": "stderr",
     "output_type": "stream",
     "text": [
      "Epochs completed:   2%| ████▎                                                                                                                                                                       5/200 [00:00]"
     ]
    },
    {
     "name": "stdout",
     "output_type": "stream",
     "text": [
      "\tcompleted  0  /  200 epochs\n"
     ]
    },
    {
     "name": "stderr",
     "output_type": "stream",
     "text": [
      "Epochs completed:  12%| █████████████████████▎                                                                                                                                                     25/200 [00:00]"
     ]
    },
    {
     "name": "stdout",
     "output_type": "stream",
     "text": [
      "\tcompleted  20  /  200 epochs\n"
     ]
    },
    {
     "name": "stderr",
     "output_type": "stream",
     "text": [
      "Epochs completed:  23%| ███████████████████████████████████████                                                                                                                                    46/200 [00:01]"
     ]
    },
    {
     "name": "stdout",
     "output_type": "stream",
     "text": [
      "\tcompleted  40  /  200 epochs\n"
     ]
    },
    {
     "name": "stderr",
     "output_type": "stream",
     "text": [
      "Epochs completed:  32%| ██████████████████████████████████████████████████████▍                                                                                                                    64/200 [00:02]"
     ]
    },
    {
     "name": "stdout",
     "output_type": "stream",
     "text": [
      "\tcompleted  60  /  200 epochs\n"
     ]
    },
    {
     "name": "stderr",
     "output_type": "stream",
     "text": [
      "Epochs completed:  42%| ████████████████████████████████████████████████████████████████████████▎                                                                                                  85/200 [00:03]"
     ]
    },
    {
     "name": "stdout",
     "output_type": "stream",
     "text": [
      "\tcompleted  80  /  200 epochs\n"
     ]
    },
    {
     "name": "stderr",
     "output_type": "stream",
     "text": [
      "Epochs completed:  52%| ███████████████████████████████████████████████████████████████████████████████████████                                                                                   103/200 [00:03]"
     ]
    },
    {
     "name": "stdout",
     "output_type": "stream",
     "text": [
      "\tcompleted  100  /  200 epochs\n"
     ]
    },
    {
     "name": "stderr",
     "output_type": "stream",
     "text": [
      "Epochs completed:  62%| ████████████████████████████████████████████████████████████████████████████████████████████████████████▊                                                                 124/200 [00:04]"
     ]
    },
    {
     "name": "stdout",
     "output_type": "stream",
     "text": [
      "\tcompleted  120  /  200 epochs\n"
     ]
    },
    {
     "name": "stderr",
     "output_type": "stream",
     "text": [
      "Epochs completed:  72%| ██████████████████████████████████████████████████████████████████████████████████████████████████████████████████████████▌                                               145/200 [00:05]"
     ]
    },
    {
     "name": "stdout",
     "output_type": "stream",
     "text": [
      "\tcompleted  140  /  200 epochs\n"
     ]
    },
    {
     "name": "stderr",
     "output_type": "stream",
     "text": [
      "Epochs completed:  82%| █████████████████████████████████████████████████████████████████████████████████████████████████████████████████████████████████████████▋                                163/200 [00:06]"
     ]
    },
    {
     "name": "stdout",
     "output_type": "stream",
     "text": [
      "\tcompleted  160  /  200 epochs\n"
     ]
    },
    {
     "name": "stderr",
     "output_type": "stream",
     "text": [
      "Epochs completed:  92%| ██████████████████████████████████████████████████████████████████████████████████████████████████████████████████████████████████████████████████████████▋               183/200 [00:07]"
     ]
    },
    {
     "name": "stdout",
     "output_type": "stream",
     "text": [
      "\tcompleted  180  /  200 epochs\n"
     ]
    },
    {
     "name": "stderr",
     "output_type": "stream",
     "text": [
      "Epochs completed: 100%| █████████████████████████████████████████████████████████████████████████████████████████████████████████████████████████████████████████████████████████████████████████ 200/200 [00:08]\n"
     ]
    },
    {
     "name": "stdout",
     "output_type": "stream",
     "text": [
      "Fri Apr 25 17:36:13 2025 Finished embedding\n",
      "Fri Apr 25 17:38:57 2025 Worst tree score: 0.99986943\n",
      "Fri Apr 25 17:38:57 2025 Mean tree score: 0.99992522\n",
      "Fri Apr 25 17:38:57 2025 Best tree score: 0.99996518\n",
      "Fri Apr 25 17:39:07 2025 Forward diversification reduced edges from 114885000 to 1651963\n",
      "Fri Apr 25 17:39:07 2025 Reverse diversification reduced edges from 1651963 to 1651963\n",
      "Fri Apr 25 17:39:07 2025 Degree pruning reduced edges from 2310828 to 2310828\n",
      "Fri Apr 25 17:39:07 2025 Resorting data and graph based on tree order\n",
      "Fri Apr 25 17:39:08 2025 Building and compiling search function\n"
     ]
    },
    {
     "name": "stderr",
     "output_type": "stream",
     "text": [
      "Epochs completed:  62%| ██████████████████████████████████████████████████████████████████████████████████████████████████████████▏                                                                 41/66 [00:00]"
     ]
    },
    {
     "name": "stdout",
     "output_type": "stream",
     "text": [
      "\tcompleted  0  /  66 epochs\n",
      "\tcompleted  6  /  66 epochs\n",
      "\tcompleted  12  /  66 epochs\n",
      "\tcompleted  18  /  66 epochs\n",
      "\tcompleted  24  /  66 epochs\n",
      "\tcompleted  30  /  66 epochs\n",
      "\tcompleted  36  /  66 epochs\n",
      "\tcompleted  42  /  66 epochs\n",
      "\tcompleted  48  /  66 epochs\n",
      "\tcompleted  54  /  66 epochs\n"
     ]
    },
    {
     "name": "stderr",
     "output_type": "stream",
     "text": [
      "Epochs completed: 100%| ███████████████████████████████████████████████████████████████████████████████████████████████████████████████████████████████████████████████████████████████████████████ 66/66 [00:00]\n"
     ]
    },
    {
     "name": "stdout",
     "output_type": "stream",
     "text": [
      "\tcompleted  60  /  66 epochs\n"
     ]
    },
    {
     "name": "stderr",
     "output_type": "stream",
     "text": [
      "Epochs completed: 100%| ███████████████████████████████████████████████████████████████████████████████████████████████████████████████████████████████████████████████████████████████████████████ 66/66 [00:18]\n"
     ]
    },
    {
     "name": "stdout",
     "output_type": "stream",
     "text": [
      "UMAP(init='pca', min_dist=0.05, n_epochs=200, n_jobs=95, n_neighbors=1000, unique=True, verbose=True)\n",
      "Unique=True -> Number of data points reduced from  114885  to  114885\n",
      "Most common duplicate is 62991  with a count of  1\n",
      "Fri Apr 25 17:42:01 2025 Construct fuzzy simplicial set\n",
      "Fri Apr 25 17:42:01 2025 Finding Nearest Neighbors\n",
      "Fri Apr 25 17:42:01 2025 Building RP forest with 22 trees\n",
      "Fri Apr 25 17:42:01 2025 NN descent for 17 iterations\n",
      "\t 1  /  17\n",
      "\t 2  /  17\n",
      "\t 3  /  17\n",
      "\t 4  /  17\n",
      "\t 5  /  17\n",
      "\tStopping threshold met -- exiting after 5 iterations\n",
      "Fri Apr 25 17:49:39 2025 Finished Nearest Neighbor Search\n",
      "Fri Apr 25 17:50:38 2025 Construct embedding\n"
     ]
    },
    {
     "name": "stderr",
     "output_type": "stream",
     "text": [
      "Epochs completed:   2%| ████▎                                                                                                                                                                       5/200 [00:00]"
     ]
    },
    {
     "name": "stdout",
     "output_type": "stream",
     "text": [
      "\tcompleted  0  /  200 epochs\n"
     ]
    },
    {
     "name": "stderr",
     "output_type": "stream",
     "text": [
      "Epochs completed:  12%| ███████████████████▌                                                                                                                                                       23/200 [00:00]"
     ]
    },
    {
     "name": "stdout",
     "output_type": "stream",
     "text": [
      "\tcompleted  20  /  200 epochs\n"
     ]
    },
    {
     "name": "stderr",
     "output_type": "stream",
     "text": [
      "Epochs completed:  22%| █████████████████████████████████████▍                                                                                                                                     44/200 [00:01]"
     ]
    },
    {
     "name": "stdout",
     "output_type": "stream",
     "text": [
      "\tcompleted  40  /  200 epochs\n"
     ]
    },
    {
     "name": "stderr",
     "output_type": "stream",
     "text": [
      "Epochs completed:  32%| ███████████████████████████████████████████████████████▎                                                                                                                   65/200 [00:02]"
     ]
    },
    {
     "name": "stdout",
     "output_type": "stream",
     "text": [
      "\tcompleted  60  /  200 epochs\n"
     ]
    },
    {
     "name": "stderr",
     "output_type": "stream",
     "text": [
      "Epochs completed:  42%| ██████████████████████████████████████████████████████████████████████▌                                                                                                    83/200 [00:03]"
     ]
    },
    {
     "name": "stdout",
     "output_type": "stream",
     "text": [
      "\tcompleted  80  /  200 epochs\n"
     ]
    },
    {
     "name": "stderr",
     "output_type": "stream",
     "text": [
      "Epochs completed:  52%| ███████████████████████████████████████████████████████████████████████████████████████▉                                                                                  104/200 [00:04]"
     ]
    },
    {
     "name": "stdout",
     "output_type": "stream",
     "text": [
      "\tcompleted  100  /  200 epochs\n"
     ]
    },
    {
     "name": "stderr",
     "output_type": "stream",
     "text": [
      "Epochs completed:  62%| █████████████████████████████████████████████████████████████████████████████████████████████████████████▋                                                                125/200 [00:05]"
     ]
    },
    {
     "name": "stdout",
     "output_type": "stream",
     "text": [
      "\tcompleted  120  /  200 epochs\n"
     ]
    },
    {
     "name": "stderr",
     "output_type": "stream",
     "text": [
      "Epochs completed:  72%| ████████████████████████████████████████████████████████████████████████████████████████████████████████████████████████▊                                                 143/200 [00:06]"
     ]
    },
    {
     "name": "stdout",
     "output_type": "stream",
     "text": [
      "\tcompleted  140  /  200 epochs\n"
     ]
    },
    {
     "name": "stderr",
     "output_type": "stream",
     "text": [
      "Epochs completed:  82%| ██████████████████████████████████████████████████████████████████████████████████████████████████████████████████████████████████████████▌                               164/200 [00:07]"
     ]
    },
    {
     "name": "stdout",
     "output_type": "stream",
     "text": [
      "\tcompleted  160  /  200 epochs\n"
     ]
    },
    {
     "name": "stderr",
     "output_type": "stream",
     "text": [
      "Epochs completed:  92%| ████████████████████████████████████████████████████████████████████████████████████████████████████████████████████████████████████████████████████████████▎             185/200 [00:08]"
     ]
    },
    {
     "name": "stdout",
     "output_type": "stream",
     "text": [
      "\tcompleted  180  /  200 epochs\n"
     ]
    },
    {
     "name": "stderr",
     "output_type": "stream",
     "text": [
      "Epochs completed: 100%| █████████████████████████████████████████████████████████████████████████████████████████████████████████████████████████████████████████████████████████████████████████ 200/200 [00:08]\n"
     ]
    },
    {
     "name": "stdout",
     "output_type": "stream",
     "text": [
      "Fri Apr 25 17:51:24 2025 Finished embedding\n",
      "Fri Apr 25 17:54:13 2025 Worst tree score: 0.99986073\n",
      "Fri Apr 25 17:54:13 2025 Mean tree score: 0.99993234\n",
      "Fri Apr 25 17:54:13 2025 Best tree score: 0.99996518\n",
      "Fri Apr 25 17:54:24 2025 Forward diversification reduced edges from 114885000 to 1651978\n",
      "Fri Apr 25 17:54:24 2025 Reverse diversification reduced edges from 1651978 to 1651978\n",
      "Fri Apr 25 17:54:24 2025 Degree pruning reduced edges from 2310870 to 2310870\n",
      "Fri Apr 25 17:54:24 2025 Resorting data and graph based on tree order\n",
      "Fri Apr 25 17:54:24 2025 Building and compiling search function\n"
     ]
    },
    {
     "name": "stderr",
     "output_type": "stream",
     "text": [
      "Epochs completed:  61%| ███████████████████████████████████████████████████████████████████████████████████████████████████████▋                                                                    40/66 [00:00]"
     ]
    },
    {
     "name": "stdout",
     "output_type": "stream",
     "text": [
      "\tcompleted  0  /  66 epochs\n",
      "\tcompleted  6  /  66 epochs\n",
      "\tcompleted  12  /  66 epochs\n",
      "\tcompleted  18  /  66 epochs\n",
      "\tcompleted  24  /  66 epochs\n",
      "\tcompleted  30  /  66 epochs\n",
      "\tcompleted  36  /  66 epochs\n",
      "\tcompleted  42  /  66 epochs\n",
      "\tcompleted  48  /  66 epochs\n",
      "\tcompleted  54  /  66 epochs\n"
     ]
    },
    {
     "name": "stderr",
     "output_type": "stream",
     "text": [
      "Epochs completed: 100%| ███████████████████████████████████████████████████████████████████████████████████████████████████████████████████████████████████████████████████████████████████████████ 66/66 [00:00]\n"
     ]
    },
    {
     "name": "stdout",
     "output_type": "stream",
     "text": [
      "\tcompleted  60  /  66 epochs\n"
     ]
    },
    {
     "name": "stderr",
     "output_type": "stream",
     "text": [
      "Epochs completed: 100%| ███████████████████████████████████████████████████████████████████████████████████████████████████████████████████████████████████████████████████████████████████████████ 66/66 [00:18]\n"
     ]
    },
    {
     "name": "stdout",
     "output_type": "stream",
     "text": [
      "UMAP(init='pca', n_epochs=200, n_jobs=95, n_neighbors=1000, unique=True, verbose=True)\n",
      "Unique=True -> Number of data points reduced from  114885  to  114885\n",
      "Most common duplicate is 62991  with a count of  1\n",
      "Fri Apr 25 17:57:19 2025 Construct fuzzy simplicial set\n",
      "Fri Apr 25 17:57:19 2025 Finding Nearest Neighbors\n",
      "Fri Apr 25 17:57:19 2025 Building RP forest with 22 trees\n",
      "Fri Apr 25 17:57:20 2025 NN descent for 17 iterations\n",
      "\t 1  /  17\n",
      "\t 2  /  17\n",
      "\t 3  /  17\n",
      "\t 4  /  17\n",
      "\t 5  /  17\n",
      "\tStopping threshold met -- exiting after 5 iterations\n",
      "Fri Apr 25 18:04:51 2025 Finished Nearest Neighbor Search\n",
      "Fri Apr 25 18:05:49 2025 Construct embedding\n"
     ]
    },
    {
     "name": "stderr",
     "output_type": "stream",
     "text": [
      "Epochs completed:   2%| ███▍                                                                                                                                                                        4/200 [00:00]"
     ]
    },
    {
     "name": "stdout",
     "output_type": "stream",
     "text": [
      "\tcompleted  0  /  200 epochs\n"
     ]
    },
    {
     "name": "stderr",
     "output_type": "stream",
     "text": [
      "Epochs completed:  12%| ████████████████████▍                                                                                                                                                      24/200 [00:01]"
     ]
    },
    {
     "name": "stdout",
     "output_type": "stream",
     "text": [
      "\tcompleted  20  /  200 epochs\n"
     ]
    },
    {
     "name": "stderr",
     "output_type": "stream",
     "text": [
      "Epochs completed:  22%| ██████████████████████████████████████▎                                                                                                                                    45/200 [00:02]"
     ]
    },
    {
     "name": "stdout",
     "output_type": "stream",
     "text": [
      "\tcompleted  40  /  200 epochs\n"
     ]
    },
    {
     "name": "stderr",
     "output_type": "stream",
     "text": [
      "Epochs completed:  33%| ████████████████████████████████████████████████████████                                                                                                                   66/200 [00:02]"
     ]
    },
    {
     "name": "stdout",
     "output_type": "stream",
     "text": [
      "\tcompleted  60  /  200 epochs\n"
     ]
    },
    {
     "name": "stderr",
     "output_type": "stream",
     "text": [
      "Epochs completed:  42%| ███████████████████████████████████████████████████████████████████████▍                                                                                                   84/200 [00:03]"
     ]
    },
    {
     "name": "stdout",
     "output_type": "stream",
     "text": [
      "\tcompleted  80  /  200 epochs\n"
     ]
    },
    {
     "name": "stderr",
     "output_type": "stream",
     "text": [
      "Epochs completed:  52%| ████████████████████████████████████████████████████████████████████████████████████████▋                                                                                 105/200 [00:04]"
     ]
    },
    {
     "name": "stdout",
     "output_type": "stream",
     "text": [
      "\tcompleted  100  /  200 epochs\n"
     ]
    },
    {
     "name": "stderr",
     "output_type": "stream",
     "text": [
      "Epochs completed:  62%| ████████████████████████████████████████████████████████████████████████████████████████████████████████▊                                                                 124/200 [00:05]"
     ]
    },
    {
     "name": "stdout",
     "output_type": "stream",
     "text": [
      "\tcompleted  120  /  200 epochs\n"
     ]
    },
    {
     "name": "stderr",
     "output_type": "stream",
     "text": [
      "Epochs completed:  72%| █████████████████████████████████████████████████████████████████████████████████████████████████████████████████████████▋                                                144/200 [00:06]"
     ]
    },
    {
     "name": "stdout",
     "output_type": "stream",
     "text": [
      "\tcompleted  140  /  200 epochs\n"
     ]
    },
    {
     "name": "stderr",
     "output_type": "stream",
     "text": [
      "Epochs completed:  82%| █████████████████████████████████████████████████████████████████████████████████████████████████████████████████████████████████████████▋                                163/200 [00:07]"
     ]
    },
    {
     "name": "stdout",
     "output_type": "stream",
     "text": [
      "\tcompleted  160  /  200 epochs\n"
     ]
    },
    {
     "name": "stderr",
     "output_type": "stream",
     "text": [
      "Epochs completed:  92%| ██████████████████████████████████████████████████████████████████████████████████████████████████████████████████████████████████████████████████████████▋               183/200 [00:08]"
     ]
    },
    {
     "name": "stdout",
     "output_type": "stream",
     "text": [
      "\tcompleted  180  /  200 epochs\n"
     ]
    },
    {
     "name": "stderr",
     "output_type": "stream",
     "text": [
      "Epochs completed: 100%| █████████████████████████████████████████████████████████████████████████████████████████████████████████████████████████████████████████████████████████████████████████ 200/200 [00:09]\n"
     ]
    },
    {
     "name": "stdout",
     "output_type": "stream",
     "text": [
      "Fri Apr 25 18:06:31 2025 Finished embedding\n",
      "Fri Apr 25 18:09:19 2025 Worst tree score: 0.99986943\n",
      "Fri Apr 25 18:09:19 2025 Mean tree score: 0.99993907\n",
      "Fri Apr 25 18:09:19 2025 Best tree score: 0.99999130\n",
      "Fri Apr 25 18:09:30 2025 Forward diversification reduced edges from 114885000 to 1651932\n",
      "Fri Apr 25 18:09:30 2025 Reverse diversification reduced edges from 1651932 to 1651931\n",
      "Fri Apr 25 18:09:30 2025 Degree pruning reduced edges from 2310784 to 2310784\n",
      "Fri Apr 25 18:09:30 2025 Resorting data and graph based on tree order\n",
      "Fri Apr 25 18:09:30 2025 Building and compiling search function\n"
     ]
    },
    {
     "name": "stderr",
     "output_type": "stream",
     "text": [
      "Epochs completed:  62%| ██████████████████████████████████████████████████████████████████████████████████████████████████████████▏                                                                 41/66 [00:00]"
     ]
    },
    {
     "name": "stdout",
     "output_type": "stream",
     "text": [
      "\tcompleted  0  /  66 epochs\n",
      "\tcompleted  6  /  66 epochs\n",
      "\tcompleted  12  /  66 epochs\n",
      "\tcompleted  18  /  66 epochs\n",
      "\tcompleted  24  /  66 epochs\n",
      "\tcompleted  30  /  66 epochs\n",
      "\tcompleted  36  /  66 epochs\n",
      "\tcompleted  42  /  66 epochs\n",
      "\tcompleted  48  /  66 epochs\n",
      "\tcompleted  54  /  66 epochs\n"
     ]
    },
    {
     "name": "stderr",
     "output_type": "stream",
     "text": [
      "Epochs completed: 100%| ███████████████████████████████████████████████████████████████████████████████████████████████████████████████████████████████████████████████████████████████████████████ 66/66 [00:00]\n"
     ]
    },
    {
     "name": "stdout",
     "output_type": "stream",
     "text": [
      "\tcompleted  60  /  66 epochs\n"
     ]
    },
    {
     "name": "stderr",
     "output_type": "stream",
     "text": [
      "Epochs completed: 100%| ███████████████████████████████████████████████████████████████████████████████████████████████████████████████████████████████████████████████████████████████████████████ 66/66 [00:19]\n"
     ]
    },
    {
     "name": "stdout",
     "output_type": "stream",
     "text": [
      "UMAP(init='pca', min_dist=0.2, n_epochs=200, n_jobs=95, n_neighbors=1000, unique=True, verbose=True)\n",
      "Unique=True -> Number of data points reduced from  114885  to  114885\n",
      "Most common duplicate is 62991  with a count of  1\n",
      "Fri Apr 25 18:12:27 2025 Construct fuzzy simplicial set\n",
      "Fri Apr 25 18:12:27 2025 Finding Nearest Neighbors\n",
      "Fri Apr 25 18:12:27 2025 Building RP forest with 22 trees\n",
      "Fri Apr 25 18:12:27 2025 NN descent for 17 iterations\n",
      "\t 1  /  17\n",
      "\t 2  /  17\n",
      "\t 3  /  17\n",
      "\t 4  /  17\n",
      "\t 5  /  17\n",
      "\tStopping threshold met -- exiting after 5 iterations\n",
      "Fri Apr 25 18:20:11 2025 Finished Nearest Neighbor Search\n",
      "Fri Apr 25 18:21:09 2025 Construct embedding\n"
     ]
    },
    {
     "name": "stderr",
     "output_type": "stream",
     "text": [
      "Epochs completed:   2%| ████▎                                                                                                                                                                       5/200 [00:00]"
     ]
    },
    {
     "name": "stdout",
     "output_type": "stream",
     "text": [
      "\tcompleted  0  /  200 epochs\n"
     ]
    },
    {
     "name": "stderr",
     "output_type": "stream",
     "text": [
      "Epochs completed:  12%| ████████████████████▍                                                                                                                                                      24/200 [00:00]"
     ]
    },
    {
     "name": "stdout",
     "output_type": "stream",
     "text": [
      "\tcompleted  20  /  200 epochs\n"
     ]
    },
    {
     "name": "stderr",
     "output_type": "stream",
     "text": [
      "Epochs completed:  22%| ██████████████████████████████████████▎                                                                                                                                    45/200 [00:01]"
     ]
    },
    {
     "name": "stdout",
     "output_type": "stream",
     "text": [
      "\tcompleted  40  /  200 epochs\n"
     ]
    },
    {
     "name": "stderr",
     "output_type": "stream",
     "text": [
      "Epochs completed:  31%| ████████████████████████████████████████████████████▋                                                                                                                      62/200 [00:02]"
     ]
    },
    {
     "name": "stdout",
     "output_type": "stream",
     "text": [
      "\tcompleted  60  /  200 epochs\n"
     ]
    },
    {
     "name": "stderr",
     "output_type": "stream",
     "text": [
      "Epochs completed:  41%| █████████████████████████████████████████████████████████████████████▋                                                                                                     82/200 [00:04]"
     ]
    },
    {
     "name": "stdout",
     "output_type": "stream",
     "text": [
      "\tcompleted  80  /  200 epochs\n"
     ]
    },
    {
     "name": "stderr",
     "output_type": "stream",
     "text": [
      "Epochs completed:  52%| ███████████████████████████████████████████████████████████████████████████████████████▉                                                                                  104/200 [00:05]"
     ]
    },
    {
     "name": "stdout",
     "output_type": "stream",
     "text": [
      "\tcompleted  100  /  200 epochs\n"
     ]
    },
    {
     "name": "stderr",
     "output_type": "stream",
     "text": [
      "Epochs completed:  61%| ███████████████████████████████████████████████████████████████████████████████████████████████████████                                                                   122/200 [00:06]"
     ]
    },
    {
     "name": "stdout",
     "output_type": "stream",
     "text": [
      "\tcompleted  120  /  200 epochs\n"
     ]
    },
    {
     "name": "stderr",
     "output_type": "stream",
     "text": [
      "Epochs completed:  72%| █████████████████████████████████████████████████████████████████████████████████████████████████████████████████████████▋                                                144/200 [00:08]"
     ]
    },
    {
     "name": "stdout",
     "output_type": "stream",
     "text": [
      "\tcompleted  140  /  200 epochs\n"
     ]
    },
    {
     "name": "stderr",
     "output_type": "stream",
     "text": [
      "Epochs completed:  81%| ████████████████████████████████████████████████████████████████████████████████████████████████████████████████████████████████████████▉                                 162/200 [00:09]"
     ]
    },
    {
     "name": "stdout",
     "output_type": "stream",
     "text": [
      "\tcompleted  160  /  200 epochs\n"
     ]
    },
    {
     "name": "stderr",
     "output_type": "stream",
     "text": [
      "Epochs completed:  92%| ██████████████████████████████████████████████████████████████████████████████████████████████████████████████████████████████████████████████████████████▋               183/200 [00:11]"
     ]
    },
    {
     "name": "stdout",
     "output_type": "stream",
     "text": [
      "\tcompleted  180  /  200 epochs\n"
     ]
    },
    {
     "name": "stderr",
     "output_type": "stream",
     "text": [
      "Epochs completed: 100%| █████████████████████████████████████████████████████████████████████████████████████████████████████████████████████████████████████████████████████████████████████████ 200/200 [00:12]\n"
     ]
    },
    {
     "name": "stdout",
     "output_type": "stream",
     "text": [
      "Fri Apr 25 18:21:57 2025 Finished embedding\n",
      "Fri Apr 25 18:24:43 2025 Worst tree score: 0.99986943\n",
      "Fri Apr 25 18:24:43 2025 Mean tree score: 0.99992562\n",
      "Fri Apr 25 18:24:43 2025 Best tree score: 0.99998259\n",
      "Fri Apr 25 18:24:53 2025 Forward diversification reduced edges from 114885000 to 1651962\n",
      "Fri Apr 25 18:24:53 2025 Reverse diversification reduced edges from 1651962 to 1651962\n",
      "Fri Apr 25 18:24:53 2025 Degree pruning reduced edges from 2310842 to 2310842\n",
      "Fri Apr 25 18:24:53 2025 Resorting data and graph based on tree order\n",
      "Fri Apr 25 18:24:53 2025 Building and compiling search function\n"
     ]
    },
    {
     "name": "stderr",
     "output_type": "stream",
     "text": [
      "Epochs completed:  61%| ███████████████████████████████████████████████████████████████████████████████████████████████████████▋                                                                    40/66 [00:00]"
     ]
    },
    {
     "name": "stdout",
     "output_type": "stream",
     "text": [
      "\tcompleted  0  /  66 epochs\n",
      "\tcompleted  6  /  66 epochs\n",
      "\tcompleted  12  /  66 epochs\n",
      "\tcompleted  18  /  66 epochs\n",
      "\tcompleted  24  /  66 epochs\n",
      "\tcompleted  30  /  66 epochs\n",
      "\tcompleted  36  /  66 epochs\n",
      "\tcompleted  42  /  66 epochs\n",
      "\tcompleted  48  /  66 epochs\n",
      "\tcompleted  54  /  66 epochs\n"
     ]
    },
    {
     "name": "stderr",
     "output_type": "stream",
     "text": [
      "Epochs completed: 100%| ███████████████████████████████████████████████████████████████████████████████████████████████████████████████████████████████████████████████████████████████████████████ 66/66 [00:00]\n"
     ]
    },
    {
     "name": "stdout",
     "output_type": "stream",
     "text": [
      "\tcompleted  60  /  66 epochs\n"
     ]
    },
    {
     "name": "stderr",
     "output_type": "stream",
     "text": [
      "Epochs completed: 100%| ███████████████████████████████████████████████████████████████████████████████████████████████████████████████████████████████████████████████████████████████████████████ 66/66 [00:24]\n"
     ]
    },
    {
     "name": "stdout",
     "output_type": "stream",
     "text": [
      "UMAP(init='pca', min_dist=0.5, n_epochs=200, n_jobs=95, n_neighbors=1000, unique=True, verbose=True)\n",
      "Unique=True -> Number of data points reduced from  114885  to  114885\n",
      "Most common duplicate is 62991  with a count of  1\n",
      "Fri Apr 25 18:28:08 2025 Construct fuzzy simplicial set\n",
      "Fri Apr 25 18:28:08 2025 Finding Nearest Neighbors\n",
      "Fri Apr 25 18:28:08 2025 Building RP forest with 22 trees\n",
      "Fri Apr 25 18:28:08 2025 NN descent for 17 iterations\n",
      "\t 1  /  17\n",
      "\t 2  /  17\n",
      "\t 3  /  17\n",
      "\t 4  /  17\n",
      "\t 5  /  17\n",
      "\tStopping threshold met -- exiting after 5 iterations\n",
      "Fri Apr 25 18:36:14 2025 Finished Nearest Neighbor Search\n",
      "Fri Apr 25 18:37:22 2025 Construct embedding\n"
     ]
    },
    {
     "name": "stderr",
     "output_type": "stream",
     "text": [
      "Epochs completed:   2%| ██▌                                                                                                                                                                         3/200 [00:00]"
     ]
    },
    {
     "name": "stdout",
     "output_type": "stream",
     "text": [
      "\tcompleted  0  /  200 epochs\n"
     ]
    },
    {
     "name": "stderr",
     "output_type": "stream",
     "text": [
      "Epochs completed:  12%| ████████████████████▍                                                                                                                                                      24/200 [00:01]"
     ]
    },
    {
     "name": "stdout",
     "output_type": "stream",
     "text": [
      "\tcompleted  20  /  200 epochs\n"
     ]
    },
    {
     "name": "stderr",
     "output_type": "stream",
     "text": [
      "Epochs completed:  22%| █████████████████████████████████████▍                                                                                                                                     44/200 [00:02]"
     ]
    },
    {
     "name": "stdout",
     "output_type": "stream",
     "text": [
      "\tcompleted  40  /  200 epochs\n"
     ]
    },
    {
     "name": "stderr",
     "output_type": "stream",
     "text": [
      "Epochs completed:  32%| ██████████████████████████████████████████████████████▍                                                                                                                    64/200 [00:03]"
     ]
    },
    {
     "name": "stdout",
     "output_type": "stream",
     "text": [
      "\tcompleted  60  /  200 epochs\n"
     ]
    },
    {
     "name": "stderr",
     "output_type": "stream",
     "text": [
      "Epochs completed:  42%| ███████████████████████████████████████████████████████████████████████▍                                                                                                   84/200 [00:04]"
     ]
    },
    {
     "name": "stdout",
     "output_type": "stream",
     "text": [
      "\tcompleted  80  /  200 epochs\n"
     ]
    },
    {
     "name": "stderr",
     "output_type": "stream",
     "text": [
      "Epochs completed:  52%| ███████████████████████████████████████████████████████████████████████████████████████▉                                                                                  104/200 [00:06]"
     ]
    },
    {
     "name": "stdout",
     "output_type": "stream",
     "text": [
      "\tcompleted  100  /  200 epochs\n"
     ]
    },
    {
     "name": "stderr",
     "output_type": "stream",
     "text": [
      "Epochs completed:  62%| ████████████████████████████████████████████████████████████████████████████████████████████████████████▊                                                                 124/200 [00:07]"
     ]
    },
    {
     "name": "stdout",
     "output_type": "stream",
     "text": [
      "\tcompleted  120  /  200 epochs\n"
     ]
    },
    {
     "name": "stderr",
     "output_type": "stream",
     "text": [
      "Epochs completed:  72%| █████████████████████████████████████████████████████████████████████████████████████████████████████████████████████████▋                                                144/200 [00:08]"
     ]
    },
    {
     "name": "stdout",
     "output_type": "stream",
     "text": [
      "\tcompleted  140  /  200 epochs\n"
     ]
    },
    {
     "name": "stderr",
     "output_type": "stream",
     "text": [
      "Epochs completed:  81%| ████████████████████████████████████████████████████████████████████████████████████████████████████████████████████████████████████████▉                                 162/200 [00:10]"
     ]
    },
    {
     "name": "stdout",
     "output_type": "stream",
     "text": [
      "\tcompleted  160  /  200 epochs\n"
     ]
    },
    {
     "name": "stderr",
     "output_type": "stream",
     "text": [
      "Epochs completed:  91%| █████████████████████████████████████████████████████████████████████████████████████████████████████████████████████████████████████████████████████████▊                182/200 [00:11]"
     ]
    },
    {
     "name": "stdout",
     "output_type": "stream",
     "text": [
      "\tcompleted  180  /  200 epochs\n"
     ]
    },
    {
     "name": "stderr",
     "output_type": "stream",
     "text": [
      "Epochs completed: 100%| █████████████████████████████████████████████████████████████████████████████████████████████████████████████████████████████████████████████████████████████████████████ 200/200 [00:12]\n"
     ]
    },
    {
     "name": "stdout",
     "output_type": "stream",
     "text": [
      "Fri Apr 25 18:38:14 2025 Finished embedding\n",
      "Fri Apr 25 18:41:33 2025 Worst tree score: 0.99987814\n",
      "Fri Apr 25 18:41:33 2025 Mean tree score: 0.99993788\n",
      "Fri Apr 25 18:41:33 2025 Best tree score: 0.99998259\n",
      "Fri Apr 25 18:41:44 2025 Forward diversification reduced edges from 114885000 to 1651937\n",
      "Fri Apr 25 18:41:45 2025 Reverse diversification reduced edges from 1651937 to 1651937\n",
      "Fri Apr 25 18:41:45 2025 Degree pruning reduced edges from 2310800 to 2310800\n",
      "Fri Apr 25 18:41:45 2025 Resorting data and graph based on tree order\n",
      "Fri Apr 25 18:41:45 2025 Building and compiling search function\n"
     ]
    },
    {
     "name": "stderr",
     "output_type": "stream",
     "text": [
      "Epochs completed:  52%| ████████████████████████████████████████████████████████████████████████████████████████                                                                                    34/66 [00:00]"
     ]
    },
    {
     "name": "stdout",
     "output_type": "stream",
     "text": [
      "\tcompleted  0  /  66 epochs\n",
      "\tcompleted  6  /  66 epochs\n",
      "\tcompleted  12  /  66 epochs\n",
      "\tcompleted  18  /  66 epochs\n",
      "\tcompleted  24  /  66 epochs\n",
      "\tcompleted  30  /  66 epochs\n",
      "\tcompleted  36  /  66 epochs\n",
      "\tcompleted  42  /  66 epochs\n",
      "\tcompleted  48  /  66 epochs\n"
     ]
    },
    {
     "name": "stderr",
     "output_type": "stream",
     "text": [
      "Epochs completed: 100%| ███████████████████████████████████████████████████████████████████████████████████████████████████████████████████████████████████████████████████████████████████████████ 66/66 [00:00]"
     ]
    },
    {
     "name": "stdout",
     "output_type": "stream",
     "text": [
      "\tcompleted  54  /  66 epochs\n",
      "\tcompleted  60  /  66 epochs\n"
     ]
    },
    {
     "name": "stderr",
     "output_type": "stream",
     "text": [
      "\n",
      "Epochs completed: 100%| ███████████████████████████████████████████████████████████████████████████████████████████████████████████████████████████████████████████████████████████████████████████ 66/66 [00:24]\n"
     ]
    },
    {
     "name": "stdout",
     "output_type": "stream",
     "text": [
      "UMAP(init='pca', min_dist=0.8, n_epochs=200, n_jobs=95, n_neighbors=1000, unique=True, verbose=True)\n",
      "Unique=True -> Number of data points reduced from  114885  to  114885\n",
      "Most common duplicate is 62991  with a count of  1\n",
      "Fri Apr 25 18:45:10 2025 Construct fuzzy simplicial set\n",
      "Fri Apr 25 18:45:10 2025 Finding Nearest Neighbors\n",
      "Fri Apr 25 18:45:10 2025 Building RP forest with 22 trees\n",
      "Fri Apr 25 18:45:10 2025 NN descent for 17 iterations\n",
      "\t 1  /  17\n",
      "\t 2  /  17\n",
      "\t 3  /  17\n",
      "\t 4  /  17\n",
      "\t 5  /  17\n",
      "\tStopping threshold met -- exiting after 5 iterations\n",
      "Fri Apr 25 18:53:18 2025 Finished Nearest Neighbor Search\n",
      "Fri Apr 25 18:54:25 2025 Construct embedding\n"
     ]
    },
    {
     "name": "stderr",
     "output_type": "stream",
     "text": [
      "Epochs completed:   2%| ████▎                                                                                                                                                                       5/200 [00:00]"
     ]
    },
    {
     "name": "stdout",
     "output_type": "stream",
     "text": [
      "\tcompleted  0  /  200 epochs\n"
     ]
    },
    {
     "name": "stderr",
     "output_type": "stream",
     "text": [
      "Epochs completed:  11%| ██████████████████▋                                                                                                                                                        22/200 [00:00]"
     ]
    },
    {
     "name": "stdout",
     "output_type": "stream",
     "text": [
      "\tcompleted  20  /  200 epochs\n"
     ]
    },
    {
     "name": "stderr",
     "output_type": "stream",
     "text": [
      "Epochs completed:  22%| ████████████████████████████████████▌                                                                                                                                      43/200 [00:02]"
     ]
    },
    {
     "name": "stdout",
     "output_type": "stream",
     "text": [
      "\tcompleted  40  /  200 epochs\n"
     ]
    },
    {
     "name": "stderr",
     "output_type": "stream",
     "text": [
      "Epochs completed:  32%| █████████████████████████████████████████████████████▌                                                                                                                     63/200 [00:03]"
     ]
    },
    {
     "name": "stdout",
     "output_type": "stream",
     "text": [
      "\tcompleted  60  /  200 epochs\n"
     ]
    },
    {
     "name": "stderr",
     "output_type": "stream",
     "text": [
      "Epochs completed:  42%| ██████████████████████████████████████████████████████████████████████▌                                                                                                    83/200 [00:04]"
     ]
    },
    {
     "name": "stdout",
     "output_type": "stream",
     "text": [
      "\tcompleted  80  /  200 epochs\n"
     ]
    },
    {
     "name": "stderr",
     "output_type": "stream",
     "text": [
      "Epochs completed:  52%| ███████████████████████████████████████████████████████████████████████████████████████                                                                                   103/200 [00:06]"
     ]
    },
    {
     "name": "stdout",
     "output_type": "stream",
     "text": [
      "\tcompleted  100  /  200 epochs\n"
     ]
    },
    {
     "name": "stderr",
     "output_type": "stream",
     "text": [
      "Epochs completed:  62%| ███████████████████████████████████████████████████████████████████████████████████████████████████████▉                                                                  123/200 [00:07]"
     ]
    },
    {
     "name": "stdout",
     "output_type": "stream",
     "text": [
      "\tcompleted  120  /  200 epochs\n"
     ]
    },
    {
     "name": "stderr",
     "output_type": "stream",
     "text": [
      "Epochs completed:  72%| ████████████████████████████████████████████████████████████████████████████████████████████████████████████████████████▊                                                 143/200 [00:08]"
     ]
    },
    {
     "name": "stdout",
     "output_type": "stream",
     "text": [
      "\tcompleted  140  /  200 epochs\n"
     ]
    },
    {
     "name": "stderr",
     "output_type": "stream",
     "text": [
      "Epochs completed:  82%| █████████████████████████████████████████████████████████████████████████████████████████████████████████████████████████████████████████▋                                163/200 [00:10]"
     ]
    },
    {
     "name": "stdout",
     "output_type": "stream",
     "text": [
      "\tcompleted  160  /  200 epochs\n"
     ]
    },
    {
     "name": "stderr",
     "output_type": "stream",
     "text": [
      "Epochs completed:  92%| ██████████████████████████████████████████████████████████████████████████████████████████████████████████████████████████████████████████████████████████▋               183/200 [00:11]"
     ]
    },
    {
     "name": "stdout",
     "output_type": "stream",
     "text": [
      "\tcompleted  180  /  200 epochs\n"
     ]
    },
    {
     "name": "stderr",
     "output_type": "stream",
     "text": [
      "Epochs completed: 100%| █████████████████████████████████████████████████████████████████████████████████████████████████████████████████████████████████████████████████████████████████████████ 200/200 [00:12]\n"
     ]
    },
    {
     "name": "stdout",
     "output_type": "stream",
     "text": [
      "Fri Apr 25 18:55:16 2025 Finished embedding\n",
      "Fri Apr 25 18:58:35 2025 Worst tree score: 0.99984332\n",
      "Fri Apr 25 18:58:35 2025 Mean tree score: 0.99992206\n",
      "Fri Apr 25 18:58:35 2025 Best tree score: 0.99998259\n",
      "Fri Apr 25 18:58:47 2025 Forward diversification reduced edges from 114885000 to 1651961\n",
      "Fri Apr 25 18:58:47 2025 Reverse diversification reduced edges from 1651961 to 1651961\n",
      "Fri Apr 25 18:58:47 2025 Degree pruning reduced edges from 2310846 to 2310846\n",
      "Fri Apr 25 18:58:47 2025 Resorting data and graph based on tree order\n",
      "Fri Apr 25 18:58:47 2025 Building and compiling search function\n"
     ]
    },
    {
     "name": "stderr",
     "output_type": "stream",
     "text": [
      "Epochs completed:  52%| ████████████████████████████████████████████████████████████████████████████████████████                                                                                    34/66 [00:00]"
     ]
    },
    {
     "name": "stdout",
     "output_type": "stream",
     "text": [
      "\tcompleted  0  /  66 epochs\n",
      "\tcompleted  6  /  66 epochs\n",
      "\tcompleted  12  /  66 epochs\n",
      "\tcompleted  18  /  66 epochs\n",
      "\tcompleted  24  /  66 epochs\n",
      "\tcompleted  30  /  66 epochs\n",
      "\tcompleted  36  /  66 epochs\n",
      "\tcompleted  42  /  66 epochs\n",
      "\tcompleted  48  /  66 epochs\n"
     ]
    },
    {
     "name": "stderr",
     "output_type": "stream",
     "text": [
      "Epochs completed: 100%| ███████████████████████████████████████████████████████████████████████████████████████████████████████████████████████████████████████████████████████████████████████████ 66/66 [00:00]"
     ]
    },
    {
     "name": "stdout",
     "output_type": "stream",
     "text": [
      "\tcompleted  54  /  66 epochs\n",
      "\tcompleted  60  /  66 epochs\n"
     ]
    },
    {
     "name": "stderr",
     "output_type": "stream",
     "text": [
      "\n",
      "Epochs completed: 100%| ███████████████████████████████████████████████████████████████████████████████████████████████████████████████████████████████████████████████████████████████████████████ 66/66 [00:24]\n"
     ]
    },
    {
     "name": "stdout",
     "output_type": "stream",
     "text": [
      "UMAP(init='pca', min_dist=0.99, n_epochs=200, n_jobs=95, n_neighbors=1000, unique=True, verbose=True)\n",
      "Unique=True -> Number of data points reduced from  114885  to  114885\n",
      "Most common duplicate is 62991  with a count of  1\n",
      "Fri Apr 25 19:02:13 2025 Construct fuzzy simplicial set\n",
      "Fri Apr 25 19:02:13 2025 Finding Nearest Neighbors\n",
      "Fri Apr 25 19:02:13 2025 Building RP forest with 22 trees\n",
      "Fri Apr 25 19:02:13 2025 NN descent for 17 iterations\n",
      "\t 1  /  17\n",
      "\t 2  /  17\n",
      "\t 3  /  17\n",
      "\t 4  /  17\n",
      "\t 5  /  17\n",
      "\tStopping threshold met -- exiting after 5 iterations\n",
      "Fri Apr 25 19:10:18 2025 Finished Nearest Neighbor Search\n",
      "Fri Apr 25 19:11:26 2025 Construct embedding\n"
     ]
    },
    {
     "name": "stderr",
     "output_type": "stream",
     "text": [
      "Epochs completed:   2%| ████▎                                                                                                                                                                       5/200 [00:00]"
     ]
    },
    {
     "name": "stdout",
     "output_type": "stream",
     "text": [
      "\tcompleted  0  /  200 epochs\n"
     ]
    },
    {
     "name": "stderr",
     "output_type": "stream",
     "text": [
      "Epochs completed:  11%| ██████████████████▋                                                                                                                                                        22/200 [00:00]"
     ]
    },
    {
     "name": "stdout",
     "output_type": "stream",
     "text": [
      "\tcompleted  20  /  200 epochs\n"
     ]
    },
    {
     "name": "stderr",
     "output_type": "stream",
     "text": [
      "Epochs completed:  22%| █████████████████████████████████████▍                                                                                                                                     44/200 [00:02]"
     ]
    },
    {
     "name": "stdout",
     "output_type": "stream",
     "text": [
      "\tcompleted  40  /  200 epochs\n"
     ]
    },
    {
     "name": "stderr",
     "output_type": "stream",
     "text": [
      "Epochs completed:  32%| ██████████████████████████████████████████████████████▍                                                                                                                    64/200 [00:03]"
     ]
    },
    {
     "name": "stdout",
     "output_type": "stream",
     "text": [
      "\tcompleted  60  /  200 epochs\n"
     ]
    },
    {
     "name": "stderr",
     "output_type": "stream",
     "text": [
      "Epochs completed:  42%| ███████████████████████████████████████████████████████████████████████▍                                                                                                   84/200 [00:04]"
     ]
    },
    {
     "name": "stdout",
     "output_type": "stream",
     "text": [
      "\tcompleted  80  /  200 epochs\n"
     ]
    },
    {
     "name": "stderr",
     "output_type": "stream",
     "text": [
      "Epochs completed:  52%| ███████████████████████████████████████████████████████████████████████████████████████▉                                                                                  104/200 [00:05]"
     ]
    },
    {
     "name": "stdout",
     "output_type": "stream",
     "text": [
      "\tcompleted  100  /  200 epochs\n"
     ]
    },
    {
     "name": "stderr",
     "output_type": "stream",
     "text": [
      "Epochs completed:  62%| ████████████████████████████████████████████████████████████████████████████████████████████████████████▊                                                                 124/200 [00:07]"
     ]
    },
    {
     "name": "stdout",
     "output_type": "stream",
     "text": [
      "\tcompleted  120  /  200 epochs\n"
     ]
    },
    {
     "name": "stderr",
     "output_type": "stream",
     "text": [
      "Epochs completed:  72%| █████████████████████████████████████████████████████████████████████████████████████████████████████████████████████████▋                                                144/200 [00:08]"
     ]
    },
    {
     "name": "stdout",
     "output_type": "stream",
     "text": [
      "\tcompleted  140  /  200 epochs\n"
     ]
    },
    {
     "name": "stderr",
     "output_type": "stream",
     "text": [
      "Epochs completed:  82%| ██████████████████████████████████████████████████████████████████████████████████████████████████████████████████████████████████████████▌                               164/200 [00:09]"
     ]
    },
    {
     "name": "stdout",
     "output_type": "stream",
     "text": [
      "\tcompleted  160  /  200 epochs\n"
     ]
    },
    {
     "name": "stderr",
     "output_type": "stream",
     "text": [
      "Epochs completed:  92%| ███████████████████████████████████████████████████████████████████████████████████████████████████████████████████████████████████████████████████████████▍              184/200 [00:11]"
     ]
    },
    {
     "name": "stdout",
     "output_type": "stream",
     "text": [
      "\tcompleted  180  /  200 epochs\n"
     ]
    },
    {
     "name": "stderr",
     "output_type": "stream",
     "text": [
      "Epochs completed: 100%| █████████████████████████████████████████████████████████████████████████████████████████████████████████████████████████████████████████████████████████████████████████ 200/200 [00:12]\n"
     ]
    },
    {
     "name": "stdout",
     "output_type": "stream",
     "text": [
      "Fri Apr 25 19:12:15 2025 Finished embedding\n",
      "Fri Apr 25 19:15:36 2025 Worst tree score: 0.99985203\n",
      "Fri Apr 25 19:15:36 2025 Mean tree score: 0.99992878\n",
      "Fri Apr 25 19:15:36 2025 Best tree score: 0.99995648\n",
      "Fri Apr 25 19:15:48 2025 Forward diversification reduced edges from 114885000 to 1651924\n",
      "Fri Apr 25 19:15:48 2025 Reverse diversification reduced edges from 1651924 to 1651924\n",
      "Fri Apr 25 19:15:48 2025 Degree pruning reduced edges from 2310754 to 2310754\n",
      "Fri Apr 25 19:15:48 2025 Resorting data and graph based on tree order\n",
      "Fri Apr 25 19:15:48 2025 Building and compiling search function\n"
     ]
    },
    {
     "name": "stderr",
     "output_type": "stream",
     "text": [
      "Epochs completed:  50%| █████████████████████████████████████████████████████████████████████████████████████▌                                                                                      33/66 [00:00]"
     ]
    },
    {
     "name": "stdout",
     "output_type": "stream",
     "text": [
      "\tcompleted  0  /  66 epochs\n",
      "\tcompleted  6  /  66 epochs\n",
      "\tcompleted  12  /  66 epochs\n",
      "\tcompleted  18  /  66 epochs\n",
      "\tcompleted  24  /  66 epochs\n",
      "\tcompleted  30  /  66 epochs\n",
      "\tcompleted  36  /  66 epochs\n",
      "\tcompleted  42  /  66 epochs\n",
      "\tcompleted  48  /  66 epochs\n"
     ]
    },
    {
     "name": "stderr",
     "output_type": "stream",
     "text": [
      "Epochs completed: 100%| ███████████████████████████████████████████████████████████████████████████████████████████████████████████████████████████████████████████████████████████████████████████ 66/66 [00:00]"
     ]
    },
    {
     "name": "stdout",
     "output_type": "stream",
     "text": [
      "\tcompleted  54  /  66 epochs\n",
      "\tcompleted  60  /  66 epochs\n"
     ]
    },
    {
     "name": "stderr",
     "output_type": "stream",
     "text": [
      "\n",
      "Epochs completed: 100%| ███████████████████████████████████████████████████████████████████████████████████████████████████████████████████████████████████████████████████████████████████████████ 66/66 [00:24]\n"
     ]
    }
   ],
   "source": [
    "import umap.umap_ as umap\n",
    "\n",
    "# n neighbors, minimum distances and mses\n",
    "# 4 major hyperparameters are neighbors, components, metric, min_dist\n",
    "n_neighbors_ls = [2, 3, 5, 10, 20, 50, 100, 200, 500, 1000]\n",
    "min_dists = [0.0, 0.02, 0.05, 0.1, 0.2, 0.5, 0.8, 0.99]\n",
    "mses = np.zeros((len(n_neighbors_ls), len(min_dists)))\n",
    "\n",
    "# sweep\n",
    "for i, n_neighbors in enumerate(n_neighbors_ls):\n",
    "    for j, min_dist in enumerate(min_dists):\n",
    "        # fit using *training* data\n",
    "        # all default except neighbors/distances, unique=True and pca embedding since spectral seems to fail for some of them...\n",
    "        reducer = umap.UMAP(n_neighbors=n_neighbors, n_components=2, metric='euclidean', \n",
    "                            n_epochs=200, learning_rate=1.0, init='pca', min_dist=min_dist, \n",
    "                            verbose=True, n_jobs=multiprocessing.cpu_count() - 1, unique=True)  \n",
    "        fit_umap = reducer.fit(standardized_abundance_training_arr)\n",
    "        # embed *test* data\n",
    "        embedding = fit_umap.transform(standardized_abundance_test_arr)\n",
    "        # reconstruct *test* data and record MSE\n",
    "        reconstruction = fit_umap.inverse_transform(embedding)\n",
    "        mses[i, j] = np.mean((standardized_abundance_test_arr - reconstruction) ** 2) * 1000  # MSE multiplied by 1000 to match the VAE ones"
   ]
  },
  {
   "cell_type": "code",
   "execution_count": 47,
   "id": "e6327e46-c50f-4a25-9ae4-6bad539dd00b",
   "metadata": {},
   "outputs": [],
   "source": [
    "def umap_mse(params, training_arr=standardized_abundance_training_arr, test_arr=standardized_abundance_test_arr, \n",
    "             components=2, metric='euclidean', epochs=200, learning_rate=1.0, initialization='pca'):\n",
    "    \"\"\"\n",
    "    Get the MSE for UMAP given params, components, metric, epochs, learning rate, initialization\n",
    "    and a set of training and test data\n",
    "\n",
    "    params is tuple of n_neighbors, min_dist\n",
    "    \"\"\"\n",
    "    # unpack params\n",
    "    n_neighbors, min_dist = params\n",
    "    # fit using *training* data\n",
    "    reducer = umap.UMAP(n_neighbors=n_neighbors, n_components=components, metric=metric, \n",
    "                        n_epochs=epochs, learning_rate=learning_rate, init=initialization, min_dist=min_dist, \n",
    "                        verbose=True, n_jobs=multiprocessing.cpu_count() - 1, unique=True)  \n",
    "    fit_umap = reducer.fit(training_arr)\n",
    "    # embed *test* data\n",
    "    embedding = fit_umap.transform(test_arr)\n",
    "    # reconstruct *test* data and record MSE of it\n",
    "    reconstruction = fit_umap.inverse_transform(embedding)\n",
    "    # return MSE\n",
    "    return np.mean((test_arr - reconstruction) ** 2) * 1000"
   ]
  },
  {
   "cell_type": "code",
   "execution_count": 50,
   "id": "af8a6954-373c-41fc-a5e1-44dbe9c2b27f",
   "metadata": {},
   "outputs": [
    {
     "name": "stdout",
     "output_type": "stream",
     "text": [
      "UMAP(init='pca', min_dist=1.0, n_epochs=200, n_jobs=95, n_neighbors=1000.0, unique=True, verbose=True)\n",
      "Unique=True -> Number of data points reduced from  114885  to  114885\n",
      "Most common duplicate is 62991  with a count of  1\n",
      "Fri Apr 25 21:45:38 2025 Construct fuzzy simplicial set\n",
      "Fri Apr 25 21:45:38 2025 Finding Nearest Neighbors\n",
      "Fri Apr 25 21:45:38 2025 Building RP forest with 22 trees\n",
      "Fri Apr 25 21:45:38 2025 NN descent for 17 iterations\n",
      "\t 1  /  17\n",
      "\t 2  /  17\n",
      "\t 3  /  17\n",
      "\t 4  /  17\n",
      "\t 5  /  17\n",
      "\tStopping threshold met -- exiting after 5 iterations\n",
      "Fri Apr 25 21:53:04 2025 Finished Nearest Neighbor Search\n",
      "Fri Apr 25 21:54:09 2025 Construct embedding\n"
     ]
    },
    {
     "name": "stderr",
     "output_type": "stream",
     "text": [
      "Epochs completed:   2%| ████▎                                                                                                                                                                       5/200 [00:00]"
     ]
    },
    {
     "name": "stdout",
     "output_type": "stream",
     "text": [
      "\tcompleted  0  /  200 epochs\n"
     ]
    },
    {
     "name": "stderr",
     "output_type": "stream",
     "text": [
      "Epochs completed:  12%| ████████████████████▍                                                                                                                                                      24/200 [00:00]"
     ]
    },
    {
     "name": "stdout",
     "output_type": "stream",
     "text": [
      "\tcompleted  20  /  200 epochs\n"
     ]
    },
    {
     "name": "stderr",
     "output_type": "stream",
     "text": [
      "Epochs completed:  21%| ███████████████████████████████████▋                                                                                                                                       42/200 [00:01]"
     ]
    },
    {
     "name": "stdout",
     "output_type": "stream",
     "text": [
      "\tcompleted  40  /  200 epochs\n"
     ]
    },
    {
     "name": "stderr",
     "output_type": "stream",
     "text": [
      "Epochs completed:  32%| ██████████████████████████████████████████████████████▍                                                                                                                    64/200 [00:02]"
     ]
    },
    {
     "name": "stdout",
     "output_type": "stream",
     "text": [
      "\tcompleted  60  /  200 epochs\n"
     ]
    },
    {
     "name": "stderr",
     "output_type": "stream",
     "text": [
      "Epochs completed:  42%| ██████████████████████████████████████████████████████████████████████▌                                                                                                    83/200 [00:04]"
     ]
    },
    {
     "name": "stdout",
     "output_type": "stream",
     "text": [
      "\tcompleted  80  /  200 epochs\n"
     ]
    },
    {
     "name": "stderr",
     "output_type": "stream",
     "text": [
      "Epochs completed:  52%| ███████████████████████████████████████████████████████████████████████████████████████                                                                                   103/200 [00:05]"
     ]
    },
    {
     "name": "stdout",
     "output_type": "stream",
     "text": [
      "\tcompleted  100  /  200 epochs\n"
     ]
    },
    {
     "name": "stderr",
     "output_type": "stream",
     "text": [
      "Epochs completed:  62%| ███████████████████████████████████████████████████████████████████████████████████████████████████████▉                                                                  123/200 [00:06]"
     ]
    },
    {
     "name": "stdout",
     "output_type": "stream",
     "text": [
      "\tcompleted  120  /  200 epochs\n"
     ]
    },
    {
     "name": "stderr",
     "output_type": "stream",
     "text": [
      "Epochs completed:  72%| ████████████████████████████████████████████████████████████████████████████████████████████████████████████████████████▊                                                 143/200 [00:07]"
     ]
    },
    {
     "name": "stdout",
     "output_type": "stream",
     "text": [
      "\tcompleted  140  /  200 epochs\n"
     ]
    },
    {
     "name": "stderr",
     "output_type": "stream",
     "text": [
      "Epochs completed:  82%| █████████████████████████████████████████████████████████████████████████████████████████████████████████████████████████████████████████▋                                163/200 [00:08]"
     ]
    },
    {
     "name": "stdout",
     "output_type": "stream",
     "text": [
      "\tcompleted  160  /  200 epochs\n"
     ]
    },
    {
     "name": "stderr",
     "output_type": "stream",
     "text": [
      "Epochs completed:  92%| ██████████████████████████████████████████████████████████████████████████████████████████████████████████████████████████████████████████████████████████▋               183/200 [00:09]"
     ]
    },
    {
     "name": "stdout",
     "output_type": "stream",
     "text": [
      "\tcompleted  180  /  200 epochs\n"
     ]
    },
    {
     "name": "stderr",
     "output_type": "stream",
     "text": [
      "Epochs completed: 100%| █████████████████████████████████████████████████████████████████████████████████████████████████████████████████████████████████████████████████████████████████████████ 200/200 [00:10]\n"
     ]
    },
    {
     "name": "stdout",
     "output_type": "stream",
     "text": [
      "Fri Apr 25 21:54:56 2025 Finished embedding\n",
      "Fri Apr 25 21:57:49 2025 Worst tree score: 0.99987814\n",
      "Fri Apr 25 21:57:49 2025 Mean tree score: 0.99993709\n",
      "Fri Apr 25 21:57:49 2025 Best tree score: 1.00000000\n",
      "Fri Apr 25 21:58:00 2025 Forward diversification reduced edges from 114885000 to 1651984\n",
      "Fri Apr 25 21:58:00 2025 Reverse diversification reduced edges from 1651984 to 1651983\n",
      "Fri Apr 25 21:58:00 2025 Degree pruning reduced edges from 2310882 to 2310882\n",
      "Fri Apr 25 21:58:00 2025 Resorting data and graph based on tree order\n",
      "Fri Apr 25 21:58:01 2025 Building and compiling search function\n"
     ]
    },
    {
     "name": "stderr",
     "output_type": "stream",
     "text": [
      "Epochs completed:  62%| ██████████████████████████████████████████████████████████████████████████████████████████████████████████▏                                                                 41/66 [00:00]"
     ]
    },
    {
     "name": "stdout",
     "output_type": "stream",
     "text": [
      "\tcompleted  0  /  66 epochs\n",
      "\tcompleted  6  /  66 epochs\n",
      "\tcompleted  12  /  66 epochs\n",
      "\tcompleted  18  /  66 epochs\n",
      "\tcompleted  24  /  66 epochs\n",
      "\tcompleted  30  /  66 epochs\n",
      "\tcompleted  36  /  66 epochs\n",
      "\tcompleted  42  /  66 epochs\n",
      "\tcompleted  48  /  66 epochs\n",
      "\tcompleted  54  /  66 epochs\n"
     ]
    },
    {
     "name": "stderr",
     "output_type": "stream",
     "text": [
      "Epochs completed: 100%| ███████████████████████████████████████████████████████████████████████████████████████████████████████████████████████████████████████████████████████████████████████████ 66/66 [00:00]\n"
     ]
    },
    {
     "name": "stdout",
     "output_type": "stream",
     "text": [
      "\tcompleted  60  /  66 epochs\n"
     ]
    },
    {
     "name": "stderr",
     "output_type": "stream",
     "text": [
      "Epochs completed: 100%| ███████████████████████████████████████████████████████████████████████████████████████████████████████████████████████████████████████████████████████████████████████████ 66/66 [00:21]\n"
     ]
    },
    {
     "name": "stdout",
     "output_type": "stream",
     "text": [
      "UMAP(init='pca', min_dist=1.0, n_epochs=200, n_jobs=95, n_neighbors=1000.0000000149012, unique=True, verbose=True)\n",
      "Unique=True -> Number of data points reduced from  114885  to  114885\n",
      "Most common duplicate is 62991  with a count of  1\n",
      "Fri Apr 25 22:01:04 2025 Construct fuzzy simplicial set\n",
      "Fri Apr 25 22:01:04 2025 Finding Nearest Neighbors\n",
      "Fri Apr 25 22:01:04 2025 Building RP forest with 22 trees\n",
      "Fri Apr 25 22:01:04 2025 NN descent for 17 iterations\n",
      "\t 1  /  17\n",
      "\t 2  /  17\n",
      "\t 3  /  17\n",
      "\t 4  /  17\n",
      "\t 5  /  17\n",
      "\tStopping threshold met -- exiting after 5 iterations\n",
      "Fri Apr 25 22:08:29 2025 Finished Nearest Neighbor Search\n",
      "Fri Apr 25 22:09:30 2025 Construct embedding\n"
     ]
    },
    {
     "name": "stderr",
     "output_type": "stream",
     "text": [
      "Epochs completed:   2%| ████▎                                                                                                                                                                       5/200 [00:00]"
     ]
    },
    {
     "name": "stdout",
     "output_type": "stream",
     "text": [
      "\tcompleted  0  /  200 epochs\n"
     ]
    },
    {
     "name": "stderr",
     "output_type": "stream",
     "text": [
      "Epochs completed:  12%| ███████████████████▌                                                                                                                                                       23/200 [00:00]"
     ]
    },
    {
     "name": "stdout",
     "output_type": "stream",
     "text": [
      "\tcompleted  20  /  200 epochs\n"
     ]
    },
    {
     "name": "stderr",
     "output_type": "stream",
     "text": [
      "Epochs completed:  22%| █████████████████████████████████████▍                                                                                                                                     44/200 [00:01]"
     ]
    },
    {
     "name": "stdout",
     "output_type": "stream",
     "text": [
      "\tcompleted  40  /  200 epochs\n"
     ]
    },
    {
     "name": "stderr",
     "output_type": "stream",
     "text": [
      "Epochs completed:  32%| ██████████████████████████████████████████████████████▍                                                                                                                    64/200 [00:02]"
     ]
    },
    {
     "name": "stdout",
     "output_type": "stream",
     "text": [
      "\tcompleted  60  /  200 epochs\n"
     ]
    },
    {
     "name": "stderr",
     "output_type": "stream",
     "text": [
      "Epochs completed:  42%| ███████████████████████████████████████████████████████████████████████▍                                                                                                   84/200 [00:03]"
     ]
    },
    {
     "name": "stdout",
     "output_type": "stream",
     "text": [
      "\tcompleted  80  /  200 epochs\n"
     ]
    },
    {
     "name": "stderr",
     "output_type": "stream",
     "text": [
      "Epochs completed:  52%| ███████████████████████████████████████████████████████████████████████████████████████                                                                                   103/200 [00:05]"
     ]
    },
    {
     "name": "stdout",
     "output_type": "stream",
     "text": [
      "\tcompleted  100  /  200 epochs\n"
     ]
    },
    {
     "name": "stderr",
     "output_type": "stream",
     "text": [
      "Epochs completed:  62%| ███████████████████████████████████████████████████████████████████████████████████████████████████████▉                                                                  123/200 [00:06]"
     ]
    },
    {
     "name": "stdout",
     "output_type": "stream",
     "text": [
      "\tcompleted  120  /  200 epochs\n"
     ]
    },
    {
     "name": "stderr",
     "output_type": "stream",
     "text": [
      "Epochs completed:  72%| ████████████████████████████████████████████████████████████████████████████████████████████████████████████████████████▊                                                 143/200 [00:07]"
     ]
    },
    {
     "name": "stdout",
     "output_type": "stream",
     "text": [
      "\tcompleted  140  /  200 epochs\n"
     ]
    },
    {
     "name": "stderr",
     "output_type": "stream",
     "text": [
      "Epochs completed:  82%| █████████████████████████████████████████████████████████████████████████████████████████████████████████████████████████████████████████▋                                163/200 [00:08]"
     ]
    },
    {
     "name": "stdout",
     "output_type": "stream",
     "text": [
      "\tcompleted  160  /  200 epochs\n"
     ]
    },
    {
     "name": "stderr",
     "output_type": "stream",
     "text": [
      "Epochs completed:  92%| ██████████████████████████████████████████████████████████████████████████████████████████████████████████████████████████████████████████████████████████▋               183/200 [00:09]"
     ]
    },
    {
     "name": "stdout",
     "output_type": "stream",
     "text": [
      "\tcompleted  180  /  200 epochs\n"
     ]
    },
    {
     "name": "stderr",
     "output_type": "stream",
     "text": [
      "Epochs completed: 100%| █████████████████████████████████████████████████████████████████████████████████████████████████████████████████████████████████████████████████████████████████████████ 200/200 [00:10]\n"
     ]
    },
    {
     "name": "stdout",
     "output_type": "stream",
     "text": [
      "Fri Apr 25 22:10:15 2025 Finished embedding\n",
      "Fri Apr 25 22:13:14 2025 Worst tree score: 0.99987814\n",
      "Fri Apr 25 22:13:14 2025 Mean tree score: 0.99993511\n",
      "Fri Apr 25 22:13:14 2025 Best tree score: 0.99998259\n",
      "Fri Apr 25 22:13:26 2025 Forward diversification reduced edges from 114885000 to 1651948\n",
      "Fri Apr 25 22:13:26 2025 Reverse diversification reduced edges from 1651948 to 1651948\n",
      "Fri Apr 25 22:13:26 2025 Degree pruning reduced edges from 2310806 to 2310806\n",
      "Fri Apr 25 22:13:26 2025 Resorting data and graph based on tree order\n",
      "Fri Apr 25 22:13:26 2025 Building and compiling search function\n"
     ]
    },
    {
     "name": "stderr",
     "output_type": "stream",
     "text": [
      "Epochs completed:  61%| ███████████████████████████████████████████████████████████████████████████████████████████████████████▋                                                                    40/66 [00:00]"
     ]
    },
    {
     "name": "stdout",
     "output_type": "stream",
     "text": [
      "\tcompleted  0  /  66 epochs\n",
      "\tcompleted  6  /  66 epochs\n",
      "\tcompleted  12  /  66 epochs\n",
      "\tcompleted  18  /  66 epochs\n",
      "\tcompleted  24  /  66 epochs\n",
      "\tcompleted  30  /  66 epochs\n",
      "\tcompleted  36  /  66 epochs\n",
      "\tcompleted  42  /  66 epochs\n",
      "\tcompleted  48  /  66 epochs\n",
      "\tcompleted  54  /  66 epochs\n"
     ]
    },
    {
     "name": "stderr",
     "output_type": "stream",
     "text": [
      "Epochs completed: 100%| ███████████████████████████████████████████████████████████████████████████████████████████████████████████████████████████████████████████████████████████████████████████ 66/66 [00:00]\n"
     ]
    },
    {
     "name": "stdout",
     "output_type": "stream",
     "text": [
      "\tcompleted  60  /  66 epochs\n"
     ]
    },
    {
     "name": "stderr",
     "output_type": "stream",
     "text": [
      "Epochs completed: 100%| ███████████████████████████████████████████████████████████████████████████████████████████████████████████████████████████████████████████████████████████████████████████ 66/66 [00:21]\n"
     ]
    },
    {
     "ename": "ValueError",
     "evalue": "min_dist must be less than or equal to spread",
     "output_type": "error",
     "traceback": [
      "\u001b[0;31m---------------------------------------------------------------------------\u001b[0m",
      "\u001b[0;31mValueError\u001b[0m                                Traceback (most recent call last)",
      "Cell \u001b[0;32mIn[50], line 5\u001b[0m\n\u001b[1;32m      1\u001b[0m \u001b[38;5;28;01mimport\u001b[39;00m \u001b[38;5;21;01mscipy\u001b[39;00m\n\u001b[1;32m      3\u001b[0m bounds\u001b[38;5;241m=\u001b[39m((\u001b[38;5;241m1.\u001b[39m, \u001b[38;5;28;01mNone\u001b[39;00m), (\u001b[38;5;241m0.\u001b[39m, \u001b[38;5;241m1.\u001b[39m))\n\u001b[0;32m----> 5\u001b[0m best_fit \u001b[38;5;241m=\u001b[39m \u001b[43mscipy\u001b[49m\u001b[38;5;241;43m.\u001b[39;49m\u001b[43moptimize\u001b[49m\u001b[38;5;241;43m.\u001b[39;49m\u001b[43mminimize\u001b[49m\u001b[43m(\u001b[49m\u001b[43mumap_mse\u001b[49m\u001b[43m,\u001b[49m\u001b[43m \u001b[49m\u001b[43mx0\u001b[49m\u001b[38;5;241;43m=\u001b[39;49m\u001b[43m(\u001b[49m\u001b[38;5;241;43m1000\u001b[39;49m\u001b[43m,\u001b[49m\u001b[43m \u001b[49m\u001b[38;5;241;43m1.\u001b[39;49m\u001b[43m)\u001b[49m\u001b[43m)\u001b[49m\n",
      "File \u001b[0;32m~/.conda/envs/wmpl/lib/python3.10/site-packages/scipy/optimize/_minimize.py:691\u001b[0m, in \u001b[0;36mminimize\u001b[0;34m(fun, x0, args, method, jac, hess, hessp, bounds, constraints, tol, callback, options)\u001b[0m\n\u001b[1;32m    689\u001b[0m     res \u001b[38;5;241m=\u001b[39m _minimize_cg(fun, x0, args, jac, callback, \u001b[38;5;241m*\u001b[39m\u001b[38;5;241m*\u001b[39moptions)\n\u001b[1;32m    690\u001b[0m \u001b[38;5;28;01melif\u001b[39;00m meth \u001b[38;5;241m==\u001b[39m \u001b[38;5;124m'\u001b[39m\u001b[38;5;124mbfgs\u001b[39m\u001b[38;5;124m'\u001b[39m:\n\u001b[0;32m--> 691\u001b[0m     res \u001b[38;5;241m=\u001b[39m \u001b[43m_minimize_bfgs\u001b[49m\u001b[43m(\u001b[49m\u001b[43mfun\u001b[49m\u001b[43m,\u001b[49m\u001b[43m \u001b[49m\u001b[43mx0\u001b[49m\u001b[43m,\u001b[49m\u001b[43m \u001b[49m\u001b[43margs\u001b[49m\u001b[43m,\u001b[49m\u001b[43m \u001b[49m\u001b[43mjac\u001b[49m\u001b[43m,\u001b[49m\u001b[43m \u001b[49m\u001b[43mcallback\u001b[49m\u001b[43m,\u001b[49m\u001b[43m \u001b[49m\u001b[38;5;241;43m*\u001b[39;49m\u001b[38;5;241;43m*\u001b[39;49m\u001b[43moptions\u001b[49m\u001b[43m)\u001b[49m\n\u001b[1;32m    692\u001b[0m \u001b[38;5;28;01melif\u001b[39;00m meth \u001b[38;5;241m==\u001b[39m \u001b[38;5;124m'\u001b[39m\u001b[38;5;124mnewton-cg\u001b[39m\u001b[38;5;124m'\u001b[39m:\n\u001b[1;32m    693\u001b[0m     res \u001b[38;5;241m=\u001b[39m _minimize_newtoncg(fun, x0, args, jac, hess, hessp, callback,\n\u001b[1;32m    694\u001b[0m                              \u001b[38;5;241m*\u001b[39m\u001b[38;5;241m*\u001b[39moptions)\n",
      "File \u001b[0;32m~/.conda/envs/wmpl/lib/python3.10/site-packages/scipy/optimize/_optimize.py:1362\u001b[0m, in \u001b[0;36m_minimize_bfgs\u001b[0;34m(fun, x0, args, jac, callback, gtol, norm, eps, maxiter, disp, return_all, finite_diff_rel_step, xrtol, **unknown_options)\u001b[0m\n\u001b[1;32m   1359\u001b[0m \u001b[38;5;28;01mif\u001b[39;00m maxiter \u001b[38;5;129;01mis\u001b[39;00m \u001b[38;5;28;01mNone\u001b[39;00m:\n\u001b[1;32m   1360\u001b[0m     maxiter \u001b[38;5;241m=\u001b[39m \u001b[38;5;28mlen\u001b[39m(x0) \u001b[38;5;241m*\u001b[39m \u001b[38;5;241m200\u001b[39m\n\u001b[0;32m-> 1362\u001b[0m sf \u001b[38;5;241m=\u001b[39m \u001b[43m_prepare_scalar_function\u001b[49m\u001b[43m(\u001b[49m\u001b[43mfun\u001b[49m\u001b[43m,\u001b[49m\u001b[43m \u001b[49m\u001b[43mx0\u001b[49m\u001b[43m,\u001b[49m\u001b[43m \u001b[49m\u001b[43mjac\u001b[49m\u001b[43m,\u001b[49m\u001b[43m \u001b[49m\u001b[43margs\u001b[49m\u001b[38;5;241;43m=\u001b[39;49m\u001b[43margs\u001b[49m\u001b[43m,\u001b[49m\u001b[43m \u001b[49m\u001b[43mepsilon\u001b[49m\u001b[38;5;241;43m=\u001b[39;49m\u001b[43meps\u001b[49m\u001b[43m,\u001b[49m\n\u001b[1;32m   1363\u001b[0m \u001b[43m                              \u001b[49m\u001b[43mfinite_diff_rel_step\u001b[49m\u001b[38;5;241;43m=\u001b[39;49m\u001b[43mfinite_diff_rel_step\u001b[49m\u001b[43m)\u001b[49m\n\u001b[1;32m   1365\u001b[0m f \u001b[38;5;241m=\u001b[39m sf\u001b[38;5;241m.\u001b[39mfun\n\u001b[1;32m   1366\u001b[0m myfprime \u001b[38;5;241m=\u001b[39m sf\u001b[38;5;241m.\u001b[39mgrad\n",
      "File \u001b[0;32m~/.conda/envs/wmpl/lib/python3.10/site-packages/scipy/optimize/_optimize.py:332\u001b[0m, in \u001b[0;36m_prepare_scalar_function\u001b[0;34m(fun, x0, jac, args, bounds, epsilon, finite_diff_rel_step, hess)\u001b[0m\n\u001b[1;32m    328\u001b[0m     bounds \u001b[38;5;241m=\u001b[39m (\u001b[38;5;241m-\u001b[39mnp\u001b[38;5;241m.\u001b[39minf, np\u001b[38;5;241m.\u001b[39minf)\n\u001b[1;32m    330\u001b[0m \u001b[38;5;66;03m# ScalarFunction caches. Reuse of fun(x) during grad\u001b[39;00m\n\u001b[1;32m    331\u001b[0m \u001b[38;5;66;03m# calculation reduces overall function evaluations.\u001b[39;00m\n\u001b[0;32m--> 332\u001b[0m sf \u001b[38;5;241m=\u001b[39m \u001b[43mScalarFunction\u001b[49m\u001b[43m(\u001b[49m\u001b[43mfun\u001b[49m\u001b[43m,\u001b[49m\u001b[43m \u001b[49m\u001b[43mx0\u001b[49m\u001b[43m,\u001b[49m\u001b[43m \u001b[49m\u001b[43margs\u001b[49m\u001b[43m,\u001b[49m\u001b[43m \u001b[49m\u001b[43mgrad\u001b[49m\u001b[43m,\u001b[49m\u001b[43m \u001b[49m\u001b[43mhess\u001b[49m\u001b[43m,\u001b[49m\n\u001b[1;32m    333\u001b[0m \u001b[43m                    \u001b[49m\u001b[43mfinite_diff_rel_step\u001b[49m\u001b[43m,\u001b[49m\u001b[43m \u001b[49m\u001b[43mbounds\u001b[49m\u001b[43m,\u001b[49m\u001b[43m \u001b[49m\u001b[43mepsilon\u001b[49m\u001b[38;5;241;43m=\u001b[39;49m\u001b[43mepsilon\u001b[49m\u001b[43m)\u001b[49m\n\u001b[1;32m    335\u001b[0m \u001b[38;5;28;01mreturn\u001b[39;00m sf\n",
      "File \u001b[0;32m~/.conda/envs/wmpl/lib/python3.10/site-packages/scipy/optimize/_differentiable_functions.py:177\u001b[0m, in \u001b[0;36mScalarFunction.__init__\u001b[0;34m(self, fun, x0, args, grad, hess, finite_diff_rel_step, finite_diff_bounds, epsilon)\u001b[0m\n\u001b[1;32m    173\u001b[0m         \u001b[38;5;28mself\u001b[39m\u001b[38;5;241m.\u001b[39mg \u001b[38;5;241m=\u001b[39m approx_derivative(fun_wrapped, \u001b[38;5;28mself\u001b[39m\u001b[38;5;241m.\u001b[39mx, f0\u001b[38;5;241m=\u001b[39m\u001b[38;5;28mself\u001b[39m\u001b[38;5;241m.\u001b[39mf,\n\u001b[1;32m    174\u001b[0m                                    \u001b[38;5;241m*\u001b[39m\u001b[38;5;241m*\u001b[39mfinite_diff_options)\n\u001b[1;32m    176\u001b[0m \u001b[38;5;28mself\u001b[39m\u001b[38;5;241m.\u001b[39m_update_grad_impl \u001b[38;5;241m=\u001b[39m update_grad\n\u001b[0;32m--> 177\u001b[0m \u001b[38;5;28;43mself\u001b[39;49m\u001b[38;5;241;43m.\u001b[39;49m\u001b[43m_update_grad\u001b[49m\u001b[43m(\u001b[49m\u001b[43m)\u001b[49m\n\u001b[1;32m    179\u001b[0m \u001b[38;5;66;03m# Hessian Evaluation\u001b[39;00m\n\u001b[1;32m    180\u001b[0m \u001b[38;5;28;01mif\u001b[39;00m \u001b[38;5;28mcallable\u001b[39m(hess):\n",
      "File \u001b[0;32m~/.conda/envs/wmpl/lib/python3.10/site-packages/scipy/optimize/_differentiable_functions.py:256\u001b[0m, in \u001b[0;36mScalarFunction._update_grad\u001b[0;34m(self)\u001b[0m\n\u001b[1;32m    254\u001b[0m \u001b[38;5;28;01mdef\u001b[39;00m \u001b[38;5;21m_update_grad\u001b[39m(\u001b[38;5;28mself\u001b[39m):\n\u001b[1;32m    255\u001b[0m     \u001b[38;5;28;01mif\u001b[39;00m \u001b[38;5;129;01mnot\u001b[39;00m \u001b[38;5;28mself\u001b[39m\u001b[38;5;241m.\u001b[39mg_updated:\n\u001b[0;32m--> 256\u001b[0m         \u001b[38;5;28;43mself\u001b[39;49m\u001b[38;5;241;43m.\u001b[39;49m\u001b[43m_update_grad_impl\u001b[49m\u001b[43m(\u001b[49m\u001b[43m)\u001b[49m\n\u001b[1;32m    257\u001b[0m         \u001b[38;5;28mself\u001b[39m\u001b[38;5;241m.\u001b[39mg_updated \u001b[38;5;241m=\u001b[39m \u001b[38;5;28;01mTrue\u001b[39;00m\n",
      "File \u001b[0;32m~/.conda/envs/wmpl/lib/python3.10/site-packages/scipy/optimize/_differentiable_functions.py:173\u001b[0m, in \u001b[0;36mScalarFunction.__init__.<locals>.update_grad\u001b[0;34m()\u001b[0m\n\u001b[1;32m    171\u001b[0m \u001b[38;5;28mself\u001b[39m\u001b[38;5;241m.\u001b[39m_update_fun()\n\u001b[1;32m    172\u001b[0m \u001b[38;5;28mself\u001b[39m\u001b[38;5;241m.\u001b[39mngev \u001b[38;5;241m+\u001b[39m\u001b[38;5;241m=\u001b[39m \u001b[38;5;241m1\u001b[39m\n\u001b[0;32m--> 173\u001b[0m \u001b[38;5;28mself\u001b[39m\u001b[38;5;241m.\u001b[39mg \u001b[38;5;241m=\u001b[39m \u001b[43mapprox_derivative\u001b[49m\u001b[43m(\u001b[49m\u001b[43mfun_wrapped\u001b[49m\u001b[43m,\u001b[49m\u001b[43m \u001b[49m\u001b[38;5;28;43mself\u001b[39;49m\u001b[38;5;241;43m.\u001b[39;49m\u001b[43mx\u001b[49m\u001b[43m,\u001b[49m\u001b[43m \u001b[49m\u001b[43mf0\u001b[49m\u001b[38;5;241;43m=\u001b[39;49m\u001b[38;5;28;43mself\u001b[39;49m\u001b[38;5;241;43m.\u001b[39;49m\u001b[43mf\u001b[49m\u001b[43m,\u001b[49m\n\u001b[1;32m    174\u001b[0m \u001b[43m                           \u001b[49m\u001b[38;5;241;43m*\u001b[39;49m\u001b[38;5;241;43m*\u001b[39;49m\u001b[43mfinite_diff_options\u001b[49m\u001b[43m)\u001b[49m\n",
      "File \u001b[0;32m~/.conda/envs/wmpl/lib/python3.10/site-packages/scipy/optimize/_numdiff.py:505\u001b[0m, in \u001b[0;36mapprox_derivative\u001b[0;34m(fun, x0, method, rel_step, abs_step, f0, bounds, sparsity, as_linear_operator, args, kwargs)\u001b[0m\n\u001b[1;32m    502\u001b[0m     use_one_sided \u001b[38;5;241m=\u001b[39m \u001b[38;5;28;01mFalse\u001b[39;00m\n\u001b[1;32m    504\u001b[0m \u001b[38;5;28;01mif\u001b[39;00m sparsity \u001b[38;5;129;01mis\u001b[39;00m \u001b[38;5;28;01mNone\u001b[39;00m:\n\u001b[0;32m--> 505\u001b[0m     \u001b[38;5;28;01mreturn\u001b[39;00m \u001b[43m_dense_difference\u001b[49m\u001b[43m(\u001b[49m\u001b[43mfun_wrapped\u001b[49m\u001b[43m,\u001b[49m\u001b[43m \u001b[49m\u001b[43mx0\u001b[49m\u001b[43m,\u001b[49m\u001b[43m \u001b[49m\u001b[43mf0\u001b[49m\u001b[43m,\u001b[49m\u001b[43m \u001b[49m\u001b[43mh\u001b[49m\u001b[43m,\u001b[49m\n\u001b[1;32m    506\u001b[0m \u001b[43m                             \u001b[49m\u001b[43muse_one_sided\u001b[49m\u001b[43m,\u001b[49m\u001b[43m \u001b[49m\u001b[43mmethod\u001b[49m\u001b[43m)\u001b[49m\n\u001b[1;32m    507\u001b[0m \u001b[38;5;28;01melse\u001b[39;00m:\n\u001b[1;32m    508\u001b[0m     \u001b[38;5;28;01mif\u001b[39;00m \u001b[38;5;129;01mnot\u001b[39;00m issparse(sparsity) \u001b[38;5;129;01mand\u001b[39;00m \u001b[38;5;28mlen\u001b[39m(sparsity) \u001b[38;5;241m==\u001b[39m \u001b[38;5;241m2\u001b[39m:\n",
      "File \u001b[0;32m~/.conda/envs/wmpl/lib/python3.10/site-packages/scipy/optimize/_numdiff.py:576\u001b[0m, in \u001b[0;36m_dense_difference\u001b[0;34m(fun, x0, f0, h, use_one_sided, method)\u001b[0m\n\u001b[1;32m    574\u001b[0m     x \u001b[38;5;241m=\u001b[39m x0 \u001b[38;5;241m+\u001b[39m h_vecs[i]\n\u001b[1;32m    575\u001b[0m     dx \u001b[38;5;241m=\u001b[39m x[i] \u001b[38;5;241m-\u001b[39m x0[i]  \u001b[38;5;66;03m# Recompute dx as exactly representable number.\u001b[39;00m\n\u001b[0;32m--> 576\u001b[0m     df \u001b[38;5;241m=\u001b[39m \u001b[43mfun\u001b[49m\u001b[43m(\u001b[49m\u001b[43mx\u001b[49m\u001b[43m)\u001b[49m \u001b[38;5;241m-\u001b[39m f0\n\u001b[1;32m    577\u001b[0m \u001b[38;5;28;01melif\u001b[39;00m method \u001b[38;5;241m==\u001b[39m \u001b[38;5;124m'\u001b[39m\u001b[38;5;124m3-point\u001b[39m\u001b[38;5;124m'\u001b[39m \u001b[38;5;129;01mand\u001b[39;00m use_one_sided[i]:\n\u001b[1;32m    578\u001b[0m     x1 \u001b[38;5;241m=\u001b[39m x0 \u001b[38;5;241m+\u001b[39m h_vecs[i]\n",
      "File \u001b[0;32m~/.conda/envs/wmpl/lib/python3.10/site-packages/scipy/optimize/_numdiff.py:456\u001b[0m, in \u001b[0;36mapprox_derivative.<locals>.fun_wrapped\u001b[0;34m(x)\u001b[0m\n\u001b[1;32m    455\u001b[0m \u001b[38;5;28;01mdef\u001b[39;00m \u001b[38;5;21mfun_wrapped\u001b[39m(x):\n\u001b[0;32m--> 456\u001b[0m     f \u001b[38;5;241m=\u001b[39m np\u001b[38;5;241m.\u001b[39matleast_1d(\u001b[43mfun\u001b[49m\u001b[43m(\u001b[49m\u001b[43mx\u001b[49m\u001b[43m,\u001b[49m\u001b[43m \u001b[49m\u001b[38;5;241;43m*\u001b[39;49m\u001b[43margs\u001b[49m\u001b[43m,\u001b[49m\u001b[43m \u001b[49m\u001b[38;5;241;43m*\u001b[39;49m\u001b[38;5;241;43m*\u001b[39;49m\u001b[43mkwargs\u001b[49m\u001b[43m)\u001b[49m)\n\u001b[1;32m    457\u001b[0m     \u001b[38;5;28;01mif\u001b[39;00m f\u001b[38;5;241m.\u001b[39mndim \u001b[38;5;241m>\u001b[39m \u001b[38;5;241m1\u001b[39m:\n\u001b[1;32m    458\u001b[0m         \u001b[38;5;28;01mraise\u001b[39;00m \u001b[38;5;167;01mRuntimeError\u001b[39;00m(\u001b[38;5;124m\"\u001b[39m\u001b[38;5;124m`fun` return value has \u001b[39m\u001b[38;5;124m\"\u001b[39m\n\u001b[1;32m    459\u001b[0m                            \u001b[38;5;124m\"\u001b[39m\u001b[38;5;124mmore than 1 dimension.\u001b[39m\u001b[38;5;124m\"\u001b[39m)\n",
      "File \u001b[0;32m~/.conda/envs/wmpl/lib/python3.10/site-packages/scipy/optimize/_differentiable_functions.py:137\u001b[0m, in \u001b[0;36mScalarFunction.__init__.<locals>.fun_wrapped\u001b[0;34m(x)\u001b[0m\n\u001b[1;32m    133\u001b[0m \u001b[38;5;28mself\u001b[39m\u001b[38;5;241m.\u001b[39mnfev \u001b[38;5;241m+\u001b[39m\u001b[38;5;241m=\u001b[39m \u001b[38;5;241m1\u001b[39m\n\u001b[1;32m    134\u001b[0m \u001b[38;5;66;03m# Send a copy because the user may overwrite it.\u001b[39;00m\n\u001b[1;32m    135\u001b[0m \u001b[38;5;66;03m# Overwriting results in undefined behaviour because\u001b[39;00m\n\u001b[1;32m    136\u001b[0m \u001b[38;5;66;03m# fun(self.x) will change self.x, with the two no longer linked.\u001b[39;00m\n\u001b[0;32m--> 137\u001b[0m fx \u001b[38;5;241m=\u001b[39m \u001b[43mfun\u001b[49m\u001b[43m(\u001b[49m\u001b[43mnp\u001b[49m\u001b[38;5;241;43m.\u001b[39;49m\u001b[43mcopy\u001b[49m\u001b[43m(\u001b[49m\u001b[43mx\u001b[49m\u001b[43m)\u001b[49m\u001b[43m,\u001b[49m\u001b[43m \u001b[49m\u001b[38;5;241;43m*\u001b[39;49m\u001b[43margs\u001b[49m\u001b[43m)\u001b[49m\n\u001b[1;32m    138\u001b[0m \u001b[38;5;66;03m# Make sure the function returns a true scalar\u001b[39;00m\n\u001b[1;32m    139\u001b[0m \u001b[38;5;28;01mif\u001b[39;00m \u001b[38;5;129;01mnot\u001b[39;00m np\u001b[38;5;241m.\u001b[39misscalar(fx):\n",
      "Cell \u001b[0;32mIn[47], line 15\u001b[0m, in \u001b[0;36mumap_mse\u001b[0;34m(params, training_arr, test_arr, components, metric, epochs, learning_rate, initialization)\u001b[0m\n\u001b[1;32m     11\u001b[0m \u001b[38;5;66;03m# fit using *training* data\u001b[39;00m\n\u001b[1;32m     12\u001b[0m reducer \u001b[38;5;241m=\u001b[39m umap\u001b[38;5;241m.\u001b[39mUMAP(n_neighbors\u001b[38;5;241m=\u001b[39mn_neighbors, n_components\u001b[38;5;241m=\u001b[39mcomponents, metric\u001b[38;5;241m=\u001b[39mmetric, \n\u001b[1;32m     13\u001b[0m                     n_epochs\u001b[38;5;241m=\u001b[39mepochs, learning_rate\u001b[38;5;241m=\u001b[39mlearning_rate, init\u001b[38;5;241m=\u001b[39minitialization, min_dist\u001b[38;5;241m=\u001b[39mmin_dist, \n\u001b[1;32m     14\u001b[0m                     verbose\u001b[38;5;241m=\u001b[39m\u001b[38;5;28;01mTrue\u001b[39;00m, n_jobs\u001b[38;5;241m=\u001b[39mmultiprocessing\u001b[38;5;241m.\u001b[39mcpu_count() \u001b[38;5;241m-\u001b[39m \u001b[38;5;241m1\u001b[39m, unique\u001b[38;5;241m=\u001b[39m\u001b[38;5;28;01mTrue\u001b[39;00m)  \n\u001b[0;32m---> 15\u001b[0m fit_umap \u001b[38;5;241m=\u001b[39m \u001b[43mreducer\u001b[49m\u001b[38;5;241;43m.\u001b[39;49m\u001b[43mfit\u001b[49m\u001b[43m(\u001b[49m\u001b[43mtraining_arr\u001b[49m\u001b[43m)\u001b[49m\n\u001b[1;32m     16\u001b[0m \u001b[38;5;66;03m# embed *test* data\u001b[39;00m\n\u001b[1;32m     17\u001b[0m embedding \u001b[38;5;241m=\u001b[39m fit_umap\u001b[38;5;241m.\u001b[39mtransform(test_arr)\n",
      "File \u001b[0;32m~/.conda/envs/wmpl/lib/python3.10/site-packages/umap/umap_.py:2408\u001b[0m, in \u001b[0;36mUMAP.fit\u001b[0;34m(self, X, y, force_all_finite, **kwargs)\u001b[0m\n\u001b[1;32m   2405\u001b[0m \u001b[38;5;28;01melse\u001b[39;00m:\n\u001b[1;32m   2406\u001b[0m     \u001b[38;5;28mself\u001b[39m\u001b[38;5;241m.\u001b[39mknn_search_index \u001b[38;5;241m=\u001b[39m \u001b[38;5;28mself\u001b[39m\u001b[38;5;241m.\u001b[39mprecomputed_knn[\u001b[38;5;241m2\u001b[39m]\n\u001b[0;32m-> 2408\u001b[0m \u001b[38;5;28;43mself\u001b[39;49m\u001b[38;5;241;43m.\u001b[39;49m\u001b[43m_validate_parameters\u001b[49m\u001b[43m(\u001b[49m\u001b[43m)\u001b[49m\n\u001b[1;32m   2410\u001b[0m \u001b[38;5;28;01mif\u001b[39;00m \u001b[38;5;28mself\u001b[39m\u001b[38;5;241m.\u001b[39mverbose:\n\u001b[1;32m   2411\u001b[0m     \u001b[38;5;28mprint\u001b[39m(\u001b[38;5;28mstr\u001b[39m(\u001b[38;5;28mself\u001b[39m))\n",
      "File \u001b[0;32m~/.conda/envs/wmpl/lib/python3.10/site-packages/umap/umap_.py:1758\u001b[0m, in \u001b[0;36mUMAP._validate_parameters\u001b[0;34m(self)\u001b[0m\n\u001b[1;32m   1756\u001b[0m     \u001b[38;5;28;01mraise\u001b[39;00m \u001b[38;5;167;01mValueError\u001b[39;00m(\u001b[38;5;124m\"\u001b[39m\u001b[38;5;124mrepulsion_strength cannot be negative\u001b[39m\u001b[38;5;124m\"\u001b[39m)\n\u001b[1;32m   1757\u001b[0m \u001b[38;5;28;01mif\u001b[39;00m \u001b[38;5;28mself\u001b[39m\u001b[38;5;241m.\u001b[39mmin_dist \u001b[38;5;241m>\u001b[39m \u001b[38;5;28mself\u001b[39m\u001b[38;5;241m.\u001b[39mspread:\n\u001b[0;32m-> 1758\u001b[0m     \u001b[38;5;28;01mraise\u001b[39;00m \u001b[38;5;167;01mValueError\u001b[39;00m(\u001b[38;5;124m\"\u001b[39m\u001b[38;5;124mmin_dist must be less than or equal to spread\u001b[39m\u001b[38;5;124m\"\u001b[39m)\n\u001b[1;32m   1759\u001b[0m \u001b[38;5;28;01mif\u001b[39;00m \u001b[38;5;28mself\u001b[39m\u001b[38;5;241m.\u001b[39mmin_dist \u001b[38;5;241m<\u001b[39m \u001b[38;5;241m0.0\u001b[39m:\n\u001b[1;32m   1760\u001b[0m     \u001b[38;5;28;01mraise\u001b[39;00m \u001b[38;5;167;01mValueError\u001b[39;00m(\u001b[38;5;124m\"\u001b[39m\u001b[38;5;124mmin_dist cannot be negative\u001b[39m\u001b[38;5;124m\"\u001b[39m)\n",
      "\u001b[0;31mValueError\u001b[0m: min_dist must be less than or equal to spread"
     ]
    }
   ],
   "source": [
    "import scipy\n",
    "\n",
    "bounds=((1., None), (0., 1.))\n",
    "\n",
    "best_fit = scipy.optimize.minimize(umap_mse, x0=(1000, 1.))"
   ]
  },
  {
   "cell_type": "code",
   "execution_count": null,
   "id": "54ccad98-a504-4b26-a91d-cb4a853a99ea",
   "metadata": {},
   "outputs": [],
   "source": []
  }
 ],
 "metadata": {
  "kernelspec": {
   "display_name": "Python 3 (ipykernel)",
   "language": "python",
   "name": "python3"
  },
  "language_info": {
   "codemirror_mode": {
    "name": "ipython",
    "version": 3
   },
   "file_extension": ".py",
   "mimetype": "text/x-python",
   "name": "python",
   "nbconvert_exporter": "python",
   "pygments_lexer": "ipython3",
   "version": "3.10.15"
  }
 },
 "nbformat": 4,
 "nbformat_minor": 5
}
