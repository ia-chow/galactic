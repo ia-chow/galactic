{
 "cells": [
  {
   "cell_type": "code",
   "execution_count": 1,
   "id": "cb8d33f2-593b-4cda-8118-49a3ebb241f3",
   "metadata": {},
   "outputs": [],
   "source": [
    "import numpy as np\n",
    "import matplotlib.pyplot as plt\n",
    "import pandas as pd\n",
    "import multiprocessing"
   ]
  },
  {
   "cell_type": "markdown",
   "id": "bd8fc7f1-d508-4586-9145-b0e010e047c9",
   "metadata": {},
   "source": [
    "Import data:"
   ]
  },
  {
   "cell_type": "code",
   "execution_count": 2,
   "id": "ff347434-e118-4c1c-902c-160f1361a592",
   "metadata": {},
   "outputs": [],
   "source": [
    "data = pd.read_csv('../tsne_umap_tutorials/data/APOGEEDR17_GAIAEDR3_noflagfilter.csv', delimiter=',')\n",
    "\n",
    "# data = pd.read_csv('APOGEEDR17_GAIAEDR3_noflagfilter.csv', delimiter=',')"
   ]
  },
  {
   "cell_type": "markdown",
   "id": "89022175-57f4-422a-a4ca-cab174797a8f",
   "metadata": {},
   "source": [
    "Preprocessing (same step as for VAE...)"
   ]
  },
  {
   "cell_type": "code",
   "execution_count": 3,
   "id": "d196b890-1b38-4724-876a-1020c4b36b6c",
   "metadata": {},
   "outputs": [
    {
     "name": "stdout",
     "output_type": "stream",
     "text": [
      "There are 370060 stars in our initial sample\n"
     ]
    }
   ],
   "source": [
    "# Spatial:\n",
    "ra = data[\"RA\"]   #APOGEE\n",
    "dec = data[\"DEC\"]   #APOGEE\n",
    "\n",
    "# Identification:\n",
    "apogee_ID = data[\"# APOGEE_ID_\"]   #APOGEE\n",
    "gaia_ID = data[\"GAIAEDR3_SOURCE_ID\"]  # Gaia\n",
    "\n",
    "# Kinematic:\n",
    "parallax = data[\"GAIAEDR3_PARALLAX\"]  # Gaia\n",
    "pmra = data[\"GAIAEDR3_PMRA\"]  # Gaia\n",
    "pmra_err = data[\"GAIAEDR3_PMRA_ERROR\"]  # Gaia\n",
    "pmdec = data[\"GAIAEDR3_PMDEC\"]  # Gaia\n",
    "pmdec_err = data[\"GAIAEDR3_PMDEC_ERROR\"]  # Gaia\n",
    "RV = data[\"VHELIO_AVG\"]   #APOGEE\n",
    "RV_err = data[\"VERR\"]   #APOGEE\n",
    "#dist = data[\"dist\"]   #APOGEE no dist in this dataset?\n",
    "#dist_err = data[\"dist_err\"]   #APOGEE\n",
    "jr = data[\"jr\"]   #APOGEE\n",
    "jr_err = data[\"jr_err\"]   #APOGEE\n",
    "jz = data[\"jz\"]   #APOGEE\n",
    "jz_err = data[\"jz_err\"]   #APOGEE\n",
    "#jphi = data[\"jphi\"]   #APOGEE no jphi in this dataset?\n",
    "#jphi_err = data[\"jphi_err\"]    #APOGEE\n",
    "\n",
    "# # Spectral (useful for filtering):\n",
    "TEFF_ERR = data[\"TEFF_ERR\"]   #APOGEE\n",
    "TEFF = data[\"TEFF\"]   #APOGEE\n",
    "LOGG_ERR = data[\"LOGG_ERR\"]   #APOGEE\n",
    "LOGG = data[\"LOGG\"]   #APOGEE\n",
    "SNR = data[\"SNR\"]   #APOGEE\n",
    "ASPCAPFLAG = data[\"ASPCAPFLAG\"]\n",
    "STARFLAG = data[\"STARFLAG\"]\n",
    "\n",
    "# # Chemical abundances from astroNN:\n",
    "FE_H = data['FE_H'] \n",
    "C_FE = data['C_FE']\n",
    "CI_FE = data['CI_FE']\n",
    "N_FE = data['N_FE']\n",
    "O_FE = data['O_FE']\n",
    "MG_FE = data['MG_FE']\n",
    "AL_FE = data['AL_FE']\n",
    "SI_FE = data['SI_FE']\n",
    "P_FE = data['P_FE']\n",
    "S_FE = data['S_FE']\n",
    "K_FE = data['K_FE']\n",
    "CA_FE = data['CA_FE']\n",
    "TI_FE = data['TI_FE']\n",
    "TIII_FE = data['TIII_FE']\n",
    "V_FE = data['V_FE']\n",
    "CR_FE = data['CR_FE']\n",
    "MN_FE = data['MN_FE']\n",
    "CO_FE = data['CO_FE']\n",
    "NI_FE = data['NI_FE']\n",
    "\n",
    "# # Chemical abundance errors from astroNN:\n",
    "FE_H_err = data[\"FE_H_ERR\"] \n",
    "C_FE_err = data['C_FE_ERR']\n",
    "CI_FE_err = data['CI_FE_ERR']\n",
    "N_FE_err = data['N_FE_ERR']\n",
    "O_FE_err = data['O_FE_ERR']\n",
    "MG_FE_err = data['MG_FE_ERR']\n",
    "AL_FE_err = data['AL_FE_ERR']\n",
    "SI_FE_err = data['SI_FE_ERR']\n",
    "P_FE_err = data['P_FE_ERR']\n",
    "S_FE_err = data['S_FE_ERR']\n",
    "K_FE_err = data['K_FE_ERR']\n",
    "CA_FE_err = data['CA_FE_ERR']\n",
    "TI_FE_err = data['TI_FE_ERR']\n",
    "TIII_FE_err = data['TIII_FE_ERR']\n",
    "V_FE_err = data['V_FE_ERR']\n",
    "CR_FE_err = data['CR_FE_ERR']\n",
    "MN_FE_err = data['MN_FE_ERR']\n",
    "CO_FE_err = data['CO_FE_ERR']\n",
    "NI_FE_err = data['NI_FE_ERR']\n",
    "\n",
    "# # Number of stars in the initial sample of APOGEE DR16: \n",
    "print(\"There are {} stars in our initial sample\".format(len(ra)))\n",
    "\n",
    "cols = [ra, dec, apogee_ID, gaia_ID, parallax, pmra, pmra_err, pmdec, pmdec_err, RV, RV_err, #dist, dist_err,\n",
    "         jr, jr_err,# jphi, jphi_err,\n",
    "        jz, jz_err, TEFF, TEFF_ERR, LOGG, LOGG_ERR, SNR, ASPCAPFLAG, STARFLAG, FE_H, FE_H_err, C_FE, \n",
    "         C_FE_err, CI_FE, CI_FE_err, N_FE, N_FE_err, O_FE, O_FE_err, MG_FE, MG_FE_err, AL_FE, AL_FE_err, SI_FE,\n",
    "         SI_FE_err, P_FE, P_FE_err, S_FE, S_FE_err, K_FE, K_FE_err, CA_FE, CA_FE_err, TI_FE, TI_FE_err, TIII_FE,\n",
    "         TIII_FE_err, V_FE, V_FE_err, CR_FE, CR_FE_err, MN_FE, MN_FE_err, CO_FE, CO_FE_err, NI_FE, NI_FE_err]"
   ]
  },
  {
   "cell_type": "code",
   "execution_count": 4,
   "id": "68921c2e-73ad-4f40-ae6b-a9bd25718846",
   "metadata": {},
   "outputs": [
    {
     "name": "stdout",
     "output_type": "stream",
     "text": [
      "There are 144767 stars in our filtered sample\n"
     ]
    }
   ],
   "source": [
    "aspcapflags_filter = np.array(cols[20])==0\n",
    "starflags_filter = np.array(cols[21])==0\n",
    "\n",
    "filters = aspcapflags_filter*starflags_filter\n",
    "\n",
    "\n",
    "filtered_data = []\n",
    "for c in cols:\n",
    "    a = np.array(c)[filters]\n",
    "    filtered_data.append(a)\n",
    "    \n",
    "print(\"There are {} stars in our filtered sample\".format(len(filtered_data[0])))"
   ]
  },
  {
   "cell_type": "code",
   "execution_count": 5,
   "id": "f497ee39-0f7a-42c8-92d7-a42f503af929",
   "metadata": {},
   "outputs": [],
   "source": [
    "FE_H_filtered, C_FE_filtered, CI_FE_filtered = filtered_data[22], filtered_data[24], filtered_data[26]\n",
    "N_FE_filtered, O_FE_filtered, MG_FE_filtered = filtered_data[28], filtered_data[30], filtered_data[32]\n",
    "AL_FE_filtered, SI_FE_filtered, P_FE_filtered = filtered_data[34], filtered_data[36], filtered_data[38]\n",
    "S_FE_filtered, K_FE_filtered, CA_FE_filtered = filtered_data[40], filtered_data[42], filtered_data[44]\n",
    "TI_FE_filtered, TIII_FE_filtered, V_FE_filtered = filtered_data[46], filtered_data[48], filtered_data[50]\n",
    "CR_FE_filtered, MN_FE_filtered, CO_FE_filtered, NI_FE_filtered = filtered_data[52], filtered_data[54], filtered_data[56], filtered_data[58]\n",
    "RV_filtered  = filtered_data[9]"
   ]
  },
  {
   "cell_type": "code",
   "execution_count": 6,
   "id": "85532dcb-ffcf-478b-b53c-939fbbc6e917",
   "metadata": {},
   "outputs": [],
   "source": [
    "FE_H_err, C_FE_err, CI_FE_err = filtered_data[23], filtered_data[25], filtered_data[27]\n",
    "N_FE_err, O_FE_err, MG_FE_err = filtered_data[29], filtered_data[31], filtered_data[33]\n",
    "AL_FE_err, SI_FE_err, P_FE_err = filtered_data[35], filtered_data[37], filtered_data[39]\n",
    "S_FE_err, K_FE_err, CA_FE_err = filtered_data[41], filtered_data[43], filtered_data[45]\n",
    "TI_FE_err, TIII_FE_err, V_FE_err = filtered_data[47], filtered_data[49], filtered_data[51]\n",
    "CR_FE_err, MN_FE_err, CO_FE_err, NI_FE_err = filtered_data[53], filtered_data[55], filtered_data[57], filtered_data[59]\n",
    "RV_err  = filtered_data[10]"
   ]
  },
  {
   "cell_type": "code",
   "execution_count": 7,
   "id": "2488c70c-1c9c-480c-b158-b2c2587e8dd7",
   "metadata": {},
   "outputs": [],
   "source": [
    "train_size = round(0.8 * len(filtered_data[0]))\n",
    "test_size = round(0.1 * len(filtered_data[0]))\n",
    "validation_size = round(0.1 * len(filtered_data[0]))\n",
    "\n",
    "training_labels_raw = np.transpose(np.array([FE_H_filtered[:train_size], C_FE_filtered[:train_size], CI_FE_filtered[:train_size], \n",
    "                                        N_FE_filtered[:train_size], O_FE_filtered[:train_size], MG_FE_filtered[:train_size],\n",
    "                                        AL_FE_filtered[:train_size], SI_FE_filtered[:train_size], P_FE_filtered[:train_size],\n",
    "                                        S_FE_filtered[:train_size], K_FE_filtered[:train_size], CA_FE_filtered[:train_size],\n",
    "                                        TI_FE_filtered[:train_size], TIII_FE_filtered[:train_size], V_FE_filtered[:train_size], \n",
    "                                        CR_FE_filtered[:train_size], MN_FE_filtered[:train_size], CO_FE_filtered[:train_size], NI_FE_filtered[:train_size]]))\n",
    "\n",
    "error_training_labels_raw = np.transpose(np.array([FE_H_err[:train_size], C_FE_err[:train_size], CI_FE_err[:train_size], \n",
    "                                        N_FE_err[:train_size], O_FE_err[:train_size], MG_FE_err[:train_size],\n",
    "                                        AL_FE_err[:train_size], SI_FE_err[:train_size], P_FE_err[:train_size],\n",
    "                                        S_FE_err[:train_size], K_FE_err[:train_size], CA_FE_err[:train_size],\n",
    "                                        TI_FE_err[:train_size], TIII_FE_err[:train_size], V_FE_err[:train_size], \n",
    "                                        CR_FE_err[:train_size], MN_FE_err[:train_size], CO_FE_err[:train_size], NI_FE_err[:train_size]]))\n",
    "\n",
    "\n",
    "test_labels_raw = np.transpose(np.array([FE_H_filtered[train_size: train_size + test_size], C_FE_filtered[train_size: train_size + test_size], \n",
    "                                     CI_FE_filtered[train_size: train_size + test_size], N_FE_filtered[train_size: train_size + test_size],\n",
    "                                     O_FE_filtered[train_size: train_size + test_size], MG_FE_filtered[train_size: train_size + test_size],\n",
    "                                        AL_FE_filtered[train_size: train_size + test_size], SI_FE_filtered[train_size: train_size + test_size], \n",
    "                                     P_FE_filtered[train_size: train_size + test_size], S_FE_filtered[train_size: train_size + test_size], \n",
    "                                     K_FE_filtered[train_size: train_size + test_size], CA_FE_filtered[train_size: train_size + test_size],\n",
    "                                        TI_FE_filtered[train_size: train_size + test_size], TIII_FE_filtered[train_size: train_size + test_size], \n",
    "                                     V_FE_filtered[train_size: train_size + test_size], CR_FE_filtered[train_size: train_size + test_size], \n",
    "                                     MN_FE_filtered[train_size: train_size + test_size], CO_FE_filtered[train_size: train_size + test_size], \n",
    "                                     NI_FE_filtered[train_size: train_size + test_size]]))\n",
    "                                     \n",
    "                                     \n",
    "error_test_labels_raw = np.transpose(np.array([FE_H_err[train_size: train_size + test_size], C_FE_err[train_size: train_size + test_size], CI_FE_err[train_size: train_size + test_size], \n",
    "                                        N_FE_err[train_size: train_size + test_size], O_FE_err[train_size: train_size + test_size], MG_FE_err[train_size: train_size + test_size],\n",
    "                                        AL_FE_err[train_size: train_size + test_size], SI_FE_err[train_size: train_size + test_size], P_FE_err[train_size: train_size + test_size],\n",
    "                                        S_FE_err[train_size: train_size + test_size], K_FE_err[train_size: train_size + test_size], CA_FE_err[train_size: train_size + test_size],\n",
    "                                        TI_FE_err[train_size: train_size + test_size], TIII_FE_err[train_size: train_size + test_size], V_FE_err[train_size: train_size + test_size], \n",
    "                                        CR_FE_err[train_size: train_size + test_size], MN_FE_err[train_size: train_size + test_size], CO_FE_err[train_size: train_size + test_size], NI_FE_err[train_size: train_size + test_size]]))\n",
    "\n",
    "\n",
    "validation_labels_raw = np.transpose(np.array([FE_H_filtered[train_size + test_size: train_size + test_size + validation_size], C_FE_filtered[train_size + test_size: train_size + test_size + validation_size], \n",
    "                                     CI_FE_filtered[train_size + test_size: train_size + test_size + validation_size], N_FE_filtered[train_size + test_size: train_size + test_size + validation_size],\n",
    "                                     O_FE_filtered[train_size + test_size: train_size + test_size + validation_size], MG_FE_filtered[train_size + test_size: train_size + test_size + validation_size],\n",
    "                                        AL_FE_filtered[train_size + test_size: train_size + test_size + validation_size], SI_FE_filtered[train_size + test_size: train_size + test_size + validation_size], \n",
    "                                     P_FE_filtered[train_size + test_size: train_size + test_size + validation_size], S_FE_filtered[train_size + test_size: train_size + test_size + validation_size], \n",
    "                                     K_FE_filtered[train_size + test_size: train_size + test_size + validation_size], CA_FE_filtered[train_size + test_size: train_size + test_size + validation_size],\n",
    "                                        TI_FE_filtered[train_size + test_size: train_size + test_size + validation_size], TIII_FE_filtered[train_size + test_size: train_size + test_size + validation_size], \n",
    "                                     V_FE_filtered[train_size + test_size: train_size + test_size + validation_size], CR_FE_filtered[train_size + test_size: train_size + test_size + validation_size], \n",
    "                                     MN_FE_filtered[train_size + test_size: train_size + test_size + validation_size], CO_FE_filtered[train_size + test_size: train_size + test_size + validation_size], \n",
    "                                     NI_FE_filtered[train_size + test_size: train_size + test_size + validation_size]]))\n",
    "                                     \n",
    "                                     \n",
    "error_validation_labels_raw = np.transpose(np.array([FE_H_err[train_size + test_size: train_size + test_size + validation_size], C_FE_err[train_size + test_size: train_size + test_size + validation_size], CI_FE_err[train_size + test_size: train_size + test_size + validation_size], \n",
    "                                        N_FE_err[train_size + test_size: train_size + test_size + validation_size], O_FE_err[train_size + test_size: train_size + test_size + validation_size], MG_FE_err[train_size + test_size: train_size + test_size + validation_size],\n",
    "                                        AL_FE_err[train_size + test_size: train_size + test_size + validation_size], SI_FE_err[train_size + test_size: train_size + test_size + validation_size], P_FE_err[train_size + test_size: train_size + test_size + validation_size],\n",
    "                                        S_FE_err[train_size + test_size: train_size + test_size + validation_size], K_FE_err[train_size + test_size: train_size + test_size + validation_size], CA_FE_err[train_size + test_size: train_size + test_size + validation_size],\n",
    "                                        TI_FE_err[train_size + test_size: train_size + test_size + validation_size], TIII_FE_err[train_size + test_size: train_size + test_size + validation_size], V_FE_err[train_size + test_size: train_size + test_size + validation_size], \n",
    "                                        CR_FE_err[train_size + test_size: train_size + test_size + validation_size], MN_FE_err[train_size + test_size: train_size + test_size + validation_size], CO_FE_err[train_size + test_size: train_size + test_size + validation_size], NI_FE_err[train_size + test_size: train_size + test_size + validation_size]]))\n"
   ]
  },
  {
   "cell_type": "code",
   "execution_count": 8,
   "id": "37ea9826-858b-48b9-a4a6-e7f52967ac1d",
   "metadata": {},
   "outputs": [],
   "source": [
    "full_training_labels_raw = np.c_[training_labels_raw, error_training_labels_raw]\n",
    "full_test_labels_raw = np.c_[test_labels_raw, error_test_labels_raw]\n",
    "full_validation_labels_raw = np.c_[validation_labels_raw, error_validation_labels_raw]"
   ]
  },
  {
   "cell_type": "code",
   "execution_count": 9,
   "id": "22250cfb-1db7-45a3-9575-b9a6020654a4",
   "metadata": {},
   "outputs": [
    {
     "data": {
      "text/plain": [
       "((115814, 38), (14477, 38), (14476, 38))"
      ]
     },
     "execution_count": 9,
     "metadata": {},
     "output_type": "execute_result"
    }
   ],
   "source": [
    "full_training_labels_raw.shape, full_test_labels_raw.shape, full_validation_labels_raw.shape"
   ]
  },
  {
   "cell_type": "code",
   "execution_count": 10,
   "id": "a1145170-4b7e-4a54-8d9e-40975f9c2953",
   "metadata": {},
   "outputs": [
    {
     "data": {
      "text/plain": [
       "(array([-1.951497  , -2.1234312 , -2.119044  , -0.18978369, -0.7124527 ,\n",
       "        -0.15558027, -0.47890055, -0.15707995, -0.97891414, -0.6047195 ,\n",
       "        -2.2741165 , -0.40278423, -1.2907453 , -0.6157368 , -1.1658391 ,\n",
       "        -1.391077  , -0.64225805, -3.6896837 , -0.2965148 ,  0.01358107,\n",
       "         0.01762647,  0.02378747,  0.01708818,  0.01984493,  0.02071843,\n",
       "         0.02232191,  0.01871411,  0.05818468,  0.01897749,  0.03516773,\n",
       "         0.02518716,  0.02486172,  0.02255343,  0.0375476 ,  0.02254345,\n",
       "         0.02762588,  0.01909786,  0.02221127]),\n",
       " array([5.7460123e-01, 8.3517190e-01, 5.6674075e-01, 3.6616602e+00,\n",
       "        5.5585840e-01, 5.1025960e-01, 4.8934165e-01, 4.5210746e-01,\n",
       "        7.5247210e+00, 9.0582700e-01, 1.0242985e+00, 2.7282690e-01,\n",
       "        5.9501344e-01, 8.7636330e-01, 8.6697330e-01, 3.3210137e-01,\n",
       "        3.5304812e-01, 5.6587050e-01, 2.1270613e-01, 4.5790780e-01,\n",
       "        1.2761971e+00, 1.6784387e+00, 1.8850280e+01, 5.6260234e-01,\n",
       "        5.5715760e-01, 6.7058295e-01, 5.5592450e-01, 2.2155308e+01,\n",
       "        5.8074850e-01, 1.1802338e+04, 1.0069572e+00, 7.6264750e-01,\n",
       "        8.5684610e-01, 1.6342586e+00, 3.9144385e+00, 5.6938570e-01,\n",
       "        2.5924824e+03, 5.7262796e-01]))"
      ]
     },
     "execution_count": 10,
     "metadata": {},
     "output_type": "execute_result"
    }
   ],
   "source": [
    "np.min(full_training_labels_raw.T, axis=1), np.max(full_training_labels_raw.T, axis=1)"
   ]
  },
  {
   "cell_type": "code",
   "execution_count": 11,
   "id": "8a9f2ca9-dc2a-4a84-a917-72f9e07cb019",
   "metadata": {},
   "outputs": [],
   "source": [
    "err_threshold = 3 # remove errors that are larger than this...\n",
    "err_mask_train = np.all(np.abs(full_training_labels_raw) < err_threshold, axis=1)\n",
    "err_mask_test = np.all(np.abs(full_test_labels_raw) < err_threshold, axis=1)\n",
    "err_mask_validation = np.all(np.abs(full_validation_labels_raw) < err_threshold, axis=1)"
   ]
  },
  {
   "cell_type": "markdown",
   "id": "ad923299-df10-48c9-9f87-33ab0272dad7",
   "metadata": {},
   "source": [
    "Remove unreasonably huge error bars/abundance estimates:"
   ]
  },
  {
   "cell_type": "code",
   "execution_count": 12,
   "id": "2e753d78-aae2-4e95-bba7-7b48ccee5a61",
   "metadata": {},
   "outputs": [],
   "source": [
    "full_training_labels = full_training_labels_raw[err_mask_train]\n",
    "full_test_labels = full_test_labels_raw[err_mask_test]\n",
    "full_validation_labels = full_validation_labels_raw[err_mask_validation]"
   ]
  },
  {
   "cell_type": "code",
   "execution_count": 13,
   "id": "ee1d8bbe-b7a4-46c4-b6c4-131d48073483",
   "metadata": {},
   "outputs": [
    {
     "data": {
      "text/plain": [
       "((114885, 38), (14374, 38), (14326, 38))"
      ]
     },
     "execution_count": 13,
     "metadata": {},
     "output_type": "execute_result"
    }
   ],
   "source": [
    "full_training_labels.shape, full_test_labels.shape, full_validation_labels.shape"
   ]
  },
  {
   "cell_type": "code",
   "execution_count": 14,
   "id": "69f1fe48-24e8-4233-a95d-95d7d8ec5061",
   "metadata": {},
   "outputs": [
    {
     "data": {
      "text/plain": [
       "(array([-1.8320073 , -1.2602895 , -2.119044  , -0.18978369, -0.7124527 ,\n",
       "        -0.1388877 , -0.47890055, -0.13207644, -0.97891414, -0.5242982 ,\n",
       "        -0.7713039 , -0.40278423, -1.2907453 , -0.6157368 , -1.1658391 ,\n",
       "        -1.0536897 , -0.64225805, -1.1330373 , -0.2965148 ,  0.01358107,\n",
       "         0.01762647,  0.02378747,  0.01708818,  0.01984493,  0.02071843,\n",
       "         0.02232191,  0.01871411,  0.05818468,  0.01897749,  0.03516773,\n",
       "         0.02518716,  0.02486172,  0.02255343,  0.0375476 ,  0.02254345,\n",
       "         0.02762588,  0.01909786,  0.02221127]),\n",
       " array([0.57460123, 0.81556314, 0.56674075, 1.5901425 , 0.5558584 ,\n",
       "        0.5102596 , 0.48934165, 0.45210746, 1.0318542 , 0.905827  ,\n",
       "        1.0242985 , 0.262527  , 0.59501344, 0.8763633 , 0.8669733 ,\n",
       "        0.27449507, 0.35304812, 0.5658705 , 0.21270613, 0.35667247,\n",
       "        0.48992783, 1.637775  , 1.0633858 , 0.46304193, 0.43964195,\n",
       "        0.55135024, 0.46292186, 2.998515  , 0.55373484, 2.87389   ,\n",
       "        1.0069572 , 0.7626475 , 0.8568461 , 1.6342586 , 1.6748365 ,\n",
       "        0.55016214, 2.8621614 , 0.57262796]))"
      ]
     },
     "execution_count": 14,
     "metadata": {},
     "output_type": "execute_result"
    }
   ],
   "source": [
    "np.min(full_training_labels.T, axis=1), np.max(full_training_labels.T, axis=1)"
   ]
  },
  {
   "cell_type": "code",
   "execution_count": 15,
   "id": "47073612-08e6-4557-b8ee-8e0ac6a33323",
   "metadata": {},
   "outputs": [],
   "source": [
    "from sklearn.preprocessing import StandardScaler"
   ]
  },
  {
   "cell_type": "markdown",
   "id": "42028703-fd73-4345-a6eb-f6789915cc3e",
   "metadata": {},
   "source": [
    "Manual scaler to standardize (equivalent to StandardScaler):"
   ]
  },
  {
   "cell_type": "code",
   "execution_count": 16,
   "id": "a5052ddc-e4cd-4a48-959c-17c87d78ba31",
   "metadata": {},
   "outputs": [],
   "source": [
    "# standardized_pca_array = []\n",
    "# standardization_means = np.zeros(len(np.array(x_df_transpose)))\n",
    "# standardization_sigmas = np.zeros(len(np.array(x_df_transpose)))\n",
    "\n",
    "# for i, param in enumerate(np.array(x_df_transpose)):\n",
    "#     mean, sigma = np.mean(param), np.std(param)\n",
    "#     norm = (param - mean)/sigma\n",
    "#     standardized_pca_array.append(norm)\n",
    "#     standardization_means[i] = mean\n",
    "#     standardization_sigmas[i] = sigma"
   ]
  },
  {
   "cell_type": "markdown",
   "id": "d27ea24f-03f1-4975-8a6e-a47ff7bea306",
   "metadata": {},
   "source": [
    "StandardScaler to standardize (same method used for t-SNE/UMAP):"
   ]
  },
  {
   "cell_type": "code",
   "execution_count": 17,
   "id": "f8a6ca97-8239-45d6-b0b9-a6bc7462e3e5",
   "metadata": {},
   "outputs": [],
   "source": [
    "# split abundances and errors into separate datasets\n",
    "training_labels_abundances = full_training_labels[:, :19]\n",
    "training_labels_errors = full_training_labels[:, 19:]\n",
    "\n",
    "# split abundances and errors into separate datasets\n",
    "test_labels_abundances = full_test_labels[:, :19]\n",
    "test_labels_errors = full_test_labels[:, 19:]\n",
    "\n",
    "# split abundances and errors into separate datasets\n",
    "validation_labels_abundances = full_validation_labels[:, :19]\n",
    "validation_labels_errors = full_validation_labels[:, 19:]\n",
    "\n",
    "standardized_abundance_training_arr = StandardScaler().fit_transform(training_labels_abundances)\n",
    "standardized_abundance_test_arr = StandardScaler().fit_transform(test_labels_abundances)\n",
    "standardized_abundance_validation_arr = StandardScaler().fit_transform(validation_labels_abundances)"
   ]
  },
  {
   "cell_type": "markdown",
   "id": "4c459c0b-a60a-4e31-ab8e-cd6bf2c1d366",
   "metadata": {},
   "source": [
    "Begin UMAP:"
   ]
  },
  {
   "cell_type": "markdown",
   "id": "745f2dd9-7304-4a8b-bdce-025ea1bd4472",
   "metadata": {},
   "source": [
    "# UMAP:"
   ]
  },
  {
   "cell_type": "code",
   "execution_count": null,
   "id": "d96fc73c-883b-402a-8409-8759a6ede2c0",
   "metadata": {
    "scrolled": true
   },
   "outputs": [
    {
     "name": "stderr",
     "output_type": "stream",
     "text": [
      "/home/ichow9/.conda/envs/wmpl/lib/python3.10/site-packages/tqdm/auto.py:21: TqdmWarning: IProgress not found. Please update jupyter and ipywidgets. See https://ipywidgets.readthedocs.io/en/stable/user_install.html\n",
      "  from .autonotebook import tqdm as notebook_tqdm\n",
      "2025-04-26 11:20:08.853458: I tensorflow/core/util/port.cc:153] oneDNN custom operations are on. You may see slightly different numerical results due to floating-point round-off errors from different computation orders. To turn them off, set the environment variable `TF_ENABLE_ONEDNN_OPTS=0`.\n",
      "2025-04-26 11:20:08.854827: I external/local_xla/xla/tsl/cuda/cudart_stub.cc:32] Could not find cuda drivers on your machine, GPU will not be used.\n",
      "2025-04-26 11:20:08.859932: I external/local_xla/xla/tsl/cuda/cudart_stub.cc:32] Could not find cuda drivers on your machine, GPU will not be used.\n",
      "2025-04-26 11:20:08.876251: E external/local_xla/xla/stream_executor/cuda/cuda_fft.cc:477] Unable to register cuFFT factory: Attempting to register factory for plugin cuFFT when one has already been registered\n",
      "WARNING: All log messages before absl::InitializeLog() is called are written to STDERR\n",
      "E0000 00:00:1745680808.903603  156945 cuda_dnn.cc:8310] Unable to register cuDNN factory: Attempting to register factory for plugin cuDNN when one has already been registered\n",
      "E0000 00:00:1745680808.911540  156945 cuda_blas.cc:1418] Unable to register cuBLAS factory: Attempting to register factory for plugin cuBLAS when one has already been registered\n",
      "2025-04-26 11:20:08.940693: I tensorflow/core/platform/cpu_feature_guard.cc:210] This TensorFlow binary is optimized to use available CPU instructions in performance-critical operations.\n",
      "To enable the following instructions: AVX2 AVX512F AVX512_VNNI FMA, in other operations, rebuild TensorFlow with the appropriate compiler flags.\n"
     ]
    },
    {
     "name": "stdout",
     "output_type": "stream",
     "text": [
      "2 0.0\n",
      "UMAP(init='pca', min_dist=0.0, n_epochs=1000, n_jobs=95, n_neighbors=2, unique=True, verbose=True)\n",
      "Unique=True -> Number of data points reduced from  114885  to  114885\n",
      "Most common duplicate is 62991  with a count of  1\n",
      "Sat Apr 26 11:20:12 2025 Construct fuzzy simplicial set\n",
      "Sat Apr 26 11:20:12 2025 Finding Nearest Neighbors\n",
      "Sat Apr 26 11:20:12 2025 Building RP forest with 22 trees\n",
      "Sat Apr 26 11:20:19 2025 NN descent for 17 iterations\n",
      "\t 1  /  17\n",
      "\t 2  /  17\n",
      "\tStopping threshold met -- exiting after 2 iterations\n",
      "Sat Apr 26 11:20:30 2025 Finished Nearest Neighbor Search\n",
      "Sat Apr 26 11:20:33 2025 Construct embedding\n"
     ]
    },
    {
     "name": "stderr",
     "output_type": "stream",
     "text": [
      "Epochs completed:   2%| ██▊                                                                                                                                                                       17/1000 [00:01]"
     ]
    },
    {
     "name": "stdout",
     "output_type": "stream",
     "text": [
      "\tcompleted  0  /  1000 epochs\n"
     ]
    },
    {
     "name": "stderr",
     "output_type": "stream",
     "text": [
      "Epochs completed:  13%| █████████████████████▊                                                                                                                                                   130/1000 [00:02]"
     ]
    },
    {
     "name": "stdout",
     "output_type": "stream",
     "text": [
      "\tcompleted  100  /  1000 epochs\n"
     ]
    },
    {
     "name": "stderr",
     "output_type": "stream",
     "text": [
      "Epochs completed:  23%| ██████████████████████████████████████▏                                                                                                                                  227/1000 [00:03]"
     ]
    },
    {
     "name": "stdout",
     "output_type": "stream",
     "text": [
      "\tcompleted  200  /  1000 epochs\n"
     ]
    },
    {
     "name": "stderr",
     "output_type": "stream",
     "text": [
      "Epochs completed:  32%| ██████████████████████████████████████████████████████▍                                                                                                                  324/1000 [00:03]"
     ]
    },
    {
     "name": "stdout",
     "output_type": "stream",
     "text": [
      "\tcompleted  300  /  1000 epochs\n"
     ]
    },
    {
     "name": "stderr",
     "output_type": "stream",
     "text": [
      "Epochs completed:  42%| ██████████████████████████████████████████████████████████████████████▉                                                                                                  422/1000 [00:04]"
     ]
    },
    {
     "name": "stdout",
     "output_type": "stream",
     "text": [
      "\tcompleted  400  /  1000 epochs\n"
     ]
    },
    {
     "name": "stderr",
     "output_type": "stream",
     "text": [
      "Epochs completed:  52%| ████████████████████████████████████████████████████████████████████████████████████████                                                                                 524/1000 [00:04]"
     ]
    },
    {
     "name": "stdout",
     "output_type": "stream",
     "text": [
      "\tcompleted  500  /  1000 epochs\n"
     ]
    },
    {
     "name": "stderr",
     "output_type": "stream",
     "text": [
      "Epochs completed:  62%| ████████████████████████████████████████████████████████████████████████████████████████████████████████▍                                                                622/1000 [00:05]"
     ]
    },
    {
     "name": "stdout",
     "output_type": "stream",
     "text": [
      "\tcompleted  600  /  1000 epochs\n"
     ]
    },
    {
     "name": "stderr",
     "output_type": "stream",
     "text": [
      "Epochs completed:  72%| ████████████████████████████████████████████████████████████████████████████████████████████████████████████████████████▌                                                718/1000 [00:06]"
     ]
    },
    {
     "name": "stdout",
     "output_type": "stream",
     "text": [
      "\tcompleted  700  /  1000 epochs\n"
     ]
    },
    {
     "name": "stderr",
     "output_type": "stream",
     "text": [
      "Epochs completed:  82%| █████████████████████████████████████████████████████████████████████████████████████████████████████████████████████████████████████████                                816/1000 [00:06]"
     ]
    },
    {
     "name": "stdout",
     "output_type": "stream",
     "text": [
      "\tcompleted  800  /  1000 epochs\n"
     ]
    },
    {
     "name": "stderr",
     "output_type": "stream",
     "text": [
      "Epochs completed:  93%| ████████████████████████████████████████████████████████████████████████████████████████████████████████████████████████████████████████████████████████████▉            934/1000 [00:07]"
     ]
    },
    {
     "name": "stdout",
     "output_type": "stream",
     "text": [
      "\tcompleted  900  /  1000 epochs\n"
     ]
    },
    {
     "name": "stderr",
     "output_type": "stream",
     "text": [
      "Epochs completed: 100%| ███████████████████████████████████████████████████████████████████████████████████████████████████████████████████████████████████████████████████████████████████████ 1000/1000 [00:07]\n"
     ]
    },
    {
     "name": "stdout",
     "output_type": "stream",
     "text": [
      "Sat Apr 26 11:20:41 2025 Finished embedding\n",
      "Sat Apr 26 11:20:45 2025 Worst tree score: 0.14639857\n",
      "Sat Apr 26 11:20:45 2025 Mean tree score: 0.14835507\n",
      "Sat Apr 26 11:20:45 2025 Best tree score: 0.15026331\n",
      "Sat Apr 26 11:20:48 2025 Forward diversification reduced edges from 229770 to 229770\n",
      "Sat Apr 26 11:20:50 2025 Reverse diversification reduced edges from 229770 to 229770\n",
      "Sat Apr 26 11:20:52 2025 Degree pruning reduced edges from 196124 to 192721\n",
      "Sat Apr 26 11:20:52 2025 Resorting data and graph based on tree order\n",
      "Sat Apr 26 11:20:52 2025 Building and compiling search function\n"
     ]
    },
    {
     "name": "stderr",
     "output_type": "stream",
     "text": [
      "Epochs completed:  67%| █████████████████████████████████████████████████████████████████████████████████████████████████████████████████▏                                                        223/333 [00:00]"
     ]
    },
    {
     "name": "stdout",
     "output_type": "stream",
     "text": [
      "\tcompleted  0  /  333 epochs\n",
      "\tcompleted  33  /  333 epochs\n",
      "\tcompleted  66  /  333 epochs\n",
      "\tcompleted  99  /  333 epochs\n",
      "\tcompleted  132  /  333 epochs\n",
      "\tcompleted  165  /  333 epochs\n",
      "\tcompleted  198  /  333 epochs\n"
     ]
    },
    {
     "name": "stderr",
     "output_type": "stream",
     "text": [
      "Epochs completed: 100%| █████████████████████████████████████████████████████████████████████████████████████████████████████████████████████████████████████████████████████████████████████████ 333/333 [00:00]\n"
     ]
    },
    {
     "name": "stdout",
     "output_type": "stream",
     "text": [
      "\tcompleted  231  /  333 epochs\n",
      "\tcompleted  264  /  333 epochs\n",
      "\tcompleted  297  /  333 epochs\n",
      "\tcompleted  330  /  333 epochs\n"
     ]
    },
    {
     "name": "stderr",
     "output_type": "stream",
     "text": [
      "Epochs completed: 100%| █████████████████████████████████████████████████████████████████████████████████████████████████████████████████████████████████████████████████████████████████████████ 333/333 [18:06]\n",
      "Epochs completed: 100%| █████████████████████████████████████████████████████████████████████████████████████████████████████████████████████████████████████████████████████████████████████████ 333/333 [02:13]\n"
     ]
    },
    {
     "name": "stdout",
     "output_type": "stream",
     "text": [
      "2 0.02\n",
      "UMAP(init='pca', min_dist=0.02, n_epochs=1000, n_jobs=95, n_neighbors=2, unique=True, verbose=True)\n",
      "Unique=True -> Number of data points reduced from  114885  to  114885\n",
      "Most common duplicate is 62991  with a count of  1\n",
      "Sat Apr 26 11:49:08 2025 Construct fuzzy simplicial set\n",
      "Sat Apr 26 11:49:08 2025 Finding Nearest Neighbors\n",
      "Sat Apr 26 11:49:08 2025 Building RP forest with 22 trees\n",
      "Sat Apr 26 11:49:08 2025 NN descent for 17 iterations\n",
      "\t 1  /  17\n",
      "\t 2  /  17\n",
      "\tStopping threshold met -- exiting after 2 iterations\n",
      "Sat Apr 26 11:49:10 2025 Finished Nearest Neighbor Search\n",
      "Sat Apr 26 11:49:10 2025 Construct embedding\n"
     ]
    },
    {
     "name": "stderr",
     "output_type": "stream",
     "text": [
      "Epochs completed:   0%|                                                                                                                                                                            0/1000 [00:00]"
     ]
    },
    {
     "name": "stdout",
     "output_type": "stream",
     "text": [
      "\tcompleted  0  /  1000 epochs\n"
     ]
    },
    {
     "name": "stderr",
     "output_type": "stream",
     "text": [
      "Epochs completed:  13%| █████████████████████▎                                                                                                                                                   127/1000 [00:00]"
     ]
    },
    {
     "name": "stdout",
     "output_type": "stream",
     "text": [
      "\tcompleted  100  /  1000 epochs\n"
     ]
    },
    {
     "name": "stderr",
     "output_type": "stream",
     "text": [
      "Epochs completed:  22%| █████████████████████████████████████▍                                                                                                                                   223/1000 [00:01]"
     ]
    },
    {
     "name": "stdout",
     "output_type": "stream",
     "text": [
      "\tcompleted  200  /  1000 epochs\n"
     ]
    },
    {
     "name": "stderr",
     "output_type": "stream",
     "text": [
      "Epochs completed:  32%| █████████████████████████████████████████████████████▌                                                                                                                   319/1000 [00:02]"
     ]
    },
    {
     "name": "stdout",
     "output_type": "stream",
     "text": [
      "\tcompleted  300  /  1000 epochs\n"
     ]
    },
    {
     "name": "stderr",
     "output_type": "stream",
     "text": [
      "Epochs completed:  44%| █████████████████████████████████████████████████████████████████████████▍                                                                                               437/1000 [00:02]"
     ]
    },
    {
     "name": "stdout",
     "output_type": "stream",
     "text": [
      "\tcompleted  400  /  1000 epochs\n"
     ]
    },
    {
     "name": "stderr",
     "output_type": "stream",
     "text": [
      "Epochs completed:  52%| ███████████████████████████████████████████████████████████████████████████████████████▊                                                                                 523/1000 [00:03]"
     ]
    },
    {
     "name": "stdout",
     "output_type": "stream",
     "text": [
      "\tcompleted  500  /  1000 epochs\n"
     ]
    },
    {
     "name": "stderr",
     "output_type": "stream",
     "text": [
      "Epochs completed:  62%| ████████████████████████████████████████████████████████████████████████████████████████████████████████▏                                                                620/1000 [00:03]"
     ]
    },
    {
     "name": "stdout",
     "output_type": "stream",
     "text": [
      "\tcompleted  600  /  1000 epochs\n"
     ]
    },
    {
     "name": "stderr",
     "output_type": "stream",
     "text": [
      "Epochs completed:  73%| ██████████████████████████████████████████████████████████████████████████████████████████████████████████████████████████▉                                              732/1000 [00:04]"
     ]
    },
    {
     "name": "stdout",
     "output_type": "stream",
     "text": [
      "\tcompleted  700  /  1000 epochs\n"
     ]
    },
    {
     "name": "stderr",
     "output_type": "stream",
     "text": [
      "Epochs completed:  83%| ███████████████████████████████████████████████████████████████████████████████████████████████████████████████████████████████████████████                              828/1000 [00:05]"
     ]
    },
    {
     "name": "stdout",
     "output_type": "stream",
     "text": [
      "\tcompleted  800  /  1000 epochs\n"
     ]
    },
    {
     "name": "stderr",
     "output_type": "stream",
     "text": [
      "Epochs completed:  92%| ███████████████████████████████████████████████████████████████████████████████████████████████████████████████████████████████████████████████████████████▍             925/1000 [00:05]"
     ]
    },
    {
     "name": "stdout",
     "output_type": "stream",
     "text": [
      "\tcompleted  900  /  1000 epochs\n"
     ]
    },
    {
     "name": "stderr",
     "output_type": "stream",
     "text": [
      "Epochs completed: 100%| ███████████████████████████████████████████████████████████████████████████████████████████████████████████████████████████████████████████████████████████████████████ 1000/1000 [00:06]\n"
     ]
    },
    {
     "name": "stdout",
     "output_type": "stream",
     "text": [
      "Sat Apr 26 11:49:16 2025 Finished embedding\n",
      "Sat Apr 26 11:49:19 2025 Worst tree score: 0.14510162\n",
      "Sat Apr 26 11:49:19 2025 Mean tree score: 0.14824390\n",
      "Sat Apr 26 11:49:19 2025 Best tree score: 0.15081168\n",
      "Sat Apr 26 11:49:20 2025 Forward diversification reduced edges from 229770 to 229770\n",
      "Sat Apr 26 11:49:20 2025 Reverse diversification reduced edges from 229770 to 229770\n",
      "Sat Apr 26 11:49:20 2025 Degree pruning reduced edges from 196108 to 192716\n",
      "Sat Apr 26 11:49:20 2025 Resorting data and graph based on tree order\n",
      "Sat Apr 26 11:49:20 2025 Building and compiling search function\n"
     ]
    },
    {
     "name": "stderr",
     "output_type": "stream",
     "text": [
      "Epochs completed:  61%| ███████████████████████████████████████████████████████████████████████████████████████████████████████                                                                   203/333 [00:00]"
     ]
    },
    {
     "name": "stdout",
     "output_type": "stream",
     "text": [
      "\tcompleted  0  /  333 epochs\n",
      "\tcompleted  33  /  333 epochs\n",
      "\tcompleted  66  /  333 epochs\n",
      "\tcompleted  99  /  333 epochs\n",
      "\tcompleted  132  /  333 epochs\n",
      "\tcompleted  165  /  333 epochs\n",
      "\tcompleted  198  /  333 epochs\n"
     ]
    },
    {
     "name": "stderr",
     "output_type": "stream",
     "text": [
      "Epochs completed: 100%| █████████████████████████████████████████████████████████████████████████████████████████████████████████████████████████████████████████████████████████████████████████ 333/333 [00:00]\n"
     ]
    },
    {
     "name": "stdout",
     "output_type": "stream",
     "text": [
      "\tcompleted  231  /  333 epochs\n",
      "\tcompleted  264  /  333 epochs\n",
      "\tcompleted  297  /  333 epochs\n",
      "\tcompleted  330  /  333 epochs\n"
     ]
    },
    {
     "name": "stderr",
     "output_type": "stream",
     "text": [
      "Epochs completed: 100%| █████████████████████████████████████████████████████████████████████████████████████████████████████████████████████████████████████████████████████████████████████████ 333/333 [17:16]\n",
      "Epochs completed: 100%| █████████████████████████████████████████████████████████████████████████████████████████████████████████████████████████████████████████████████████████████████████████ 333/333 [02:09]\n"
     ]
    },
    {
     "name": "stdout",
     "output_type": "stream",
     "text": [
      "2 0.05\n",
      "UMAP(init='pca', min_dist=0.05, n_epochs=1000, n_jobs=95, n_neighbors=2, unique=True, verbose=True)\n",
      "Unique=True -> Number of data points reduced from  114885  to  114885\n",
      "Most common duplicate is 62991  with a count of  1\n",
      "Sat Apr 26 12:16:53 2025 Construct fuzzy simplicial set\n",
      "Sat Apr 26 12:16:53 2025 Finding Nearest Neighbors\n",
      "Sat Apr 26 12:16:53 2025 Building RP forest with 22 trees\n",
      "Sat Apr 26 12:16:53 2025 NN descent for 17 iterations\n",
      "\t 1  /  17\n",
      "\t 2  /  17\n",
      "\tStopping threshold met -- exiting after 2 iterations\n",
      "Sat Apr 26 12:16:55 2025 Finished Nearest Neighbor Search\n",
      "Sat Apr 26 12:16:55 2025 Construct embedding\n"
     ]
    },
    {
     "name": "stderr",
     "output_type": "stream",
     "text": [
      "Epochs completed:   0%|                                                                                                                                                                            0/1000 [00:00]"
     ]
    },
    {
     "name": "stdout",
     "output_type": "stream",
     "text": [
      "\tcompleted  0  /  1000 epochs\n"
     ]
    },
    {
     "name": "stderr",
     "output_type": "stream",
     "text": [
      "Epochs completed:  12%| ████████████████████▋                                                                                                                                                    123/1000 [00:00]"
     ]
    },
    {
     "name": "stdout",
     "output_type": "stream",
     "text": [
      "\tcompleted  100  /  1000 epochs\n"
     ]
    },
    {
     "name": "stderr",
     "output_type": "stream",
     "text": [
      "Epochs completed:  22%| ████████████████████████████████████▉                                                                                                                                    220/1000 [00:01]"
     ]
    },
    {
     "name": "stdout",
     "output_type": "stream",
     "text": [
      "\tcompleted  200  /  1000 epochs\n"
     ]
    },
    {
     "name": "stderr",
     "output_type": "stream",
     "text": [
      "Epochs completed:  32%| █████████████████████████████████████████████████████▎                                                                                                                   317/1000 [00:02]"
     ]
    },
    {
     "name": "stdout",
     "output_type": "stream",
     "text": [
      "\tcompleted  300  /  1000 epochs\n"
     ]
    },
    {
     "name": "stderr",
     "output_type": "stream",
     "text": [
      "Epochs completed:  42%| ██████████████████████████████████████████████████████████████████████▋                                                                                                  421/1000 [00:02]"
     ]
    },
    {
     "name": "stdout",
     "output_type": "stream",
     "text": [
      "\tcompleted  400  /  1000 epochs\n"
     ]
    },
    {
     "name": "stderr",
     "output_type": "stream",
     "text": [
      "Epochs completed:  52%| ██████████████████████████████████████████████████████████████████████████████████████▊                                                                                  517/1000 [00:03]"
     ]
    },
    {
     "name": "stdout",
     "output_type": "stream",
     "text": [
      "\tcompleted  500  /  1000 epochs\n"
     ]
    },
    {
     "name": "stderr",
     "output_type": "stream",
     "text": [
      "Epochs completed:  63%| █████████████████████████████████████████████████████████████████████████████████████████████████████████▋                                                               629/1000 [00:04]"
     ]
    },
    {
     "name": "stdout",
     "output_type": "stream",
     "text": [
      "\tcompleted  600  /  1000 epochs\n"
     ]
    },
    {
     "name": "stderr",
     "output_type": "stream",
     "text": [
      "Epochs completed:  73%| █████████████████████████████████████████████████████████████████████████████████████████████████████████████████████████▉                                               726/1000 [00:04]"
     ]
    },
    {
     "name": "stdout",
     "output_type": "stream",
     "text": [
      "\tcompleted  700  /  1000 epochs\n"
     ]
    },
    {
     "name": "stderr",
     "output_type": "stream",
     "text": [
      "Epochs completed:  82%| ██████████████████████████████████████████████████████████████████████████████████████████████████████████████████████████████████████████                               822/1000 [00:05]"
     ]
    },
    {
     "name": "stdout",
     "output_type": "stream",
     "text": [
      "\tcompleted  800  /  1000 epochs\n"
     ]
    },
    {
     "name": "stderr",
     "output_type": "stream",
     "text": [
      "Epochs completed:  92%| ███████████████████████████████████████████████████████████████████████████████████████████████████████████████████████████████████████████████████████████▍             925/1000 [00:05]"
     ]
    },
    {
     "name": "stdout",
     "output_type": "stream",
     "text": [
      "\tcompleted  900  /  1000 epochs\n"
     ]
    },
    {
     "name": "stderr",
     "output_type": "stream",
     "text": [
      "Epochs completed: 100%| ███████████████████████████████████████████████████████████████████████████████████████████████████████████████████████████████████████████████████████████████████████ 1000/1000 [00:06]\n"
     ]
    },
    {
     "name": "stdout",
     "output_type": "stream",
     "text": [
      "Sat Apr 26 12:17:01 2025 Finished embedding\n",
      "Sat Apr 26 12:17:04 2025 Worst tree score: 0.14534535\n",
      "Sat Apr 26 12:17:04 2025 Mean tree score: 0.14802747\n",
      "Sat Apr 26 12:17:04 2025 Best tree score: 0.15056796\n",
      "Sat Apr 26 12:17:05 2025 Forward diversification reduced edges from 229770 to 229770\n",
      "Sat Apr 26 12:17:05 2025 Reverse diversification reduced edges from 229770 to 229770\n",
      "Sat Apr 26 12:17:05 2025 Degree pruning reduced edges from 196080 to 192639\n",
      "Sat Apr 26 12:17:05 2025 Resorting data and graph based on tree order\n",
      "Sat Apr 26 12:17:05 2025 Building and compiling search function\n"
     ]
    },
    {
     "name": "stderr",
     "output_type": "stream",
     "text": [
      "Epochs completed:  30%| ███████████████████████████████████████████████████▎                                                                                                                      101/333 [00:00]"
     ]
    },
    {
     "name": "stdout",
     "output_type": "stream",
     "text": [
      "\tcompleted  0  /  333 epochs\n",
      "\tcompleted  33  /  333 epochs\n",
      "\tcompleted  66  /  333 epochs\n",
      "\tcompleted  99  /  333 epochs\n",
      "\tcompleted  132  /  333 epochs\n",
      "\tcompleted  165  /  333 epochs\n",
      "\tcompleted  198  /  333 epochs\n"
     ]
    },
    {
     "name": "stderr",
     "output_type": "stream",
     "text": [
      "Epochs completed: 100%| █████████████████████████████████████████████████████████████████████████████████████████████████████████████████████████████████████████████████████████████████████████ 333/333 [00:00]\n"
     ]
    },
    {
     "name": "stdout",
     "output_type": "stream",
     "text": [
      "\tcompleted  231  /  333 epochs\n",
      "\tcompleted  264  /  333 epochs\n",
      "\tcompleted  297  /  333 epochs\n",
      "\tcompleted  330  /  333 epochs\n"
     ]
    },
    {
     "name": "stderr",
     "output_type": "stream",
     "text": [
      "Epochs completed: 100%| █████████████████████████████████████████████████████████████████████████████████████████████████████████████████████████████████████████████████████████████████████████ 333/333 [17:31]\n",
      "Epochs completed: 100%| █████████████████████████████████████████████████████████████████████████████████████████████████████████████████████████████████████████████████████████████████████████ 333/333 [02:09]\n"
     ]
    },
    {
     "name": "stdout",
     "output_type": "stream",
     "text": [
      "2 0.1\n",
      "UMAP(init='pca', n_epochs=1000, n_jobs=95, n_neighbors=2, unique=True, verbose=True)\n",
      "Unique=True -> Number of data points reduced from  114885  to  114885\n",
      "Most common duplicate is 62991  with a count of  1\n",
      "Sat Apr 26 12:43:48 2025 Construct fuzzy simplicial set\n",
      "Sat Apr 26 12:43:48 2025 Finding Nearest Neighbors\n",
      "Sat Apr 26 12:43:48 2025 Building RP forest with 22 trees\n",
      "Sat Apr 26 12:43:48 2025 NN descent for 17 iterations\n",
      "\t 1  /  17\n",
      "\t 2  /  17\n",
      "\tStopping threshold met -- exiting after 2 iterations\n",
      "Sat Apr 26 12:43:49 2025 Finished Nearest Neighbor Search\n",
      "Sat Apr 26 12:43:50 2025 Construct embedding\n"
     ]
    },
    {
     "name": "stderr",
     "output_type": "stream",
     "text": [
      "Epochs completed:   0%|                                                                                                                                                                            0/1000 [00:00]"
     ]
    },
    {
     "name": "stdout",
     "output_type": "stream",
     "text": [
      "\tcompleted  0  /  1000 epochs\n"
     ]
    },
    {
     "name": "stderr",
     "output_type": "stream",
     "text": [
      "Epochs completed:  13%| █████████████████████▎                                                                                                                                                   127/1000 [00:00]"
     ]
    },
    {
     "name": "stdout",
     "output_type": "stream",
     "text": [
      "\tcompleted  100  /  1000 epochs\n"
     ]
    },
    {
     "name": "stderr",
     "output_type": "stream",
     "text": [
      "Epochs completed:  22%| █████████████████████████████████████▍                                                                                                                                   223/1000 [00:01]"
     ]
    },
    {
     "name": "stdout",
     "output_type": "stream",
     "text": [
      "\tcompleted  200  /  1000 epochs\n"
     ]
    },
    {
     "name": "stderr",
     "output_type": "stream",
     "text": [
      "Epochs completed:  33%| ██████████████████████████████████████████████████████▊                                                                                                                  326/1000 [00:02]"
     ]
    },
    {
     "name": "stdout",
     "output_type": "stream",
     "text": [
      "\tcompleted  300  /  1000 epochs\n"
     ]
    },
    {
     "name": "stderr",
     "output_type": "stream",
     "text": [
      "Epochs completed:  42%| ███████████████████████████████████████████████████████████████████████                                                                                                  423/1000 [00:02]"
     ]
    },
    {
     "name": "stdout",
     "output_type": "stream",
     "text": [
      "\tcompleted  400  /  1000 epochs\n"
     ]
    },
    {
     "name": "stderr",
     "output_type": "stream",
     "text": [
      "Epochs completed:  52%| ███████████████████████████████████████████████████████████████████████████████████████▎                                                                                 520/1000 [00:03]"
     ]
    },
    {
     "name": "stdout",
     "output_type": "stream",
     "text": [
      "\tcompleted  500  /  1000 epochs\n"
     ]
    },
    {
     "name": "stderr",
     "output_type": "stream",
     "text": [
      "Epochs completed:  63%| ██████████████████████████████████████████████████████████████████████████████████████████████████████████▏                                                              632/1000 [00:04]"
     ]
    },
    {
     "name": "stdout",
     "output_type": "stream",
     "text": [
      "\tcompleted  600  /  1000 epochs\n"
     ]
    },
    {
     "name": "stderr",
     "output_type": "stream",
     "text": [
      "Epochs completed:  73%| ██████████████████████████████████████████████████████████████████████████████████████████████████████████████████████████▎                                              728/1000 [00:04]"
     ]
    },
    {
     "name": "stdout",
     "output_type": "stream",
     "text": [
      "\tcompleted  700  /  1000 epochs\n"
     ]
    },
    {
     "name": "stderr",
     "output_type": "stream",
     "text": [
      "Epochs completed:  83%| ███████████████████████████████████████████████████████████████████████████████████████████████████████████████████████████████████████████▌                             831/1000 [00:05]"
     ]
    },
    {
     "name": "stdout",
     "output_type": "stream",
     "text": [
      "\tcompleted  800  /  1000 epochs\n"
     ]
    },
    {
     "name": "stderr",
     "output_type": "stream",
     "text": [
      "Epochs completed:  93%| ████████████████████████████████████████████████████████████████████████████████████████████████████████████████████████████████████████████████████████████             929/1000 [00:05]"
     ]
    },
    {
     "name": "stdout",
     "output_type": "stream",
     "text": [
      "\tcompleted  900  /  1000 epochs\n"
     ]
    },
    {
     "name": "stderr",
     "output_type": "stream",
     "text": [
      "Epochs completed: 100%| ███████████████████████████████████████████████████████████████████████████████████████████████████████████████████████████████████████████████████████████████████████ 1000/1000 [00:06]\n"
     ]
    },
    {
     "name": "stdout",
     "output_type": "stream",
     "text": [
      "Sat Apr 26 12:43:56 2025 Finished embedding\n",
      "Sat Apr 26 12:43:59 2025 Worst tree score: 0.14529312\n",
      "Sat Apr 26 12:43:59 2025 Mean tree score: 0.14827080\n",
      "Sat Apr 26 12:43:59 2025 Best tree score: 0.14988902\n",
      "Sat Apr 26 12:44:00 2025 Forward diversification reduced edges from 229770 to 229770\n",
      "Sat Apr 26 12:44:00 2025 Reverse diversification reduced edges from 229770 to 229770\n",
      "Sat Apr 26 12:44:00 2025 Degree pruning reduced edges from 196184 to 192719\n",
      "Sat Apr 26 12:44:00 2025 Resorting data and graph based on tree order\n",
      "Sat Apr 26 12:44:00 2025 Building and compiling search function\n"
     ]
    },
    {
     "name": "stderr",
     "output_type": "stream",
     "text": [
      "Epochs completed:  68%| ███████████████████████████████████████████████████████████████████████████████████████████████████████████████████▏                                                      227/333 [00:00]"
     ]
    },
    {
     "name": "stdout",
     "output_type": "stream",
     "text": [
      "\tcompleted  0  /  333 epochs\n",
      "\tcompleted  33  /  333 epochs\n",
      "\tcompleted  66  /  333 epochs\n",
      "\tcompleted  99  /  333 epochs\n",
      "\tcompleted  132  /  333 epochs\n",
      "\tcompleted  165  /  333 epochs\n",
      "\tcompleted  198  /  333 epochs\n"
     ]
    },
    {
     "name": "stderr",
     "output_type": "stream",
     "text": [
      "Epochs completed: 100%| █████████████████████████████████████████████████████████████████████████████████████████████████████████████████████████████████████████████████████████████████████████ 333/333 [00:00]\n"
     ]
    },
    {
     "name": "stdout",
     "output_type": "stream",
     "text": [
      "\tcompleted  231  /  333 epochs\n",
      "\tcompleted  264  /  333 epochs\n",
      "\tcompleted  297  /  333 epochs\n",
      "\tcompleted  330  /  333 epochs\n"
     ]
    },
    {
     "name": "stderr",
     "output_type": "stream",
     "text": [
      "Epochs completed: 100%| █████████████████████████████████████████████████████████████████████████████████████████████████████████████████████████████████████████████████████████████████████████ 333/333 [17:56]\n",
      "Epochs completed: 100%| █████████████████████████████████████████████████████████████████████████████████████████████████████████████████████████████████████████████████████████████████████████ 333/333 [02:14]\n"
     ]
    },
    {
     "name": "stdout",
     "output_type": "stream",
     "text": [
      "2 0.2\n",
      "UMAP(init='pca', min_dist=0.2, n_epochs=1000, n_jobs=95, n_neighbors=2, unique=True, verbose=True)\n",
      "Unique=True -> Number of data points reduced from  114885  to  114885\n",
      "Most common duplicate is 62991  with a count of  1\n",
      "Sat Apr 26 13:10:36 2025 Construct fuzzy simplicial set\n",
      "Sat Apr 26 13:10:36 2025 Finding Nearest Neighbors\n",
      "Sat Apr 26 13:10:36 2025 Building RP forest with 22 trees\n",
      "Sat Apr 26 13:10:36 2025 NN descent for 17 iterations\n",
      "\t 1  /  17\n",
      "\t 2  /  17\n",
      "\tStopping threshold met -- exiting after 2 iterations\n",
      "Sat Apr 26 13:10:38 2025 Finished Nearest Neighbor Search\n",
      "Sat Apr 26 13:10:38 2025 Construct embedding\n"
     ]
    },
    {
     "name": "stderr",
     "output_type": "stream",
     "text": [
      "Epochs completed:   2%| ██▋                                                                                                                                                                       16/1000 [00:00]"
     ]
    },
    {
     "name": "stdout",
     "output_type": "stream",
     "text": [
      "\tcompleted  0  /  1000 epochs\n"
     ]
    },
    {
     "name": "stderr",
     "output_type": "stream",
     "text": [
      "Epochs completed:  13%| █████████████████████▌                                                                                                                                                   128/1000 [00:00]"
     ]
    },
    {
     "name": "stdout",
     "output_type": "stream",
     "text": [
      "\tcompleted  100  /  1000 epochs\n"
     ]
    },
    {
     "name": "stderr",
     "output_type": "stream",
     "text": [
      "Epochs completed:  22%| █████████████████████████████████████▋                                                                                                                                   224/1000 [00:01]"
     ]
    },
    {
     "name": "stdout",
     "output_type": "stream",
     "text": [
      "\tcompleted  200  /  1000 epochs\n"
     ]
    },
    {
     "name": "stderr",
     "output_type": "stream",
     "text": [
      "Epochs completed:  32%| ██████████████████████████████████████████████████████▎                                                                                                                  323/1000 [00:02]"
     ]
    },
    {
     "name": "stdout",
     "output_type": "stream",
     "text": [
      "\tcompleted  300  /  1000 epochs\n"
     ]
    },
    {
     "name": "stderr",
     "output_type": "stream",
     "text": [
      "Epochs completed:  42%| ██████████████████████████████████████████████████████████████████████▍                                                                                                  419/1000 [00:02]"
     ]
    },
    {
     "name": "stdout",
     "output_type": "stream",
     "text": [
      "\tcompleted  400  /  1000 epochs\n"
     ]
    },
    {
     "name": "stderr",
     "output_type": "stream",
     "text": [
      "Epochs completed:  53%| █████████████████████████████████████████████████████████████████████████████████████████▍                                                                               532/1000 [00:03]"
     ]
    },
    {
     "name": "stdout",
     "output_type": "stream",
     "text": [
      "\tcompleted  500  /  1000 epochs\n"
     ]
    },
    {
     "name": "stderr",
     "output_type": "stream",
     "text": [
      "Epochs completed:  63%| █████████████████████████████████████████████████████████████████████████████████████████████████████████▌                                                               628/1000 [00:04]"
     ]
    },
    {
     "name": "stdout",
     "output_type": "stream",
     "text": [
      "\tcompleted  600  /  1000 epochs\n"
     ]
    },
    {
     "name": "stderr",
     "output_type": "stream",
     "text": [
      "Epochs completed:  73%| ██████████████████████████████████████████████████████████████████████████████████████████████████████████████████████████▏                                              727/1000 [00:04]"
     ]
    },
    {
     "name": "stdout",
     "output_type": "stream",
     "text": [
      "\tcompleted  700  /  1000 epochs\n"
     ]
    },
    {
     "name": "stderr",
     "output_type": "stream",
     "text": [
      "Epochs completed:  83%| ███████████████████████████████████████████████████████████████████████████████████████████████████████████████████████████████████████████▎                             829/1000 [00:05]"
     ]
    },
    {
     "name": "stdout",
     "output_type": "stream",
     "text": [
      "\tcompleted  800  /  1000 epochs\n"
     ]
    },
    {
     "name": "stderr",
     "output_type": "stream",
     "text": [
      "Epochs completed:  93%| ███████████████████████████████████████████████████████████████████████████████████████████████████████████████████████████████████████████████████████████▌             926/1000 [00:05]"
     ]
    },
    {
     "name": "stdout",
     "output_type": "stream",
     "text": [
      "\tcompleted  900  /  1000 epochs\n"
     ]
    },
    {
     "name": "stderr",
     "output_type": "stream",
     "text": [
      "Epochs completed: 100%| ███████████████████████████████████████████████████████████████████████████████████████████████████████████████████████████████████████████████████████████████████████ 1000/1000 [00:06]\n"
     ]
    },
    {
     "name": "stdout",
     "output_type": "stream",
     "text": [
      "Sat Apr 26 13:10:45 2025 Finished embedding\n",
      "Sat Apr 26 13:10:48 2025 Worst tree score: 0.14683379\n",
      "Sat Apr 26 13:10:48 2025 Mean tree score: 0.14886151\n",
      "Sat Apr 26 13:10:48 2025 Best tree score: 0.15115115\n",
      "Sat Apr 26 13:10:48 2025 Forward diversification reduced edges from 229770 to 229770\n",
      "Sat Apr 26 13:10:48 2025 Reverse diversification reduced edges from 229770 to 229770\n",
      "Sat Apr 26 13:10:48 2025 Degree pruning reduced edges from 196102 to 192678\n",
      "Sat Apr 26 13:10:48 2025 Resorting data and graph based on tree order\n",
      "Sat Apr 26 13:10:48 2025 Building and compiling search function\n"
     ]
    },
    {
     "name": "stderr",
     "output_type": "stream",
     "text": [
      "Epochs completed:  64%| ████████████████████████████████████████████████████████████████████████████████████████████████████████████                                                              213/333 [00:00]"
     ]
    },
    {
     "name": "stdout",
     "output_type": "stream",
     "text": [
      "\tcompleted  0  /  333 epochs\n",
      "\tcompleted  33  /  333 epochs\n",
      "\tcompleted  66  /  333 epochs\n",
      "\tcompleted  99  /  333 epochs\n",
      "\tcompleted  132  /  333 epochs\n",
      "\tcompleted  165  /  333 epochs\n",
      "\tcompleted  198  /  333 epochs\n"
     ]
    },
    {
     "name": "stderr",
     "output_type": "stream",
     "text": [
      "Epochs completed: 100%| █████████████████████████████████████████████████████████████████████████████████████████████████████████████████████████████████████████████████████████████████████████ 333/333 [00:00]\n"
     ]
    },
    {
     "name": "stdout",
     "output_type": "stream",
     "text": [
      "\tcompleted  231  /  333 epochs\n",
      "\tcompleted  264  /  333 epochs\n",
      "\tcompleted  297  /  333 epochs\n",
      "\tcompleted  330  /  333 epochs\n"
     ]
    },
    {
     "name": "stderr",
     "output_type": "stream",
     "text": [
      "Epochs completed: 100%| █████████████████████████████████████████████████████████████████████████████████████████████████████████████████████████████████████████████████████████████████████████ 333/333 [18:00]\n",
      "Epochs completed: 100%| █████████████████████████████████████████████████████████████████████████████████████████████████████████████████████████████████████████████████████████████████████████ 333/333 [02:14]\n"
     ]
    },
    {
     "name": "stdout",
     "output_type": "stream",
     "text": [
      "2 0.5\n",
      "UMAP(init='pca', min_dist=0.5, n_epochs=1000, n_jobs=95, n_neighbors=2, unique=True, verbose=True)\n",
      "Unique=True -> Number of data points reduced from  114885  to  114885\n",
      "Most common duplicate is 62991  with a count of  1\n",
      "Sat Apr 26 13:37:26 2025 Construct fuzzy simplicial set\n",
      "Sat Apr 26 13:37:26 2025 Finding Nearest Neighbors\n",
      "Sat Apr 26 13:37:26 2025 Building RP forest with 22 trees\n",
      "Sat Apr 26 13:37:27 2025 NN descent for 17 iterations\n",
      "\t 1  /  17\n",
      "\t 2  /  17\n",
      "\tStopping threshold met -- exiting after 2 iterations\n",
      "Sat Apr 26 13:37:28 2025 Finished Nearest Neighbor Search\n",
      "Sat Apr 26 13:37:28 2025 Construct embedding\n"
     ]
    },
    {
     "name": "stderr",
     "output_type": "stream",
     "text": [
      "Epochs completed:   2%| ██▌                                                                                                                                                                       15/1000 [00:00]"
     ]
    },
    {
     "name": "stdout",
     "output_type": "stream",
     "text": [
      "\tcompleted  0  /  1000 epochs\n"
     ]
    },
    {
     "name": "stderr",
     "output_type": "stream",
     "text": [
      "Epochs completed:  13%| █████████████████████▎                                                                                                                                                   127/1000 [00:00]"
     ]
    },
    {
     "name": "stdout",
     "output_type": "stream",
     "text": [
      "\tcompleted  100  /  1000 epochs\n"
     ]
    },
    {
     "name": "stderr",
     "output_type": "stream",
     "text": [
      "Epochs completed:  22%| █████████████████████████████████████▍                                                                                                                                   223/1000 [00:01]"
     ]
    },
    {
     "name": "stdout",
     "output_type": "stream",
     "text": [
      "\tcompleted  200  /  1000 epochs\n"
     ]
    },
    {
     "name": "stderr",
     "output_type": "stream",
     "text": [
      "Epochs completed:  34%| █████████████████████████████████████████████████████████▎                                                                                                               341/1000 [00:02]"
     ]
    },
    {
     "name": "stdout",
     "output_type": "stream",
     "text": [
      "\tcompleted  300  /  1000 epochs\n"
     ]
    },
    {
     "name": "stderr",
     "output_type": "stream",
     "text": [
      "Epochs completed:  42%| ██████████████████████████████████████████████████████████████████████▍                                                                                                  419/1000 [00:02]"
     ]
    },
    {
     "name": "stdout",
     "output_type": "stream",
     "text": [
      "\tcompleted  400  /  1000 epochs\n"
     ]
    },
    {
     "name": "stderr",
     "output_type": "stream",
     "text": [
      "Epochs completed:  52%| ███████████████████████████████████████████████████████████████████████████████████████                                                                                  518/1000 [00:03]"
     ]
    },
    {
     "name": "stdout",
     "output_type": "stream",
     "text": [
      "\tcompleted  500  /  1000 epochs\n"
     ]
    },
    {
     "name": "stderr",
     "output_type": "stream",
     "text": [
      "Epochs completed:  63%| █████████████████████████████████████████████████████████████████████████████████████████████████████████▊                                                               630/1000 [00:03]"
     ]
    },
    {
     "name": "stdout",
     "output_type": "stream",
     "text": [
      "\tcompleted  600  /  1000 epochs\n"
     ]
    },
    {
     "name": "stderr",
     "output_type": "stream",
     "text": [
      "Epochs completed:  73%| ██████████████████████████████████████████████████████████████████████████████████████████████████████████████████████████▏                                              727/1000 [00:04]"
     ]
    },
    {
     "name": "stdout",
     "output_type": "stream",
     "text": [
      "\tcompleted  700  /  1000 epochs\n"
     ]
    },
    {
     "name": "stderr",
     "output_type": "stream",
     "text": [
      "Epochs completed:  83%| ███████████████████████████████████████████████████████████████████████████████████████████████████████████████████████████████████████████                              828/1000 [00:05]"
     ]
    },
    {
     "name": "stdout",
     "output_type": "stream",
     "text": [
      "\tcompleted  800  /  1000 epochs\n"
     ]
    },
    {
     "name": "stderr",
     "output_type": "stream",
     "text": [
      "Epochs completed:  93%| ████████████████████████████████████████████████████████████████████████████████████████████████████████████████████████████████████████████████████████████▍            931/1000 [00:05]"
     ]
    },
    {
     "name": "stdout",
     "output_type": "stream",
     "text": [
      "\tcompleted  900  /  1000 epochs\n"
     ]
    },
    {
     "name": "stderr",
     "output_type": "stream",
     "text": [
      "Epochs completed: 100%| ███████████████████████████████████████████████████████████████████████████████████████████████████████████████████████████████████████████████████████████████████████ 1000/1000 [00:06]\n"
     ]
    },
    {
     "name": "stdout",
     "output_type": "stream",
     "text": [
      "Sat Apr 26 13:37:35 2025 Finished embedding\n",
      "Sat Apr 26 13:37:38 2025 Worst tree score: 0.14575445\n",
      "Sat Apr 26 13:37:38 2025 Mean tree score: 0.14837367\n",
      "Sat Apr 26 13:37:38 2025 Best tree score: 0.15041128\n",
      "Sat Apr 26 13:37:38 2025 Forward diversification reduced edges from 229770 to 229770\n",
      "Sat Apr 26 13:37:38 2025 Reverse diversification reduced edges from 229770 to 229770\n",
      "Sat Apr 26 13:37:38 2025 Degree pruning reduced edges from 196090 to 192654\n",
      "Sat Apr 26 13:37:38 2025 Resorting data and graph based on tree order\n",
      "Sat Apr 26 13:37:38 2025 Building and compiling search function\n"
     ]
    },
    {
     "name": "stderr",
     "output_type": "stream",
     "text": [
      "Epochs completed:  32%| ██████████████████████████████████████████████████████▊                                                                                                                   108/333 [00:00]"
     ]
    },
    {
     "name": "stdout",
     "output_type": "stream",
     "text": [
      "\tcompleted  0  /  333 epochs\n",
      "\tcompleted  33  /  333 epochs\n",
      "\tcompleted  66  /  333 epochs\n",
      "\tcompleted  99  /  333 epochs\n",
      "\tcompleted  132  /  333 epochs\n",
      "\tcompleted  165  /  333 epochs\n",
      "\tcompleted  198  /  333 epochs\n"
     ]
    },
    {
     "name": "stderr",
     "output_type": "stream",
     "text": [
      "Epochs completed: 100%| █████████████████████████████████████████████████████████████████████████████████████████████████████████████████████████████████████████████████████████████████████████ 333/333 [00:00]\n"
     ]
    },
    {
     "name": "stdout",
     "output_type": "stream",
     "text": [
      "\tcompleted  231  /  333 epochs\n",
      "\tcompleted  264  /  333 epochs\n",
      "\tcompleted  297  /  333 epochs\n",
      "\tcompleted  330  /  333 epochs\n"
     ]
    },
    {
     "name": "stderr",
     "output_type": "stream",
     "text": [
      "Epochs completed: 100%| █████████████████████████████████████████████████████████████████████████████████████████████████████████████████████████████████████████████████████████████████████████ 333/333 [18:29]\n",
      "Epochs completed: 100%| █████████████████████████████████████████████████████████████████████████████████████████████████████████████████████████████████████████████████████████████████████████ 333/333 [02:19]\n"
     ]
    },
    {
     "name": "stdout",
     "output_type": "stream",
     "text": [
      "2 0.8\n",
      "UMAP(init='pca', min_dist=0.8, n_epochs=1000, n_jobs=95, n_neighbors=2, unique=True, verbose=True)\n",
      "Unique=True -> Number of data points reduced from  114885  to  114885\n",
      "Most common duplicate is 62991  with a count of  1\n",
      "Sat Apr 26 14:04:47 2025 Construct fuzzy simplicial set\n",
      "Sat Apr 26 14:04:47 2025 Finding Nearest Neighbors\n",
      "Sat Apr 26 14:04:47 2025 Building RP forest with 22 trees\n",
      "Sat Apr 26 14:04:47 2025 NN descent for 17 iterations\n",
      "\t 1  /  17\n",
      "\t 2  /  17\n",
      "\tStopping threshold met -- exiting after 2 iterations\n",
      "Sat Apr 26 14:04:48 2025 Finished Nearest Neighbor Search\n",
      "Sat Apr 26 14:04:49 2025 Construct embedding\n"
     ]
    },
    {
     "name": "stderr",
     "output_type": "stream",
     "text": [
      "Epochs completed:   1%| ██▎                                                                                                                                                                       14/1000 [00:00]"
     ]
    },
    {
     "name": "stdout",
     "output_type": "stream",
     "text": [
      "\tcompleted  0  /  1000 epochs\n"
     ]
    },
    {
     "name": "stderr",
     "output_type": "stream",
     "text": [
      "Epochs completed:  12%| █████████████████████                                                                                                                                                    125/1000 [00:00]"
     ]
    },
    {
     "name": "stdout",
     "output_type": "stream",
     "text": [
      "\tcompleted  100  /  1000 epochs\n"
     ]
    },
    {
     "name": "stderr",
     "output_type": "stream",
     "text": [
      "Epochs completed:  22%| █████████████████████████████████████▋                                                                                                                                   224/1000 [00:01]"
     ]
    },
    {
     "name": "stdout",
     "output_type": "stream",
     "text": [
      "\tcompleted  200  /  1000 epochs\n"
     ]
    },
    {
     "name": "stderr",
     "output_type": "stream",
     "text": [
      "Epochs completed:  32%| ██████████████████████████████████████████████████████▌                                                                                                                  325/1000 [00:02]"
     ]
    },
    {
     "name": "stdout",
     "output_type": "stream",
     "text": [
      "\tcompleted  300  /  1000 epochs\n"
     ]
    },
    {
     "name": "stderr",
     "output_type": "stream",
     "text": [
      "Epochs completed:  42%| ██████████████████████████████████████████████████████████████████████▋                                                                                                  421/1000 [00:02]"
     ]
    },
    {
     "name": "stdout",
     "output_type": "stream",
     "text": [
      "\tcompleted  400  /  1000 epochs\n"
     ]
    },
    {
     "name": "stderr",
     "output_type": "stream",
     "text": [
      "Epochs completed:  52%| ██████████████████████████████████████████████████████████████████████████████████████▊                                                                                  517/1000 [00:03]"
     ]
    },
    {
     "name": "stdout",
     "output_type": "stream",
     "text": [
      "\tcompleted  500  /  1000 epochs\n"
     ]
    },
    {
     "name": "stderr",
     "output_type": "stream",
     "text": [
      "Epochs completed:  63%| █████████████████████████████████████████████████████████████████████████████████████████████████████████▊                                                               630/1000 [00:04]"
     ]
    },
    {
     "name": "stdout",
     "output_type": "stream",
     "text": [
      "\tcompleted  600  /  1000 epochs\n"
     ]
    },
    {
     "name": "stderr",
     "output_type": "stream",
     "text": [
      "Epochs completed:  73%| ███████████████████████████████████████████████████████████████████████████████████████████████████████████████████████████▎                                             734/1000 [00:04]"
     ]
    },
    {
     "name": "stdout",
     "output_type": "stream",
     "text": [
      "\tcompleted  700  /  1000 epochs\n"
     ]
    },
    {
     "name": "stderr",
     "output_type": "stream",
     "text": [
      "Epochs completed:  82%| █████████████████████████████████████████████████████████████████████████████████████████████████████████████████████████████████████████▊                               820/1000 [00:05]"
     ]
    },
    {
     "name": "stdout",
     "output_type": "stream",
     "text": [
      "\tcompleted  800  /  1000 epochs\n"
     ]
    },
    {
     "name": "stderr",
     "output_type": "stream",
     "text": [
      "Epochs completed:  93%| ████████████████████████████████████████████████████████████████████████████████████████████████████████████████████████████████████████████████████████████▌            932/1000 [00:05]"
     ]
    },
    {
     "name": "stdout",
     "output_type": "stream",
     "text": [
      "\tcompleted  900  /  1000 epochs\n"
     ]
    },
    {
     "name": "stderr",
     "output_type": "stream",
     "text": [
      "Epochs completed: 100%| ███████████████████████████████████████████████████████████████████████████████████████████████████████████████████████████████████████████████████████████████████████ 1000/1000 [00:06]\n"
     ]
    },
    {
     "name": "stdout",
     "output_type": "stream",
     "text": [
      "Sat Apr 26 14:04:55 2025 Finished embedding\n",
      "Sat Apr 26 14:04:58 2025 Worst tree score: 0.14551943\n",
      "Sat Apr 26 14:04:58 2025 Mean tree score: 0.14807574\n",
      "Sat Apr 26 14:04:58 2025 Best tree score: 0.15017626\n",
      "Sat Apr 26 14:04:59 2025 Forward diversification reduced edges from 229770 to 229770\n",
      "Sat Apr 26 14:04:59 2025 Reverse diversification reduced edges from 229770 to 229770\n",
      "Sat Apr 26 14:04:59 2025 Degree pruning reduced edges from 196122 to 192771\n",
      "Sat Apr 26 14:04:59 2025 Resorting data and graph based on tree order\n",
      "Sat Apr 26 14:04:59 2025 Building and compiling search function\n"
     ]
    },
    {
     "name": "stderr",
     "output_type": "stream",
     "text": [
      "Epochs completed:  66%| ████████████████████████████████████████████████████████████████████████████████████████████████████████████████▏                                                         221/333 [00:00]"
     ]
    },
    {
     "name": "stdout",
     "output_type": "stream",
     "text": [
      "\tcompleted  0  /  333 epochs\n",
      "\tcompleted  33  /  333 epochs\n",
      "\tcompleted  66  /  333 epochs\n",
      "\tcompleted  99  /  333 epochs\n",
      "\tcompleted  132  /  333 epochs\n",
      "\tcompleted  165  /  333 epochs\n",
      "\tcompleted  198  /  333 epochs\n"
     ]
    },
    {
     "name": "stderr",
     "output_type": "stream",
     "text": [
      "Epochs completed: 100%| █████████████████████████████████████████████████████████████████████████████████████████████████████████████████████████████████████████████████████████████████████████ 333/333 [00:00]\n"
     ]
    },
    {
     "name": "stdout",
     "output_type": "stream",
     "text": [
      "\tcompleted  231  /  333 epochs\n",
      "\tcompleted  264  /  333 epochs\n",
      "\tcompleted  297  /  333 epochs\n",
      "\tcompleted  330  /  333 epochs\n"
     ]
    },
    {
     "name": "stderr",
     "output_type": "stream",
     "text": [
      "Epochs completed: 100%| █████████████████████████████████████████████████████████████████████████████████████████████████████████████████████████████████████████████████████████████████████████ 333/333 [18:22]\n",
      "Epochs completed: 100%| █████████████████████████████████████████████████████████████████████████████████████████████████████████████████████████████████████████████████████████████████████████ 333/333 [02:19]\n"
     ]
    },
    {
     "name": "stdout",
     "output_type": "stream",
     "text": [
      "2 0.99\n",
      "UMAP(init='pca', min_dist=0.99, n_epochs=1000, n_jobs=95, n_neighbors=2, unique=True, verbose=True)\n",
      "Unique=True -> Number of data points reduced from  114885  to  114885\n",
      "Most common duplicate is 62991  with a count of  1\n",
      "Sat Apr 26 14:31:58 2025 Construct fuzzy simplicial set\n",
      "Sat Apr 26 14:31:58 2025 Finding Nearest Neighbors\n",
      "Sat Apr 26 14:31:58 2025 Building RP forest with 22 trees\n",
      "Sat Apr 26 14:31:59 2025 NN descent for 17 iterations\n",
      "\t 1  /  17\n",
      "\t 2  /  17\n",
      "\tStopping threshold met -- exiting after 2 iterations\n",
      "Sat Apr 26 14:32:00 2025 Finished Nearest Neighbor Search\n",
      "Sat Apr 26 14:32:00 2025 Construct embedding\n"
     ]
    },
    {
     "name": "stderr",
     "output_type": "stream",
     "text": [
      "Epochs completed:   2%| ██▋                                                                                                                                                                       16/1000 [00:00]"
     ]
    },
    {
     "name": "stdout",
     "output_type": "stream",
     "text": [
      "\tcompleted  0  /  1000 epochs\n"
     ]
    },
    {
     "name": "stderr",
     "output_type": "stream",
     "text": [
      "Epochs completed:  12%| ████████████████████▎                                                                                                                                                    121/1000 [00:00]"
     ]
    },
    {
     "name": "stdout",
     "output_type": "stream",
     "text": [
      "\tcompleted  100  /  1000 epochs\n"
     ]
    },
    {
     "name": "stderr",
     "output_type": "stream",
     "text": [
      "Epochs completed:  22%| ████████████████████████████████████▌                                                                                                                                    218/1000 [00:01]"
     ]
    },
    {
     "name": "stdout",
     "output_type": "stream",
     "text": [
      "\tcompleted  200  /  1000 epochs\n"
     ]
    },
    {
     "name": "stderr",
     "output_type": "stream",
     "text": [
      "Epochs completed:  33%| ███████████████████████████████████████████████████████▍                                                                                                                 330/1000 [00:02]"
     ]
    },
    {
     "name": "stdout",
     "output_type": "stream",
     "text": [
      "\tcompleted  300  /  1000 epochs\n"
     ]
    },
    {
     "name": "stderr",
     "output_type": "stream",
     "text": [
      "Epochs completed:  43%| ███████████████████████████████████████████████████████████████████████▌                                                                                                 426/1000 [00:02]"
     ]
    },
    {
     "name": "stdout",
     "output_type": "stream",
     "text": [
      "\tcompleted  400  /  1000 epochs\n"
     ]
    },
    {
     "name": "stderr",
     "output_type": "stream",
     "text": [
      "Epochs completed:  52%| ███████████████████████████████████████████████████████████████████████████████████████▊                                                                                 523/1000 [00:03]"
     ]
    },
    {
     "name": "stdout",
     "output_type": "stream",
     "text": [
      "\tcompleted  500  /  1000 epochs\n"
     ]
    },
    {
     "name": "stderr",
     "output_type": "stream",
     "text": [
      "Epochs completed:  63%| █████████████████████████████████████████████████████████████████████████████████████████████████████████▊                                                               630/1000 [00:03]"
     ]
    },
    {
     "name": "stdout",
     "output_type": "stream",
     "text": [
      "\tcompleted  600  /  1000 epochs\n"
     ]
    },
    {
     "name": "stderr",
     "output_type": "stream",
     "text": [
      "Epochs completed:  73%| █████████████████████████████████████████████████████████████████████████████████████████████████████████████████████████▉                                               726/1000 [00:04]"
     ]
    },
    {
     "name": "stdout",
     "output_type": "stream",
     "text": [
      "\tcompleted  700  /  1000 epochs\n"
     ]
    },
    {
     "name": "stderr",
     "output_type": "stream",
     "text": [
      "Epochs completed:  82%| ██████████████████████████████████████████████████████████████████████████████████████████████████████████████████████████████████████████                               822/1000 [00:05]"
     ]
    },
    {
     "name": "stdout",
     "output_type": "stream",
     "text": [
      "\tcompleted  800  /  1000 epochs\n"
     ]
    },
    {
     "name": "stderr",
     "output_type": "stream",
     "text": [
      "Epochs completed:  92%| ██████████████████████████████████████████████████████████████████████████████████████████████████████████████████████████████████████████████████████████▏              918/1000 [00:05]"
     ]
    },
    {
     "name": "stdout",
     "output_type": "stream",
     "text": [
      "\tcompleted  900  /  1000 epochs\n"
     ]
    },
    {
     "name": "stderr",
     "output_type": "stream",
     "text": [
      "Epochs completed: 100%| ███████████████████████████████████████████████████████████████████████████████████████████████████████████████████████████████████████████████████████████████████████ 1000/1000 [00:06]\n"
     ]
    },
    {
     "name": "stdout",
     "output_type": "stream",
     "text": [
      "Sat Apr 26 14:32:07 2025 Finished embedding\n",
      "Sat Apr 26 14:32:10 2025 Worst tree score: 0.14515385\n",
      "Sat Apr 26 14:32:10 2025 Mean tree score: 0.14835982\n",
      "Sat Apr 26 14:32:10 2025 Best tree score: 0.14987161\n",
      "Sat Apr 26 14:32:10 2025 Forward diversification reduced edges from 229770 to 229770\n",
      "Sat Apr 26 14:32:10 2025 Reverse diversification reduced edges from 229770 to 229770\n",
      "Sat Apr 26 14:32:10 2025 Degree pruning reduced edges from 196046 to 192600\n",
      "Sat Apr 26 14:32:10 2025 Resorting data and graph based on tree order\n",
      "Sat Apr 26 14:32:10 2025 Building and compiling search function\n"
     ]
    },
    {
     "name": "stderr",
     "output_type": "stream",
     "text": [
      "Epochs completed:  65%| █████████████████████████████████████████████████████████████████████████████████████████████████████████████                                                             215/333 [00:00]"
     ]
    },
    {
     "name": "stdout",
     "output_type": "stream",
     "text": [
      "\tcompleted  0  /  333 epochs\n",
      "\tcompleted  33  /  333 epochs\n",
      "\tcompleted  66  /  333 epochs\n",
      "\tcompleted  99  /  333 epochs\n",
      "\tcompleted  132  /  333 epochs\n",
      "\tcompleted  165  /  333 epochs\n",
      "\tcompleted  198  /  333 epochs\n"
     ]
    },
    {
     "name": "stderr",
     "output_type": "stream",
     "text": [
      "Epochs completed: 100%| █████████████████████████████████████████████████████████████████████████████████████████████████████████████████████████████████████████████████████████████████████████ 333/333 [00:00]\n"
     ]
    },
    {
     "name": "stdout",
     "output_type": "stream",
     "text": [
      "\tcompleted  231  /  333 epochs\n",
      "\tcompleted  264  /  333 epochs\n",
      "\tcompleted  297  /  333 epochs\n",
      "\tcompleted  330  /  333 epochs\n"
     ]
    },
    {
     "name": "stderr",
     "output_type": "stream",
     "text": [
      "Epochs completed: 100%| █████████████████████████████████████████████████████████████████████████████████████████████████████████████████████████████████████████████████████████████████████████ 333/333 [16:50]\n",
      "Epochs completed: 100%| █████████████████████████████████████████████████████████████████████████████████████████████████████████████████████████████████████████████████████████████████████████ 333/333 [01:47]\n"
     ]
    },
    {
     "name": "stdout",
     "output_type": "stream",
     "text": [
      "3 0.0\n",
      "UMAP(init='pca', min_dist=0.0, n_epochs=1000, n_jobs=95, n_neighbors=3, unique=True, verbose=True)\n",
      "Unique=True -> Number of data points reduced from  114885  to  114885\n",
      "Most common duplicate is 62991  with a count of  1\n",
      "Sat Apr 26 14:56:39 2025 Construct fuzzy simplicial set\n",
      "Sat Apr 26 14:56:39 2025 Finding Nearest Neighbors\n",
      "Sat Apr 26 14:56:39 2025 Building RP forest with 22 trees\n",
      "Sat Apr 26 14:56:40 2025 NN descent for 17 iterations\n",
      "\t 1  /  17\n",
      "\t 2  /  17\n",
      "\t 3  /  17\n",
      "\tStopping threshold met -- exiting after 3 iterations\n",
      "Sat Apr 26 14:56:42 2025 Finished Nearest Neighbor Search\n",
      "Sat Apr 26 14:56:42 2025 Construct embedding\n"
     ]
    },
    {
     "name": "stderr",
     "output_type": "stream",
     "text": [
      "Epochs completed:   0%|                                                                                                                                                                            0/1000 [00:00]"
     ]
    },
    {
     "name": "stdout",
     "output_type": "stream",
     "text": [
      "\tcompleted  0  /  1000 epochs\n"
     ]
    },
    {
     "name": "stderr",
     "output_type": "stream",
     "text": [
      "Epochs completed:  12%| ████████████████████▎                                                                                                                                                    121/1000 [00:00]"
     ]
    },
    {
     "name": "stdout",
     "output_type": "stream",
     "text": [
      "\tcompleted  100  /  1000 epochs\n"
     ]
    },
    {
     "name": "stderr",
     "output_type": "stream",
     "text": [
      "Epochs completed:  23%| ██████████████████████████████████████▉                                                                                                                                  232/1000 [00:01]"
     ]
    },
    {
     "name": "stdout",
     "output_type": "stream",
     "text": [
      "\tcompleted  200  /  1000 epochs\n"
     ]
    },
    {
     "name": "stderr",
     "output_type": "stream",
     "text": [
      "Epochs completed:  32%| █████████████████████████████████████████████████████▉                                                                                                                   321/1000 [00:02]"
     ]
    },
    {
     "name": "stdout",
     "output_type": "stream",
     "text": [
      "\tcompleted  300  /  1000 epochs\n"
     ]
    },
    {
     "name": "stderr",
     "output_type": "stream",
     "text": [
      "Epochs completed:  43%| ████████████████████████████████████████████████████████████████████████▋                                                                                                433/1000 [00:02]"
     ]
    },
    {
     "name": "stdout",
     "output_type": "stream",
     "text": [
      "\tcompleted  400  /  1000 epochs\n"
     ]
    },
    {
     "name": "stderr",
     "output_type": "stream",
     "text": [
      "Epochs completed:  52%| ███████████████████████████████████████████████████████████████████████████████████████▎                                                                                 520/1000 [00:03]"
     ]
    },
    {
     "name": "stdout",
     "output_type": "stream",
     "text": [
      "\tcompleted  500  /  1000 epochs\n"
     ]
    },
    {
     "name": "stderr",
     "output_type": "stream",
     "text": [
      "Epochs completed:  63%| █████████████████████████████████████████████████████████████████████████████████████████████████████████▎                                                               627/1000 [00:04]"
     ]
    },
    {
     "name": "stdout",
     "output_type": "stream",
     "text": [
      "\tcompleted  600  /  1000 epochs\n"
     ]
    },
    {
     "name": "stderr",
     "output_type": "stream",
     "text": [
      "Epochs completed:  72%| ████████████████████████████████████████████████████████████████████████████████████████████████████████████████████████▊                                                719/1000 [00:04]"
     ]
    },
    {
     "name": "stdout",
     "output_type": "stream",
     "text": [
      "\tcompleted  700  /  1000 epochs\n"
     ]
    },
    {
     "name": "stderr",
     "output_type": "stream",
     "text": [
      "Epochs completed:  83%| ██████████████████████████████████████████████████████████████████████████████████████████████████████████████████████████████████████████▊                              826/1000 [00:05]"
     ]
    },
    {
     "name": "stdout",
     "output_type": "stream",
     "text": [
      "\tcompleted  800  /  1000 epochs\n"
     ]
    },
    {
     "name": "stderr",
     "output_type": "stream",
     "text": [
      "Epochs completed:  92%| ██████████████████████████████████████████████████████████████████████████████████████████████████████████████████████████████████████████████████████████▌              920/1000 [00:05]"
     ]
    },
    {
     "name": "stdout",
     "output_type": "stream",
     "text": [
      "\tcompleted  900  /  1000 epochs\n"
     ]
    },
    {
     "name": "stderr",
     "output_type": "stream",
     "text": [
      "Epochs completed: 100%| ███████████████████████████████████████████████████████████████████████████████████████████████████████████████████████████████████████████████████████████████████████ 1000/1000 [00:06]\n"
     ]
    },
    {
     "name": "stdout",
     "output_type": "stream",
     "text": [
      "Sat Apr 26 14:56:48 2025 Finished embedding\n",
      "Sat Apr 26 14:56:51 2025 Worst tree score: 0.23414719\n",
      "Sat Apr 26 14:56:51 2025 Mean tree score: 0.23763803\n",
      "Sat Apr 26 14:56:51 2025 Best tree score: 0.24141533\n",
      "Sat Apr 26 14:56:52 2025 Forward diversification reduced edges from 344655 to 306733\n",
      "Sat Apr 26 14:56:52 2025 Reverse diversification reduced edges from 306733 to 306733\n",
      "Sat Apr 26 14:56:52 2025 Degree pruning reduced edges from 306918 to 297999\n",
      "Sat Apr 26 14:56:52 2025 Resorting data and graph based on tree order\n",
      "Sat Apr 26 14:56:52 2025 Building and compiling search function\n"
     ]
    },
    {
     "name": "stderr",
     "output_type": "stream",
     "text": [
      "Epochs completed:  53%| ████████████████████████████████████████████████████████████████████████████████████████▊                                                                                 175/333 [00:00]"
     ]
    },
    {
     "name": "stdout",
     "output_type": "stream",
     "text": [
      "\tcompleted  0  /  333 epochs\n",
      "\tcompleted  33  /  333 epochs\n",
      "\tcompleted  66  /  333 epochs\n",
      "\tcompleted  99  /  333 epochs\n",
      "\tcompleted  132  /  333 epochs\n",
      "\tcompleted  165  /  333 epochs\n"
     ]
    },
    {
     "name": "stderr",
     "output_type": "stream",
     "text": [
      "Epochs completed: 100%| █████████████████████████████████████████████████████████████████████████████████████████████████████████████████████████████████████████████████████████████████████████ 333/333 [00:00]\n"
     ]
    },
    {
     "name": "stdout",
     "output_type": "stream",
     "text": [
      "\tcompleted  198  /  333 epochs\n",
      "\tcompleted  231  /  333 epochs\n",
      "\tcompleted  264  /  333 epochs\n",
      "\tcompleted  297  /  333 epochs\n",
      "\tcompleted  330  /  333 epochs\n"
     ]
    },
    {
     "name": "stderr",
     "output_type": "stream",
     "text": [
      "Epochs completed: 100%| █████████████████████████████████████████████████████████████████████████████████████████████████████████████████████████████████████████████████████████████████████████ 333/333 [14:32]\n",
      "Epochs completed: 100%| █████████████████████████████████████████████████████████████████████████████████████████████████████████████████████████████████████████████████████████████████████████ 333/333 [01:45]\n"
     ]
    },
    {
     "name": "stdout",
     "output_type": "stream",
     "text": [
      "3 0.02\n",
      "UMAP(init='pca', min_dist=0.02, n_epochs=1000, n_jobs=95, n_neighbors=3, unique=True, verbose=True)\n",
      "Unique=True -> Number of data points reduced from  114885  to  114885\n",
      "Most common duplicate is 62991  with a count of  1\n",
      "Sat Apr 26 15:18:01 2025 Construct fuzzy simplicial set\n",
      "Sat Apr 26 15:18:01 2025 Finding Nearest Neighbors\n",
      "Sat Apr 26 15:18:01 2025 Building RP forest with 22 trees\n",
      "Sat Apr 26 15:18:01 2025 NN descent for 17 iterations\n",
      "\t 1  /  17\n",
      "\t 2  /  17\n",
      "\t 3  /  17\n",
      "\tStopping threshold met -- exiting after 3 iterations\n",
      "Sat Apr 26 15:18:03 2025 Finished Nearest Neighbor Search\n",
      "Sat Apr 26 15:18:03 2025 Construct embedding\n"
     ]
    },
    {
     "name": "stderr",
     "output_type": "stream",
     "text": [
      "Epochs completed:   0%|                                                                                                                                                                            0/1000 [00:00]"
     ]
    },
    {
     "name": "stdout",
     "output_type": "stream",
     "text": [
      "\tcompleted  0  /  1000 epochs\n"
     ]
    },
    {
     "name": "stderr",
     "output_type": "stream",
     "text": [
      "Epochs completed:  12%| █████████████████████                                                                                                                                                    125/1000 [00:00]"
     ]
    },
    {
     "name": "stdout",
     "output_type": "stream",
     "text": [
      "\tcompleted  100  /  1000 epochs\n"
     ]
    },
    {
     "name": "stderr",
     "output_type": "stream",
     "text": [
      "Epochs completed:  22%| ████████████████████████████████████▎                                                                                                                                    216/1000 [00:01]"
     ]
    },
    {
     "name": "stdout",
     "output_type": "stream",
     "text": [
      "\tcompleted  200  /  1000 epochs\n"
     ]
    },
    {
     "name": "stderr",
     "output_type": "stream",
     "text": [
      "Epochs completed:  32%| █████████████████████████████████████████████████████▌                                                                                                                   319/1000 [00:02]"
     ]
    },
    {
     "name": "stdout",
     "output_type": "stream",
     "text": [
      "\tcompleted  300  /  1000 epochs\n"
     ]
    },
    {
     "name": "stderr",
     "output_type": "stream",
     "text": [
      "Epochs completed:  43%| ████████████████████████████████████████████████████████████████████████▌                                                                                                432/1000 [00:02]"
     ]
    },
    {
     "name": "stdout",
     "output_type": "stream",
     "text": [
      "\tcompleted  400  /  1000 epochs\n"
     ]
    },
    {
     "name": "stderr",
     "output_type": "stream",
     "text": [
      "Epochs completed:  52%| ███████████████████████████████████████████████████████████████████████████████████████                                                                                  518/1000 [00:03]"
     ]
    },
    {
     "name": "stdout",
     "output_type": "stream",
     "text": [
      "\tcompleted  500  /  1000 epochs\n"
     ]
    },
    {
     "name": "stderr",
     "output_type": "stream",
     "text": [
      "Epochs completed:  63%| █████████████████████████████████████████████████████████████████████████████████████████████████████████▎                                                               627/1000 [00:03]"
     ]
    },
    {
     "name": "stdout",
     "output_type": "stream",
     "text": [
      "\tcompleted  600  /  1000 epochs\n"
     ]
    },
    {
     "name": "stderr",
     "output_type": "stream",
     "text": [
      "Epochs completed:  72%| ████████████████████████████████████████████████████████████████████████████████████████████████████████████████████████▉                                                720/1000 [00:04]"
     ]
    },
    {
     "name": "stdout",
     "output_type": "stream",
     "text": [
      "\tcompleted  700  /  1000 epochs\n"
     ]
    },
    {
     "name": "stderr",
     "output_type": "stream",
     "text": [
      "Epochs completed:  81%| ████████████████████████████████████████████████████████████████████████████████████████████████████████████████████████████████████████▍                                812/1000 [00:05]"
     ]
    },
    {
     "name": "stdout",
     "output_type": "stream",
     "text": [
      "\tcompleted  800  /  1000 epochs\n"
     ]
    },
    {
     "name": "stderr",
     "output_type": "stream",
     "text": [
      "Epochs completed:  92%| ██████████████████████████████████████████████████████████████████████████████████████████████████████████████████████████████████████████████████████████▉              922/1000 [00:05]"
     ]
    },
    {
     "name": "stdout",
     "output_type": "stream",
     "text": [
      "\tcompleted  900  /  1000 epochs\n"
     ]
    },
    {
     "name": "stderr",
     "output_type": "stream",
     "text": [
      "Epochs completed: 100%| ███████████████████████████████████████████████████████████████████████████████████████████████████████████████████████████████████████████████████████████████████████ 1000/1000 [00:06]\n"
     ]
    },
    {
     "name": "stdout",
     "output_type": "stream",
     "text": [
      "Sat Apr 26 15:18:10 2025 Finished embedding\n",
      "Sat Apr 26 15:18:12 2025 Worst tree score: 0.23412978\n",
      "Sat Apr 26 15:18:12 2025 Mean tree score: 0.23742122\n",
      "Sat Apr 26 15:18:12 2025 Best tree score: 0.24010967\n",
      "Sat Apr 26 15:18:13 2025 Forward diversification reduced edges from 344655 to 306837\n",
      "Sat Apr 26 15:18:13 2025 Reverse diversification reduced edges from 306837 to 306837\n",
      "Sat Apr 26 15:18:13 2025 Degree pruning reduced edges from 306878 to 297982\n",
      "Sat Apr 26 15:18:13 2025 Resorting data and graph based on tree order\n",
      "Sat Apr 26 15:18:13 2025 Building and compiling search function\n"
     ]
    },
    {
     "name": "stderr",
     "output_type": "stream",
     "text": [
      "Epochs completed:  55%| ████████████████████████████████████████████████████████████████████████████████████████████▎                                                                             182/333 [00:00]"
     ]
    },
    {
     "name": "stdout",
     "output_type": "stream",
     "text": [
      "\tcompleted  0  /  333 epochs\n",
      "\tcompleted  33  /  333 epochs\n",
      "\tcompleted  66  /  333 epochs\n",
      "\tcompleted  99  /  333 epochs\n",
      "\tcompleted  132  /  333 epochs\n",
      "\tcompleted  165  /  333 epochs\n"
     ]
    },
    {
     "name": "stderr",
     "output_type": "stream",
     "text": [
      "Epochs completed: 100%| █████████████████████████████████████████████████████████████████████████████████████████████████████████████████████████████████████████████████████████████████████████ 333/333 [00:00]\n"
     ]
    },
    {
     "name": "stdout",
     "output_type": "stream",
     "text": [
      "\tcompleted  198  /  333 epochs\n",
      "\tcompleted  231  /  333 epochs\n",
      "\tcompleted  264  /  333 epochs\n",
      "\tcompleted  297  /  333 epochs\n",
      "\tcompleted  330  /  333 epochs\n"
     ]
    },
    {
     "name": "stderr",
     "output_type": "stream",
     "text": [
      "Epochs completed: 100%| █████████████████████████████████████████████████████████████████████████████████████████████████████████████████████████████████████████████████████████████████████████ 333/333 [14:41]\n",
      "Epochs completed: 100%| █████████████████████████████████████████████████████████████████████████████████████████████████████████████████████████████████████████████████████████████████████████ 333/333 [01:45]\n"
     ]
    },
    {
     "name": "stdout",
     "output_type": "stream",
     "text": [
      "3 0.05\n",
      "UMAP(init='pca', min_dist=0.05, n_epochs=1000, n_jobs=95, n_neighbors=3, unique=True, verbose=True)\n",
      "Unique=True -> Number of data points reduced from  114885  to  114885\n",
      "Most common duplicate is 62991  with a count of  1\n",
      "Sat Apr 26 15:39:32 2025 Construct fuzzy simplicial set\n",
      "Sat Apr 26 15:39:32 2025 Finding Nearest Neighbors\n",
      "Sat Apr 26 15:39:32 2025 Building RP forest with 22 trees\n",
      "Sat Apr 26 15:39:32 2025 NN descent for 17 iterations\n",
      "\t 1  /  17\n",
      "\t 2  /  17\n",
      "\t 3  /  17\n",
      "\tStopping threshold met -- exiting after 3 iterations\n",
      "Sat Apr 26 15:39:34 2025 Finished Nearest Neighbor Search\n",
      "Sat Apr 26 15:39:34 2025 Construct embedding\n"
     ]
    },
    {
     "name": "stderr",
     "output_type": "stream",
     "text": [
      "Epochs completed:   0%|                                                                                                                                                                            0/1000 [00:00]"
     ]
    },
    {
     "name": "stdout",
     "output_type": "stream",
     "text": [
      "\tcompleted  0  /  1000 epochs\n"
     ]
    },
    {
     "name": "stderr",
     "output_type": "stream",
     "text": [
      "Epochs completed:  12%| ███████████████████▉                                                                                                                                                     119/1000 [00:00]"
     ]
    },
    {
     "name": "stdout",
     "output_type": "stream",
     "text": [
      "\tcompleted  100  /  1000 epochs\n"
     ]
    },
    {
     "name": "stderr",
     "output_type": "stream",
     "text": [
      "Epochs completed:  22%| █████████████████████████████████████▎                                                                                                                                   222/1000 [00:01]"
     ]
    },
    {
     "name": "stdout",
     "output_type": "stream",
     "text": [
      "\tcompleted  200  /  1000 epochs\n"
     ]
    },
    {
     "name": "stderr",
     "output_type": "stream",
     "text": [
      "Epochs completed:  32%| ██████████████████████████████████████████████████████▌                                                                                                                  325/1000 [00:02]"
     ]
    },
    {
     "name": "stdout",
     "output_type": "stream",
     "text": [
      "\tcompleted  300  /  1000 epochs\n"
     ]
    },
    {
     "name": "stderr",
     "output_type": "stream",
     "text": [
      "Epochs completed:  43%| ████████████████████████████████████████████████████████████████████████▌                                                                                                432/1000 [00:03]"
     ]
    },
    {
     "name": "stdout",
     "output_type": "stream",
     "text": [
      "\tcompleted  400  /  1000 epochs\n"
     ]
    },
    {
     "name": "stderr",
     "output_type": "stream",
     "text": [
      "Epochs completed:  53%| ████████████████████████████████████████████████████████████████████████████████████████▌                                                                                527/1000 [00:03]"
     ]
    },
    {
     "name": "stdout",
     "output_type": "stream",
     "text": [
      "\tcompleted  500  /  1000 epochs\n"
     ]
    },
    {
     "name": "stderr",
     "output_type": "stream",
     "text": [
      "Epochs completed:  62%| ████████████████████████████████████████████████████████████████████████████████████████████████████████▏                                                                620/1000 [00:04]"
     ]
    },
    {
     "name": "stdout",
     "output_type": "stream",
     "text": [
      "\tcompleted  600  /  1000 epochs\n"
     ]
    },
    {
     "name": "stderr",
     "output_type": "stream",
     "text": [
      "Epochs completed:  73%| ██████████████████████████████████████████████████████████████████████████████████████████████████████████████████████████▊                                              731/1000 [00:04]"
     ]
    },
    {
     "name": "stdout",
     "output_type": "stream",
     "text": [
      "\tcompleted  700  /  1000 epochs\n"
     ]
    },
    {
     "name": "stderr",
     "output_type": "stream",
     "text": [
      "Epochs completed:  83%| ██████████████████████████████████████████████████████████████████████████████████████████████████████████████████████████████████████████▊                              826/1000 [00:05]"
     ]
    },
    {
     "name": "stdout",
     "output_type": "stream",
     "text": [
      "\tcompleted  800  /  1000 epochs\n"
     ]
    },
    {
     "name": "stderr",
     "output_type": "stream",
     "text": [
      "Epochs completed:  94%| █████████████████████████████████████████████████████████████████████████████████████████████████████████████████████████████████████████████████████████████▍           937/1000 [00:05]"
     ]
    },
    {
     "name": "stdout",
     "output_type": "stream",
     "text": [
      "\tcompleted  900  /  1000 epochs\n"
     ]
    },
    {
     "name": "stderr",
     "output_type": "stream",
     "text": [
      "Epochs completed: 100%| ███████████████████████████████████████████████████████████████████████████████████████████████████████████████████████████████████████████████████████████████████████ 1000/1000 [00:06]\n"
     ]
    },
    {
     "name": "stdout",
     "output_type": "stream",
     "text": [
      "Sat Apr 26 15:39:41 2025 Finished embedding\n",
      "Sat Apr 26 15:39:43 2025 Worst tree score: 0.23593158\n",
      "Sat Apr 26 15:39:43 2025 Mean tree score: 0.23786909\n",
      "Sat Apr 26 15:39:43 2025 Best tree score: 0.23954389\n",
      "Sat Apr 26 15:39:44 2025 Forward diversification reduced edges from 344655 to 306751\n",
      "Sat Apr 26 15:39:44 2025 Reverse diversification reduced edges from 306751 to 306751\n",
      "Sat Apr 26 15:39:44 2025 Degree pruning reduced edges from 306854 to 297971\n",
      "Sat Apr 26 15:39:44 2025 Resorting data and graph based on tree order\n",
      "Sat Apr 26 15:39:44 2025 Building and compiling search function\n"
     ]
    },
    {
     "name": "stderr",
     "output_type": "stream",
     "text": [
      "Epochs completed:  26%| ████████████████████████████████████████████▍                                                                                                                              87/333 [00:00]"
     ]
    },
    {
     "name": "stdout",
     "output_type": "stream",
     "text": [
      "\tcompleted  0  /  333 epochs\n",
      "\tcompleted  33  /  333 epochs\n",
      "\tcompleted  66  /  333 epochs\n",
      "\tcompleted  99  /  333 epochs\n",
      "\tcompleted  132  /  333 epochs\n",
      "\tcompleted  165  /  333 epochs\n"
     ]
    },
    {
     "name": "stderr",
     "output_type": "stream",
     "text": [
      "Epochs completed: 100%| █████████████████████████████████████████████████████████████████████████████████████████████████████████████████████████████████████████████████████████████████████████ 333/333 [00:00]\n"
     ]
    },
    {
     "name": "stdout",
     "output_type": "stream",
     "text": [
      "\tcompleted  198  /  333 epochs\n",
      "\tcompleted  231  /  333 epochs\n",
      "\tcompleted  264  /  333 epochs\n",
      "\tcompleted  297  /  333 epochs\n",
      "\tcompleted  330  /  333 epochs\n"
     ]
    },
    {
     "name": "stderr",
     "output_type": "stream",
     "text": [
      "Epochs completed: 100%| █████████████████████████████████████████████████████████████████████████████████████████████████████████████████████████████████████████████████████████████████████████ 333/333 [14:23]\n",
      "Epochs completed: 100%| █████████████████████████████████████████████████████████████████████████████████████████████████████████████████████████████████████████████████████████████████████████ 333/333 [01:45]\n"
     ]
    },
    {
     "name": "stdout",
     "output_type": "stream",
     "text": [
      "3 0.1\n",
      "UMAP(init='pca', n_epochs=1000, n_jobs=95, n_neighbors=3, unique=True, verbose=True)\n",
      "Unique=True -> Number of data points reduced from  114885  to  114885\n",
      "Most common duplicate is 62991  with a count of  1\n",
      "Sat Apr 26 16:00:46 2025 Construct fuzzy simplicial set\n",
      "Sat Apr 26 16:00:46 2025 Finding Nearest Neighbors\n",
      "Sat Apr 26 16:00:46 2025 Building RP forest with 22 trees\n",
      "Sat Apr 26 16:00:46 2025 NN descent for 17 iterations\n",
      "\t 1  /  17\n",
      "\t 2  /  17\n",
      "\t 3  /  17\n",
      "\tStopping threshold met -- exiting after 3 iterations\n",
      "Sat Apr 26 16:00:48 2025 Finished Nearest Neighbor Search\n",
      "Sat Apr 26 16:00:48 2025 Construct embedding\n"
     ]
    },
    {
     "name": "stderr",
     "output_type": "stream",
     "text": [
      "Epochs completed:   0%|                                                                                                                                                                            0/1000 [00:00]"
     ]
    },
    {
     "name": "stdout",
     "output_type": "stream",
     "text": [
      "\tcompleted  0  /  1000 epochs\n"
     ]
    },
    {
     "name": "stderr",
     "output_type": "stream",
     "text": [
      "Epochs completed:  12%| ████████████████████▊                                                                                                                                                    124/1000 [00:00]"
     ]
    },
    {
     "name": "stdout",
     "output_type": "stream",
     "text": [
      "\tcompleted  100  /  1000 epochs\n"
     ]
    },
    {
     "name": "stderr",
     "output_type": "stream",
     "text": [
      "Epochs completed:  23%| ██████████████████████████████████████▏                                                                                                                                  227/1000 [00:01]"
     ]
    },
    {
     "name": "stdout",
     "output_type": "stream",
     "text": [
      "\tcompleted  200  /  1000 epochs\n"
     ]
    },
    {
     "name": "stderr",
     "output_type": "stream",
     "text": [
      "Epochs completed:  32%| █████████████████████████████████████████████████████▉                                                                                                                   321/1000 [00:02]"
     ]
    },
    {
     "name": "stdout",
     "output_type": "stream",
     "text": [
      "\tcompleted  300  /  1000 epochs\n"
     ]
    },
    {
     "name": "stderr",
     "output_type": "stream",
     "text": [
      "Epochs completed:  42%| █████████████████████████████████████████████████████████████████████▉                                                                                                   416/1000 [00:02]"
     ]
    },
    {
     "name": "stdout",
     "output_type": "stream",
     "text": [
      "\tcompleted  400  /  1000 epochs\n"
     ]
    },
    {
     "name": "stderr",
     "output_type": "stream",
     "text": [
      "Epochs completed:  53%| ████████████████████████████████████████████████████████████████████████████████████████▎                                                                                526/1000 [00:03]"
     ]
    },
    {
     "name": "stdout",
     "output_type": "stream",
     "text": [
      "\tcompleted  500  /  1000 epochs\n"
     ]
    },
    {
     "name": "stderr",
     "output_type": "stream",
     "text": [
      "Epochs completed:  62%| ███████████████████████████████████████████████████████████████████████████████████████████████████████▉                                                                 619/1000 [00:03]"
     ]
    },
    {
     "name": "stdout",
     "output_type": "stream",
     "text": [
      "\tcompleted  600  /  1000 epochs\n"
     ]
    },
    {
     "name": "stderr",
     "output_type": "stream",
     "text": [
      "Epochs completed:  71%| ███████████████████████████████████████████████████████████████████████████████████████████████████████████████████████▊                                                 713/1000 [00:04]"
     ]
    },
    {
     "name": "stdout",
     "output_type": "stream",
     "text": [
      "\tcompleted  700  /  1000 epochs\n"
     ]
    },
    {
     "name": "stderr",
     "output_type": "stream",
     "text": [
      "Epochs completed:  83%| ███████████████████████████████████████████████████████████████████████████████████████████████████████████████████████████████████████████▍                             830/1000 [00:05]"
     ]
    },
    {
     "name": "stdout",
     "output_type": "stream",
     "text": [
      "\tcompleted  800  /  1000 epochs\n"
     ]
    },
    {
     "name": "stderr",
     "output_type": "stream",
     "text": [
      "Epochs completed:  91%| █████████████████████████████████████████████████████████████████████████████████████████████████████████████████████████████████████████████████████████▌               914/1000 [00:05]"
     ]
    },
    {
     "name": "stdout",
     "output_type": "stream",
     "text": [
      "\tcompleted  900  /  1000 epochs\n"
     ]
    },
    {
     "name": "stderr",
     "output_type": "stream",
     "text": [
      "Epochs completed: 100%| ███████████████████████████████████████████████████████████████████████████████████████████████████████████████████████████████████████████████████████████████████████ 1000/1000 [00:06]\n"
     ]
    },
    {
     "name": "stdout",
     "output_type": "stream",
     "text": [
      "Sat Apr 26 16:00:55 2025 Finished embedding\n",
      "Sat Apr 26 16:00:58 2025 Worst tree score: 0.23452148\n",
      "Sat Apr 26 16:00:58 2025 Mean tree score: 0.23825802\n",
      "Sat Apr 26 16:00:58 2025 Best tree score: 0.24081473\n",
      "Sat Apr 26 16:00:59 2025 Forward diversification reduced edges from 344655 to 306707\n",
      "Sat Apr 26 16:00:59 2025 Reverse diversification reduced edges from 306707 to 306707\n",
      "Sat Apr 26 16:00:59 2025 Degree pruning reduced edges from 306738 to 297809\n",
      "Sat Apr 26 16:00:59 2025 Resorting data and graph based on tree order\n",
      "Sat Apr 26 16:00:59 2025 Building and compiling search function\n"
     ]
    },
    {
     "name": "stderr",
     "output_type": "stream",
     "text": [
      "Epochs completed:  52%| ███████████████████████████████████████████████████████████████████████████████████████▊                                                                                  173/333 [00:00]"
     ]
    },
    {
     "name": "stdout",
     "output_type": "stream",
     "text": [
      "\tcompleted  0  /  333 epochs\n",
      "\tcompleted  33  /  333 epochs\n",
      "\tcompleted  66  /  333 epochs\n",
      "\tcompleted  99  /  333 epochs\n",
      "\tcompleted  132  /  333 epochs\n",
      "\tcompleted  165  /  333 epochs\n"
     ]
    },
    {
     "name": "stderr",
     "output_type": "stream",
     "text": [
      "Epochs completed: 100%| █████████████████████████████████████████████████████████████████████████████████████████████████████████████████████████████████████████████████████████████████████████ 333/333 [00:00]\n"
     ]
    },
    {
     "name": "stdout",
     "output_type": "stream",
     "text": [
      "\tcompleted  198  /  333 epochs\n",
      "\tcompleted  231  /  333 epochs\n",
      "\tcompleted  264  /  333 epochs\n",
      "\tcompleted  297  /  333 epochs\n",
      "\tcompleted  330  /  333 epochs\n"
     ]
    },
    {
     "name": "stderr",
     "output_type": "stream",
     "text": [
      "Epochs completed: 100%| █████████████████████████████████████████████████████████████████████████████████████████████████████████████████████████████████████████████████████████████████████████ 333/333 [14:35]\n",
      "Epochs completed: 100%| █████████████████████████████████████████████████████████████████████████████████████████████████████████████████████████████████████████████████████████████████████████ 333/333 [01:47]\n"
     ]
    },
    {
     "name": "stdout",
     "output_type": "stream",
     "text": [
      "3 0.2\n",
      "UMAP(init='pca', min_dist=0.2, n_epochs=1000, n_jobs=95, n_neighbors=3, unique=True, verbose=True)\n",
      "Unique=True -> Number of data points reduced from  114885  to  114885\n",
      "Most common duplicate is 62991  with a count of  1\n",
      "Sat Apr 26 16:22:14 2025 Construct fuzzy simplicial set\n",
      "Sat Apr 26 16:22:14 2025 Finding Nearest Neighbors\n",
      "Sat Apr 26 16:22:14 2025 Building RP forest with 22 trees\n",
      "Sat Apr 26 16:22:15 2025 NN descent for 17 iterations\n",
      "\t 1  /  17\n",
      "\t 2  /  17\n",
      "\t 3  /  17\n",
      "\tStopping threshold met -- exiting after 3 iterations\n",
      "Sat Apr 26 16:22:17 2025 Finished Nearest Neighbor Search\n",
      "Sat Apr 26 16:22:17 2025 Construct embedding\n"
     ]
    },
    {
     "name": "stderr",
     "output_type": "stream",
     "text": [
      "Epochs completed:   0%|                                                                                                                                                                            0/1000 [00:00]"
     ]
    },
    {
     "name": "stdout",
     "output_type": "stream",
     "text": [
      "\tcompleted  0  /  1000 epochs\n"
     ]
    },
    {
     "name": "stderr",
     "output_type": "stream",
     "text": [
      "Epochs completed:  12%| ███████████████████▍                                                                                                                                                     116/1000 [00:00]"
     ]
    },
    {
     "name": "stdout",
     "output_type": "stream",
     "text": [
      "\tcompleted  100  /  1000 epochs\n"
     ]
    },
    {
     "name": "stderr",
     "output_type": "stream",
     "text": [
      "Epochs completed:  22%| █████████████████████████████████████▍                                                                                                                                   223/1000 [00:01]"
     ]
    },
    {
     "name": "stdout",
     "output_type": "stream",
     "text": [
      "\tcompleted  200  /  1000 epochs\n"
     ]
    },
    {
     "name": "stderr",
     "output_type": "stream",
     "text": [
      "Epochs completed:  32%| █████████████████████████████████████████████████████▍                                                                                                                   318/1000 [00:02]"
     ]
    },
    {
     "name": "stdout",
     "output_type": "stream",
     "text": [
      "\tcompleted  300  /  1000 epochs\n"
     ]
    },
    {
     "name": "stderr",
     "output_type": "stream",
     "text": [
      "Epochs completed:  42%| ███████████████████████████████████████████████████████████████████████▏                                                                                                 424/1000 [00:02]"
     ]
    },
    {
     "name": "stdout",
     "output_type": "stream",
     "text": [
      "\tcompleted  400  /  1000 epochs\n"
     ]
    },
    {
     "name": "stderr",
     "output_type": "stream",
     "text": [
      "Epochs completed:  52%| ██████████████████████████████████████████████████████████████████████████████████████▊                                                                                  517/1000 [00:03]"
     ]
    },
    {
     "name": "stdout",
     "output_type": "stream",
     "text": [
      "\tcompleted  500  /  1000 epochs\n"
     ]
    },
    {
     "name": "stderr",
     "output_type": "stream",
     "text": [
      "Epochs completed:  62%| ████████████████████████████████████████████████████████████████████████████████████████████████████████▎                                                                621/1000 [00:04]"
     ]
    },
    {
     "name": "stdout",
     "output_type": "stream",
     "text": [
      "\tcompleted  600  /  1000 epochs\n"
     ]
    },
    {
     "name": "stderr",
     "output_type": "stream",
     "text": [
      "Epochs completed:  73%| ██████████████████████████████████████████████████████████████████████████████████████████████████████████████████████████▎                                              728/1000 [00:04]"
     ]
    },
    {
     "name": "stdout",
     "output_type": "stream",
     "text": [
      "\tcompleted  700  /  1000 epochs\n"
     ]
    },
    {
     "name": "stderr",
     "output_type": "stream",
     "text": [
      "Epochs completed:  82%| █████████████████████████████████████████████████████████████████████████████████████████████████████████████████████████████████████████▉                               821/1000 [00:05]"
     ]
    },
    {
     "name": "stdout",
     "output_type": "stream",
     "text": [
      "\tcompleted  800  /  1000 epochs\n"
     ]
    },
    {
     "name": "stderr",
     "output_type": "stream",
     "text": [
      "Epochs completed:  93%| ████████████████████████████████████████████████████████████████████████████████████████████████████████████████████████████████████████████████████████████▏            930/1000 [00:05]"
     ]
    },
    {
     "name": "stdout",
     "output_type": "stream",
     "text": [
      "\tcompleted  900  /  1000 epochs\n"
     ]
    },
    {
     "name": "stderr",
     "output_type": "stream",
     "text": [
      "Epochs completed: 100%| ███████████████████████████████████████████████████████████████████████████████████████████████████████████████████████████████████████████████████████████████████████ 1000/1000 [00:06]\n"
     ]
    },
    {
     "name": "stdout",
     "output_type": "stream",
     "text": [
      "Sat Apr 26 16:22:23 2025 Finished embedding\n",
      "Sat Apr 26 16:22:26 2025 Worst tree score: 0.23574009\n",
      "Sat Apr 26 16:22:26 2025 Mean tree score: 0.23806178\n",
      "Sat Apr 26 16:22:26 2025 Best tree score: 0.24162423\n",
      "Sat Apr 26 16:22:27 2025 Forward diversification reduced edges from 344655 to 306649\n",
      "Sat Apr 26 16:22:27 2025 Reverse diversification reduced edges from 306649 to 306649\n",
      "Sat Apr 26 16:22:27 2025 Degree pruning reduced edges from 306670 to 297793\n",
      "Sat Apr 26 16:22:27 2025 Resorting data and graph based on tree order\n",
      "Sat Apr 26 16:22:27 2025 Building and compiling search function\n"
     ]
    },
    {
     "name": "stderr",
     "output_type": "stream",
     "text": [
      "Epochs completed:  27%| █████████████████████████████████████████████▍                                                                                                                             89/333 [00:00]"
     ]
    },
    {
     "name": "stdout",
     "output_type": "stream",
     "text": [
      "\tcompleted  0  /  333 epochs\n",
      "\tcompleted  33  /  333 epochs\n",
      "\tcompleted  66  /  333 epochs\n",
      "\tcompleted  99  /  333 epochs\n",
      "\tcompleted  132  /  333 epochs\n",
      "\tcompleted  165  /  333 epochs\n"
     ]
    },
    {
     "name": "stderr",
     "output_type": "stream",
     "text": [
      "Epochs completed: 100%| █████████████████████████████████████████████████████████████████████████████████████████████████████████████████████████████████████████████████████████████████████████ 333/333 [00:00]\n"
     ]
    },
    {
     "name": "stdout",
     "output_type": "stream",
     "text": [
      "\tcompleted  198  /  333 epochs\n",
      "\tcompleted  231  /  333 epochs\n",
      "\tcompleted  264  /  333 epochs\n",
      "\tcompleted  297  /  333 epochs\n",
      "\tcompleted  330  /  333 epochs\n"
     ]
    },
    {
     "name": "stderr",
     "output_type": "stream",
     "text": [
      "Epochs completed: 100%| █████████████████████████████████████████████████████████████████████████████████████████████████████████████████████████████████████████████████████████████████████████ 333/333 [14:45]\n",
      "Epochs completed: 100%| █████████████████████████████████████████████████████████████████████████████████████████████████████████████████████████████████████████████████████████████████████████ 333/333 [01:49]\n"
     ]
    },
    {
     "name": "stdout",
     "output_type": "stream",
     "text": [
      "3 0.5\n",
      "UMAP(init='pca', min_dist=0.5, n_epochs=1000, n_jobs=95, n_neighbors=3, unique=True, verbose=True)\n",
      "Unique=True -> Number of data points reduced from  114885  to  114885\n",
      "Most common duplicate is 62991  with a count of  1\n",
      "Sat Apr 26 16:43:52 2025 Construct fuzzy simplicial set\n",
      "Sat Apr 26 16:43:52 2025 Finding Nearest Neighbors\n",
      "Sat Apr 26 16:43:52 2025 Building RP forest with 22 trees\n",
      "Sat Apr 26 16:43:53 2025 NN descent for 17 iterations\n",
      "\t 1  /  17\n",
      "\t 2  /  17\n",
      "\t 3  /  17\n",
      "\tStopping threshold met -- exiting after 3 iterations\n",
      "Sat Apr 26 16:43:55 2025 Finished Nearest Neighbor Search\n",
      "Sat Apr 26 16:43:55 2025 Construct embedding\n"
     ]
    },
    {
     "name": "stderr",
     "output_type": "stream",
     "text": [
      "Epochs completed:   0%|                                                                                                                                                                            0/1000 [00:00]"
     ]
    },
    {
     "name": "stdout",
     "output_type": "stream",
     "text": [
      "\tcompleted  0  /  1000 epochs\n"
     ]
    },
    {
     "name": "stderr",
     "output_type": "stream",
     "text": [
      "Epochs completed:  13%| ██████████████████████▎                                                                                                                                                  133/1000 [00:01]"
     ]
    },
    {
     "name": "stdout",
     "output_type": "stream",
     "text": [
      "\tcompleted  100  /  1000 epochs\n"
     ]
    },
    {
     "name": "stderr",
     "output_type": "stream",
     "text": [
      "Epochs completed:  22%| █████████████████████████████████████▋                                                                                                                                   224/1000 [00:01]"
     ]
    },
    {
     "name": "stdout",
     "output_type": "stream",
     "text": [
      "\tcompleted  200  /  1000 epochs\n"
     ]
    },
    {
     "name": "stderr",
     "output_type": "stream",
     "text": [
      "Epochs completed:  33%| ██████████████████████████████████████████████████████▊                                                                                                                  326/1000 [00:02]"
     ]
    },
    {
     "name": "stdout",
     "output_type": "stream",
     "text": [
      "\tcompleted  300  /  1000 epochs\n"
     ]
    },
    {
     "name": "stderr",
     "output_type": "stream",
     "text": [
      "Epochs completed:  43%| ████████████████████████████████████████████████████████████████████████▍                                                                                                431/1000 [00:02]"
     ]
    },
    {
     "name": "stdout",
     "output_type": "stream",
     "text": [
      "\tcompleted  400  /  1000 epochs\n"
     ]
    },
    {
     "name": "stderr",
     "output_type": "stream",
     "text": [
      "Epochs completed:  52%| ███████████████████████████████████████████████████████████████████████████████████████▎                                                                                 520/1000 [00:03]"
     ]
    },
    {
     "name": "stdout",
     "output_type": "stream",
     "text": [
      "\tcompleted  500  /  1000 epochs\n"
     ]
    },
    {
     "name": "stderr",
     "output_type": "stream",
     "text": [
      "Epochs completed:  62%| █████████████████████████████████████████████████████████████████████████████████████████████████████████                                                                625/1000 [00:04]"
     ]
    },
    {
     "name": "stdout",
     "output_type": "stream",
     "text": [
      "\tcompleted  600  /  1000 epochs\n"
     ]
    },
    {
     "name": "stderr",
     "output_type": "stream",
     "text": [
      "Epochs completed:  74%| ███████████████████████████████████████████████████████████████████████████████████████████████████████████████████████████▍                                             735/1000 [00:04]"
     ]
    },
    {
     "name": "stdout",
     "output_type": "stream",
     "text": [
      "\tcompleted  700  /  1000 epochs\n"
     ]
    },
    {
     "name": "stderr",
     "output_type": "stream",
     "text": [
      "Epochs completed:  83%| ███████████████████████████████████████████████████████████████████████████████████████████████████████████████████████████████████████████                              828/1000 [00:05]"
     ]
    },
    {
     "name": "stdout",
     "output_type": "stream",
     "text": [
      "\tcompleted  800  /  1000 epochs\n"
     ]
    },
    {
     "name": "stderr",
     "output_type": "stream",
     "text": [
      "Epochs completed:  92%| ██████████████████████████████████████████████████████████████████████████████████████████████████████████████████████████████████████████████████████████▏              918/1000 [00:05]"
     ]
    },
    {
     "name": "stdout",
     "output_type": "stream",
     "text": [
      "\tcompleted  900  /  1000 epochs\n"
     ]
    },
    {
     "name": "stderr",
     "output_type": "stream",
     "text": [
      "Epochs completed: 100%| ███████████████████████████████████████████████████████████████████████████████████████████████████████████████████████████████████████████████████████████████████████ 1000/1000 [00:06]\n"
     ]
    },
    {
     "name": "stdout",
     "output_type": "stream",
     "text": [
      "Sat Apr 26 16:44:01 2025 Finished embedding\n",
      "Sat Apr 26 16:44:04 2025 Worst tree score: 0.23409496\n",
      "Sat Apr 26 16:44:04 2025 Mean tree score: 0.23772626\n",
      "Sat Apr 26 16:44:04 2025 Best tree score: 0.23988336\n",
      "Sat Apr 26 16:44:04 2025 Forward diversification reduced edges from 344655 to 306811\n",
      "Sat Apr 26 16:44:04 2025 Reverse diversification reduced edges from 306811 to 306811\n",
      "Sat Apr 26 16:44:04 2025 Degree pruning reduced edges from 306788 to 297968\n",
      "Sat Apr 26 16:44:04 2025 Resorting data and graph based on tree order\n",
      "Sat Apr 26 16:44:05 2025 Building and compiling search function\n"
     ]
    },
    {
     "name": "stderr",
     "output_type": "stream",
     "text": [
      "Epochs completed:  52%| ███████████████████████████████████████████████████████████████████████████████████████▎                                                                                  172/333 [00:00]"
     ]
    },
    {
     "name": "stdout",
     "output_type": "stream",
     "text": [
      "\tcompleted  0  /  333 epochs\n",
      "\tcompleted  33  /  333 epochs\n",
      "\tcompleted  66  /  333 epochs\n",
      "\tcompleted  99  /  333 epochs\n",
      "\tcompleted  132  /  333 epochs\n",
      "\tcompleted  165  /  333 epochs\n"
     ]
    },
    {
     "name": "stderr",
     "output_type": "stream",
     "text": [
      "Epochs completed: 100%| █████████████████████████████████████████████████████████████████████████████████████████████████████████████████████████████████████████████████████████████████████████ 333/333 [00:00]\n"
     ]
    },
    {
     "name": "stdout",
     "output_type": "stream",
     "text": [
      "\tcompleted  198  /  333 epochs\n",
      "\tcompleted  231  /  333 epochs\n",
      "\tcompleted  264  /  333 epochs\n",
      "\tcompleted  297  /  333 epochs\n",
      "\tcompleted  330  /  333 epochs\n"
     ]
    },
    {
     "name": "stderr",
     "output_type": "stream",
     "text": [
      "Epochs completed: 100%| █████████████████████████████████████████████████████████████████████████████████████████████████████████████████████████████████████████████████████████████████████████ 333/333 [14:45]\n",
      "Epochs completed:  65%| ██████████████████████████████████████████████████████████████████████████████████████████████████████████████▋                                                           218/333 [01:13]"
     ]
    }
   ],
   "source": [
    "import umap.umap_ as umap\n",
    "\n",
    "# n neighbors, minimum distances and mses\n",
    "# 4 major hyperparameters are neighbors, components, metric, min_dist\n",
    "n_neighbors_ls = [2, 3, 5, 10, 20, 50, 100, 200, 500, 1000]\n",
    "min_dists = [0.0, 0.02, 0.05, 0.1, 0.2, 0.5, 0.8, 0.99]\n",
    "training_mses = np.zeros((len(n_neighbors_ls), len(min_dists)))\n",
    "test_mses = np.zeros((len(n_neighbors_ls), len(min_dists)))\n",
    "\n",
    "# sweep\n",
    "for i, n_neighbors in enumerate(n_neighbors_ls):\n",
    "    for j, min_dist in enumerate(min_dists):\n",
    "        print(n_neighbors, min_dist)\n",
    "        # fit using *training* data\n",
    "        # all default except neighbors/distances, unique=True and pca embedding since spectral seems to fail for some of them...\n",
    "        reducer = umap.UMAP(n_neighbors=n_neighbors, n_components=2, metric='euclidean', \n",
    "                            n_epochs=1000, learning_rate=1.0, init='pca', min_dist=min_dist, \n",
    "                            verbose=True, n_jobs=multiprocessing.cpu_count() - 1, unique=True)  \n",
    "        fit_umap = reducer.fit(standardized_abundance_training_arr)\n",
    "        # embed *train* and *test* data\n",
    "        embed_train = fit_umap.transform(standardized_abundance_training_arr)\n",
    "        embed_test = fit_umap.transform(standardized_abundance_test_arr)\n",
    "        # reconstruct *train* and *test* data and record MSE\n",
    "        reconstruction_training = fit_umap.inverse_transform(embed_train)\n",
    "        reconstruction_test = fit_umap.inverse_transform(embed_test)\n",
    "        # record\n",
    "        training_mses[i, j] = np.mean((standardized_abundance_training_arr - reconstruction_training) ** 2) * 1000  # MSE multiplied by 1000 to match the VAE ones\n",
    "        test_mses[i, j] = np.mean((standardized_abundance_test_arr - reconstruction_test) ** 2) * 1000  # MSE multiplied by 1000 to match the VAE ones"
   ]
  },
  {
   "cell_type": "code",
   "execution_count": null,
   "id": "3e230400-bc7d-447d-ab87-5e6fe5453d27",
   "metadata": {},
   "outputs": [],
   "source": [
    "# np.save('umap_mses.npy', mses)"
   ]
  },
  {
   "cell_type": "code",
   "execution_count": null,
   "id": "e6327e46-c50f-4a25-9ae4-6bad539dd00b",
   "metadata": {},
   "outputs": [],
   "source": [
    "def umap_mse(params, training_arr=standardized_abundance_training_arr, test_arr=standardized_abundance_test_arr, \n",
    "             components=2, metric='euclidean', epochs=200, learning_rate=1.0, initialization='pca'):\n",
    "    \"\"\"\n",
    "    Get the MSE for UMAP given params, components, metric, epochs, learning rate, initialization\n",
    "    and a set of training and test data\n",
    "\n",
    "    params is tuple of n_neighbors, min_dist\n",
    "    \"\"\"\n",
    "    # unpack params\n",
    "    n_neighbors, min_dist = params\n",
    "    # fit using *training* data\n",
    "    reducer = umap.UMAP(n_neighbors=n_neighbors, n_components=components, metric=metric, \n",
    "                        n_epochs=epochs, learning_rate=learning_rate, init=initialization, min_dist=min_dist, \n",
    "                        verbose=True, n_jobs=multiprocessing.cpu_count() - 1, unique=True)  \n",
    "    fit_umap = reducer.fit(training_arr)\n",
    "    # embed *test* data\n",
    "    embedding = fit_umap.transform(test_arr)\n",
    "    # reconstruct *test* data and record MSE of it\n",
    "    reconstruction = fit_umap.inverse_transform(embedding)\n",
    "    # return MSE\n",
    "    return np.mean((test_arr - reconstruction) ** 2) * 1000"
   ]
  },
  {
   "cell_type": "code",
   "execution_count": null,
   "id": "8525139d-f845-40da-a682-d87a91adbaef",
   "metadata": {},
   "outputs": [],
   "source": [
    "# n_neighbors, min_dist = 1000, 0.99\n",
    "# # fit using *training* data\n",
    "# reducer = umap.UMAP(n_neighbors=n_neighbors, n_components=2, metric='euclidean', \n",
    "#                     n_epochs=200, learning_rate=1.0, init='pca', min_dist=min_dist, \n",
    "#                     verbose=True, n_jobs=multiprocessing.cpu_count() - 1, unique=True) \n",
    "# fit_umap = reducer.fit(standardized_abundance_training_arr)\n",
    "# # embed *test* data\n",
    "# embed_train = fit_umap.transform(standardized_abundance_training_arr)\n",
    "# embedding = fit_umap.transform(standardized_abundance_test_arr)\n",
    "# # reconstruct *test* data and record MSE of it\n",
    "# reconstruction_train = fit_umap.inverse_transform(embed_train)\n",
    "# reconstruction = fit_umap.inverse_transform(embedding)\n",
    "# # return MSE\n",
    "# np.mean((standardized_abundance_training_arr - reconstruction_train) ** 2) * 1000, np.mean((standardized_abundance_test_arr - reconstruction) ** 2) * 1000"
   ]
  },
  {
   "cell_type": "code",
   "execution_count": null,
   "id": "54ccad98-a504-4b26-a91d-cb4a853a99ea",
   "metadata": {},
   "outputs": [],
   "source": [
    "# umap_mse((1000, 0.99), epochs=1000)"
   ]
  }
 ],
 "metadata": {
  "kernelspec": {
   "display_name": "Python 3 (ipykernel)",
   "language": "python",
   "name": "python3"
  },
  "language_info": {
   "codemirror_mode": {
    "name": "ipython",
    "version": 3
   },
   "file_extension": ".py",
   "mimetype": "text/x-python",
   "name": "python",
   "nbconvert_exporter": "python",
   "pygments_lexer": "ipython3",
   "version": "3.10.15"
  }
 },
 "nbformat": 4,
 "nbformat_minor": 5
}
